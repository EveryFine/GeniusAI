{
 "cells": [
  {
   "cell_type": "markdown",
   "source": [
    "# YFinance获取股票信息\n",
    "https://tradestie.com/apps/user/blog/how-to-use-yfinance-package-to-get-stock-data-free/\n",
    "\n",
    "Install yfinance using pip as shown below. Make sure you also have Pandas installed."
   ],
   "metadata": {
    "collapsed": false
   }
  },
  {
   "cell_type": "code",
   "source": [
    "!pip install yfinance --upgrade --no-cache-dir"
   ],
   "metadata": {
    "collapsed": false,
    "ExecuteTime": {
     "end_time": "2024-07-02T14:56:05.699789Z",
     "start_time": "2024-07-02T14:56:03.363961Z"
    }
   },
   "outputs": [
    {
     "name": "stdout",
     "output_type": "stream",
     "text": [
      "Requirement already satisfied: yfinance in /Users/zhengshuang/Documents/ProgramingGuide/SourceCode/GithubRepo/everyfine/GeniusAI/GeniusChatbots/venv/lib/python3.9/site-packages (0.2.40)\r\n",
      "Requirement already satisfied: pandas>=1.3.0 in /Users/zhengshuang/Documents/ProgramingGuide/SourceCode/GithubRepo/everyfine/GeniusAI/GeniusChatbots/venv/lib/python3.9/site-packages (from yfinance) (2.2.2)\r\n",
      "Requirement already satisfied: numpy>=1.16.5 in /Users/zhengshuang/Documents/ProgramingGuide/SourceCode/GithubRepo/everyfine/GeniusAI/GeniusChatbots/venv/lib/python3.9/site-packages (from yfinance) (1.26.4)\r\n",
      "Requirement already satisfied: requests>=2.31 in /Users/zhengshuang/Documents/ProgramingGuide/SourceCode/GithubRepo/everyfine/GeniusAI/GeniusChatbots/venv/lib/python3.9/site-packages (from yfinance) (2.32.3)\r\n",
      "Requirement already satisfied: multitasking>=0.0.7 in /Users/zhengshuang/Documents/ProgramingGuide/SourceCode/GithubRepo/everyfine/GeniusAI/GeniusChatbots/venv/lib/python3.9/site-packages (from yfinance) (0.0.11)\r\n",
      "Requirement already satisfied: lxml>=4.9.1 in /Users/zhengshuang/Documents/ProgramingGuide/SourceCode/GithubRepo/everyfine/GeniusAI/GeniusChatbots/venv/lib/python3.9/site-packages (from yfinance) (5.2.2)\r\n",
      "Requirement already satisfied: platformdirs>=2.0.0 in /Users/zhengshuang/Documents/ProgramingGuide/SourceCode/GithubRepo/everyfine/GeniusAI/GeniusChatbots/venv/lib/python3.9/site-packages (from yfinance) (4.2.2)\r\n",
      "Requirement already satisfied: pytz>=2022.5 in /Users/zhengshuang/Documents/ProgramingGuide/SourceCode/GithubRepo/everyfine/GeniusAI/GeniusChatbots/venv/lib/python3.9/site-packages (from yfinance) (2024.1)\r\n",
      "Requirement already satisfied: frozendict>=2.3.4 in /Users/zhengshuang/Documents/ProgramingGuide/SourceCode/GithubRepo/everyfine/GeniusAI/GeniusChatbots/venv/lib/python3.9/site-packages (from yfinance) (2.4.4)\r\n",
      "Requirement already satisfied: peewee>=3.16.2 in /Users/zhengshuang/Documents/ProgramingGuide/SourceCode/GithubRepo/everyfine/GeniusAI/GeniusChatbots/venv/lib/python3.9/site-packages (from yfinance) (3.17.5)\r\n",
      "Requirement already satisfied: beautifulsoup4>=4.11.1 in /Users/zhengshuang/Documents/ProgramingGuide/SourceCode/GithubRepo/everyfine/GeniusAI/GeniusChatbots/venv/lib/python3.9/site-packages (from yfinance) (4.12.3)\r\n",
      "Requirement already satisfied: html5lib>=1.1 in /Users/zhengshuang/Documents/ProgramingGuide/SourceCode/GithubRepo/everyfine/GeniusAI/GeniusChatbots/venv/lib/python3.9/site-packages (from yfinance) (1.1)\r\n",
      "Requirement already satisfied: soupsieve>1.2 in /Users/zhengshuang/Documents/ProgramingGuide/SourceCode/GithubRepo/everyfine/GeniusAI/GeniusChatbots/venv/lib/python3.9/site-packages (from beautifulsoup4>=4.11.1->yfinance) (2.5)\r\n",
      "Requirement already satisfied: six>=1.9 in /Users/zhengshuang/Documents/ProgramingGuide/SourceCode/GithubRepo/everyfine/GeniusAI/GeniusChatbots/venv/lib/python3.9/site-packages (from html5lib>=1.1->yfinance) (1.16.0)\r\n",
      "Requirement already satisfied: webencodings in /Users/zhengshuang/Documents/ProgramingGuide/SourceCode/GithubRepo/everyfine/GeniusAI/GeniusChatbots/venv/lib/python3.9/site-packages (from html5lib>=1.1->yfinance) (0.5.1)\r\n",
      "Requirement already satisfied: python-dateutil>=2.8.2 in /Users/zhengshuang/Documents/ProgramingGuide/SourceCode/GithubRepo/everyfine/GeniusAI/GeniusChatbots/venv/lib/python3.9/site-packages (from pandas>=1.3.0->yfinance) (2.9.0.post0)\r\n",
      "Requirement already satisfied: tzdata>=2022.7 in /Users/zhengshuang/Documents/ProgramingGuide/SourceCode/GithubRepo/everyfine/GeniusAI/GeniusChatbots/venv/lib/python3.9/site-packages (from pandas>=1.3.0->yfinance) (2024.1)\r\n",
      "Requirement already satisfied: charset-normalizer<4,>=2 in /Users/zhengshuang/Documents/ProgramingGuide/SourceCode/GithubRepo/everyfine/GeniusAI/GeniusChatbots/venv/lib/python3.9/site-packages (from requests>=2.31->yfinance) (3.3.2)\r\n",
      "Requirement already satisfied: idna<4,>=2.5 in /Users/zhengshuang/Documents/ProgramingGuide/SourceCode/GithubRepo/everyfine/GeniusAI/GeniusChatbots/venv/lib/python3.9/site-packages (from requests>=2.31->yfinance) (3.7)\r\n",
      "Requirement already satisfied: urllib3<3,>=1.21.1 in /Users/zhengshuang/Documents/ProgramingGuide/SourceCode/GithubRepo/everyfine/GeniusAI/GeniusChatbots/venv/lib/python3.9/site-packages (from requests>=2.31->yfinance) (2.2.1)\r\n",
      "Requirement already satisfied: certifi>=2017.4.17 in /Users/zhengshuang/Documents/ProgramingGuide/SourceCode/GithubRepo/everyfine/GeniusAI/GeniusChatbots/venv/lib/python3.9/site-packages (from requests>=2.31->yfinance) (2024.6.2)\r\n",
      "\r\n",
      "\u001B[1m[\u001B[0m\u001B[34;49mnotice\u001B[0m\u001B[1;39;49m]\u001B[0m\u001B[39;49m A new release of pip is available: \u001B[0m\u001B[31;49m24.0\u001B[0m\u001B[39;49m -> \u001B[0m\u001B[32;49m24.1.1\u001B[0m\r\n",
      "\u001B[1m[\u001B[0m\u001B[34;49mnotice\u001B[0m\u001B[1;39;49m]\u001B[0m\u001B[39;49m To update, run: \u001B[0m\u001B[32;49mpip install --upgrade pip\u001B[0m\r\n"
     ]
    }
   ],
   "execution_count": 16
  },
  {
   "cell_type": "code",
   "source": [
    "import yfinance as yf\n",
    "import pandas as pd\n",
    "import json"
   ],
   "metadata": {
    "collapsed": false,
    "ExecuteTime": {
     "end_time": "2024-07-02T14:56:16.087136Z",
     "start_time": "2024-07-02T14:56:16.085018Z"
    }
   },
   "outputs": [],
   "execution_count": 17
  },
  {
   "cell_type": "markdown",
   "source": [
    "yfinance has following methods.\n",
    "isin\n",
    "major_holders\n",
    "institutional_holders\n",
    "mutualfund_holders\n",
    "dividends\n",
    "splits\n",
    "actions\n",
    "shares\n",
    "info\n",
    "calendar\n",
    "recommendations\n",
    "earnings\n",
    "quarterly_earnings\n",
    "financials\n",
    "quarterly_financials\n",
    "balance_sheet\n",
    "quarterly_balance_sheet\n",
    "balancesheet\n",
    "quarterly_balancesheet\n",
    "cashflow\n",
    "quarterly_cashflow\n",
    "sustainability\n",
    "options\n",
    "news\n",
    "analysis\n",
    "earnings_history\n",
    "earnings_dates\n",
    "Let us try few of the above methods. To use above methods, we need to first get basic yfinance object."
   ],
   "metadata": {
    "collapsed": false
   }
  },
  {
   "cell_type": "markdown",
   "source": [
    "## 创建股票数据对象 -- Ticker"
   ],
   "metadata": {
    "collapsed": false
   }
  },
  {
   "cell_type": "code",
   "source": [
    "# stock_symbol = \"GME\" ## Gamestop\n",
    "# stock_symbol = \"600519.SS\" ## 贵州茅台\n",
    "# stock_symbol = \"AAPL\" ## Apple\n",
    "stock_symbol = \"603195.ss\" ##公牛集团\n",
    "stock_data = yf.Ticker(stock_symbol)"
   ],
   "metadata": {
    "collapsed": false,
    "ExecuteTime": {
     "end_time": "2024-07-02T14:56:20.203044Z",
     "start_time": "2024-07-02T14:56:20.200498Z"
    }
   },
   "outputs": [],
   "execution_count": 18
  },
  {
   "cell_type": "markdown",
   "source": [
    "## 1. 基本信息\n",
    "\n",
    "info: 提供股票的详细基本信息，如公司名称、行业、全球总部位置、员工人数、市值、财务摘要等。"
   ],
   "metadata": {
    "collapsed": false
   }
  },
  {
   "cell_type": "code",
   "source": [
    "stock_data.info"
   ],
   "metadata": {
    "collapsed": false,
    "ExecuteTime": {
     "end_time": "2024-07-04T13:58:52.215063Z",
     "start_time": "2024-07-04T13:58:52.204263Z"
    }
   },
   "outputs": [
    {
     "data": {
      "text/plain": [
       "{'address1': 'Building A7',\n",
       " 'address2': 'No. 3888 Yingang East Road Qingpu District',\n",
       " 'city': 'Shanghai',\n",
       " 'zip': '201703',\n",
       " 'country': 'China',\n",
       " 'phone': '86 21 3356 1091',\n",
       " 'fax': '86 21 3356 1091',\n",
       " 'website': 'https://www.gongniu.cn',\n",
       " 'industry': 'Electrical Equipment & Parts',\n",
       " 'industryKey': 'electrical-equipment-parts',\n",
       " 'industryDisp': 'Electrical Equipment & Parts',\n",
       " 'sector': 'Industrials',\n",
       " 'sectorKey': 'industrials',\n",
       " 'sectorDisp': 'Industrials',\n",
       " 'longBusinessSummary': 'Gongniu Group Co.,Ltd. provides electrical products. It offers safety sockets and circuit breakers, decorative switches, digital boutiques, security smart locks, home devices, computer room power distribution and energy storage products, charging piles, and electrical tools, as well as eye and mainless lights. The company was founded in 1995 and is based in Shanghai, China. Gongniu Group Co.,Ltd. is a subsidiary of Ningbo Liangji Industrial Co., Ltd.',\n",
       " 'fullTimeEmployees': 13746,\n",
       " 'companyOfficers': [{'maxAge': 1,\n",
       "   'name': 'Mr. Liping  Ruan',\n",
       "   'age': 59,\n",
       "   'title': 'Chairman of the Board & President',\n",
       "   'yearBorn': 1964,\n",
       "   'exercisedValue': 0,\n",
       "   'unexercisedValue': 0},\n",
       "  {'maxAge': 1,\n",
       "   'name': 'Mr. Shengsong  Liu',\n",
       "   'age': 53,\n",
       "   'title': 'Financial Director, Senior VP, Board Secretary & Director',\n",
       "   'yearBorn': 1970,\n",
       "   'exercisedValue': 0,\n",
       "   'unexercisedValue': 0},\n",
       "  {'maxAge': 1,\n",
       "   'name': 'Mr. Zhenghua  Zhou',\n",
       "   'age': 51,\n",
       "   'title': 'Senior VP & Director',\n",
       "   'yearBorn': 1972,\n",
       "   'exercisedValue': 0,\n",
       "   'unexercisedValue': 0},\n",
       "  {'maxAge': 1,\n",
       "   'name': 'Mr. Guoqiang  Li',\n",
       "   'age': 56,\n",
       "   'title': 'Senior Vice President',\n",
       "   'yearBorn': 1967,\n",
       "   'exercisedValue': 0,\n",
       "   'unexercisedValue': 0}],\n",
       " 'maxAge': 86400,\n",
       " 'priceHint': 2,\n",
       " 'previousClose': 76.5,\n",
       " 'open': 76.06,\n",
       " 'dayLow': 74.23,\n",
       " 'dayHigh': 76.41,\n",
       " 'regularMarketPreviousClose': 76.5,\n",
       " 'regularMarketOpen': 76.06,\n",
       " 'regularMarketDayLow': 74.23,\n",
       " 'regularMarketDayHigh': 76.41,\n",
       " 'dividendRate': 3.1,\n",
       " 'dividendYield': 0.0405,\n",
       " 'exDividendDate': 1717632000,\n",
       " 'payoutRatio': 0.72050005,\n",
       " 'beta': 0.32,\n",
       " 'trailingPE': 23.515821,\n",
       " 'forwardPE': 18.956633,\n",
       " 'volume': 2891884,\n",
       " 'regularMarketVolume': 2891884,\n",
       " 'averageVolume': 2198225,\n",
       " 'averageVolume10days': 1906250,\n",
       " 'averageDailyVolume10Day': 1906250,\n",
       " 'bid': 74.31,\n",
       " 'ask': 74.4,\n",
       " 'marketCap': 96044187648,\n",
       " 'fiftyTwoWeekLow': 74.23,\n",
       " 'fiftyTwoWeekHigh': 120.89,\n",
       " 'priceToSalesTrailing12Months': 5.9420786,\n",
       " 'fiftyDayAverage': 87.62356,\n",
       " 'twoHundredDayAverage': 96.265686,\n",
       " 'trailingAnnualDividendRate': 2.138,\n",
       " 'trailingAnnualDividendYield': 0.027947713,\n",
       " 'currency': 'CNY',\n",
       " 'enterpriseValue': 84102479872,\n",
       " 'profitMargins': 0.2514,\n",
       " 'floatShares': 192022748,\n",
       " 'sharesOutstanding': 1292480000,\n",
       " 'heldPercentInsiders': 0.84830004,\n",
       " 'heldPercentInstitutions': 0.04759,\n",
       " 'impliedSharesOutstanding': 1296999936,\n",
       " 'bookValue': 11.927,\n",
       " 'priceToBook': 6.2304015,\n",
       " 'lastFiscalYearEnd': 1703980800,\n",
       " 'nextFiscalYearEnd': 1735603200,\n",
       " 'mostRecentQuarter': 1711843200,\n",
       " 'earningsQuarterlyGrowth': 0.263,\n",
       " 'netIncomeToCommon': 4063451392,\n",
       " 'trailingEps': 3.16,\n",
       " 'forwardEps': 3.92,\n",
       " 'lastSplitFactor': '1.45:1',\n",
       " 'lastSplitDate': 1717632000,\n",
       " 'enterpriseToRevenue': 5.203,\n",
       " 'enterpriseToEbitda': 17.953,\n",
       " '52WeekChange': -0.20246041,\n",
       " 'SandP52WeekChange': 0.23123717,\n",
       " 'lastDividendValue': 3.1,\n",
       " 'lastDividendDate': 1717632000,\n",
       " 'exchange': 'SHH',\n",
       " 'quoteType': 'EQUITY',\n",
       " 'symbol': '603195.SS',\n",
       " 'underlyingSymbol': '603195.SS',\n",
       " 'shortName': 'GONEO GROUP CO LTD',\n",
       " 'longName': 'Gongniu Group Co.,Ltd.',\n",
       " 'firstTradeDateEpochUtc': 1580952600,\n",
       " 'timeZoneFullName': 'Asia/Shanghai',\n",
       " 'timeZoneShortName': 'CST',\n",
       " 'uuid': '340cbd9a-994b-3c5b-8d3c-582eabdbe4ba',\n",
       " 'messageBoardId': 'finmb_551074767',\n",
       " 'gmtOffSetMilliseconds': 28800000,\n",
       " 'currentPrice': 74.31,\n",
       " 'targetHighPrice': 104.83,\n",
       " 'targetLowPrice': 74.48,\n",
       " 'targetMeanPrice': 94.1,\n",
       " 'targetMedianPrice': 96.55,\n",
       " 'recommendationMean': 1.8,\n",
       " 'recommendationKey': 'buy',\n",
       " 'numberOfAnalystOpinions': 9,\n",
       " 'totalCash': 15910409216,\n",
       " 'totalCashPerShare': 12.308,\n",
       " 'ebitda': 4684681728,\n",
       " 'totalDebt': 1103591040,\n",
       " 'quickRatio': 2.89,\n",
       " 'currentRatio': 3.139,\n",
       " 'totalRevenue': 16163398656,\n",
       " 'debtToEquity': 7.15,\n",
       " 'revenuePerShare': 12.564,\n",
       " 'returnOnAssets': 0.14156,\n",
       " 'returnOnEquity': 0.28375,\n",
       " 'freeCashflow': 3158797568,\n",
       " 'operatingCashflow': 4906789888,\n",
       " 'earningsGrowth': 0.265,\n",
       " 'revenueGrowth': 0.141,\n",
       " 'grossMargins': 0.44098,\n",
       " 'ebitdaMargins': 0.28983,\n",
       " 'operatingMargins': 0.2608,\n",
       " 'financialCurrency': 'CNY'}"
      ]
     },
     "execution_count": 22,
     "metadata": {},
     "output_type": "execute_result"
    }
   ],
   "execution_count": 22
  },
  {
   "cell_type": "code",
   "source": [
    "stock_data.fast_info"
   ],
   "metadata": {
    "collapsed": false,
    "ExecuteTime": {
     "end_time": "2024-07-02T15:04:24.056135Z",
     "start_time": "2024-07-02T15:04:24.051383Z"
    }
   },
   "outputs": [
    {
     "data": {
      "text/plain": [
       "lazy-loading dict with keys = ['currency', 'dayHigh', 'dayLow', 'exchange', 'fiftyDayAverage', 'lastPrice', 'lastVolume', 'marketCap', 'open', 'previousClose', 'quoteType', 'regularMarketPreviousClose', 'shares', 'tenDayAverageVolume', 'threeMonthAverageVolume', 'timezone', 'twoHundredDayAverage', 'yearChange', 'yearHigh', 'yearLow']"
      ]
     },
     "execution_count": 21,
     "metadata": {},
     "output_type": "execute_result"
    }
   ],
   "execution_count": 21
  },
  {
   "cell_type": "markdown",
   "source": [
    "## 2. 历史市场数据\n",
    "\n",
    "history: 获取股票的历史价格和交易量数据，可以指定时间范围和数据频率（如日、周、月）"
   ],
   "metadata": {
    "collapsed": false
   }
  },
  {
   "cell_type": "code",
   "source": [
    "start_date = \"2020-05-01\"\n",
    "end_date = \"2024-06-30\"\n",
    "daily_data = stock_data.history(period=\"1d\", start=start_date, end=end_date)\n",
    "daily_data"
   ],
   "metadata": {
    "collapsed": false,
    "ExecuteTime": {
     "end_time": "2024-06-29T07:21:38.902Z",
     "start_time": "2024-06-29T07:21:34.140125Z"
    }
   },
   "outputs": [
    {
     "data": {
      "text/plain": [
       "                                Open        High        Low       Close  \\\n",
       "Date                                                                      \n",
       "2020-05-06 00:00:00+08:00  89.643806   90.178185  88.845236   90.178185   \n",
       "2020-05-07 00:00:00+08:00  90.184193   94.867527  90.184193   93.966881   \n",
       "2020-05-08 00:00:00+08:00  93.132289   95.227781  92.796049   94.080963   \n",
       "2020-05-11 00:00:00+08:00  94.867526   97.683526  94.387182   95.281815   \n",
       "2020-05-12 00:00:00+08:00  94.939576  103.753853  94.939576  102.438911   \n",
       "...                              ...         ...        ...         ...   \n",
       "2024-06-24 00:00:00+08:00  78.080002   79.300003  77.800003   78.480003   \n",
       "2024-06-25 00:00:00+08:00  78.239998   79.970001  78.239998   79.419998   \n",
       "2024-06-26 00:00:00+08:00  79.139999   79.989998  77.620003   78.610001   \n",
       "2024-06-27 00:00:00+08:00  78.500000   78.669998  77.300003   77.389999   \n",
       "2024-06-28 00:00:00+08:00  77.199997   77.989998  76.300003   77.120003   \n",
       "\n",
       "                            Volume  Dividends  Stock Splits  \n",
       "Date                                                         \n",
       "2020-05-06 00:00:00+08:00  3039607        0.0           0.0  \n",
       "2020-05-07 00:00:00+08:00  4562393        0.0           0.0  \n",
       "2020-05-08 00:00:00+08:00  3629845        0.0           0.0  \n",
       "2020-05-11 00:00:00+08:00  4529819        0.0           0.0  \n",
       "2020-05-12 00:00:00+08:00  7064914        0.0           0.0  \n",
       "...                            ...        ...           ...  \n",
       "2024-06-24 00:00:00+08:00  1661344        0.0           0.0  \n",
       "2024-06-25 00:00:00+08:00  1865897        0.0           0.0  \n",
       "2024-06-26 00:00:00+08:00  1662901        0.0           0.0  \n",
       "2024-06-27 00:00:00+08:00  1190633        0.0           0.0  \n",
       "2024-06-28 00:00:00+08:00  2178941        0.0           0.0  \n",
       "\n",
       "[1008 rows x 7 columns]"
      ],
      "text/html": [
       "<div>\n",
       "<style scoped>\n",
       "    .dataframe tbody tr th:only-of-type {\n",
       "        vertical-align: middle;\n",
       "    }\n",
       "\n",
       "    .dataframe tbody tr th {\n",
       "        vertical-align: top;\n",
       "    }\n",
       "\n",
       "    .dataframe thead th {\n",
       "        text-align: right;\n",
       "    }\n",
       "</style>\n",
       "<table border=\"1\" class=\"dataframe\">\n",
       "  <thead>\n",
       "    <tr style=\"text-align: right;\">\n",
       "      <th></th>\n",
       "      <th>Open</th>\n",
       "      <th>High</th>\n",
       "      <th>Low</th>\n",
       "      <th>Close</th>\n",
       "      <th>Volume</th>\n",
       "      <th>Dividends</th>\n",
       "      <th>Stock Splits</th>\n",
       "    </tr>\n",
       "    <tr>\n",
       "      <th>Date</th>\n",
       "      <th></th>\n",
       "      <th></th>\n",
       "      <th></th>\n",
       "      <th></th>\n",
       "      <th></th>\n",
       "      <th></th>\n",
       "      <th></th>\n",
       "    </tr>\n",
       "  </thead>\n",
       "  <tbody>\n",
       "    <tr>\n",
       "      <th>2020-05-06 00:00:00+08:00</th>\n",
       "      <td>89.643806</td>\n",
       "      <td>90.178185</td>\n",
       "      <td>88.845236</td>\n",
       "      <td>90.178185</td>\n",
       "      <td>3039607</td>\n",
       "      <td>0.0</td>\n",
       "      <td>0.0</td>\n",
       "    </tr>\n",
       "    <tr>\n",
       "      <th>2020-05-07 00:00:00+08:00</th>\n",
       "      <td>90.184193</td>\n",
       "      <td>94.867527</td>\n",
       "      <td>90.184193</td>\n",
       "      <td>93.966881</td>\n",
       "      <td>4562393</td>\n",
       "      <td>0.0</td>\n",
       "      <td>0.0</td>\n",
       "    </tr>\n",
       "    <tr>\n",
       "      <th>2020-05-08 00:00:00+08:00</th>\n",
       "      <td>93.132289</td>\n",
       "      <td>95.227781</td>\n",
       "      <td>92.796049</td>\n",
       "      <td>94.080963</td>\n",
       "      <td>3629845</td>\n",
       "      <td>0.0</td>\n",
       "      <td>0.0</td>\n",
       "    </tr>\n",
       "    <tr>\n",
       "      <th>2020-05-11 00:00:00+08:00</th>\n",
       "      <td>94.867526</td>\n",
       "      <td>97.683526</td>\n",
       "      <td>94.387182</td>\n",
       "      <td>95.281815</td>\n",
       "      <td>4529819</td>\n",
       "      <td>0.0</td>\n",
       "      <td>0.0</td>\n",
       "    </tr>\n",
       "    <tr>\n",
       "      <th>2020-05-12 00:00:00+08:00</th>\n",
       "      <td>94.939576</td>\n",
       "      <td>103.753853</td>\n",
       "      <td>94.939576</td>\n",
       "      <td>102.438911</td>\n",
       "      <td>7064914</td>\n",
       "      <td>0.0</td>\n",
       "      <td>0.0</td>\n",
       "    </tr>\n",
       "    <tr>\n",
       "      <th>...</th>\n",
       "      <td>...</td>\n",
       "      <td>...</td>\n",
       "      <td>...</td>\n",
       "      <td>...</td>\n",
       "      <td>...</td>\n",
       "      <td>...</td>\n",
       "      <td>...</td>\n",
       "    </tr>\n",
       "    <tr>\n",
       "      <th>2024-06-24 00:00:00+08:00</th>\n",
       "      <td>78.080002</td>\n",
       "      <td>79.300003</td>\n",
       "      <td>77.800003</td>\n",
       "      <td>78.480003</td>\n",
       "      <td>1661344</td>\n",
       "      <td>0.0</td>\n",
       "      <td>0.0</td>\n",
       "    </tr>\n",
       "    <tr>\n",
       "      <th>2024-06-25 00:00:00+08:00</th>\n",
       "      <td>78.239998</td>\n",
       "      <td>79.970001</td>\n",
       "      <td>78.239998</td>\n",
       "      <td>79.419998</td>\n",
       "      <td>1865897</td>\n",
       "      <td>0.0</td>\n",
       "      <td>0.0</td>\n",
       "    </tr>\n",
       "    <tr>\n",
       "      <th>2024-06-26 00:00:00+08:00</th>\n",
       "      <td>79.139999</td>\n",
       "      <td>79.989998</td>\n",
       "      <td>77.620003</td>\n",
       "      <td>78.610001</td>\n",
       "      <td>1662901</td>\n",
       "      <td>0.0</td>\n",
       "      <td>0.0</td>\n",
       "    </tr>\n",
       "    <tr>\n",
       "      <th>2024-06-27 00:00:00+08:00</th>\n",
       "      <td>78.500000</td>\n",
       "      <td>78.669998</td>\n",
       "      <td>77.300003</td>\n",
       "      <td>77.389999</td>\n",
       "      <td>1190633</td>\n",
       "      <td>0.0</td>\n",
       "      <td>0.0</td>\n",
       "    </tr>\n",
       "    <tr>\n",
       "      <th>2024-06-28 00:00:00+08:00</th>\n",
       "      <td>77.199997</td>\n",
       "      <td>77.989998</td>\n",
       "      <td>76.300003</td>\n",
       "      <td>77.120003</td>\n",
       "      <td>2178941</td>\n",
       "      <td>0.0</td>\n",
       "      <td>0.0</td>\n",
       "    </tr>\n",
       "  </tbody>\n",
       "</table>\n",
       "<p>1008 rows × 7 columns</p>\n",
       "</div>"
      ]
     },
     "execution_count": 22,
     "metadata": {},
     "output_type": "execute_result"
    }
   ],
   "execution_count": 22
  },
  {
   "cell_type": "markdown",
   "source": [
    "metadata: 获取历史数据相关的元数据"
   ],
   "metadata": {
    "collapsed": false
   }
  },
  {
   "cell_type": "code",
   "source": [
    "stock_data.history_metadata"
   ],
   "metadata": {
    "collapsed": false,
    "ExecuteTime": {
     "end_time": "2024-06-29T07:21:50.951278Z",
     "start_time": "2024-06-29T07:21:50.946186Z"
    }
   },
   "outputs": [
    {
     "data": {
      "text/plain": [
       "{'currency': 'CNY',\n",
       " 'symbol': '603195.SS',\n",
       " 'exchangeName': 'SHH',\n",
       " 'fullExchangeName': 'Shanghai',\n",
       " 'instrumentType': 'EQUITY',\n",
       " 'firstTradeDate': 1580952600,\n",
       " 'regularMarketTime': 1719558006,\n",
       " 'hasPrePostMarketData': False,\n",
       " 'gmtoffset': 28800,\n",
       " 'timezone': 'CST',\n",
       " 'exchangeTimezoneName': 'Asia/Shanghai',\n",
       " 'regularMarketPrice': 77.12,\n",
       " 'fiftyTwoWeekHigh': 77.99,\n",
       " 'fiftyTwoWeekLow': 76.3,\n",
       " 'regularMarketDayHigh': 77.99,\n",
       " 'regularMarketDayLow': 76.3,\n",
       " 'regularMarketVolume': 2178941,\n",
       " 'chartPreviousClose': 101.534,\n",
       " 'priceHint': 2,\n",
       " 'currentTradingPeriod': {'pre': {'timezone': 'CST',\n",
       "   'end': 1719538200,\n",
       "   'start': 1719538200,\n",
       "   'gmtoffset': 28800},\n",
       "  'regular': {'timezone': 'CST',\n",
       "   'end': 1719558000,\n",
       "   'start': 1719538200,\n",
       "   'gmtoffset': 28800},\n",
       "  'post': {'timezone': 'CST',\n",
       "   'end': 1719558000,\n",
       "   'start': 1719558000,\n",
       "   'gmtoffset': 28800}},\n",
       " 'dataGranularity': '1d',\n",
       " 'range': '',\n",
       " 'validRanges': ['1d',\n",
       "  '5d',\n",
       "  '1mo',\n",
       "  '3mo',\n",
       "  '6mo',\n",
       "  '1y',\n",
       "  '2y',\n",
       "  '5y',\n",
       "  'ytd',\n",
       "  'max']}"
      ]
     },
     "execution_count": 23,
     "metadata": {},
     "output_type": "execute_result"
    }
   ],
   "execution_count": 23
  },
  {
   "cell_type": "markdown",
   "source": [
    "## Add the adj close column(Default auto_adjust = true)"
   ],
   "metadata": {
    "collapsed": false
   }
  },
  {
   "cell_type": "code",
   "source": [
    "daily_data = stock_data.history(interval=\"1d\", start=start_date, end=end_date, auto_adjust=False)\n",
    "daily_data"
   ],
   "metadata": {
    "collapsed": false,
    "ExecuteTime": {
     "end_time": "2024-06-29T07:21:55.581546Z",
     "start_time": "2024-06-29T07:21:55.183416Z"
    }
   },
   "outputs": [
    {
     "data": {
      "text/plain": [
       "                                 Open        High         Low       Close  \\\n",
       "Date                                                                        \n",
       "2020-05-06 00:00:00+08:00  100.878380  101.479729   99.979729  101.479729   \n",
       "2020-05-07 00:00:00+08:00  101.486488  106.756760  101.486488  105.743240   \n",
       "2020-05-08 00:00:00+08:00  104.804054  107.162163  104.425674  105.871620   \n",
       "2020-05-11 00:00:00+08:00  106.756760  109.925674  106.216217  107.222969   \n",
       "2020-05-12 00:00:00+08:00  106.837837  116.756760  106.837837  115.277023   \n",
       "...                               ...         ...         ...         ...   \n",
       "2024-06-24 00:00:00+08:00   78.080002   79.300003   77.800003   78.480003   \n",
       "2024-06-25 00:00:00+08:00   78.239998   79.970001   78.239998   79.419998   \n",
       "2024-06-26 00:00:00+08:00   79.139999   79.989998   77.620003   78.610001   \n",
       "2024-06-27 00:00:00+08:00   78.500000   78.669998   77.300003   77.389999   \n",
       "2024-06-28 00:00:00+08:00   77.199997   77.989998   76.300003   77.120003   \n",
       "\n",
       "                            Adj Close   Volume  Dividends  Stock Splits  \n",
       "Date                                                                     \n",
       "2020-05-06 00:00:00+08:00   90.178185  3039607        0.0           0.0  \n",
       "2020-05-07 00:00:00+08:00   93.966881  4562393        0.0           0.0  \n",
       "2020-05-08 00:00:00+08:00   94.080956  3629845        0.0           0.0  \n",
       "2020-05-11 00:00:00+08:00   95.281822  4529819        0.0           0.0  \n",
       "2020-05-12 00:00:00+08:00  102.438911  7064914        0.0           0.0  \n",
       "...                               ...      ...        ...           ...  \n",
       "2024-06-24 00:00:00+08:00   78.480003  1661344        0.0           0.0  \n",
       "2024-06-25 00:00:00+08:00   79.419998  1865897        0.0           0.0  \n",
       "2024-06-26 00:00:00+08:00   78.610001  1662901        0.0           0.0  \n",
       "2024-06-27 00:00:00+08:00   77.389999  1190633        0.0           0.0  \n",
       "2024-06-28 00:00:00+08:00   77.120003  2178941        0.0           0.0  \n",
       "\n",
       "[1008 rows x 8 columns]"
      ],
      "text/html": [
       "<div>\n",
       "<style scoped>\n",
       "    .dataframe tbody tr th:only-of-type {\n",
       "        vertical-align: middle;\n",
       "    }\n",
       "\n",
       "    .dataframe tbody tr th {\n",
       "        vertical-align: top;\n",
       "    }\n",
       "\n",
       "    .dataframe thead th {\n",
       "        text-align: right;\n",
       "    }\n",
       "</style>\n",
       "<table border=\"1\" class=\"dataframe\">\n",
       "  <thead>\n",
       "    <tr style=\"text-align: right;\">\n",
       "      <th></th>\n",
       "      <th>Open</th>\n",
       "      <th>High</th>\n",
       "      <th>Low</th>\n",
       "      <th>Close</th>\n",
       "      <th>Adj Close</th>\n",
       "      <th>Volume</th>\n",
       "      <th>Dividends</th>\n",
       "      <th>Stock Splits</th>\n",
       "    </tr>\n",
       "    <tr>\n",
       "      <th>Date</th>\n",
       "      <th></th>\n",
       "      <th></th>\n",
       "      <th></th>\n",
       "      <th></th>\n",
       "      <th></th>\n",
       "      <th></th>\n",
       "      <th></th>\n",
       "      <th></th>\n",
       "    </tr>\n",
       "  </thead>\n",
       "  <tbody>\n",
       "    <tr>\n",
       "      <th>2020-05-06 00:00:00+08:00</th>\n",
       "      <td>100.878380</td>\n",
       "      <td>101.479729</td>\n",
       "      <td>99.979729</td>\n",
       "      <td>101.479729</td>\n",
       "      <td>90.178185</td>\n",
       "      <td>3039607</td>\n",
       "      <td>0.0</td>\n",
       "      <td>0.0</td>\n",
       "    </tr>\n",
       "    <tr>\n",
       "      <th>2020-05-07 00:00:00+08:00</th>\n",
       "      <td>101.486488</td>\n",
       "      <td>106.756760</td>\n",
       "      <td>101.486488</td>\n",
       "      <td>105.743240</td>\n",
       "      <td>93.966881</td>\n",
       "      <td>4562393</td>\n",
       "      <td>0.0</td>\n",
       "      <td>0.0</td>\n",
       "    </tr>\n",
       "    <tr>\n",
       "      <th>2020-05-08 00:00:00+08:00</th>\n",
       "      <td>104.804054</td>\n",
       "      <td>107.162163</td>\n",
       "      <td>104.425674</td>\n",
       "      <td>105.871620</td>\n",
       "      <td>94.080956</td>\n",
       "      <td>3629845</td>\n",
       "      <td>0.0</td>\n",
       "      <td>0.0</td>\n",
       "    </tr>\n",
       "    <tr>\n",
       "      <th>2020-05-11 00:00:00+08:00</th>\n",
       "      <td>106.756760</td>\n",
       "      <td>109.925674</td>\n",
       "      <td>106.216217</td>\n",
       "      <td>107.222969</td>\n",
       "      <td>95.281822</td>\n",
       "      <td>4529819</td>\n",
       "      <td>0.0</td>\n",
       "      <td>0.0</td>\n",
       "    </tr>\n",
       "    <tr>\n",
       "      <th>2020-05-12 00:00:00+08:00</th>\n",
       "      <td>106.837837</td>\n",
       "      <td>116.756760</td>\n",
       "      <td>106.837837</td>\n",
       "      <td>115.277023</td>\n",
       "      <td>102.438911</td>\n",
       "      <td>7064914</td>\n",
       "      <td>0.0</td>\n",
       "      <td>0.0</td>\n",
       "    </tr>\n",
       "    <tr>\n",
       "      <th>...</th>\n",
       "      <td>...</td>\n",
       "      <td>...</td>\n",
       "      <td>...</td>\n",
       "      <td>...</td>\n",
       "      <td>...</td>\n",
       "      <td>...</td>\n",
       "      <td>...</td>\n",
       "      <td>...</td>\n",
       "    </tr>\n",
       "    <tr>\n",
       "      <th>2024-06-24 00:00:00+08:00</th>\n",
       "      <td>78.080002</td>\n",
       "      <td>79.300003</td>\n",
       "      <td>77.800003</td>\n",
       "      <td>78.480003</td>\n",
       "      <td>78.480003</td>\n",
       "      <td>1661344</td>\n",
       "      <td>0.0</td>\n",
       "      <td>0.0</td>\n",
       "    </tr>\n",
       "    <tr>\n",
       "      <th>2024-06-25 00:00:00+08:00</th>\n",
       "      <td>78.239998</td>\n",
       "      <td>79.970001</td>\n",
       "      <td>78.239998</td>\n",
       "      <td>79.419998</td>\n",
       "      <td>79.419998</td>\n",
       "      <td>1865897</td>\n",
       "      <td>0.0</td>\n",
       "      <td>0.0</td>\n",
       "    </tr>\n",
       "    <tr>\n",
       "      <th>2024-06-26 00:00:00+08:00</th>\n",
       "      <td>79.139999</td>\n",
       "      <td>79.989998</td>\n",
       "      <td>77.620003</td>\n",
       "      <td>78.610001</td>\n",
       "      <td>78.610001</td>\n",
       "      <td>1662901</td>\n",
       "      <td>0.0</td>\n",
       "      <td>0.0</td>\n",
       "    </tr>\n",
       "    <tr>\n",
       "      <th>2024-06-27 00:00:00+08:00</th>\n",
       "      <td>78.500000</td>\n",
       "      <td>78.669998</td>\n",
       "      <td>77.300003</td>\n",
       "      <td>77.389999</td>\n",
       "      <td>77.389999</td>\n",
       "      <td>1190633</td>\n",
       "      <td>0.0</td>\n",
       "      <td>0.0</td>\n",
       "    </tr>\n",
       "    <tr>\n",
       "      <th>2024-06-28 00:00:00+08:00</th>\n",
       "      <td>77.199997</td>\n",
       "      <td>77.989998</td>\n",
       "      <td>76.300003</td>\n",
       "      <td>77.120003</td>\n",
       "      <td>77.120003</td>\n",
       "      <td>2178941</td>\n",
       "      <td>0.0</td>\n",
       "      <td>0.0</td>\n",
       "    </tr>\n",
       "  </tbody>\n",
       "</table>\n",
       "<p>1008 rows × 8 columns</p>\n",
       "</div>"
      ]
     },
     "execution_count": 24,
     "metadata": {},
     "output_type": "execute_result"
    }
   ],
   "execution_count": 24
  },
  {
   "cell_type": "markdown",
   "source": [
    "保存为CSV文件"
   ],
   "metadata": {
    "collapsed": false
   }
  },
  {
   "cell_type": "code",
   "execution_count": 125,
   "outputs": [],
   "source": [
    "# daily_data.to_csv(\"maotai_daily.csv\")"
   ],
   "metadata": {
    "collapsed": false
   }
  },
  {
   "cell_type": "markdown",
   "source": [
    "> **Error**: ValueError: time data '2024–06–01' does not match format '%Y-%m-%d'\n",
    "原因：使用了中文的中横线\n"
   ],
   "metadata": {
    "collapsed": false
   }
  },
  {
   "cell_type": "markdown",
   "source": [
    "通过download方法直接获取"
   ],
   "metadata": {
    "collapsed": false
   }
  },
  {
   "cell_type": "code",
   "execution_count": 151,
   "outputs": [
    {
     "name": "stderr",
     "output_type": "stream",
     "text": [
      "[*********************100%%**********************]  1 of 1 completed\n"
     ]
    },
    {
     "data": {
      "text/plain": "                  Open        High         Low       Close   Adj Close  \\\nDate                                                                     \n2020-05-01   71.562500   74.750000   71.462502   72.267502   70.482475   \n2020-05-04   72.292503   73.422501   71.580002   73.290001   71.479706   \n2020-05-05   73.764999   75.250000   73.614998   74.389999   72.552528   \n2020-05-06   75.114998   75.809998   74.717499   75.157501   73.301079   \n2020-05-07   75.805000   76.292503   75.492500   75.934998   74.059372   \n...                ...         ...         ...         ...         ...   \n2024-05-24  188.820007  190.580002  188.039993  189.979996  189.979996   \n2024-05-28  191.509995  193.000000  189.100006  189.990005  189.990005   \n2024-05-29  189.610001  192.250000  189.509995  190.289993  190.289993   \n2024-05-30  190.759995  192.179993  190.630005  191.289993  191.289993   \n2024-05-31  191.440002  192.570007  189.910004  192.250000  192.250000   \n\n               Volume  \nDate                   \n2020-05-01  240616800  \n2020-05-04  133568000  \n2020-05-05  147751200  \n2020-05-06  142333600  \n2020-05-07  115215200  \n...               ...  \n2024-05-24   36294600  \n2024-05-28   52280100  \n2024-05-29   53068000  \n2024-05-30   49947900  \n2024-05-31   75158300  \n\n[1028 rows x 6 columns]",
      "text/html": "<div>\n<style scoped>\n    .dataframe tbody tr th:only-of-type {\n        vertical-align: middle;\n    }\n\n    .dataframe tbody tr th {\n        vertical-align: top;\n    }\n\n    .dataframe thead th {\n        text-align: right;\n    }\n</style>\n<table border=\"1\" class=\"dataframe\">\n  <thead>\n    <tr style=\"text-align: right;\">\n      <th></th>\n      <th>Open</th>\n      <th>High</th>\n      <th>Low</th>\n      <th>Close</th>\n      <th>Adj Close</th>\n      <th>Volume</th>\n    </tr>\n    <tr>\n      <th>Date</th>\n      <th></th>\n      <th></th>\n      <th></th>\n      <th></th>\n      <th></th>\n      <th></th>\n    </tr>\n  </thead>\n  <tbody>\n    <tr>\n      <th>2020-05-01</th>\n      <td>71.562500</td>\n      <td>74.750000</td>\n      <td>71.462502</td>\n      <td>72.267502</td>\n      <td>70.482475</td>\n      <td>240616800</td>\n    </tr>\n    <tr>\n      <th>2020-05-04</th>\n      <td>72.292503</td>\n      <td>73.422501</td>\n      <td>71.580002</td>\n      <td>73.290001</td>\n      <td>71.479706</td>\n      <td>133568000</td>\n    </tr>\n    <tr>\n      <th>2020-05-05</th>\n      <td>73.764999</td>\n      <td>75.250000</td>\n      <td>73.614998</td>\n      <td>74.389999</td>\n      <td>72.552528</td>\n      <td>147751200</td>\n    </tr>\n    <tr>\n      <th>2020-05-06</th>\n      <td>75.114998</td>\n      <td>75.809998</td>\n      <td>74.717499</td>\n      <td>75.157501</td>\n      <td>73.301079</td>\n      <td>142333600</td>\n    </tr>\n    <tr>\n      <th>2020-05-07</th>\n      <td>75.805000</td>\n      <td>76.292503</td>\n      <td>75.492500</td>\n      <td>75.934998</td>\n      <td>74.059372</td>\n      <td>115215200</td>\n    </tr>\n    <tr>\n      <th>...</th>\n      <td>...</td>\n      <td>...</td>\n      <td>...</td>\n      <td>...</td>\n      <td>...</td>\n      <td>...</td>\n    </tr>\n    <tr>\n      <th>2024-05-24</th>\n      <td>188.820007</td>\n      <td>190.580002</td>\n      <td>188.039993</td>\n      <td>189.979996</td>\n      <td>189.979996</td>\n      <td>36294600</td>\n    </tr>\n    <tr>\n      <th>2024-05-28</th>\n      <td>191.509995</td>\n      <td>193.000000</td>\n      <td>189.100006</td>\n      <td>189.990005</td>\n      <td>189.990005</td>\n      <td>52280100</td>\n    </tr>\n    <tr>\n      <th>2024-05-29</th>\n      <td>189.610001</td>\n      <td>192.250000</td>\n      <td>189.509995</td>\n      <td>190.289993</td>\n      <td>190.289993</td>\n      <td>53068000</td>\n    </tr>\n    <tr>\n      <th>2024-05-30</th>\n      <td>190.759995</td>\n      <td>192.179993</td>\n      <td>190.630005</td>\n      <td>191.289993</td>\n      <td>191.289993</td>\n      <td>49947900</td>\n    </tr>\n    <tr>\n      <th>2024-05-31</th>\n      <td>191.440002</td>\n      <td>192.570007</td>\n      <td>189.910004</td>\n      <td>192.250000</td>\n      <td>192.250000</td>\n      <td>75158300</td>\n    </tr>\n  </tbody>\n</table>\n<p>1028 rows × 6 columns</p>\n</div>"
     },
     "execution_count": 151,
     "metadata": {},
     "output_type": "execute_result"
    }
   ],
   "source": [
    "data = yf.download(stock_symbol, start=start_date, end=end_date,auto_adjust=False)\n",
    "data"
   ],
   "metadata": {
    "collapsed": false
   }
  },
  {
   "cell_type": "markdown",
   "source": [
    "### 按月获取数据\n",
    "\n",
    "最长记录： 2001-09-01～现在\n",
    "AKShare最长记录：1991-04-03～现在"
   ],
   "metadata": {
    "collapsed": false
   }
  },
  {
   "cell_type": "code",
   "execution_count": 127,
   "outputs": [
    {
     "data": {
      "text/plain": "                                 Open        High         Low       Close  \\\nDate                                                                        \n1985-01-01 00:00:00-05:00    0.100486    0.107386    0.096173    0.100055   \n1985-02-01 00:00:00-05:00    0.100055    0.106093    0.085392    0.085392   \n1985-03-01 00:00:00-05:00    0.085392    0.089704    0.071591    0.076335   \n1985-04-01 00:00:00-05:00    0.076335    0.079354    0.067710    0.073316   \n1985-05-01 00:00:00-04:00    0.073316    0.076766    0.058222    0.059947   \n...                               ...         ...         ...         ...   \n2024-02-01 00:00:00-05:00  183.755530  190.806530  179.021565  180.519653   \n2024-03-01 00:00:00-05:00  179.550003  180.529999  168.490005  171.479996   \n2024-04-01 00:00:00-04:00  171.190002  178.360001  164.080002  170.330002   \n2024-05-01 00:00:00-04:00  169.580002  193.000000  169.110001  192.250000   \n2024-06-01 00:00:00-04:00  192.899994  220.199997  192.149994  212.490005   \n\n                               Volume  Dividends  Stock Splits  \nDate                                                            \n1985-01-01 00:00:00-05:00  6366416000       0.00           0.0  \n1985-02-01 00:00:00-05:00  4733388800       0.00           0.0  \n1985-03-01 00:00:00-05:00  4615587200       0.00           0.0  \n1985-04-01 00:00:00-05:00  2868028800       0.00           0.0  \n1985-05-01 00:00:00-04:00  4639129600       0.00           0.0  \n...                               ...        ...           ...  \n2024-02-01 00:00:00-05:00  1161627000       0.24           0.0  \n2024-03-01 00:00:00-05:00  1432782800       0.00           0.0  \n2024-04-01 00:00:00-04:00  1245717000       0.00           0.0  \n2024-05-01 00:00:00-04:00  1336537700       0.00           0.0  \n2024-06-01 00:00:00-04:00   949906766       0.00           0.0  \n\n[474 rows x 7 columns]",
      "text/html": "<div>\n<style scoped>\n    .dataframe tbody tr th:only-of-type {\n        vertical-align: middle;\n    }\n\n    .dataframe tbody tr th {\n        vertical-align: top;\n    }\n\n    .dataframe thead th {\n        text-align: right;\n    }\n</style>\n<table border=\"1\" class=\"dataframe\">\n  <thead>\n    <tr style=\"text-align: right;\">\n      <th></th>\n      <th>Open</th>\n      <th>High</th>\n      <th>Low</th>\n      <th>Close</th>\n      <th>Volume</th>\n      <th>Dividends</th>\n      <th>Stock Splits</th>\n    </tr>\n    <tr>\n      <th>Date</th>\n      <th></th>\n      <th></th>\n      <th></th>\n      <th></th>\n      <th></th>\n      <th></th>\n      <th></th>\n    </tr>\n  </thead>\n  <tbody>\n    <tr>\n      <th>1985-01-01 00:00:00-05:00</th>\n      <td>0.100486</td>\n      <td>0.107386</td>\n      <td>0.096173</td>\n      <td>0.100055</td>\n      <td>6366416000</td>\n      <td>0.00</td>\n      <td>0.0</td>\n    </tr>\n    <tr>\n      <th>1985-02-01 00:00:00-05:00</th>\n      <td>0.100055</td>\n      <td>0.106093</td>\n      <td>0.085392</td>\n      <td>0.085392</td>\n      <td>4733388800</td>\n      <td>0.00</td>\n      <td>0.0</td>\n    </tr>\n    <tr>\n      <th>1985-03-01 00:00:00-05:00</th>\n      <td>0.085392</td>\n      <td>0.089704</td>\n      <td>0.071591</td>\n      <td>0.076335</td>\n      <td>4615587200</td>\n      <td>0.00</td>\n      <td>0.0</td>\n    </tr>\n    <tr>\n      <th>1985-04-01 00:00:00-05:00</th>\n      <td>0.076335</td>\n      <td>0.079354</td>\n      <td>0.067710</td>\n      <td>0.073316</td>\n      <td>2868028800</td>\n      <td>0.00</td>\n      <td>0.0</td>\n    </tr>\n    <tr>\n      <th>1985-05-01 00:00:00-04:00</th>\n      <td>0.073316</td>\n      <td>0.076766</td>\n      <td>0.058222</td>\n      <td>0.059947</td>\n      <td>4639129600</td>\n      <td>0.00</td>\n      <td>0.0</td>\n    </tr>\n    <tr>\n      <th>...</th>\n      <td>...</td>\n      <td>...</td>\n      <td>...</td>\n      <td>...</td>\n      <td>...</td>\n      <td>...</td>\n      <td>...</td>\n    </tr>\n    <tr>\n      <th>2024-02-01 00:00:00-05:00</th>\n      <td>183.755530</td>\n      <td>190.806530</td>\n      <td>179.021565</td>\n      <td>180.519653</td>\n      <td>1161627000</td>\n      <td>0.24</td>\n      <td>0.0</td>\n    </tr>\n    <tr>\n      <th>2024-03-01 00:00:00-05:00</th>\n      <td>179.550003</td>\n      <td>180.529999</td>\n      <td>168.490005</td>\n      <td>171.479996</td>\n      <td>1432782800</td>\n      <td>0.00</td>\n      <td>0.0</td>\n    </tr>\n    <tr>\n      <th>2024-04-01 00:00:00-04:00</th>\n      <td>171.190002</td>\n      <td>178.360001</td>\n      <td>164.080002</td>\n      <td>170.330002</td>\n      <td>1245717000</td>\n      <td>0.00</td>\n      <td>0.0</td>\n    </tr>\n    <tr>\n      <th>2024-05-01 00:00:00-04:00</th>\n      <td>169.580002</td>\n      <td>193.000000</td>\n      <td>169.110001</td>\n      <td>192.250000</td>\n      <td>1336537700</td>\n      <td>0.00</td>\n      <td>0.0</td>\n    </tr>\n    <tr>\n      <th>2024-06-01 00:00:00-04:00</th>\n      <td>192.899994</td>\n      <td>220.199997</td>\n      <td>192.149994</td>\n      <td>212.490005</td>\n      <td>949906766</td>\n      <td>0.00</td>\n      <td>0.0</td>\n    </tr>\n  </tbody>\n</table>\n<p>474 rows × 7 columns</p>\n</div>"
     },
     "execution_count": 127,
     "metadata": {},
     "output_type": "execute_result"
    }
   ],
   "source": [
    "hist = stock_data.history(interval=\"1mo\",period=\"max\")\n",
    "hist"
   ],
   "metadata": {
    "collapsed": false
   }
  },
  {
   "cell_type": "markdown",
   "source": [
    "> **Error**: 获取到的数据仍然是按天的，没有按月\n",
    "2024-05-13 00:00:00-04:00,417.257382,417.596766,410.080325,412.975098,15440200,0.00,0.0\n",
    "2024-05-14 00:00:00-04:00,411.278163,416.738316,410.809008,415.809998,15109300,0.00,0.0\n",
    "2024-05-15 00:00:00-04:00,417.899994,423.809998,417.269989,423.079987,22239500,0.75,0.0\n",
    "应该设置参数interval，而不是参数period，参考：https://github.com/ranaroussi/yfinance/wiki/Ticker\n"
   ],
   "metadata": {
    "collapsed": false
   }
  },
  {
   "cell_type": "markdown",
   "source": [
    "### 按天获取所有数据，Adj Close单独一列\n",
    "获取尽量多的数据"
   ],
   "metadata": {
    "collapsed": false
   }
  },
  {
   "cell_type": "code",
   "source": [
    "hist = stock_data.history(interval=\"1d\",period=\"max\",prepost=True, actions=True,auto_adjust=False,repair=True,)\n",
    "hist"
   ],
   "metadata": {
    "collapsed": false,
    "ExecuteTime": {
     "end_time": "2024-07-04T14:00:32.947521Z",
     "start_time": "2024-07-04T14:00:29.055139Z"
    }
   },
   "outputs": [
    {
     "name": "stderr",
     "output_type": "stream",
     "text": [
      "/Users/zhengshuang/Documents/ProgramingGuide/SourceCode/GithubRepo/everyfine/GeniusAI/GeniusChatbots/venv/lib/python3.9/site-packages/yfinance/scrapers/history.py:1652: FutureWarning: Setting an item of incompatible dtype is deprecated and will raise an error in a future version of pandas. Value '[2955552.4  4315181.15 7332122.2  ...  523352.85  558496.5  1982495.1 ]' has dtype incompatible with int64, please explicitly cast to a compatible dtype first.\n",
      "  df2.iloc[r[0]:r[1], df2.columns.get_loc(\"Volume\")] *= m_rcp\n"
     ]
    },
    {
     "data": {
      "text/plain": [
       "                                Open       High        Low      Close  \\\n",
       "Date                                                                    \n",
       "2020-02-06 00:00:00+08:00  33.243242  39.892823  33.243242  39.892823   \n",
       "2020-02-07 00:00:00+08:00  43.881641  43.881641  43.881641  43.881641   \n",
       "2020-02-10 00:00:00+08:00  48.271200  48.271200  48.271200  48.271200   \n",
       "2020-02-11 00:00:00+08:00  53.098786  53.098786  53.098786  53.098786   \n",
       "2020-02-12 00:00:00+08:00  58.410997  58.410997  58.410997  58.410997   \n",
       "...                              ...        ...        ...        ...   \n",
       "2024-06-28 00:00:00+08:00  77.199997  77.989998  76.300003  77.120003   \n",
       "2024-07-01 00:00:00+08:00  76.589996  77.419998  75.809998  76.500000   \n",
       "2024-07-02 00:00:00+08:00  76.059998  76.410004  74.230003  74.309998   \n",
       "2024-07-03 00:00:00+08:00  74.309998  74.900002  73.500000  73.570000   \n",
       "2024-07-04 00:00:00+08:00  73.480003  74.690002  73.160004  73.989998   \n",
       "\n",
       "                           Adj Close   Volume  Dividends  Stock Splits  \\\n",
       "Date                                                                     \n",
       "2020-02-06 00:00:00+08:00  36.356277  1982495        0.0           0.0   \n",
       "2020-02-07 00:00:00+08:00  39.991481   558496        0.0           0.0   \n",
       "2020-02-10 00:00:00+08:00  43.991902   523353        0.0           0.0   \n",
       "2020-02-11 00:00:00+08:00  48.391518   585729        0.0           0.0   \n",
       "2020-02-12 00:00:00+08:00  53.232795  2118976        0.0           0.0   \n",
       "...                              ...      ...        ...           ...   \n",
       "2024-06-28 00:00:00+08:00  77.120003  2178941        0.0           0.0   \n",
       "2024-07-01 00:00:00+08:00  76.500000  2140806        0.0           0.0   \n",
       "2024-07-02 00:00:00+08:00  74.309998  2891884        0.0           0.0   \n",
       "2024-07-03 00:00:00+08:00  73.570000  1362343        0.0           0.0   \n",
       "2024-07-04 00:00:00+08:00  73.989998  1835550        0.0           0.0   \n",
       "\n",
       "                           Repaired?  \n",
       "Date                                  \n",
       "2020-02-06 00:00:00+08:00       True  \n",
       "2020-02-07 00:00:00+08:00       True  \n",
       "2020-02-10 00:00:00+08:00       True  \n",
       "2020-02-11 00:00:00+08:00       True  \n",
       "2020-02-12 00:00:00+08:00       True  \n",
       "...                              ...  \n",
       "2024-06-28 00:00:00+08:00      False  \n",
       "2024-07-01 00:00:00+08:00      False  \n",
       "2024-07-02 00:00:00+08:00      False  \n",
       "2024-07-03 00:00:00+08:00      False  \n",
       "2024-07-04 00:00:00+08:00      False  \n",
       "\n",
       "[1072 rows x 9 columns]"
      ],
      "text/html": [
       "<div>\n",
       "<style scoped>\n",
       "    .dataframe tbody tr th:only-of-type {\n",
       "        vertical-align: middle;\n",
       "    }\n",
       "\n",
       "    .dataframe tbody tr th {\n",
       "        vertical-align: top;\n",
       "    }\n",
       "\n",
       "    .dataframe thead th {\n",
       "        text-align: right;\n",
       "    }\n",
       "</style>\n",
       "<table border=\"1\" class=\"dataframe\">\n",
       "  <thead>\n",
       "    <tr style=\"text-align: right;\">\n",
       "      <th></th>\n",
       "      <th>Open</th>\n",
       "      <th>High</th>\n",
       "      <th>Low</th>\n",
       "      <th>Close</th>\n",
       "      <th>Adj Close</th>\n",
       "      <th>Volume</th>\n",
       "      <th>Dividends</th>\n",
       "      <th>Stock Splits</th>\n",
       "      <th>Repaired?</th>\n",
       "    </tr>\n",
       "    <tr>\n",
       "      <th>Date</th>\n",
       "      <th></th>\n",
       "      <th></th>\n",
       "      <th></th>\n",
       "      <th></th>\n",
       "      <th></th>\n",
       "      <th></th>\n",
       "      <th></th>\n",
       "      <th></th>\n",
       "      <th></th>\n",
       "    </tr>\n",
       "  </thead>\n",
       "  <tbody>\n",
       "    <tr>\n",
       "      <th>2020-02-06 00:00:00+08:00</th>\n",
       "      <td>33.243242</td>\n",
       "      <td>39.892823</td>\n",
       "      <td>33.243242</td>\n",
       "      <td>39.892823</td>\n",
       "      <td>36.356277</td>\n",
       "      <td>1982495</td>\n",
       "      <td>0.0</td>\n",
       "      <td>0.0</td>\n",
       "      <td>True</td>\n",
       "    </tr>\n",
       "    <tr>\n",
       "      <th>2020-02-07 00:00:00+08:00</th>\n",
       "      <td>43.881641</td>\n",
       "      <td>43.881641</td>\n",
       "      <td>43.881641</td>\n",
       "      <td>43.881641</td>\n",
       "      <td>39.991481</td>\n",
       "      <td>558496</td>\n",
       "      <td>0.0</td>\n",
       "      <td>0.0</td>\n",
       "      <td>True</td>\n",
       "    </tr>\n",
       "    <tr>\n",
       "      <th>2020-02-10 00:00:00+08:00</th>\n",
       "      <td>48.271200</td>\n",
       "      <td>48.271200</td>\n",
       "      <td>48.271200</td>\n",
       "      <td>48.271200</td>\n",
       "      <td>43.991902</td>\n",
       "      <td>523353</td>\n",
       "      <td>0.0</td>\n",
       "      <td>0.0</td>\n",
       "      <td>True</td>\n",
       "    </tr>\n",
       "    <tr>\n",
       "      <th>2020-02-11 00:00:00+08:00</th>\n",
       "      <td>53.098786</td>\n",
       "      <td>53.098786</td>\n",
       "      <td>53.098786</td>\n",
       "      <td>53.098786</td>\n",
       "      <td>48.391518</td>\n",
       "      <td>585729</td>\n",
       "      <td>0.0</td>\n",
       "      <td>0.0</td>\n",
       "      <td>True</td>\n",
       "    </tr>\n",
       "    <tr>\n",
       "      <th>2020-02-12 00:00:00+08:00</th>\n",
       "      <td>58.410997</td>\n",
       "      <td>58.410997</td>\n",
       "      <td>58.410997</td>\n",
       "      <td>58.410997</td>\n",
       "      <td>53.232795</td>\n",
       "      <td>2118976</td>\n",
       "      <td>0.0</td>\n",
       "      <td>0.0</td>\n",
       "      <td>True</td>\n",
       "    </tr>\n",
       "    <tr>\n",
       "      <th>...</th>\n",
       "      <td>...</td>\n",
       "      <td>...</td>\n",
       "      <td>...</td>\n",
       "      <td>...</td>\n",
       "      <td>...</td>\n",
       "      <td>...</td>\n",
       "      <td>...</td>\n",
       "      <td>...</td>\n",
       "      <td>...</td>\n",
       "    </tr>\n",
       "    <tr>\n",
       "      <th>2024-06-28 00:00:00+08:00</th>\n",
       "      <td>77.199997</td>\n",
       "      <td>77.989998</td>\n",
       "      <td>76.300003</td>\n",
       "      <td>77.120003</td>\n",
       "      <td>77.120003</td>\n",
       "      <td>2178941</td>\n",
       "      <td>0.0</td>\n",
       "      <td>0.0</td>\n",
       "      <td>False</td>\n",
       "    </tr>\n",
       "    <tr>\n",
       "      <th>2024-07-01 00:00:00+08:00</th>\n",
       "      <td>76.589996</td>\n",
       "      <td>77.419998</td>\n",
       "      <td>75.809998</td>\n",
       "      <td>76.500000</td>\n",
       "      <td>76.500000</td>\n",
       "      <td>2140806</td>\n",
       "      <td>0.0</td>\n",
       "      <td>0.0</td>\n",
       "      <td>False</td>\n",
       "    </tr>\n",
       "    <tr>\n",
       "      <th>2024-07-02 00:00:00+08:00</th>\n",
       "      <td>76.059998</td>\n",
       "      <td>76.410004</td>\n",
       "      <td>74.230003</td>\n",
       "      <td>74.309998</td>\n",
       "      <td>74.309998</td>\n",
       "      <td>2891884</td>\n",
       "      <td>0.0</td>\n",
       "      <td>0.0</td>\n",
       "      <td>False</td>\n",
       "    </tr>\n",
       "    <tr>\n",
       "      <th>2024-07-03 00:00:00+08:00</th>\n",
       "      <td>74.309998</td>\n",
       "      <td>74.900002</td>\n",
       "      <td>73.500000</td>\n",
       "      <td>73.570000</td>\n",
       "      <td>73.570000</td>\n",
       "      <td>1362343</td>\n",
       "      <td>0.0</td>\n",
       "      <td>0.0</td>\n",
       "      <td>False</td>\n",
       "    </tr>\n",
       "    <tr>\n",
       "      <th>2024-07-04 00:00:00+08:00</th>\n",
       "      <td>73.480003</td>\n",
       "      <td>74.690002</td>\n",
       "      <td>73.160004</td>\n",
       "      <td>73.989998</td>\n",
       "      <td>73.989998</td>\n",
       "      <td>1835550</td>\n",
       "      <td>0.0</td>\n",
       "      <td>0.0</td>\n",
       "      <td>False</td>\n",
       "    </tr>\n",
       "  </tbody>\n",
       "</table>\n",
       "<p>1072 rows × 9 columns</p>\n",
       "</div>"
      ]
     },
     "execution_count": 26,
     "metadata": {},
     "output_type": "execute_result"
    }
   ],
   "execution_count": 26
  },
  {
   "cell_type": "markdown",
   "source": [
    "保存为不同格式的文件"
   ],
   "metadata": {
    "collapsed": false
   }
  },
  {
   "cell_type": "code",
   "execution_count": 129,
   "outputs": [],
   "source": [
    "hist.to_csv(\"maotai_daily_max.csv\")"
   ],
   "metadata": {
    "collapsed": false
   }
  },
  {
   "cell_type": "markdown",
   "source": [
    "## Exploring Advanced Features"
   ],
   "metadata": {
    "collapsed": false
   }
  },
  {
   "cell_type": "markdown",
   "source": [
    "## 3. 股息和拆股"
   ],
   "metadata": {
    "collapsed": false
   }
  },
  {
   "cell_type": "markdown",
   "source": [
    "### 股息\n",
    "\n",
    "Dividends：获取股票的历史股息数据。"
   ],
   "metadata": {
    "collapsed": false
   }
  },
  {
   "cell_type": "code",
   "execution_count": 130,
   "outputs": [
    {
     "data": {
      "text/plain": "Date\n1987-05-11 00:00:00-04:00    0.000536\n1987-08-10 00:00:00-04:00    0.000536\n1987-11-17 00:00:00-05:00    0.000714\n1988-02-12 00:00:00-05:00    0.000714\n1988-05-16 00:00:00-04:00    0.000714\nName: Dividends, dtype: float64"
     },
     "execution_count": 130,
     "metadata": {},
     "output_type": "execute_result"
    }
   ],
   "source": [
    "dividends = stock_data.dividends\n",
    "dividends.head()"
   ],
   "metadata": {
    "collapsed": false
   }
  },
  {
   "cell_type": "markdown",
   "source": [
    "### 拆股\n",
    "splits：获取股票的历史拆股数据"
   ],
   "metadata": {
    "collapsed": false
   }
  },
  {
   "cell_type": "code",
   "execution_count": 131,
   "outputs": [
    {
     "data": {
      "text/plain": "Date\n1987-06-16 00:00:00-04:00    2.0\n2000-06-21 00:00:00-04:00    2.0\n2005-02-28 00:00:00-05:00    2.0\n2014-06-09 00:00:00-04:00    7.0\n2020-08-31 00:00:00-04:00    4.0\nName: Stock Splits, dtype: float64"
     },
     "execution_count": 131,
     "metadata": {},
     "output_type": "execute_result"
    }
   ],
   "source": [
    "stock_data.splits"
   ],
   "metadata": {
    "collapsed": false
   }
  },
  {
   "cell_type": "markdown",
   "source": [
    "## 4. 财务数据"
   ],
   "metadata": {
    "collapsed": false
   }
  },
  {
   "cell_type": "markdown",
   "source": [
    "### 财务报表\n",
    "financials： 获取公司的财务报表，包括利润表、资产负债表和现金流量表。"
   ],
   "metadata": {
    "collapsed": false
   }
  },
  {
   "cell_type": "code",
   "execution_count": 132,
   "outputs": [
    {
     "data": {
      "text/plain": "                                                        2023-09-30  \\\nTax Effect Of Unusual Items                                    0.0   \nTax Rate For Calcs                                           0.147   \nNormalized EBITDA                                   129188000000.0   \nNet Income From Continuing Operation Net Minori...   96995000000.0   \nReconciled Depreciation                              11519000000.0   \nReconciled Cost Of Revenue                          214137000000.0   \nEBITDA                                              129188000000.0   \nEBIT                                                117669000000.0   \nNet Interest Income                                   -183000000.0   \nInterest Expense                                      3933000000.0   \nInterest Income                                       3750000000.0   \nNormalized Income                                    96995000000.0   \nNet Income From Continuing And Discontinued Ope...   96995000000.0   \nTotal Expenses                                      268984000000.0   \nTotal Operating Income As Reported                  114301000000.0   \nDiluted Average Shares                               15812547000.0   \nBasic Average Shares                                 15744231000.0   \nDiluted EPS                                                   6.13   \nBasic EPS                                                     6.16   \nDiluted NI Availto Com Stockholders                  96995000000.0   \nNet Income Common Stockholders                       96995000000.0   \nNet Income                                           96995000000.0   \nNet Income Including Noncontrolling Interests        96995000000.0   \nNet Income Continuous Operations                     96995000000.0   \nTax Provision                                        16741000000.0   \nPretax Income                                       113736000000.0   \nOther Income Expense                                  -382000000.0   \nOther Non Operating Income Expenses                   -382000000.0   \nNet Non Operating Interest Income Expense             -183000000.0   \nInterest Expense Non Operating                        3933000000.0   \nInterest Income Non Operating                         3750000000.0   \nOperating Income                                    114301000000.0   \nOperating Expense                                    54847000000.0   \nResearch And Development                             29915000000.0   \nSelling General And Administration                   24932000000.0   \nGross Profit                                        169148000000.0   \nCost Of Revenue                                     214137000000.0   \nTotal Revenue                                       383285000000.0   \nOperating Revenue                                   383285000000.0   \n\n                                                        2022-09-30  \\\nTax Effect Of Unusual Items                                    0.0   \nTax Rate For Calcs                                           0.162   \nNormalized EBITDA                                   133138000000.0   \nNet Income From Continuing Operation Net Minori...   99803000000.0   \nReconciled Depreciation                              11104000000.0   \nReconciled Cost Of Revenue                          223546000000.0   \nEBITDA                                              133138000000.0   \nEBIT                                                122034000000.0   \nNet Interest Income                                   -106000000.0   \nInterest Expense                                      2931000000.0   \nInterest Income                                       2825000000.0   \nNormalized Income                                    99803000000.0   \nNet Income From Continuing And Discontinued Ope...   99803000000.0   \nTotal Expenses                                      274891000000.0   \nTotal Operating Income As Reported                  119437000000.0   \nDiluted Average Shares                               16325819000.0   \nBasic Average Shares                                 16215963000.0   \nDiluted EPS                                                   6.11   \nBasic EPS                                                     6.15   \nDiluted NI Availto Com Stockholders                  99803000000.0   \nNet Income Common Stockholders                       99803000000.0   \nNet Income                                           99803000000.0   \nNet Income Including Noncontrolling Interests        99803000000.0   \nNet Income Continuous Operations                     99803000000.0   \nTax Provision                                        19300000000.0   \nPretax Income                                       119103000000.0   \nOther Income Expense                                  -228000000.0   \nOther Non Operating Income Expenses                   -228000000.0   \nNet Non Operating Interest Income Expense             -106000000.0   \nInterest Expense Non Operating                        2931000000.0   \nInterest Income Non Operating                         2825000000.0   \nOperating Income                                    119437000000.0   \nOperating Expense                                    51345000000.0   \nResearch And Development                             26251000000.0   \nSelling General And Administration                   25094000000.0   \nGross Profit                                        170782000000.0   \nCost Of Revenue                                     223546000000.0   \nTotal Revenue                                       394328000000.0   \nOperating Revenue                                   394328000000.0   \n\n                                                        2021-09-30  \\\nTax Effect Of Unusual Items                                    0.0   \nTax Rate For Calcs                                           0.133   \nNormalized EBITDA                                   123136000000.0   \nNet Income From Continuing Operation Net Minori...   94680000000.0   \nReconciled Depreciation                              11284000000.0   \nReconciled Cost Of Revenue                          212981000000.0   \nEBITDA                                              123136000000.0   \nEBIT                                                111852000000.0   \nNet Interest Income                                    198000000.0   \nInterest Expense                                      2645000000.0   \nInterest Income                                       2843000000.0   \nNormalized Income                                    94680000000.0   \nNet Income From Continuing And Discontinued Ope...   94680000000.0   \nTotal Expenses                                      256868000000.0   \nTotal Operating Income As Reported                  108949000000.0   \nDiluted Average Shares                               16864919000.0   \nBasic Average Shares                                 16701272000.0   \nDiluted EPS                                                   5.61   \nBasic EPS                                                     5.67   \nDiluted NI Availto Com Stockholders                  94680000000.0   \nNet Income Common Stockholders                       94680000000.0   \nNet Income                                           94680000000.0   \nNet Income Including Noncontrolling Interests        94680000000.0   \nNet Income Continuous Operations                     94680000000.0   \nTax Provision                                        14527000000.0   \nPretax Income                                       109207000000.0   \nOther Income Expense                                    60000000.0   \nOther Non Operating Income Expenses                     60000000.0   \nNet Non Operating Interest Income Expense              198000000.0   \nInterest Expense Non Operating                        2645000000.0   \nInterest Income Non Operating                         2843000000.0   \nOperating Income                                    108949000000.0   \nOperating Expense                                    43887000000.0   \nResearch And Development                             21914000000.0   \nSelling General And Administration                   21973000000.0   \nGross Profit                                        152836000000.0   \nCost Of Revenue                                     212981000000.0   \nTotal Revenue                                       365817000000.0   \nOperating Revenue                                   365817000000.0   \n\n                                                        2020-09-30  \nTax Effect Of Unusual Items                                    0.0  \nTax Rate For Calcs                                           0.144  \nNormalized EBITDA                                    81020000000.0  \nNet Income From Continuing Operation Net Minori...   57411000000.0  \nReconciled Depreciation                              11056000000.0  \nReconciled Cost Of Revenue                          169559000000.0  \nEBITDA                                               81020000000.0  \nEBIT                                                 69964000000.0  \nNet Interest Income                                    890000000.0  \nInterest Expense                                      2873000000.0  \nInterest Income                                       3763000000.0  \nNormalized Income                                    57411000000.0  \nNet Income From Continuing And Discontinued Ope...   57411000000.0  \nTotal Expenses                                      208227000000.0  \nTotal Operating Income As Reported                   66288000000.0  \nDiluted Average Shares                               17528214000.0  \nBasic Average Shares                                 17352119000.0  \nDiluted EPS                                                   3.28  \nBasic EPS                                                     3.31  \nDiluted NI Availto Com Stockholders                  57411000000.0  \nNet Income Common Stockholders                       57411000000.0  \nNet Income                                           57411000000.0  \nNet Income Including Noncontrolling Interests        57411000000.0  \nNet Income Continuous Operations                     57411000000.0  \nTax Provision                                         9680000000.0  \nPretax Income                                        67091000000.0  \nOther Income Expense                                   -87000000.0  \nOther Non Operating Income Expenses                    -87000000.0  \nNet Non Operating Interest Income Expense              890000000.0  \nInterest Expense Non Operating                        2873000000.0  \nInterest Income Non Operating                         3763000000.0  \nOperating Income                                     66288000000.0  \nOperating Expense                                    38668000000.0  \nResearch And Development                             18752000000.0  \nSelling General And Administration                   19916000000.0  \nGross Profit                                        104956000000.0  \nCost Of Revenue                                     169559000000.0  \nTotal Revenue                                       274515000000.0  \nOperating Revenue                                   274515000000.0  ",
      "text/html": "<div>\n<style scoped>\n    .dataframe tbody tr th:only-of-type {\n        vertical-align: middle;\n    }\n\n    .dataframe tbody tr th {\n        vertical-align: top;\n    }\n\n    .dataframe thead th {\n        text-align: right;\n    }\n</style>\n<table border=\"1\" class=\"dataframe\">\n  <thead>\n    <tr style=\"text-align: right;\">\n      <th></th>\n      <th>2023-09-30</th>\n      <th>2022-09-30</th>\n      <th>2021-09-30</th>\n      <th>2020-09-30</th>\n    </tr>\n  </thead>\n  <tbody>\n    <tr>\n      <th>Tax Effect Of Unusual Items</th>\n      <td>0.0</td>\n      <td>0.0</td>\n      <td>0.0</td>\n      <td>0.0</td>\n    </tr>\n    <tr>\n      <th>Tax Rate For Calcs</th>\n      <td>0.147</td>\n      <td>0.162</td>\n      <td>0.133</td>\n      <td>0.144</td>\n    </tr>\n    <tr>\n      <th>Normalized EBITDA</th>\n      <td>129188000000.0</td>\n      <td>133138000000.0</td>\n      <td>123136000000.0</td>\n      <td>81020000000.0</td>\n    </tr>\n    <tr>\n      <th>Net Income From Continuing Operation Net Minority Interest</th>\n      <td>96995000000.0</td>\n      <td>99803000000.0</td>\n      <td>94680000000.0</td>\n      <td>57411000000.0</td>\n    </tr>\n    <tr>\n      <th>Reconciled Depreciation</th>\n      <td>11519000000.0</td>\n      <td>11104000000.0</td>\n      <td>11284000000.0</td>\n      <td>11056000000.0</td>\n    </tr>\n    <tr>\n      <th>Reconciled Cost Of Revenue</th>\n      <td>214137000000.0</td>\n      <td>223546000000.0</td>\n      <td>212981000000.0</td>\n      <td>169559000000.0</td>\n    </tr>\n    <tr>\n      <th>EBITDA</th>\n      <td>129188000000.0</td>\n      <td>133138000000.0</td>\n      <td>123136000000.0</td>\n      <td>81020000000.0</td>\n    </tr>\n    <tr>\n      <th>EBIT</th>\n      <td>117669000000.0</td>\n      <td>122034000000.0</td>\n      <td>111852000000.0</td>\n      <td>69964000000.0</td>\n    </tr>\n    <tr>\n      <th>Net Interest Income</th>\n      <td>-183000000.0</td>\n      <td>-106000000.0</td>\n      <td>198000000.0</td>\n      <td>890000000.0</td>\n    </tr>\n    <tr>\n      <th>Interest Expense</th>\n      <td>3933000000.0</td>\n      <td>2931000000.0</td>\n      <td>2645000000.0</td>\n      <td>2873000000.0</td>\n    </tr>\n    <tr>\n      <th>Interest Income</th>\n      <td>3750000000.0</td>\n      <td>2825000000.0</td>\n      <td>2843000000.0</td>\n      <td>3763000000.0</td>\n    </tr>\n    <tr>\n      <th>Normalized Income</th>\n      <td>96995000000.0</td>\n      <td>99803000000.0</td>\n      <td>94680000000.0</td>\n      <td>57411000000.0</td>\n    </tr>\n    <tr>\n      <th>Net Income From Continuing And Discontinued Operation</th>\n      <td>96995000000.0</td>\n      <td>99803000000.0</td>\n      <td>94680000000.0</td>\n      <td>57411000000.0</td>\n    </tr>\n    <tr>\n      <th>Total Expenses</th>\n      <td>268984000000.0</td>\n      <td>274891000000.0</td>\n      <td>256868000000.0</td>\n      <td>208227000000.0</td>\n    </tr>\n    <tr>\n      <th>Total Operating Income As Reported</th>\n      <td>114301000000.0</td>\n      <td>119437000000.0</td>\n      <td>108949000000.0</td>\n      <td>66288000000.0</td>\n    </tr>\n    <tr>\n      <th>Diluted Average Shares</th>\n      <td>15812547000.0</td>\n      <td>16325819000.0</td>\n      <td>16864919000.0</td>\n      <td>17528214000.0</td>\n    </tr>\n    <tr>\n      <th>Basic Average Shares</th>\n      <td>15744231000.0</td>\n      <td>16215963000.0</td>\n      <td>16701272000.0</td>\n      <td>17352119000.0</td>\n    </tr>\n    <tr>\n      <th>Diluted EPS</th>\n      <td>6.13</td>\n      <td>6.11</td>\n      <td>5.61</td>\n      <td>3.28</td>\n    </tr>\n    <tr>\n      <th>Basic EPS</th>\n      <td>6.16</td>\n      <td>6.15</td>\n      <td>5.67</td>\n      <td>3.31</td>\n    </tr>\n    <tr>\n      <th>Diluted NI Availto Com Stockholders</th>\n      <td>96995000000.0</td>\n      <td>99803000000.0</td>\n      <td>94680000000.0</td>\n      <td>57411000000.0</td>\n    </tr>\n    <tr>\n      <th>Net Income Common Stockholders</th>\n      <td>96995000000.0</td>\n      <td>99803000000.0</td>\n      <td>94680000000.0</td>\n      <td>57411000000.0</td>\n    </tr>\n    <tr>\n      <th>Net Income</th>\n      <td>96995000000.0</td>\n      <td>99803000000.0</td>\n      <td>94680000000.0</td>\n      <td>57411000000.0</td>\n    </tr>\n    <tr>\n      <th>Net Income Including Noncontrolling Interests</th>\n      <td>96995000000.0</td>\n      <td>99803000000.0</td>\n      <td>94680000000.0</td>\n      <td>57411000000.0</td>\n    </tr>\n    <tr>\n      <th>Net Income Continuous Operations</th>\n      <td>96995000000.0</td>\n      <td>99803000000.0</td>\n      <td>94680000000.0</td>\n      <td>57411000000.0</td>\n    </tr>\n    <tr>\n      <th>Tax Provision</th>\n      <td>16741000000.0</td>\n      <td>19300000000.0</td>\n      <td>14527000000.0</td>\n      <td>9680000000.0</td>\n    </tr>\n    <tr>\n      <th>Pretax Income</th>\n      <td>113736000000.0</td>\n      <td>119103000000.0</td>\n      <td>109207000000.0</td>\n      <td>67091000000.0</td>\n    </tr>\n    <tr>\n      <th>Other Income Expense</th>\n      <td>-382000000.0</td>\n      <td>-228000000.0</td>\n      <td>60000000.0</td>\n      <td>-87000000.0</td>\n    </tr>\n    <tr>\n      <th>Other Non Operating Income Expenses</th>\n      <td>-382000000.0</td>\n      <td>-228000000.0</td>\n      <td>60000000.0</td>\n      <td>-87000000.0</td>\n    </tr>\n    <tr>\n      <th>Net Non Operating Interest Income Expense</th>\n      <td>-183000000.0</td>\n      <td>-106000000.0</td>\n      <td>198000000.0</td>\n      <td>890000000.0</td>\n    </tr>\n    <tr>\n      <th>Interest Expense Non Operating</th>\n      <td>3933000000.0</td>\n      <td>2931000000.0</td>\n      <td>2645000000.0</td>\n      <td>2873000000.0</td>\n    </tr>\n    <tr>\n      <th>Interest Income Non Operating</th>\n      <td>3750000000.0</td>\n      <td>2825000000.0</td>\n      <td>2843000000.0</td>\n      <td>3763000000.0</td>\n    </tr>\n    <tr>\n      <th>Operating Income</th>\n      <td>114301000000.0</td>\n      <td>119437000000.0</td>\n      <td>108949000000.0</td>\n      <td>66288000000.0</td>\n    </tr>\n    <tr>\n      <th>Operating Expense</th>\n      <td>54847000000.0</td>\n      <td>51345000000.0</td>\n      <td>43887000000.0</td>\n      <td>38668000000.0</td>\n    </tr>\n    <tr>\n      <th>Research And Development</th>\n      <td>29915000000.0</td>\n      <td>26251000000.0</td>\n      <td>21914000000.0</td>\n      <td>18752000000.0</td>\n    </tr>\n    <tr>\n      <th>Selling General And Administration</th>\n      <td>24932000000.0</td>\n      <td>25094000000.0</td>\n      <td>21973000000.0</td>\n      <td>19916000000.0</td>\n    </tr>\n    <tr>\n      <th>Gross Profit</th>\n      <td>169148000000.0</td>\n      <td>170782000000.0</td>\n      <td>152836000000.0</td>\n      <td>104956000000.0</td>\n    </tr>\n    <tr>\n      <th>Cost Of Revenue</th>\n      <td>214137000000.0</td>\n      <td>223546000000.0</td>\n      <td>212981000000.0</td>\n      <td>169559000000.0</td>\n    </tr>\n    <tr>\n      <th>Total Revenue</th>\n      <td>383285000000.0</td>\n      <td>394328000000.0</td>\n      <td>365817000000.0</td>\n      <td>274515000000.0</td>\n    </tr>\n    <tr>\n      <th>Operating Revenue</th>\n      <td>383285000000.0</td>\n      <td>394328000000.0</td>\n      <td>365817000000.0</td>\n      <td>274515000000.0</td>\n    </tr>\n  </tbody>\n</table>\n</div>"
     },
     "execution_count": 132,
     "metadata": {},
     "output_type": "execute_result"
    }
   ],
   "source": [
    "financials= stock_data.financials\n",
    "financials"
   ],
   "metadata": {
    "collapsed": false
   }
  },
  {
   "cell_type": "markdown",
   "source": [
    "### 季度财务报表\n",
    "quarterly_financials: 获取公司季度财务报表"
   ],
   "metadata": {
    "collapsed": false
   }
  },
  {
   "cell_type": "code",
   "execution_count": 152,
   "outputs": [
    {
     "data": {
      "text/plain": "                                                       2024-03-31  \\\nTax Effect Of Unusual Items                                   0.0   \nTax Rate For Calcs                                          0.158   \nNormalized EBITDA                                   30736000000.0   \nNet Income From Continuing Operation Net Minori...  23636000000.0   \nReconciled Depreciation                              2836000000.0   \nReconciled Cost Of Revenue                          48482000000.0   \nEBITDA                                              30736000000.0   \nEBIT                                                27900000000.0   \nNet Interest Income                                           NaN   \nInterest Expense                                              NaN   \nInterest Income                                               NaN   \nNormalized Income                                   23636000000.0   \nNet Income From Continuing And Discontinued Ope...  23636000000.0   \nTotal Expenses                                      62853000000.0   \nTotal Operating Income As Reported                  27900000000.0   \nDiluted Average Shares                              15464709000.0   \nBasic Average Shares                                15405856000.0   \nDiluted EPS                                                  1.53   \nBasic EPS                                                    1.53   \nDiluted NI Availto Com Stockholders                 23636000000.0   \nNet Income Common Stockholders                      23636000000.0   \nNet Income                                          23636000000.0   \nNet Income Including Noncontrolling Interests       23636000000.0   \nNet Income Continuous Operations                    23636000000.0   \nTax Provision                                        4422000000.0   \nPretax Income                                       28058000000.0   \nOther Income Expense                                  158000000.0   \nOther Non Operating Income Expenses                   158000000.0   \nNet Non Operating Interest Income Expense                     NaN   \nInterest Expense Non Operating                                NaN   \nInterest Income Non Operating                                 NaN   \nOperating Income                                    27900000000.0   \nOperating Expense                                   14371000000.0   \nResearch And Development                             7903000000.0   \nSelling General And Administration                   6468000000.0   \nGross Profit                                        42271000000.0   \nCost Of Revenue                                     48482000000.0   \nTotal Revenue                                       90753000000.0   \nOperating Revenue                                   90753000000.0   \n\n                                                        2023-12-31  \\\nTax Effect Of Unusual Items                                    0.0   \nTax Rate For Calcs                                           0.159   \nNormalized EBITDA                                    43221000000.0   \nNet Income From Continuing Operation Net Minori...   33916000000.0   \nReconciled Depreciation                               2848000000.0   \nReconciled Cost Of Revenue                           64720000000.0   \nEBITDA                                               43221000000.0   \nEBIT                                                 40373000000.0   \nNet Interest Income                                            NaN   \nInterest Expense                                               NaN   \nInterest Income                                                NaN   \nNormalized Income                                    33916000000.0   \nNet Income From Continuing And Discontinued Ope...   33916000000.0   \nTotal Expenses                                       79202000000.0   \nTotal Operating Income As Reported                   40373000000.0   \nDiluted Average Shares                               15576641000.0   \nBasic Average Shares                                 15509763000.0   \nDiluted EPS                                                   2.18   \nBasic EPS                                                     2.19   \nDiluted NI Availto Com Stockholders                  33916000000.0   \nNet Income Common Stockholders                       33916000000.0   \nNet Income                                           33916000000.0   \nNet Income Including Noncontrolling Interests        33916000000.0   \nNet Income Continuous Operations                     33916000000.0   \nTax Provision                                         6407000000.0   \nPretax Income                                        40323000000.0   \nOther Income Expense                                   -50000000.0   \nOther Non Operating Income Expenses                    -50000000.0   \nNet Non Operating Interest Income Expense                      NaN   \nInterest Expense Non Operating                                 NaN   \nInterest Income Non Operating                                  NaN   \nOperating Income                                     40373000000.0   \nOperating Expense                                    14482000000.0   \nResearch And Development                              7696000000.0   \nSelling General And Administration                    6786000000.0   \nGross Profit                                         54855000000.0   \nCost Of Revenue                                      64720000000.0   \nTotal Revenue                                       119575000000.0   \nOperating Revenue                                   119575000000.0   \n\n                                                       2023-09-30  \\\nTax Effect Of Unusual Items                                   0.0   \nTax Rate For Calcs                                       0.149715   \nNormalized EBITDA                                   30653000000.0   \nNet Income From Continuing Operation Net Minori...  22956000000.0   \nReconciled Depreciation                              2653000000.0   \nReconciled Cost Of Revenue                          49071000000.0   \nEBITDA                                              30653000000.0   \nEBIT                                                28000000000.0   \nNet Interest Income                                   -18000000.0   \nInterest Expense                                     1002000000.0   \nInterest Income                                       984000000.0   \nNormalized Income                                   22956000000.0   \nNet Income From Continuing And Discontinued Ope...  22956000000.0   \nTotal Expenses                                      62529000000.0   \nTotal Operating Income As Reported                  26969000000.0   \nDiluted Average Shares                              15672400000.0   \nBasic Average Shares                                15599434000.0   \nDiluted EPS                                                  1.46   \nBasic EPS                                                    1.47   \nDiluted NI Availto Com Stockholders                 22956000000.0   \nNet Income Common Stockholders                      22956000000.0   \nNet Income                                          22956000000.0   \nNet Income Including Noncontrolling Interests       22956000000.0   \nNet Income Continuous Operations                    22956000000.0   \nTax Provision                                        4042000000.0   \nPretax Income                                       26998000000.0   \nOther Income Expense                                   47000000.0   \nOther Non Operating Income Expenses                    47000000.0   \nNet Non Operating Interest Income Expense             -18000000.0   \nInterest Expense Non Operating                       1002000000.0   \nInterest Income Non Operating                         984000000.0   \nOperating Income                                    26969000000.0   \nOperating Expense                                   13458000000.0   \nResearch And Development                             7307000000.0   \nSelling General And Administration                   6151000000.0   \nGross Profit                                        40427000000.0   \nCost Of Revenue                                     49071000000.0   \nTotal Revenue                                       89498000000.0   \nOperating Revenue                                   89498000000.0   \n\n                                                       2023-06-30  \\\nTax Effect Of Unusual Items                                   0.0   \nTax Rate For Calcs                                          0.125   \nNormalized EBITDA                                   26783000000.0   \nNet Income From Continuing Operation Net Minori...  19881000000.0   \nReconciled Depreciation                              3052000000.0   \nReconciled Cost Of Revenue                          45384000000.0   \nEBITDA                                              26783000000.0   \nEBIT                                                23731000000.0   \nNet Interest Income                                   -18000000.0   \nInterest Expense                                      998000000.0   \nInterest Income                                       980000000.0   \nNormalized Income                                   19881000000.0   \nNet Income From Continuing And Discontinued Ope...  19881000000.0   \nTotal Expenses                                      58799000000.0   \nTotal Operating Income As Reported                  22998000000.0   \nDiluted Average Shares                              15775021000.0   \nBasic Average Shares                                15697614000.0   \nDiluted EPS                                                  1.26   \nBasic EPS                                                    1.27   \nDiluted NI Availto Com Stockholders                 19881000000.0   \nNet Income Common Stockholders                      19881000000.0   \nNet Income                                          19881000000.0   \nNet Income Including Noncontrolling Interests       19881000000.0   \nNet Income Continuous Operations                    19881000000.0   \nTax Provision                                        2852000000.0   \nPretax Income                                       22733000000.0   \nOther Income Expense                                 -247000000.0   \nOther Non Operating Income Expenses                  -247000000.0   \nNet Non Operating Interest Income Expense             -18000000.0   \nInterest Expense Non Operating                        998000000.0   \nInterest Income Non Operating                         980000000.0   \nOperating Income                                    22998000000.0   \nOperating Expense                                   13415000000.0   \nResearch And Development                             7442000000.0   \nSelling General And Administration                   5973000000.0   \nGross Profit                                        36413000000.0   \nCost Of Revenue                                     45384000000.0   \nTotal Revenue                                       81797000000.0   \nOperating Revenue                                   81797000000.0   \n\n                                                       2023-03-31  \\\nTax Effect Of Unusual Items                                   0.0   \nTax Rate For Calcs                                          0.149   \nNormalized EBITDA                                   31216000000.0   \nNet Income From Continuing Operation Net Minori...  24160000000.0   \nReconciled Depreciation                              2898000000.0   \nReconciled Cost Of Revenue                          52860000000.0   \nEBITDA                                              31216000000.0   \nEBIT                                                28318000000.0   \nNet Interest Income                                   -12000000.0   \nInterest Expense                                      930000000.0   \nInterest Income                                       918000000.0   \nNormalized Income                                   24160000000.0   \nNet Income From Continuing And Discontinued Ope...  24160000000.0   \nTotal Expenses                                      66518000000.0   \nTotal Operating Income As Reported                  28318000000.0   \nDiluted Average Shares                              15847050000.0   \nBasic Average Shares                                15787154000.0   \nDiluted EPS                                                  1.52   \nBasic EPS                                                    1.53   \nDiluted NI Availto Com Stockholders                 24160000000.0   \nNet Income Common Stockholders                      24160000000.0   \nNet Income                                          24160000000.0   \nNet Income Including Noncontrolling Interests       24160000000.0   \nNet Income Continuous Operations                    24160000000.0   \nTax Provision                                        4222000000.0   \nPretax Income                                       28382000000.0   \nOther Income Expense                                   64000000.0   \nOther Non Operating Income Expenses                    64000000.0   \nNet Non Operating Interest Income Expense             -12000000.0   \nInterest Expense Non Operating                        930000000.0   \nInterest Income Non Operating                         918000000.0   \nOperating Income                                    28318000000.0   \nOperating Expense                                   13658000000.0   \nResearch And Development                             7457000000.0   \nSelling General And Administration                   6201000000.0   \nGross Profit                                        41976000000.0   \nCost Of Revenue                                     52860000000.0   \nTotal Revenue                                       94836000000.0   \nOperating Revenue                                   94836000000.0   \n\n                                                      2022-12-31   2022-09-30  \nTax Effect Of Unusual Items                                  NaN          NaN  \nTax Rate For Calcs                                           NaN          NaN  \nNormalized EBITDA                                            NaN          NaN  \nNet Income From Continuing Operation Net Minori...           NaN          NaN  \nReconciled Depreciation                                      NaN          NaN  \nReconciled Cost Of Revenue                                   NaN          NaN  \nEBITDA                                                       NaN          NaN  \nEBIT                                                         NaN          NaN  \nNet Interest Income                                 -135000000.0  -74000000.0  \nInterest Expense                                    1003000000.0  827000000.0  \nInterest Income                                      868000000.0  753000000.0  \nNormalized Income                                            NaN          NaN  \nNet Income From Continuing And Discontinued Ope...           NaN          NaN  \nTotal Expenses                                               NaN          NaN  \nTotal Operating Income As Reported                           NaN          NaN  \nDiluted Average Shares                                       NaN          NaN  \nBasic Average Shares                                         NaN          NaN  \nDiluted EPS                                                  NaN          NaN  \nBasic EPS                                                    NaN          NaN  \nDiluted NI Availto Com Stockholders                          NaN          NaN  \nNet Income Common Stockholders                               NaN          NaN  \nNet Income                                                   NaN          NaN  \nNet Income Including Noncontrolling Interests                NaN          NaN  \nNet Income Continuous Operations                             NaN          NaN  \nTax Provision                                                NaN          NaN  \nPretax Income                                                NaN          NaN  \nOther Income Expense                                         NaN          NaN  \nOther Non Operating Income Expenses                          NaN          NaN  \nNet Non Operating Interest Income Expense           -135000000.0  -74000000.0  \nInterest Expense Non Operating                      1003000000.0  827000000.0  \nInterest Income Non Operating                        868000000.0  753000000.0  \nOperating Income                                             NaN          NaN  \nOperating Expense                                            NaN          NaN  \nResearch And Development                                     NaN          NaN  \nSelling General And Administration                           NaN          NaN  \nGross Profit                                                 NaN          NaN  \nCost Of Revenue                                              NaN          NaN  \nTotal Revenue                                                NaN          NaN  \nOperating Revenue                                            NaN          NaN  ",
      "text/html": "<div>\n<style scoped>\n    .dataframe tbody tr th:only-of-type {\n        vertical-align: middle;\n    }\n\n    .dataframe tbody tr th {\n        vertical-align: top;\n    }\n\n    .dataframe thead th {\n        text-align: right;\n    }\n</style>\n<table border=\"1\" class=\"dataframe\">\n  <thead>\n    <tr style=\"text-align: right;\">\n      <th></th>\n      <th>2024-03-31</th>\n      <th>2023-12-31</th>\n      <th>2023-09-30</th>\n      <th>2023-06-30</th>\n      <th>2023-03-31</th>\n      <th>2022-12-31</th>\n      <th>2022-09-30</th>\n    </tr>\n  </thead>\n  <tbody>\n    <tr>\n      <th>Tax Effect Of Unusual Items</th>\n      <td>0.0</td>\n      <td>0.0</td>\n      <td>0.0</td>\n      <td>0.0</td>\n      <td>0.0</td>\n      <td>NaN</td>\n      <td>NaN</td>\n    </tr>\n    <tr>\n      <th>Tax Rate For Calcs</th>\n      <td>0.158</td>\n      <td>0.159</td>\n      <td>0.149715</td>\n      <td>0.125</td>\n      <td>0.149</td>\n      <td>NaN</td>\n      <td>NaN</td>\n    </tr>\n    <tr>\n      <th>Normalized EBITDA</th>\n      <td>30736000000.0</td>\n      <td>43221000000.0</td>\n      <td>30653000000.0</td>\n      <td>26783000000.0</td>\n      <td>31216000000.0</td>\n      <td>NaN</td>\n      <td>NaN</td>\n    </tr>\n    <tr>\n      <th>Net Income From Continuing Operation Net Minority Interest</th>\n      <td>23636000000.0</td>\n      <td>33916000000.0</td>\n      <td>22956000000.0</td>\n      <td>19881000000.0</td>\n      <td>24160000000.0</td>\n      <td>NaN</td>\n      <td>NaN</td>\n    </tr>\n    <tr>\n      <th>Reconciled Depreciation</th>\n      <td>2836000000.0</td>\n      <td>2848000000.0</td>\n      <td>2653000000.0</td>\n      <td>3052000000.0</td>\n      <td>2898000000.0</td>\n      <td>NaN</td>\n      <td>NaN</td>\n    </tr>\n    <tr>\n      <th>Reconciled Cost Of Revenue</th>\n      <td>48482000000.0</td>\n      <td>64720000000.0</td>\n      <td>49071000000.0</td>\n      <td>45384000000.0</td>\n      <td>52860000000.0</td>\n      <td>NaN</td>\n      <td>NaN</td>\n    </tr>\n    <tr>\n      <th>EBITDA</th>\n      <td>30736000000.0</td>\n      <td>43221000000.0</td>\n      <td>30653000000.0</td>\n      <td>26783000000.0</td>\n      <td>31216000000.0</td>\n      <td>NaN</td>\n      <td>NaN</td>\n    </tr>\n    <tr>\n      <th>EBIT</th>\n      <td>27900000000.0</td>\n      <td>40373000000.0</td>\n      <td>28000000000.0</td>\n      <td>23731000000.0</td>\n      <td>28318000000.0</td>\n      <td>NaN</td>\n      <td>NaN</td>\n    </tr>\n    <tr>\n      <th>Net Interest Income</th>\n      <td>NaN</td>\n      <td>NaN</td>\n      <td>-18000000.0</td>\n      <td>-18000000.0</td>\n      <td>-12000000.0</td>\n      <td>-135000000.0</td>\n      <td>-74000000.0</td>\n    </tr>\n    <tr>\n      <th>Interest Expense</th>\n      <td>NaN</td>\n      <td>NaN</td>\n      <td>1002000000.0</td>\n      <td>998000000.0</td>\n      <td>930000000.0</td>\n      <td>1003000000.0</td>\n      <td>827000000.0</td>\n    </tr>\n    <tr>\n      <th>Interest Income</th>\n      <td>NaN</td>\n      <td>NaN</td>\n      <td>984000000.0</td>\n      <td>980000000.0</td>\n      <td>918000000.0</td>\n      <td>868000000.0</td>\n      <td>753000000.0</td>\n    </tr>\n    <tr>\n      <th>Normalized Income</th>\n      <td>23636000000.0</td>\n      <td>33916000000.0</td>\n      <td>22956000000.0</td>\n      <td>19881000000.0</td>\n      <td>24160000000.0</td>\n      <td>NaN</td>\n      <td>NaN</td>\n    </tr>\n    <tr>\n      <th>Net Income From Continuing And Discontinued Operation</th>\n      <td>23636000000.0</td>\n      <td>33916000000.0</td>\n      <td>22956000000.0</td>\n      <td>19881000000.0</td>\n      <td>24160000000.0</td>\n      <td>NaN</td>\n      <td>NaN</td>\n    </tr>\n    <tr>\n      <th>Total Expenses</th>\n      <td>62853000000.0</td>\n      <td>79202000000.0</td>\n      <td>62529000000.0</td>\n      <td>58799000000.0</td>\n      <td>66518000000.0</td>\n      <td>NaN</td>\n      <td>NaN</td>\n    </tr>\n    <tr>\n      <th>Total Operating Income As Reported</th>\n      <td>27900000000.0</td>\n      <td>40373000000.0</td>\n      <td>26969000000.0</td>\n      <td>22998000000.0</td>\n      <td>28318000000.0</td>\n      <td>NaN</td>\n      <td>NaN</td>\n    </tr>\n    <tr>\n      <th>Diluted Average Shares</th>\n      <td>15464709000.0</td>\n      <td>15576641000.0</td>\n      <td>15672400000.0</td>\n      <td>15775021000.0</td>\n      <td>15847050000.0</td>\n      <td>NaN</td>\n      <td>NaN</td>\n    </tr>\n    <tr>\n      <th>Basic Average Shares</th>\n      <td>15405856000.0</td>\n      <td>15509763000.0</td>\n      <td>15599434000.0</td>\n      <td>15697614000.0</td>\n      <td>15787154000.0</td>\n      <td>NaN</td>\n      <td>NaN</td>\n    </tr>\n    <tr>\n      <th>Diluted EPS</th>\n      <td>1.53</td>\n      <td>2.18</td>\n      <td>1.46</td>\n      <td>1.26</td>\n      <td>1.52</td>\n      <td>NaN</td>\n      <td>NaN</td>\n    </tr>\n    <tr>\n      <th>Basic EPS</th>\n      <td>1.53</td>\n      <td>2.19</td>\n      <td>1.47</td>\n      <td>1.27</td>\n      <td>1.53</td>\n      <td>NaN</td>\n      <td>NaN</td>\n    </tr>\n    <tr>\n      <th>Diluted NI Availto Com Stockholders</th>\n      <td>23636000000.0</td>\n      <td>33916000000.0</td>\n      <td>22956000000.0</td>\n      <td>19881000000.0</td>\n      <td>24160000000.0</td>\n      <td>NaN</td>\n      <td>NaN</td>\n    </tr>\n    <tr>\n      <th>Net Income Common Stockholders</th>\n      <td>23636000000.0</td>\n      <td>33916000000.0</td>\n      <td>22956000000.0</td>\n      <td>19881000000.0</td>\n      <td>24160000000.0</td>\n      <td>NaN</td>\n      <td>NaN</td>\n    </tr>\n    <tr>\n      <th>Net Income</th>\n      <td>23636000000.0</td>\n      <td>33916000000.0</td>\n      <td>22956000000.0</td>\n      <td>19881000000.0</td>\n      <td>24160000000.0</td>\n      <td>NaN</td>\n      <td>NaN</td>\n    </tr>\n    <tr>\n      <th>Net Income Including Noncontrolling Interests</th>\n      <td>23636000000.0</td>\n      <td>33916000000.0</td>\n      <td>22956000000.0</td>\n      <td>19881000000.0</td>\n      <td>24160000000.0</td>\n      <td>NaN</td>\n      <td>NaN</td>\n    </tr>\n    <tr>\n      <th>Net Income Continuous Operations</th>\n      <td>23636000000.0</td>\n      <td>33916000000.0</td>\n      <td>22956000000.0</td>\n      <td>19881000000.0</td>\n      <td>24160000000.0</td>\n      <td>NaN</td>\n      <td>NaN</td>\n    </tr>\n    <tr>\n      <th>Tax Provision</th>\n      <td>4422000000.0</td>\n      <td>6407000000.0</td>\n      <td>4042000000.0</td>\n      <td>2852000000.0</td>\n      <td>4222000000.0</td>\n      <td>NaN</td>\n      <td>NaN</td>\n    </tr>\n    <tr>\n      <th>Pretax Income</th>\n      <td>28058000000.0</td>\n      <td>40323000000.0</td>\n      <td>26998000000.0</td>\n      <td>22733000000.0</td>\n      <td>28382000000.0</td>\n      <td>NaN</td>\n      <td>NaN</td>\n    </tr>\n    <tr>\n      <th>Other Income Expense</th>\n      <td>158000000.0</td>\n      <td>-50000000.0</td>\n      <td>47000000.0</td>\n      <td>-247000000.0</td>\n      <td>64000000.0</td>\n      <td>NaN</td>\n      <td>NaN</td>\n    </tr>\n    <tr>\n      <th>Other Non Operating Income Expenses</th>\n      <td>158000000.0</td>\n      <td>-50000000.0</td>\n      <td>47000000.0</td>\n      <td>-247000000.0</td>\n      <td>64000000.0</td>\n      <td>NaN</td>\n      <td>NaN</td>\n    </tr>\n    <tr>\n      <th>Net Non Operating Interest Income Expense</th>\n      <td>NaN</td>\n      <td>NaN</td>\n      <td>-18000000.0</td>\n      <td>-18000000.0</td>\n      <td>-12000000.0</td>\n      <td>-135000000.0</td>\n      <td>-74000000.0</td>\n    </tr>\n    <tr>\n      <th>Interest Expense Non Operating</th>\n      <td>NaN</td>\n      <td>NaN</td>\n      <td>1002000000.0</td>\n      <td>998000000.0</td>\n      <td>930000000.0</td>\n      <td>1003000000.0</td>\n      <td>827000000.0</td>\n    </tr>\n    <tr>\n      <th>Interest Income Non Operating</th>\n      <td>NaN</td>\n      <td>NaN</td>\n      <td>984000000.0</td>\n      <td>980000000.0</td>\n      <td>918000000.0</td>\n      <td>868000000.0</td>\n      <td>753000000.0</td>\n    </tr>\n    <tr>\n      <th>Operating Income</th>\n      <td>27900000000.0</td>\n      <td>40373000000.0</td>\n      <td>26969000000.0</td>\n      <td>22998000000.0</td>\n      <td>28318000000.0</td>\n      <td>NaN</td>\n      <td>NaN</td>\n    </tr>\n    <tr>\n      <th>Operating Expense</th>\n      <td>14371000000.0</td>\n      <td>14482000000.0</td>\n      <td>13458000000.0</td>\n      <td>13415000000.0</td>\n      <td>13658000000.0</td>\n      <td>NaN</td>\n      <td>NaN</td>\n    </tr>\n    <tr>\n      <th>Research And Development</th>\n      <td>7903000000.0</td>\n      <td>7696000000.0</td>\n      <td>7307000000.0</td>\n      <td>7442000000.0</td>\n      <td>7457000000.0</td>\n      <td>NaN</td>\n      <td>NaN</td>\n    </tr>\n    <tr>\n      <th>Selling General And Administration</th>\n      <td>6468000000.0</td>\n      <td>6786000000.0</td>\n      <td>6151000000.0</td>\n      <td>5973000000.0</td>\n      <td>6201000000.0</td>\n      <td>NaN</td>\n      <td>NaN</td>\n    </tr>\n    <tr>\n      <th>Gross Profit</th>\n      <td>42271000000.0</td>\n      <td>54855000000.0</td>\n      <td>40427000000.0</td>\n      <td>36413000000.0</td>\n      <td>41976000000.0</td>\n      <td>NaN</td>\n      <td>NaN</td>\n    </tr>\n    <tr>\n      <th>Cost Of Revenue</th>\n      <td>48482000000.0</td>\n      <td>64720000000.0</td>\n      <td>49071000000.0</td>\n      <td>45384000000.0</td>\n      <td>52860000000.0</td>\n      <td>NaN</td>\n      <td>NaN</td>\n    </tr>\n    <tr>\n      <th>Total Revenue</th>\n      <td>90753000000.0</td>\n      <td>119575000000.0</td>\n      <td>89498000000.0</td>\n      <td>81797000000.0</td>\n      <td>94836000000.0</td>\n      <td>NaN</td>\n      <td>NaN</td>\n    </tr>\n    <tr>\n      <th>Operating Revenue</th>\n      <td>90753000000.0</td>\n      <td>119575000000.0</td>\n      <td>89498000000.0</td>\n      <td>81797000000.0</td>\n      <td>94836000000.0</td>\n      <td>NaN</td>\n      <td>NaN</td>\n    </tr>\n  </tbody>\n</table>\n</div>"
     },
     "execution_count": 152,
     "metadata": {},
     "output_type": "execute_result"
    }
   ],
   "source": [
    "quarterly_financials = stock_data.quarterly_financials\n",
    "quarterly_financials"
   ],
   "metadata": {
    "collapsed": false
   }
  },
  {
   "cell_type": "markdown",
   "source": [
    "### 资产负债表 balance sheets"
   ],
   "metadata": {
    "collapsed": false
   }
  },
  {
   "cell_type": "code",
   "execution_count": 134,
   "outputs": [
    {
     "data": {
      "text/plain": "                                                      2023-09-30  \\\nTreasury Shares Number                                       0.0   \nOrdinary Shares Number                             15550061000.0   \nShare Issued                                       15550061000.0   \nNet Debt                                           81123000000.0   \nTotal Debt                                        111088000000.0   \n...                                                          ...   \nCash Cash Equivalents And Short Term Investments   61555000000.0   \nOther Short Term Investments                       31590000000.0   \nCash And Cash Equivalents                          29965000000.0   \nCash Equivalents                                    1606000000.0   \nCash Financial                                     28359000000.0   \n\n                                                      2022-09-30  \\\nTreasury Shares Number                                       NaN   \nOrdinary Shares Number                             15943425000.0   \nShare Issued                                       15943425000.0   \nNet Debt                                           96423000000.0   \nTotal Debt                                        120069000000.0   \n...                                                          ...   \nCash Cash Equivalents And Short Term Investments   48304000000.0   \nOther Short Term Investments                       24658000000.0   \nCash And Cash Equivalents                          23646000000.0   \nCash Equivalents                                    5100000000.0   \nCash Financial                                     18546000000.0   \n\n                                                      2021-09-30  \\\nTreasury Shares Number                                       NaN   \nOrdinary Shares Number                             16426786000.0   \nShare Issued                                       16426786000.0   \nNet Debt                                           89779000000.0   \nTotal Debt                                        124719000000.0   \n...                                                          ...   \nCash Cash Equivalents And Short Term Investments   62639000000.0   \nOther Short Term Investments                       27699000000.0   \nCash And Cash Equivalents                          34940000000.0   \nCash Equivalents                                   17635000000.0   \nCash Financial                                     17305000000.0   \n\n                                                      2020-09-30 2019-09-30  \nTreasury Shares Number                                       NaN        NaN  \nOrdinary Shares Number                             16976763000.0        NaN  \nShare Issued                                       16976763000.0        NaN  \nNet Debt                                           74420000000.0        NaN  \nTotal Debt                                        112436000000.0        NaN  \n...                                                          ...        ...  \nCash Cash Equivalents And Short Term Investments   90943000000.0        NaN  \nOther Short Term Investments                       52927000000.0        NaN  \nCash And Cash Equivalents                          38016000000.0        NaN  \nCash Equivalents                                   20243000000.0        NaN  \nCash Financial                                     17773000000.0        NaN  \n\n[62 rows x 5 columns]",
      "text/html": "<div>\n<style scoped>\n    .dataframe tbody tr th:only-of-type {\n        vertical-align: middle;\n    }\n\n    .dataframe tbody tr th {\n        vertical-align: top;\n    }\n\n    .dataframe thead th {\n        text-align: right;\n    }\n</style>\n<table border=\"1\" class=\"dataframe\">\n  <thead>\n    <tr style=\"text-align: right;\">\n      <th></th>\n      <th>2023-09-30</th>\n      <th>2022-09-30</th>\n      <th>2021-09-30</th>\n      <th>2020-09-30</th>\n      <th>2019-09-30</th>\n    </tr>\n  </thead>\n  <tbody>\n    <tr>\n      <th>Treasury Shares Number</th>\n      <td>0.0</td>\n      <td>NaN</td>\n      <td>NaN</td>\n      <td>NaN</td>\n      <td>NaN</td>\n    </tr>\n    <tr>\n      <th>Ordinary Shares Number</th>\n      <td>15550061000.0</td>\n      <td>15943425000.0</td>\n      <td>16426786000.0</td>\n      <td>16976763000.0</td>\n      <td>NaN</td>\n    </tr>\n    <tr>\n      <th>Share Issued</th>\n      <td>15550061000.0</td>\n      <td>15943425000.0</td>\n      <td>16426786000.0</td>\n      <td>16976763000.0</td>\n      <td>NaN</td>\n    </tr>\n    <tr>\n      <th>Net Debt</th>\n      <td>81123000000.0</td>\n      <td>96423000000.0</td>\n      <td>89779000000.0</td>\n      <td>74420000000.0</td>\n      <td>NaN</td>\n    </tr>\n    <tr>\n      <th>Total Debt</th>\n      <td>111088000000.0</td>\n      <td>120069000000.0</td>\n      <td>124719000000.0</td>\n      <td>112436000000.0</td>\n      <td>NaN</td>\n    </tr>\n    <tr>\n      <th>...</th>\n      <td>...</td>\n      <td>...</td>\n      <td>...</td>\n      <td>...</td>\n      <td>...</td>\n    </tr>\n    <tr>\n      <th>Cash Cash Equivalents And Short Term Investments</th>\n      <td>61555000000.0</td>\n      <td>48304000000.0</td>\n      <td>62639000000.0</td>\n      <td>90943000000.0</td>\n      <td>NaN</td>\n    </tr>\n    <tr>\n      <th>Other Short Term Investments</th>\n      <td>31590000000.0</td>\n      <td>24658000000.0</td>\n      <td>27699000000.0</td>\n      <td>52927000000.0</td>\n      <td>NaN</td>\n    </tr>\n    <tr>\n      <th>Cash And Cash Equivalents</th>\n      <td>29965000000.0</td>\n      <td>23646000000.0</td>\n      <td>34940000000.0</td>\n      <td>38016000000.0</td>\n      <td>NaN</td>\n    </tr>\n    <tr>\n      <th>Cash Equivalents</th>\n      <td>1606000000.0</td>\n      <td>5100000000.0</td>\n      <td>17635000000.0</td>\n      <td>20243000000.0</td>\n      <td>NaN</td>\n    </tr>\n    <tr>\n      <th>Cash Financial</th>\n      <td>28359000000.0</td>\n      <td>18546000000.0</td>\n      <td>17305000000.0</td>\n      <td>17773000000.0</td>\n      <td>NaN</td>\n    </tr>\n  </tbody>\n</table>\n<p>62 rows × 5 columns</p>\n</div>"
     },
     "execution_count": 134,
     "metadata": {},
     "output_type": "execute_result"
    }
   ],
   "source": [
    "balance_sheet = stock_data.balance_sheet\n",
    "balance_sheet"
   ],
   "metadata": {
    "collapsed": false
   }
  },
  {
   "cell_type": "markdown",
   "source": [
    "### 现金流量表 cash flow statement"
   ],
   "metadata": {
    "collapsed": false
   }
  },
  {
   "cell_type": "code",
   "execution_count": 135,
   "outputs": [
    {
     "data": {
      "text/plain": "                                                    2023-09-30  \\\nFree Cash Flow                                   99584000000.0   \nRepurchase Of Capital Stock                     -77550000000.0   \nRepayment Of Debt                               -11151000000.0   \nIssuance Of Debt                                  5228000000.0   \nIssuance Of Capital Stock                                  NaN   \nCapital Expenditure                             -10959000000.0   \nInterest Paid Supplemental Data                   3803000000.0   \nIncome Tax Paid Supplemental Data                18679000000.0   \nEnd Cash Position                                30737000000.0   \nBeginning Cash Position                          24977000000.0   \nChanges In Cash                                   5760000000.0   \nFinancing Cash Flow                            -108488000000.0   \nCash Flow From Continuing Financing Activities -108488000000.0   \nNet Other Financing Charges                      -6012000000.0   \nCash Dividends Paid                             -15025000000.0   \nCommon Stock Dividend Paid                      -15025000000.0   \nNet Common Stock Issuance                       -77550000000.0   \nCommon Stock Payments                           -77550000000.0   \nCommon Stock Issuance                                      NaN   \nNet Issuance Payments Of Debt                    -9901000000.0   \nNet Short Term Debt Issuance                     -3978000000.0   \nNet Long Term Debt Issuance                      -5923000000.0   \nLong Term Debt Payments                         -11151000000.0   \nLong Term Debt Issuance                           5228000000.0   \nInvesting Cash Flow                               3705000000.0   \nCash Flow From Continuing Investing Activities    3705000000.0   \nNet Other Investing Changes                      -1337000000.0   \nNet Investment Purchase And Sale                 16001000000.0   \nSale Of Investment                               45514000000.0   \nPurchase Of Investment                          -29513000000.0   \nNet Business Purchase And Sale                             NaN   \nPurchase Of Business                                       NaN   \nNet PPE Purchase And Sale                       -10959000000.0   \nPurchase Of PPE                                 -10959000000.0   \nOperating Cash Flow                             110543000000.0   \nCash Flow From Continuing Operating Activities  110543000000.0   \nChange In Working Capital                        -6577000000.0   \nChange In Other Working Capital                            NaN   \nChange In Other Current Liabilities               3031000000.0   \nChange In Other Current Assets                   -5684000000.0   \nChange In Payables And Accrued Expense           -1889000000.0   \nChange In Payable                                -1889000000.0   \nChange In Account Payable                        -1889000000.0   \nChange In Inventory                              -1618000000.0   \nChange In Receivables                             -417000000.0   \nChanges In Account Receivables                   -1688000000.0   \nOther Non Cash Items                             -2227000000.0   \nStock Based Compensation                         10833000000.0   \nDeferred Tax                                               NaN   \nDeferred Income Tax                                        NaN   \nDepreciation Amortization Depletion              11519000000.0   \nDepreciation And Amortization                    11519000000.0   \nNet Income From Continuing Operations            96995000000.0   \n\n                                                    2022-09-30  \\\nFree Cash Flow                                  111443000000.0   \nRepurchase Of Capital Stock                     -89402000000.0   \nRepayment Of Debt                                -9543000000.0   \nIssuance Of Debt                                  5465000000.0   \nIssuance Of Capital Stock                                  NaN   \nCapital Expenditure                             -10708000000.0   \nInterest Paid Supplemental Data                   2865000000.0   \nIncome Tax Paid Supplemental Data                19573000000.0   \nEnd Cash Position                                24977000000.0   \nBeginning Cash Position                          35929000000.0   \nChanges In Cash                                 -10952000000.0   \nFinancing Cash Flow                            -110749000000.0   \nCash Flow From Continuing Financing Activities -110749000000.0   \nNet Other Financing Charges                      -6383000000.0   \nCash Dividends Paid                             -14841000000.0   \nCommon Stock Dividend Paid                      -14841000000.0   \nNet Common Stock Issuance                       -89402000000.0   \nCommon Stock Payments                           -89402000000.0   \nCommon Stock Issuance                                      NaN   \nNet Issuance Payments Of Debt                     -123000000.0   \nNet Short Term Debt Issuance                      3955000000.0   \nNet Long Term Debt Issuance                      -4078000000.0   \nLong Term Debt Payments                          -9543000000.0   \nLong Term Debt Issuance                           5465000000.0   \nInvesting Cash Flow                             -22354000000.0   \nCash Flow From Continuing Investing Activities  -22354000000.0   \nNet Other Investing Changes                      -2086000000.0   \nNet Investment Purchase And Sale                 -9560000000.0   \nSale Of Investment                               67363000000.0   \nPurchase Of Investment                          -76923000000.0   \nNet Business Purchase And Sale                    -306000000.0   \nPurchase Of Business                              -306000000.0   \nNet PPE Purchase And Sale                       -10708000000.0   \nPurchase Of PPE                                 -10708000000.0   \nOperating Cash Flow                             122151000000.0   \nCash Flow From Continuing Operating Activities  122151000000.0   \nChange In Working Capital                         1200000000.0   \nChange In Other Working Capital                    478000000.0   \nChange In Other Current Liabilities               6110000000.0   \nChange In Other Current Assets                   -6499000000.0   \nChange In Payables And Accrued Expense            9448000000.0   \nChange In Payable                                 9448000000.0   \nChange In Account Payable                         9448000000.0   \nChange In Inventory                               1484000000.0   \nChange In Receivables                            -9343000000.0   \nChanges In Account Receivables                   -1823000000.0   \nOther Non Cash Items                              1006000000.0   \nStock Based Compensation                          9038000000.0   \nDeferred Tax                                       895000000.0   \nDeferred Income Tax                                895000000.0   \nDepreciation Amortization Depletion              11104000000.0   \nDepreciation And Amortization                    11104000000.0   \nNet Income From Continuing Operations            99803000000.0   \n\n                                                    2021-09-30  \\\nFree Cash Flow                                   92953000000.0   \nRepurchase Of Capital Stock                     -85971000000.0   \nRepayment Of Debt                                -8750000000.0   \nIssuance Of Debt                                 20393000000.0   \nIssuance Of Capital Stock                         1105000000.0   \nCapital Expenditure                             -11085000000.0   \nInterest Paid Supplemental Data                   2687000000.0   \nIncome Tax Paid Supplemental Data                25385000000.0   \nEnd Cash Position                                35929000000.0   \nBeginning Cash Position                          39789000000.0   \nChanges In Cash                                  -3860000000.0   \nFinancing Cash Flow                             -93353000000.0   \nCash Flow From Continuing Financing Activities  -93353000000.0   \nNet Other Financing Charges                      -5580000000.0   \nCash Dividends Paid                             -14467000000.0   \nCommon Stock Dividend Paid                      -14467000000.0   \nNet Common Stock Issuance                       -85971000000.0   \nCommon Stock Payments                           -85971000000.0   \nCommon Stock Issuance                             1105000000.0   \nNet Issuance Payments Of Debt                    12665000000.0   \nNet Short Term Debt Issuance                      1022000000.0   \nNet Long Term Debt Issuance                      11643000000.0   \nLong Term Debt Payments                          -8750000000.0   \nLong Term Debt Issuance                          20393000000.0   \nInvesting Cash Flow                             -14545000000.0   \nCash Flow From Continuing Investing Activities  -14545000000.0   \nNet Other Investing Changes                       -385000000.0   \nNet Investment Purchase And Sale                 -3075000000.0   \nSale Of Investment                              106483000000.0   \nPurchase Of Investment                         -109558000000.0   \nNet Business Purchase And Sale                     -33000000.0   \nPurchase Of Business                               -33000000.0   \nNet PPE Purchase And Sale                       -11085000000.0   \nPurchase Of PPE                                 -11085000000.0   \nOperating Cash Flow                             104038000000.0   \nCash Flow From Continuing Operating Activities  104038000000.0   \nChange In Working Capital                        -4911000000.0   \nChange In Other Working Capital                   1676000000.0   \nChange In Other Current Liabilities               7475000000.0   \nChange In Other Current Assets                   -8042000000.0   \nChange In Payables And Accrued Expense           12326000000.0   \nChange In Payable                                12326000000.0   \nChange In Account Payable                        12326000000.0   \nChange In Inventory                              -2642000000.0   \nChange In Receivables                           -14028000000.0   \nChanges In Account Receivables                  -10125000000.0   \nOther Non Cash Items                             -4921000000.0   \nStock Based Compensation                          7906000000.0   \nDeferred Tax                                     -4774000000.0   \nDeferred Income Tax                              -4774000000.0   \nDepreciation Amortization Depletion              11284000000.0   \nDepreciation And Amortization                    11284000000.0   \nNet Income From Continuing Operations            94680000000.0   \n\n                                                    2020-09-30   2019-09-30  \nFree Cash Flow                                   73365000000.0          NaN  \nRepurchase Of Capital Stock                     -72358000000.0          NaN  \nRepayment Of Debt                               -12629000000.0          NaN  \nIssuance Of Debt                                 16091000000.0          NaN  \nIssuance Of Capital Stock                          880000000.0  781000000.0  \nCapital Expenditure                              -7309000000.0          NaN  \nInterest Paid Supplemental Data                   3002000000.0          NaN  \nIncome Tax Paid Supplemental Data                 9501000000.0          NaN  \nEnd Cash Position                                39789000000.0          NaN  \nBeginning Cash Position                          50224000000.0          NaN  \nChanges In Cash                                 -10435000000.0          NaN  \nFinancing Cash Flow                             -86820000000.0          NaN  \nCash Flow From Continuing Financing Activities  -86820000000.0          NaN  \nNet Other Financing Charges                      -2880000000.0          NaN  \nCash Dividends Paid                             -14081000000.0          NaN  \nCommon Stock Dividend Paid                      -14081000000.0          NaN  \nNet Common Stock Issuance                       -72358000000.0          NaN  \nCommon Stock Payments                           -72358000000.0          NaN  \nCommon Stock Issuance                              880000000.0  781000000.0  \nNet Issuance Payments Of Debt                     2499000000.0          NaN  \nNet Short Term Debt Issuance                      -963000000.0          NaN  \nNet Long Term Debt Issuance                       3462000000.0          NaN  \nLong Term Debt Payments                         -12629000000.0          NaN  \nLong Term Debt Issuance                          16091000000.0          NaN  \nInvesting Cash Flow                              -4289000000.0          NaN  \nCash Flow From Continuing Investing Activities   -4289000000.0          NaN  \nNet Other Investing Changes                       -909000000.0          NaN  \nNet Investment Purchase And Sale                  5453000000.0          NaN  \nSale Of Investment                              120391000000.0          NaN  \nPurchase Of Investment                         -114938000000.0          NaN  \nNet Business Purchase And Sale                   -1524000000.0 -624000000.0  \nPurchase Of Business                             -1524000000.0 -624000000.0  \nNet PPE Purchase And Sale                        -7309000000.0          NaN  \nPurchase Of PPE                                  -7309000000.0          NaN  \nOperating Cash Flow                              80674000000.0          NaN  \nCash Flow From Continuing Operating Activities   80674000000.0          NaN  \nChange In Working Capital                         5690000000.0          NaN  \nChange In Other Working Capital                   2081000000.0 -625000000.0  \nChange In Other Current Liabilities               8916000000.0          NaN  \nChange In Other Current Assets                   -9588000000.0          NaN  \nChange In Payables And Accrued Expense           -4062000000.0          NaN  \nChange In Payable                                -4062000000.0          NaN  \nChange In Account Payable                        -4062000000.0          NaN  \nChange In Inventory                               -127000000.0          NaN  \nChange In Receivables                             8470000000.0          NaN  \nChanges In Account Receivables                    6917000000.0          NaN  \nOther Non Cash Items                               -97000000.0          NaN  \nStock Based Compensation                          6829000000.0          NaN  \nDeferred Tax                                      -215000000.0 -340000000.0  \nDeferred Income Tax                               -215000000.0 -340000000.0  \nDepreciation Amortization Depletion              11056000000.0          NaN  \nDepreciation And Amortization                    11056000000.0          NaN  \nNet Income From Continuing Operations            57411000000.0          NaN  ",
      "text/html": "<div>\n<style scoped>\n    .dataframe tbody tr th:only-of-type {\n        vertical-align: middle;\n    }\n\n    .dataframe tbody tr th {\n        vertical-align: top;\n    }\n\n    .dataframe thead th {\n        text-align: right;\n    }\n</style>\n<table border=\"1\" class=\"dataframe\">\n  <thead>\n    <tr style=\"text-align: right;\">\n      <th></th>\n      <th>2023-09-30</th>\n      <th>2022-09-30</th>\n      <th>2021-09-30</th>\n      <th>2020-09-30</th>\n      <th>2019-09-30</th>\n    </tr>\n  </thead>\n  <tbody>\n    <tr>\n      <th>Free Cash Flow</th>\n      <td>99584000000.0</td>\n      <td>111443000000.0</td>\n      <td>92953000000.0</td>\n      <td>73365000000.0</td>\n      <td>NaN</td>\n    </tr>\n    <tr>\n      <th>Repurchase Of Capital Stock</th>\n      <td>-77550000000.0</td>\n      <td>-89402000000.0</td>\n      <td>-85971000000.0</td>\n      <td>-72358000000.0</td>\n      <td>NaN</td>\n    </tr>\n    <tr>\n      <th>Repayment Of Debt</th>\n      <td>-11151000000.0</td>\n      <td>-9543000000.0</td>\n      <td>-8750000000.0</td>\n      <td>-12629000000.0</td>\n      <td>NaN</td>\n    </tr>\n    <tr>\n      <th>Issuance Of Debt</th>\n      <td>5228000000.0</td>\n      <td>5465000000.0</td>\n      <td>20393000000.0</td>\n      <td>16091000000.0</td>\n      <td>NaN</td>\n    </tr>\n    <tr>\n      <th>Issuance Of Capital Stock</th>\n      <td>NaN</td>\n      <td>NaN</td>\n      <td>1105000000.0</td>\n      <td>880000000.0</td>\n      <td>781000000.0</td>\n    </tr>\n    <tr>\n      <th>Capital Expenditure</th>\n      <td>-10959000000.0</td>\n      <td>-10708000000.0</td>\n      <td>-11085000000.0</td>\n      <td>-7309000000.0</td>\n      <td>NaN</td>\n    </tr>\n    <tr>\n      <th>Interest Paid Supplemental Data</th>\n      <td>3803000000.0</td>\n      <td>2865000000.0</td>\n      <td>2687000000.0</td>\n      <td>3002000000.0</td>\n      <td>NaN</td>\n    </tr>\n    <tr>\n      <th>Income Tax Paid Supplemental Data</th>\n      <td>18679000000.0</td>\n      <td>19573000000.0</td>\n      <td>25385000000.0</td>\n      <td>9501000000.0</td>\n      <td>NaN</td>\n    </tr>\n    <tr>\n      <th>End Cash Position</th>\n      <td>30737000000.0</td>\n      <td>24977000000.0</td>\n      <td>35929000000.0</td>\n      <td>39789000000.0</td>\n      <td>NaN</td>\n    </tr>\n    <tr>\n      <th>Beginning Cash Position</th>\n      <td>24977000000.0</td>\n      <td>35929000000.0</td>\n      <td>39789000000.0</td>\n      <td>50224000000.0</td>\n      <td>NaN</td>\n    </tr>\n    <tr>\n      <th>Changes In Cash</th>\n      <td>5760000000.0</td>\n      <td>-10952000000.0</td>\n      <td>-3860000000.0</td>\n      <td>-10435000000.0</td>\n      <td>NaN</td>\n    </tr>\n    <tr>\n      <th>Financing Cash Flow</th>\n      <td>-108488000000.0</td>\n      <td>-110749000000.0</td>\n      <td>-93353000000.0</td>\n      <td>-86820000000.0</td>\n      <td>NaN</td>\n    </tr>\n    <tr>\n      <th>Cash Flow From Continuing Financing Activities</th>\n      <td>-108488000000.0</td>\n      <td>-110749000000.0</td>\n      <td>-93353000000.0</td>\n      <td>-86820000000.0</td>\n      <td>NaN</td>\n    </tr>\n    <tr>\n      <th>Net Other Financing Charges</th>\n      <td>-6012000000.0</td>\n      <td>-6383000000.0</td>\n      <td>-5580000000.0</td>\n      <td>-2880000000.0</td>\n      <td>NaN</td>\n    </tr>\n    <tr>\n      <th>Cash Dividends Paid</th>\n      <td>-15025000000.0</td>\n      <td>-14841000000.0</td>\n      <td>-14467000000.0</td>\n      <td>-14081000000.0</td>\n      <td>NaN</td>\n    </tr>\n    <tr>\n      <th>Common Stock Dividend Paid</th>\n      <td>-15025000000.0</td>\n      <td>-14841000000.0</td>\n      <td>-14467000000.0</td>\n      <td>-14081000000.0</td>\n      <td>NaN</td>\n    </tr>\n    <tr>\n      <th>Net Common Stock Issuance</th>\n      <td>-77550000000.0</td>\n      <td>-89402000000.0</td>\n      <td>-85971000000.0</td>\n      <td>-72358000000.0</td>\n      <td>NaN</td>\n    </tr>\n    <tr>\n      <th>Common Stock Payments</th>\n      <td>-77550000000.0</td>\n      <td>-89402000000.0</td>\n      <td>-85971000000.0</td>\n      <td>-72358000000.0</td>\n      <td>NaN</td>\n    </tr>\n    <tr>\n      <th>Common Stock Issuance</th>\n      <td>NaN</td>\n      <td>NaN</td>\n      <td>1105000000.0</td>\n      <td>880000000.0</td>\n      <td>781000000.0</td>\n    </tr>\n    <tr>\n      <th>Net Issuance Payments Of Debt</th>\n      <td>-9901000000.0</td>\n      <td>-123000000.0</td>\n      <td>12665000000.0</td>\n      <td>2499000000.0</td>\n      <td>NaN</td>\n    </tr>\n    <tr>\n      <th>Net Short Term Debt Issuance</th>\n      <td>-3978000000.0</td>\n      <td>3955000000.0</td>\n      <td>1022000000.0</td>\n      <td>-963000000.0</td>\n      <td>NaN</td>\n    </tr>\n    <tr>\n      <th>Net Long Term Debt Issuance</th>\n      <td>-5923000000.0</td>\n      <td>-4078000000.0</td>\n      <td>11643000000.0</td>\n      <td>3462000000.0</td>\n      <td>NaN</td>\n    </tr>\n    <tr>\n      <th>Long Term Debt Payments</th>\n      <td>-11151000000.0</td>\n      <td>-9543000000.0</td>\n      <td>-8750000000.0</td>\n      <td>-12629000000.0</td>\n      <td>NaN</td>\n    </tr>\n    <tr>\n      <th>Long Term Debt Issuance</th>\n      <td>5228000000.0</td>\n      <td>5465000000.0</td>\n      <td>20393000000.0</td>\n      <td>16091000000.0</td>\n      <td>NaN</td>\n    </tr>\n    <tr>\n      <th>Investing Cash Flow</th>\n      <td>3705000000.0</td>\n      <td>-22354000000.0</td>\n      <td>-14545000000.0</td>\n      <td>-4289000000.0</td>\n      <td>NaN</td>\n    </tr>\n    <tr>\n      <th>Cash Flow From Continuing Investing Activities</th>\n      <td>3705000000.0</td>\n      <td>-22354000000.0</td>\n      <td>-14545000000.0</td>\n      <td>-4289000000.0</td>\n      <td>NaN</td>\n    </tr>\n    <tr>\n      <th>Net Other Investing Changes</th>\n      <td>-1337000000.0</td>\n      <td>-2086000000.0</td>\n      <td>-385000000.0</td>\n      <td>-909000000.0</td>\n      <td>NaN</td>\n    </tr>\n    <tr>\n      <th>Net Investment Purchase And Sale</th>\n      <td>16001000000.0</td>\n      <td>-9560000000.0</td>\n      <td>-3075000000.0</td>\n      <td>5453000000.0</td>\n      <td>NaN</td>\n    </tr>\n    <tr>\n      <th>Sale Of Investment</th>\n      <td>45514000000.0</td>\n      <td>67363000000.0</td>\n      <td>106483000000.0</td>\n      <td>120391000000.0</td>\n      <td>NaN</td>\n    </tr>\n    <tr>\n      <th>Purchase Of Investment</th>\n      <td>-29513000000.0</td>\n      <td>-76923000000.0</td>\n      <td>-109558000000.0</td>\n      <td>-114938000000.0</td>\n      <td>NaN</td>\n    </tr>\n    <tr>\n      <th>Net Business Purchase And Sale</th>\n      <td>NaN</td>\n      <td>-306000000.0</td>\n      <td>-33000000.0</td>\n      <td>-1524000000.0</td>\n      <td>-624000000.0</td>\n    </tr>\n    <tr>\n      <th>Purchase Of Business</th>\n      <td>NaN</td>\n      <td>-306000000.0</td>\n      <td>-33000000.0</td>\n      <td>-1524000000.0</td>\n      <td>-624000000.0</td>\n    </tr>\n    <tr>\n      <th>Net PPE Purchase And Sale</th>\n      <td>-10959000000.0</td>\n      <td>-10708000000.0</td>\n      <td>-11085000000.0</td>\n      <td>-7309000000.0</td>\n      <td>NaN</td>\n    </tr>\n    <tr>\n      <th>Purchase Of PPE</th>\n      <td>-10959000000.0</td>\n      <td>-10708000000.0</td>\n      <td>-11085000000.0</td>\n      <td>-7309000000.0</td>\n      <td>NaN</td>\n    </tr>\n    <tr>\n      <th>Operating Cash Flow</th>\n      <td>110543000000.0</td>\n      <td>122151000000.0</td>\n      <td>104038000000.0</td>\n      <td>80674000000.0</td>\n      <td>NaN</td>\n    </tr>\n    <tr>\n      <th>Cash Flow From Continuing Operating Activities</th>\n      <td>110543000000.0</td>\n      <td>122151000000.0</td>\n      <td>104038000000.0</td>\n      <td>80674000000.0</td>\n      <td>NaN</td>\n    </tr>\n    <tr>\n      <th>Change In Working Capital</th>\n      <td>-6577000000.0</td>\n      <td>1200000000.0</td>\n      <td>-4911000000.0</td>\n      <td>5690000000.0</td>\n      <td>NaN</td>\n    </tr>\n    <tr>\n      <th>Change In Other Working Capital</th>\n      <td>NaN</td>\n      <td>478000000.0</td>\n      <td>1676000000.0</td>\n      <td>2081000000.0</td>\n      <td>-625000000.0</td>\n    </tr>\n    <tr>\n      <th>Change In Other Current Liabilities</th>\n      <td>3031000000.0</td>\n      <td>6110000000.0</td>\n      <td>7475000000.0</td>\n      <td>8916000000.0</td>\n      <td>NaN</td>\n    </tr>\n    <tr>\n      <th>Change In Other Current Assets</th>\n      <td>-5684000000.0</td>\n      <td>-6499000000.0</td>\n      <td>-8042000000.0</td>\n      <td>-9588000000.0</td>\n      <td>NaN</td>\n    </tr>\n    <tr>\n      <th>Change In Payables And Accrued Expense</th>\n      <td>-1889000000.0</td>\n      <td>9448000000.0</td>\n      <td>12326000000.0</td>\n      <td>-4062000000.0</td>\n      <td>NaN</td>\n    </tr>\n    <tr>\n      <th>Change In Payable</th>\n      <td>-1889000000.0</td>\n      <td>9448000000.0</td>\n      <td>12326000000.0</td>\n      <td>-4062000000.0</td>\n      <td>NaN</td>\n    </tr>\n    <tr>\n      <th>Change In Account Payable</th>\n      <td>-1889000000.0</td>\n      <td>9448000000.0</td>\n      <td>12326000000.0</td>\n      <td>-4062000000.0</td>\n      <td>NaN</td>\n    </tr>\n    <tr>\n      <th>Change In Inventory</th>\n      <td>-1618000000.0</td>\n      <td>1484000000.0</td>\n      <td>-2642000000.0</td>\n      <td>-127000000.0</td>\n      <td>NaN</td>\n    </tr>\n    <tr>\n      <th>Change In Receivables</th>\n      <td>-417000000.0</td>\n      <td>-9343000000.0</td>\n      <td>-14028000000.0</td>\n      <td>8470000000.0</td>\n      <td>NaN</td>\n    </tr>\n    <tr>\n      <th>Changes In Account Receivables</th>\n      <td>-1688000000.0</td>\n      <td>-1823000000.0</td>\n      <td>-10125000000.0</td>\n      <td>6917000000.0</td>\n      <td>NaN</td>\n    </tr>\n    <tr>\n      <th>Other Non Cash Items</th>\n      <td>-2227000000.0</td>\n      <td>1006000000.0</td>\n      <td>-4921000000.0</td>\n      <td>-97000000.0</td>\n      <td>NaN</td>\n    </tr>\n    <tr>\n      <th>Stock Based Compensation</th>\n      <td>10833000000.0</td>\n      <td>9038000000.0</td>\n      <td>7906000000.0</td>\n      <td>6829000000.0</td>\n      <td>NaN</td>\n    </tr>\n    <tr>\n      <th>Deferred Tax</th>\n      <td>NaN</td>\n      <td>895000000.0</td>\n      <td>-4774000000.0</td>\n      <td>-215000000.0</td>\n      <td>-340000000.0</td>\n    </tr>\n    <tr>\n      <th>Deferred Income Tax</th>\n      <td>NaN</td>\n      <td>895000000.0</td>\n      <td>-4774000000.0</td>\n      <td>-215000000.0</td>\n      <td>-340000000.0</td>\n    </tr>\n    <tr>\n      <th>Depreciation Amortization Depletion</th>\n      <td>11519000000.0</td>\n      <td>11104000000.0</td>\n      <td>11284000000.0</td>\n      <td>11056000000.0</td>\n      <td>NaN</td>\n    </tr>\n    <tr>\n      <th>Depreciation And Amortization</th>\n      <td>11519000000.0</td>\n      <td>11104000000.0</td>\n      <td>11284000000.0</td>\n      <td>11056000000.0</td>\n      <td>NaN</td>\n    </tr>\n    <tr>\n      <th>Net Income From Continuing Operations</th>\n      <td>96995000000.0</td>\n      <td>99803000000.0</td>\n      <td>94680000000.0</td>\n      <td>57411000000.0</td>\n      <td>NaN</td>\n    </tr>\n  </tbody>\n</table>\n</div>"
     },
     "execution_count": 135,
     "metadata": {},
     "output_type": "execute_result"
    }
   ],
   "source": [
    "cash_flow = stock_data.cashflow\n",
    "cash_flow"
   ],
   "metadata": {
    "collapsed": false
   }
  },
  {
   "cell_type": "markdown",
   "source": [
    "### 收入声明 income stmp"
   ],
   "metadata": {
    "collapsed": false
   }
  },
  {
   "cell_type": "code",
   "execution_count": 153,
   "outputs": [
    {
     "data": {
      "text/plain": "                                                        2023-09-30  \\\nTax Effect Of Unusual Items                                    0.0   \nTax Rate For Calcs                                           0.147   \nNormalized EBITDA                                   129188000000.0   \nNet Income From Continuing Operation Net Minori...   96995000000.0   \nReconciled Depreciation                              11519000000.0   \nReconciled Cost Of Revenue                          214137000000.0   \nEBITDA                                              129188000000.0   \nEBIT                                                117669000000.0   \nNet Interest Income                                   -183000000.0   \nInterest Expense                                      3933000000.0   \nInterest Income                                       3750000000.0   \nNormalized Income                                    96995000000.0   \nNet Income From Continuing And Discontinued Ope...   96995000000.0   \nTotal Expenses                                      268984000000.0   \nTotal Operating Income As Reported                  114301000000.0   \nDiluted Average Shares                               15812547000.0   \nBasic Average Shares                                 15744231000.0   \nDiluted EPS                                                   6.13   \nBasic EPS                                                     6.16   \nDiluted NI Availto Com Stockholders                  96995000000.0   \nNet Income Common Stockholders                       96995000000.0   \nNet Income                                           96995000000.0   \nNet Income Including Noncontrolling Interests        96995000000.0   \nNet Income Continuous Operations                     96995000000.0   \nTax Provision                                        16741000000.0   \nPretax Income                                       113736000000.0   \nOther Income Expense                                  -382000000.0   \nOther Non Operating Income Expenses                   -382000000.0   \nNet Non Operating Interest Income Expense             -183000000.0   \nInterest Expense Non Operating                        3933000000.0   \nInterest Income Non Operating                         3750000000.0   \nOperating Income                                    114301000000.0   \nOperating Expense                                    54847000000.0   \nResearch And Development                             29915000000.0   \nSelling General And Administration                   24932000000.0   \nGross Profit                                        169148000000.0   \nCost Of Revenue                                     214137000000.0   \nTotal Revenue                                       383285000000.0   \nOperating Revenue                                   383285000000.0   \n\n                                                        2022-09-30  \\\nTax Effect Of Unusual Items                                    0.0   \nTax Rate For Calcs                                           0.162   \nNormalized EBITDA                                   133138000000.0   \nNet Income From Continuing Operation Net Minori...   99803000000.0   \nReconciled Depreciation                              11104000000.0   \nReconciled Cost Of Revenue                          223546000000.0   \nEBITDA                                              133138000000.0   \nEBIT                                                122034000000.0   \nNet Interest Income                                   -106000000.0   \nInterest Expense                                      2931000000.0   \nInterest Income                                       2825000000.0   \nNormalized Income                                    99803000000.0   \nNet Income From Continuing And Discontinued Ope...   99803000000.0   \nTotal Expenses                                      274891000000.0   \nTotal Operating Income As Reported                  119437000000.0   \nDiluted Average Shares                               16325819000.0   \nBasic Average Shares                                 16215963000.0   \nDiluted EPS                                                   6.11   \nBasic EPS                                                     6.15   \nDiluted NI Availto Com Stockholders                  99803000000.0   \nNet Income Common Stockholders                       99803000000.0   \nNet Income                                           99803000000.0   \nNet Income Including Noncontrolling Interests        99803000000.0   \nNet Income Continuous Operations                     99803000000.0   \nTax Provision                                        19300000000.0   \nPretax Income                                       119103000000.0   \nOther Income Expense                                  -228000000.0   \nOther Non Operating Income Expenses                   -228000000.0   \nNet Non Operating Interest Income Expense             -106000000.0   \nInterest Expense Non Operating                        2931000000.0   \nInterest Income Non Operating                         2825000000.0   \nOperating Income                                    119437000000.0   \nOperating Expense                                    51345000000.0   \nResearch And Development                             26251000000.0   \nSelling General And Administration                   25094000000.0   \nGross Profit                                        170782000000.0   \nCost Of Revenue                                     223546000000.0   \nTotal Revenue                                       394328000000.0   \nOperating Revenue                                   394328000000.0   \n\n                                                        2021-09-30  \\\nTax Effect Of Unusual Items                                    0.0   \nTax Rate For Calcs                                           0.133   \nNormalized EBITDA                                   123136000000.0   \nNet Income From Continuing Operation Net Minori...   94680000000.0   \nReconciled Depreciation                              11284000000.0   \nReconciled Cost Of Revenue                          212981000000.0   \nEBITDA                                              123136000000.0   \nEBIT                                                111852000000.0   \nNet Interest Income                                    198000000.0   \nInterest Expense                                      2645000000.0   \nInterest Income                                       2843000000.0   \nNormalized Income                                    94680000000.0   \nNet Income From Continuing And Discontinued Ope...   94680000000.0   \nTotal Expenses                                      256868000000.0   \nTotal Operating Income As Reported                  108949000000.0   \nDiluted Average Shares                               16864919000.0   \nBasic Average Shares                                 16701272000.0   \nDiluted EPS                                                   5.61   \nBasic EPS                                                     5.67   \nDiluted NI Availto Com Stockholders                  94680000000.0   \nNet Income Common Stockholders                       94680000000.0   \nNet Income                                           94680000000.0   \nNet Income Including Noncontrolling Interests        94680000000.0   \nNet Income Continuous Operations                     94680000000.0   \nTax Provision                                        14527000000.0   \nPretax Income                                       109207000000.0   \nOther Income Expense                                    60000000.0   \nOther Non Operating Income Expenses                     60000000.0   \nNet Non Operating Interest Income Expense              198000000.0   \nInterest Expense Non Operating                        2645000000.0   \nInterest Income Non Operating                         2843000000.0   \nOperating Income                                    108949000000.0   \nOperating Expense                                    43887000000.0   \nResearch And Development                             21914000000.0   \nSelling General And Administration                   21973000000.0   \nGross Profit                                        152836000000.0   \nCost Of Revenue                                     212981000000.0   \nTotal Revenue                                       365817000000.0   \nOperating Revenue                                   365817000000.0   \n\n                                                        2020-09-30  \nTax Effect Of Unusual Items                                    0.0  \nTax Rate For Calcs                                           0.144  \nNormalized EBITDA                                    81020000000.0  \nNet Income From Continuing Operation Net Minori...   57411000000.0  \nReconciled Depreciation                              11056000000.0  \nReconciled Cost Of Revenue                          169559000000.0  \nEBITDA                                               81020000000.0  \nEBIT                                                 69964000000.0  \nNet Interest Income                                    890000000.0  \nInterest Expense                                      2873000000.0  \nInterest Income                                       3763000000.0  \nNormalized Income                                    57411000000.0  \nNet Income From Continuing And Discontinued Ope...   57411000000.0  \nTotal Expenses                                      208227000000.0  \nTotal Operating Income As Reported                   66288000000.0  \nDiluted Average Shares                               17528214000.0  \nBasic Average Shares                                 17352119000.0  \nDiluted EPS                                                   3.28  \nBasic EPS                                                     3.31  \nDiluted NI Availto Com Stockholders                  57411000000.0  \nNet Income Common Stockholders                       57411000000.0  \nNet Income                                           57411000000.0  \nNet Income Including Noncontrolling Interests        57411000000.0  \nNet Income Continuous Operations                     57411000000.0  \nTax Provision                                         9680000000.0  \nPretax Income                                        67091000000.0  \nOther Income Expense                                   -87000000.0  \nOther Non Operating Income Expenses                    -87000000.0  \nNet Non Operating Interest Income Expense              890000000.0  \nInterest Expense Non Operating                        2873000000.0  \nInterest Income Non Operating                         3763000000.0  \nOperating Income                                     66288000000.0  \nOperating Expense                                    38668000000.0  \nResearch And Development                             18752000000.0  \nSelling General And Administration                   19916000000.0  \nGross Profit                                        104956000000.0  \nCost Of Revenue                                     169559000000.0  \nTotal Revenue                                       274515000000.0  \nOperating Revenue                                   274515000000.0  ",
      "text/html": "<div>\n<style scoped>\n    .dataframe tbody tr th:only-of-type {\n        vertical-align: middle;\n    }\n\n    .dataframe tbody tr th {\n        vertical-align: top;\n    }\n\n    .dataframe thead th {\n        text-align: right;\n    }\n</style>\n<table border=\"1\" class=\"dataframe\">\n  <thead>\n    <tr style=\"text-align: right;\">\n      <th></th>\n      <th>2023-09-30</th>\n      <th>2022-09-30</th>\n      <th>2021-09-30</th>\n      <th>2020-09-30</th>\n    </tr>\n  </thead>\n  <tbody>\n    <tr>\n      <th>Tax Effect Of Unusual Items</th>\n      <td>0.0</td>\n      <td>0.0</td>\n      <td>0.0</td>\n      <td>0.0</td>\n    </tr>\n    <tr>\n      <th>Tax Rate For Calcs</th>\n      <td>0.147</td>\n      <td>0.162</td>\n      <td>0.133</td>\n      <td>0.144</td>\n    </tr>\n    <tr>\n      <th>Normalized EBITDA</th>\n      <td>129188000000.0</td>\n      <td>133138000000.0</td>\n      <td>123136000000.0</td>\n      <td>81020000000.0</td>\n    </tr>\n    <tr>\n      <th>Net Income From Continuing Operation Net Minority Interest</th>\n      <td>96995000000.0</td>\n      <td>99803000000.0</td>\n      <td>94680000000.0</td>\n      <td>57411000000.0</td>\n    </tr>\n    <tr>\n      <th>Reconciled Depreciation</th>\n      <td>11519000000.0</td>\n      <td>11104000000.0</td>\n      <td>11284000000.0</td>\n      <td>11056000000.0</td>\n    </tr>\n    <tr>\n      <th>Reconciled Cost Of Revenue</th>\n      <td>214137000000.0</td>\n      <td>223546000000.0</td>\n      <td>212981000000.0</td>\n      <td>169559000000.0</td>\n    </tr>\n    <tr>\n      <th>EBITDA</th>\n      <td>129188000000.0</td>\n      <td>133138000000.0</td>\n      <td>123136000000.0</td>\n      <td>81020000000.0</td>\n    </tr>\n    <tr>\n      <th>EBIT</th>\n      <td>117669000000.0</td>\n      <td>122034000000.0</td>\n      <td>111852000000.0</td>\n      <td>69964000000.0</td>\n    </tr>\n    <tr>\n      <th>Net Interest Income</th>\n      <td>-183000000.0</td>\n      <td>-106000000.0</td>\n      <td>198000000.0</td>\n      <td>890000000.0</td>\n    </tr>\n    <tr>\n      <th>Interest Expense</th>\n      <td>3933000000.0</td>\n      <td>2931000000.0</td>\n      <td>2645000000.0</td>\n      <td>2873000000.0</td>\n    </tr>\n    <tr>\n      <th>Interest Income</th>\n      <td>3750000000.0</td>\n      <td>2825000000.0</td>\n      <td>2843000000.0</td>\n      <td>3763000000.0</td>\n    </tr>\n    <tr>\n      <th>Normalized Income</th>\n      <td>96995000000.0</td>\n      <td>99803000000.0</td>\n      <td>94680000000.0</td>\n      <td>57411000000.0</td>\n    </tr>\n    <tr>\n      <th>Net Income From Continuing And Discontinued Operation</th>\n      <td>96995000000.0</td>\n      <td>99803000000.0</td>\n      <td>94680000000.0</td>\n      <td>57411000000.0</td>\n    </tr>\n    <tr>\n      <th>Total Expenses</th>\n      <td>268984000000.0</td>\n      <td>274891000000.0</td>\n      <td>256868000000.0</td>\n      <td>208227000000.0</td>\n    </tr>\n    <tr>\n      <th>Total Operating Income As Reported</th>\n      <td>114301000000.0</td>\n      <td>119437000000.0</td>\n      <td>108949000000.0</td>\n      <td>66288000000.0</td>\n    </tr>\n    <tr>\n      <th>Diluted Average Shares</th>\n      <td>15812547000.0</td>\n      <td>16325819000.0</td>\n      <td>16864919000.0</td>\n      <td>17528214000.0</td>\n    </tr>\n    <tr>\n      <th>Basic Average Shares</th>\n      <td>15744231000.0</td>\n      <td>16215963000.0</td>\n      <td>16701272000.0</td>\n      <td>17352119000.0</td>\n    </tr>\n    <tr>\n      <th>Diluted EPS</th>\n      <td>6.13</td>\n      <td>6.11</td>\n      <td>5.61</td>\n      <td>3.28</td>\n    </tr>\n    <tr>\n      <th>Basic EPS</th>\n      <td>6.16</td>\n      <td>6.15</td>\n      <td>5.67</td>\n      <td>3.31</td>\n    </tr>\n    <tr>\n      <th>Diluted NI Availto Com Stockholders</th>\n      <td>96995000000.0</td>\n      <td>99803000000.0</td>\n      <td>94680000000.0</td>\n      <td>57411000000.0</td>\n    </tr>\n    <tr>\n      <th>Net Income Common Stockholders</th>\n      <td>96995000000.0</td>\n      <td>99803000000.0</td>\n      <td>94680000000.0</td>\n      <td>57411000000.0</td>\n    </tr>\n    <tr>\n      <th>Net Income</th>\n      <td>96995000000.0</td>\n      <td>99803000000.0</td>\n      <td>94680000000.0</td>\n      <td>57411000000.0</td>\n    </tr>\n    <tr>\n      <th>Net Income Including Noncontrolling Interests</th>\n      <td>96995000000.0</td>\n      <td>99803000000.0</td>\n      <td>94680000000.0</td>\n      <td>57411000000.0</td>\n    </tr>\n    <tr>\n      <th>Net Income Continuous Operations</th>\n      <td>96995000000.0</td>\n      <td>99803000000.0</td>\n      <td>94680000000.0</td>\n      <td>57411000000.0</td>\n    </tr>\n    <tr>\n      <th>Tax Provision</th>\n      <td>16741000000.0</td>\n      <td>19300000000.0</td>\n      <td>14527000000.0</td>\n      <td>9680000000.0</td>\n    </tr>\n    <tr>\n      <th>Pretax Income</th>\n      <td>113736000000.0</td>\n      <td>119103000000.0</td>\n      <td>109207000000.0</td>\n      <td>67091000000.0</td>\n    </tr>\n    <tr>\n      <th>Other Income Expense</th>\n      <td>-382000000.0</td>\n      <td>-228000000.0</td>\n      <td>60000000.0</td>\n      <td>-87000000.0</td>\n    </tr>\n    <tr>\n      <th>Other Non Operating Income Expenses</th>\n      <td>-382000000.0</td>\n      <td>-228000000.0</td>\n      <td>60000000.0</td>\n      <td>-87000000.0</td>\n    </tr>\n    <tr>\n      <th>Net Non Operating Interest Income Expense</th>\n      <td>-183000000.0</td>\n      <td>-106000000.0</td>\n      <td>198000000.0</td>\n      <td>890000000.0</td>\n    </tr>\n    <tr>\n      <th>Interest Expense Non Operating</th>\n      <td>3933000000.0</td>\n      <td>2931000000.0</td>\n      <td>2645000000.0</td>\n      <td>2873000000.0</td>\n    </tr>\n    <tr>\n      <th>Interest Income Non Operating</th>\n      <td>3750000000.0</td>\n      <td>2825000000.0</td>\n      <td>2843000000.0</td>\n      <td>3763000000.0</td>\n    </tr>\n    <tr>\n      <th>Operating Income</th>\n      <td>114301000000.0</td>\n      <td>119437000000.0</td>\n      <td>108949000000.0</td>\n      <td>66288000000.0</td>\n    </tr>\n    <tr>\n      <th>Operating Expense</th>\n      <td>54847000000.0</td>\n      <td>51345000000.0</td>\n      <td>43887000000.0</td>\n      <td>38668000000.0</td>\n    </tr>\n    <tr>\n      <th>Research And Development</th>\n      <td>29915000000.0</td>\n      <td>26251000000.0</td>\n      <td>21914000000.0</td>\n      <td>18752000000.0</td>\n    </tr>\n    <tr>\n      <th>Selling General And Administration</th>\n      <td>24932000000.0</td>\n      <td>25094000000.0</td>\n      <td>21973000000.0</td>\n      <td>19916000000.0</td>\n    </tr>\n    <tr>\n      <th>Gross Profit</th>\n      <td>169148000000.0</td>\n      <td>170782000000.0</td>\n      <td>152836000000.0</td>\n      <td>104956000000.0</td>\n    </tr>\n    <tr>\n      <th>Cost Of Revenue</th>\n      <td>214137000000.0</td>\n      <td>223546000000.0</td>\n      <td>212981000000.0</td>\n      <td>169559000000.0</td>\n    </tr>\n    <tr>\n      <th>Total Revenue</th>\n      <td>383285000000.0</td>\n      <td>394328000000.0</td>\n      <td>365817000000.0</td>\n      <td>274515000000.0</td>\n    </tr>\n    <tr>\n      <th>Operating Revenue</th>\n      <td>383285000000.0</td>\n      <td>394328000000.0</td>\n      <td>365817000000.0</td>\n      <td>274515000000.0</td>\n    </tr>\n  </tbody>\n</table>\n</div>"
     },
     "execution_count": 153,
     "metadata": {},
     "output_type": "execute_result"
    }
   ],
   "source": [
    "stock_data.income_stmt"
   ],
   "metadata": {
    "collapsed": false
   }
  },
  {
   "cell_type": "code",
   "execution_count": 154,
   "outputs": [
    {
     "data": {
      "text/plain": "                                                       2024-03-31  \\\nTax Effect Of Unusual Items                                   0.0   \nTax Rate For Calcs                                          0.158   \nNormalized EBITDA                                   30736000000.0   \nNet Income From Continuing Operation Net Minori...  23636000000.0   \nReconciled Depreciation                              2836000000.0   \nReconciled Cost Of Revenue                          48482000000.0   \nEBITDA                                              30736000000.0   \nEBIT                                                27900000000.0   \nNet Interest Income                                           NaN   \nInterest Expense                                              NaN   \nInterest Income                                               NaN   \nNormalized Income                                   23636000000.0   \nNet Income From Continuing And Discontinued Ope...  23636000000.0   \nTotal Expenses                                      62853000000.0   \nTotal Operating Income As Reported                  27900000000.0   \nDiluted Average Shares                              15464709000.0   \nBasic Average Shares                                15405856000.0   \nDiluted EPS                                                  1.53   \nBasic EPS                                                    1.53   \nDiluted NI Availto Com Stockholders                 23636000000.0   \nNet Income Common Stockholders                      23636000000.0   \nNet Income                                          23636000000.0   \nNet Income Including Noncontrolling Interests       23636000000.0   \nNet Income Continuous Operations                    23636000000.0   \nTax Provision                                        4422000000.0   \nPretax Income                                       28058000000.0   \nOther Income Expense                                  158000000.0   \nOther Non Operating Income Expenses                   158000000.0   \nNet Non Operating Interest Income Expense                     NaN   \nInterest Expense Non Operating                                NaN   \nInterest Income Non Operating                                 NaN   \nOperating Income                                    27900000000.0   \nOperating Expense                                   14371000000.0   \nResearch And Development                             7903000000.0   \nSelling General And Administration                   6468000000.0   \nGross Profit                                        42271000000.0   \nCost Of Revenue                                     48482000000.0   \nTotal Revenue                                       90753000000.0   \nOperating Revenue                                   90753000000.0   \n\n                                                        2023-12-31  \\\nTax Effect Of Unusual Items                                    0.0   \nTax Rate For Calcs                                           0.159   \nNormalized EBITDA                                    43221000000.0   \nNet Income From Continuing Operation Net Minori...   33916000000.0   \nReconciled Depreciation                               2848000000.0   \nReconciled Cost Of Revenue                           64720000000.0   \nEBITDA                                               43221000000.0   \nEBIT                                                 40373000000.0   \nNet Interest Income                                            NaN   \nInterest Expense                                               NaN   \nInterest Income                                                NaN   \nNormalized Income                                    33916000000.0   \nNet Income From Continuing And Discontinued Ope...   33916000000.0   \nTotal Expenses                                       79202000000.0   \nTotal Operating Income As Reported                   40373000000.0   \nDiluted Average Shares                               15576641000.0   \nBasic Average Shares                                 15509763000.0   \nDiluted EPS                                                   2.18   \nBasic EPS                                                     2.19   \nDiluted NI Availto Com Stockholders                  33916000000.0   \nNet Income Common Stockholders                       33916000000.0   \nNet Income                                           33916000000.0   \nNet Income Including Noncontrolling Interests        33916000000.0   \nNet Income Continuous Operations                     33916000000.0   \nTax Provision                                         6407000000.0   \nPretax Income                                        40323000000.0   \nOther Income Expense                                   -50000000.0   \nOther Non Operating Income Expenses                    -50000000.0   \nNet Non Operating Interest Income Expense                      NaN   \nInterest Expense Non Operating                                 NaN   \nInterest Income Non Operating                                  NaN   \nOperating Income                                     40373000000.0   \nOperating Expense                                    14482000000.0   \nResearch And Development                              7696000000.0   \nSelling General And Administration                    6786000000.0   \nGross Profit                                         54855000000.0   \nCost Of Revenue                                      64720000000.0   \nTotal Revenue                                       119575000000.0   \nOperating Revenue                                   119575000000.0   \n\n                                                       2023-09-30  \\\nTax Effect Of Unusual Items                                   0.0   \nTax Rate For Calcs                                       0.149715   \nNormalized EBITDA                                   30653000000.0   \nNet Income From Continuing Operation Net Minori...  22956000000.0   \nReconciled Depreciation                              2653000000.0   \nReconciled Cost Of Revenue                          49071000000.0   \nEBITDA                                              30653000000.0   \nEBIT                                                28000000000.0   \nNet Interest Income                                   -18000000.0   \nInterest Expense                                     1002000000.0   \nInterest Income                                       984000000.0   \nNormalized Income                                   22956000000.0   \nNet Income From Continuing And Discontinued Ope...  22956000000.0   \nTotal Expenses                                      62529000000.0   \nTotal Operating Income As Reported                  26969000000.0   \nDiluted Average Shares                              15672400000.0   \nBasic Average Shares                                15599434000.0   \nDiluted EPS                                                  1.46   \nBasic EPS                                                    1.47   \nDiluted NI Availto Com Stockholders                 22956000000.0   \nNet Income Common Stockholders                      22956000000.0   \nNet Income                                          22956000000.0   \nNet Income Including Noncontrolling Interests       22956000000.0   \nNet Income Continuous Operations                    22956000000.0   \nTax Provision                                        4042000000.0   \nPretax Income                                       26998000000.0   \nOther Income Expense                                   47000000.0   \nOther Non Operating Income Expenses                    47000000.0   \nNet Non Operating Interest Income Expense             -18000000.0   \nInterest Expense Non Operating                       1002000000.0   \nInterest Income Non Operating                         984000000.0   \nOperating Income                                    26969000000.0   \nOperating Expense                                   13458000000.0   \nResearch And Development                             7307000000.0   \nSelling General And Administration                   6151000000.0   \nGross Profit                                        40427000000.0   \nCost Of Revenue                                     49071000000.0   \nTotal Revenue                                       89498000000.0   \nOperating Revenue                                   89498000000.0   \n\n                                                       2023-06-30  \\\nTax Effect Of Unusual Items                                   0.0   \nTax Rate For Calcs                                          0.125   \nNormalized EBITDA                                   26783000000.0   \nNet Income From Continuing Operation Net Minori...  19881000000.0   \nReconciled Depreciation                              3052000000.0   \nReconciled Cost Of Revenue                          45384000000.0   \nEBITDA                                              26783000000.0   \nEBIT                                                23731000000.0   \nNet Interest Income                                   -18000000.0   \nInterest Expense                                      998000000.0   \nInterest Income                                       980000000.0   \nNormalized Income                                   19881000000.0   \nNet Income From Continuing And Discontinued Ope...  19881000000.0   \nTotal Expenses                                      58799000000.0   \nTotal Operating Income As Reported                  22998000000.0   \nDiluted Average Shares                              15775021000.0   \nBasic Average Shares                                15697614000.0   \nDiluted EPS                                                  1.26   \nBasic EPS                                                    1.27   \nDiluted NI Availto Com Stockholders                 19881000000.0   \nNet Income Common Stockholders                      19881000000.0   \nNet Income                                          19881000000.0   \nNet Income Including Noncontrolling Interests       19881000000.0   \nNet Income Continuous Operations                    19881000000.0   \nTax Provision                                        2852000000.0   \nPretax Income                                       22733000000.0   \nOther Income Expense                                 -247000000.0   \nOther Non Operating Income Expenses                  -247000000.0   \nNet Non Operating Interest Income Expense             -18000000.0   \nInterest Expense Non Operating                        998000000.0   \nInterest Income Non Operating                         980000000.0   \nOperating Income                                    22998000000.0   \nOperating Expense                                   13415000000.0   \nResearch And Development                             7442000000.0   \nSelling General And Administration                   5973000000.0   \nGross Profit                                        36413000000.0   \nCost Of Revenue                                     45384000000.0   \nTotal Revenue                                       81797000000.0   \nOperating Revenue                                   81797000000.0   \n\n                                                       2023-03-31  \\\nTax Effect Of Unusual Items                                   0.0   \nTax Rate For Calcs                                          0.149   \nNormalized EBITDA                                   31216000000.0   \nNet Income From Continuing Operation Net Minori...  24160000000.0   \nReconciled Depreciation                              2898000000.0   \nReconciled Cost Of Revenue                          52860000000.0   \nEBITDA                                              31216000000.0   \nEBIT                                                28318000000.0   \nNet Interest Income                                   -12000000.0   \nInterest Expense                                      930000000.0   \nInterest Income                                       918000000.0   \nNormalized Income                                   24160000000.0   \nNet Income From Continuing And Discontinued Ope...  24160000000.0   \nTotal Expenses                                      66518000000.0   \nTotal Operating Income As Reported                  28318000000.0   \nDiluted Average Shares                              15847050000.0   \nBasic Average Shares                                15787154000.0   \nDiluted EPS                                                  1.52   \nBasic EPS                                                    1.53   \nDiluted NI Availto Com Stockholders                 24160000000.0   \nNet Income Common Stockholders                      24160000000.0   \nNet Income                                          24160000000.0   \nNet Income Including Noncontrolling Interests       24160000000.0   \nNet Income Continuous Operations                    24160000000.0   \nTax Provision                                        4222000000.0   \nPretax Income                                       28382000000.0   \nOther Income Expense                                   64000000.0   \nOther Non Operating Income Expenses                    64000000.0   \nNet Non Operating Interest Income Expense             -12000000.0   \nInterest Expense Non Operating                        930000000.0   \nInterest Income Non Operating                         918000000.0   \nOperating Income                                    28318000000.0   \nOperating Expense                                   13658000000.0   \nResearch And Development                             7457000000.0   \nSelling General And Administration                   6201000000.0   \nGross Profit                                        41976000000.0   \nCost Of Revenue                                     52860000000.0   \nTotal Revenue                                       94836000000.0   \nOperating Revenue                                   94836000000.0   \n\n                                                      2022-12-31   2022-09-30  \nTax Effect Of Unusual Items                                  NaN          NaN  \nTax Rate For Calcs                                           NaN          NaN  \nNormalized EBITDA                                            NaN          NaN  \nNet Income From Continuing Operation Net Minori...           NaN          NaN  \nReconciled Depreciation                                      NaN          NaN  \nReconciled Cost Of Revenue                                   NaN          NaN  \nEBITDA                                                       NaN          NaN  \nEBIT                                                         NaN          NaN  \nNet Interest Income                                 -135000000.0  -74000000.0  \nInterest Expense                                    1003000000.0  827000000.0  \nInterest Income                                      868000000.0  753000000.0  \nNormalized Income                                            NaN          NaN  \nNet Income From Continuing And Discontinued Ope...           NaN          NaN  \nTotal Expenses                                               NaN          NaN  \nTotal Operating Income As Reported                           NaN          NaN  \nDiluted Average Shares                                       NaN          NaN  \nBasic Average Shares                                         NaN          NaN  \nDiluted EPS                                                  NaN          NaN  \nBasic EPS                                                    NaN          NaN  \nDiluted NI Availto Com Stockholders                          NaN          NaN  \nNet Income Common Stockholders                               NaN          NaN  \nNet Income                                                   NaN          NaN  \nNet Income Including Noncontrolling Interests                NaN          NaN  \nNet Income Continuous Operations                             NaN          NaN  \nTax Provision                                                NaN          NaN  \nPretax Income                                                NaN          NaN  \nOther Income Expense                                         NaN          NaN  \nOther Non Operating Income Expenses                          NaN          NaN  \nNet Non Operating Interest Income Expense           -135000000.0  -74000000.0  \nInterest Expense Non Operating                      1003000000.0  827000000.0  \nInterest Income Non Operating                        868000000.0  753000000.0  \nOperating Income                                             NaN          NaN  \nOperating Expense                                            NaN          NaN  \nResearch And Development                                     NaN          NaN  \nSelling General And Administration                           NaN          NaN  \nGross Profit                                                 NaN          NaN  \nCost Of Revenue                                              NaN          NaN  \nTotal Revenue                                                NaN          NaN  \nOperating Revenue                                            NaN          NaN  ",
      "text/html": "<div>\n<style scoped>\n    .dataframe tbody tr th:only-of-type {\n        vertical-align: middle;\n    }\n\n    .dataframe tbody tr th {\n        vertical-align: top;\n    }\n\n    .dataframe thead th {\n        text-align: right;\n    }\n</style>\n<table border=\"1\" class=\"dataframe\">\n  <thead>\n    <tr style=\"text-align: right;\">\n      <th></th>\n      <th>2024-03-31</th>\n      <th>2023-12-31</th>\n      <th>2023-09-30</th>\n      <th>2023-06-30</th>\n      <th>2023-03-31</th>\n      <th>2022-12-31</th>\n      <th>2022-09-30</th>\n    </tr>\n  </thead>\n  <tbody>\n    <tr>\n      <th>Tax Effect Of Unusual Items</th>\n      <td>0.0</td>\n      <td>0.0</td>\n      <td>0.0</td>\n      <td>0.0</td>\n      <td>0.0</td>\n      <td>NaN</td>\n      <td>NaN</td>\n    </tr>\n    <tr>\n      <th>Tax Rate For Calcs</th>\n      <td>0.158</td>\n      <td>0.159</td>\n      <td>0.149715</td>\n      <td>0.125</td>\n      <td>0.149</td>\n      <td>NaN</td>\n      <td>NaN</td>\n    </tr>\n    <tr>\n      <th>Normalized EBITDA</th>\n      <td>30736000000.0</td>\n      <td>43221000000.0</td>\n      <td>30653000000.0</td>\n      <td>26783000000.0</td>\n      <td>31216000000.0</td>\n      <td>NaN</td>\n      <td>NaN</td>\n    </tr>\n    <tr>\n      <th>Net Income From Continuing Operation Net Minority Interest</th>\n      <td>23636000000.0</td>\n      <td>33916000000.0</td>\n      <td>22956000000.0</td>\n      <td>19881000000.0</td>\n      <td>24160000000.0</td>\n      <td>NaN</td>\n      <td>NaN</td>\n    </tr>\n    <tr>\n      <th>Reconciled Depreciation</th>\n      <td>2836000000.0</td>\n      <td>2848000000.0</td>\n      <td>2653000000.0</td>\n      <td>3052000000.0</td>\n      <td>2898000000.0</td>\n      <td>NaN</td>\n      <td>NaN</td>\n    </tr>\n    <tr>\n      <th>Reconciled Cost Of Revenue</th>\n      <td>48482000000.0</td>\n      <td>64720000000.0</td>\n      <td>49071000000.0</td>\n      <td>45384000000.0</td>\n      <td>52860000000.0</td>\n      <td>NaN</td>\n      <td>NaN</td>\n    </tr>\n    <tr>\n      <th>EBITDA</th>\n      <td>30736000000.0</td>\n      <td>43221000000.0</td>\n      <td>30653000000.0</td>\n      <td>26783000000.0</td>\n      <td>31216000000.0</td>\n      <td>NaN</td>\n      <td>NaN</td>\n    </tr>\n    <tr>\n      <th>EBIT</th>\n      <td>27900000000.0</td>\n      <td>40373000000.0</td>\n      <td>28000000000.0</td>\n      <td>23731000000.0</td>\n      <td>28318000000.0</td>\n      <td>NaN</td>\n      <td>NaN</td>\n    </tr>\n    <tr>\n      <th>Net Interest Income</th>\n      <td>NaN</td>\n      <td>NaN</td>\n      <td>-18000000.0</td>\n      <td>-18000000.0</td>\n      <td>-12000000.0</td>\n      <td>-135000000.0</td>\n      <td>-74000000.0</td>\n    </tr>\n    <tr>\n      <th>Interest Expense</th>\n      <td>NaN</td>\n      <td>NaN</td>\n      <td>1002000000.0</td>\n      <td>998000000.0</td>\n      <td>930000000.0</td>\n      <td>1003000000.0</td>\n      <td>827000000.0</td>\n    </tr>\n    <tr>\n      <th>Interest Income</th>\n      <td>NaN</td>\n      <td>NaN</td>\n      <td>984000000.0</td>\n      <td>980000000.0</td>\n      <td>918000000.0</td>\n      <td>868000000.0</td>\n      <td>753000000.0</td>\n    </tr>\n    <tr>\n      <th>Normalized Income</th>\n      <td>23636000000.0</td>\n      <td>33916000000.0</td>\n      <td>22956000000.0</td>\n      <td>19881000000.0</td>\n      <td>24160000000.0</td>\n      <td>NaN</td>\n      <td>NaN</td>\n    </tr>\n    <tr>\n      <th>Net Income From Continuing And Discontinued Operation</th>\n      <td>23636000000.0</td>\n      <td>33916000000.0</td>\n      <td>22956000000.0</td>\n      <td>19881000000.0</td>\n      <td>24160000000.0</td>\n      <td>NaN</td>\n      <td>NaN</td>\n    </tr>\n    <tr>\n      <th>Total Expenses</th>\n      <td>62853000000.0</td>\n      <td>79202000000.0</td>\n      <td>62529000000.0</td>\n      <td>58799000000.0</td>\n      <td>66518000000.0</td>\n      <td>NaN</td>\n      <td>NaN</td>\n    </tr>\n    <tr>\n      <th>Total Operating Income As Reported</th>\n      <td>27900000000.0</td>\n      <td>40373000000.0</td>\n      <td>26969000000.0</td>\n      <td>22998000000.0</td>\n      <td>28318000000.0</td>\n      <td>NaN</td>\n      <td>NaN</td>\n    </tr>\n    <tr>\n      <th>Diluted Average Shares</th>\n      <td>15464709000.0</td>\n      <td>15576641000.0</td>\n      <td>15672400000.0</td>\n      <td>15775021000.0</td>\n      <td>15847050000.0</td>\n      <td>NaN</td>\n      <td>NaN</td>\n    </tr>\n    <tr>\n      <th>Basic Average Shares</th>\n      <td>15405856000.0</td>\n      <td>15509763000.0</td>\n      <td>15599434000.0</td>\n      <td>15697614000.0</td>\n      <td>15787154000.0</td>\n      <td>NaN</td>\n      <td>NaN</td>\n    </tr>\n    <tr>\n      <th>Diluted EPS</th>\n      <td>1.53</td>\n      <td>2.18</td>\n      <td>1.46</td>\n      <td>1.26</td>\n      <td>1.52</td>\n      <td>NaN</td>\n      <td>NaN</td>\n    </tr>\n    <tr>\n      <th>Basic EPS</th>\n      <td>1.53</td>\n      <td>2.19</td>\n      <td>1.47</td>\n      <td>1.27</td>\n      <td>1.53</td>\n      <td>NaN</td>\n      <td>NaN</td>\n    </tr>\n    <tr>\n      <th>Diluted NI Availto Com Stockholders</th>\n      <td>23636000000.0</td>\n      <td>33916000000.0</td>\n      <td>22956000000.0</td>\n      <td>19881000000.0</td>\n      <td>24160000000.0</td>\n      <td>NaN</td>\n      <td>NaN</td>\n    </tr>\n    <tr>\n      <th>Net Income Common Stockholders</th>\n      <td>23636000000.0</td>\n      <td>33916000000.0</td>\n      <td>22956000000.0</td>\n      <td>19881000000.0</td>\n      <td>24160000000.0</td>\n      <td>NaN</td>\n      <td>NaN</td>\n    </tr>\n    <tr>\n      <th>Net Income</th>\n      <td>23636000000.0</td>\n      <td>33916000000.0</td>\n      <td>22956000000.0</td>\n      <td>19881000000.0</td>\n      <td>24160000000.0</td>\n      <td>NaN</td>\n      <td>NaN</td>\n    </tr>\n    <tr>\n      <th>Net Income Including Noncontrolling Interests</th>\n      <td>23636000000.0</td>\n      <td>33916000000.0</td>\n      <td>22956000000.0</td>\n      <td>19881000000.0</td>\n      <td>24160000000.0</td>\n      <td>NaN</td>\n      <td>NaN</td>\n    </tr>\n    <tr>\n      <th>Net Income Continuous Operations</th>\n      <td>23636000000.0</td>\n      <td>33916000000.0</td>\n      <td>22956000000.0</td>\n      <td>19881000000.0</td>\n      <td>24160000000.0</td>\n      <td>NaN</td>\n      <td>NaN</td>\n    </tr>\n    <tr>\n      <th>Tax Provision</th>\n      <td>4422000000.0</td>\n      <td>6407000000.0</td>\n      <td>4042000000.0</td>\n      <td>2852000000.0</td>\n      <td>4222000000.0</td>\n      <td>NaN</td>\n      <td>NaN</td>\n    </tr>\n    <tr>\n      <th>Pretax Income</th>\n      <td>28058000000.0</td>\n      <td>40323000000.0</td>\n      <td>26998000000.0</td>\n      <td>22733000000.0</td>\n      <td>28382000000.0</td>\n      <td>NaN</td>\n      <td>NaN</td>\n    </tr>\n    <tr>\n      <th>Other Income Expense</th>\n      <td>158000000.0</td>\n      <td>-50000000.0</td>\n      <td>47000000.0</td>\n      <td>-247000000.0</td>\n      <td>64000000.0</td>\n      <td>NaN</td>\n      <td>NaN</td>\n    </tr>\n    <tr>\n      <th>Other Non Operating Income Expenses</th>\n      <td>158000000.0</td>\n      <td>-50000000.0</td>\n      <td>47000000.0</td>\n      <td>-247000000.0</td>\n      <td>64000000.0</td>\n      <td>NaN</td>\n      <td>NaN</td>\n    </tr>\n    <tr>\n      <th>Net Non Operating Interest Income Expense</th>\n      <td>NaN</td>\n      <td>NaN</td>\n      <td>-18000000.0</td>\n      <td>-18000000.0</td>\n      <td>-12000000.0</td>\n      <td>-135000000.0</td>\n      <td>-74000000.0</td>\n    </tr>\n    <tr>\n      <th>Interest Expense Non Operating</th>\n      <td>NaN</td>\n      <td>NaN</td>\n      <td>1002000000.0</td>\n      <td>998000000.0</td>\n      <td>930000000.0</td>\n      <td>1003000000.0</td>\n      <td>827000000.0</td>\n    </tr>\n    <tr>\n      <th>Interest Income Non Operating</th>\n      <td>NaN</td>\n      <td>NaN</td>\n      <td>984000000.0</td>\n      <td>980000000.0</td>\n      <td>918000000.0</td>\n      <td>868000000.0</td>\n      <td>753000000.0</td>\n    </tr>\n    <tr>\n      <th>Operating Income</th>\n      <td>27900000000.0</td>\n      <td>40373000000.0</td>\n      <td>26969000000.0</td>\n      <td>22998000000.0</td>\n      <td>28318000000.0</td>\n      <td>NaN</td>\n      <td>NaN</td>\n    </tr>\n    <tr>\n      <th>Operating Expense</th>\n      <td>14371000000.0</td>\n      <td>14482000000.0</td>\n      <td>13458000000.0</td>\n      <td>13415000000.0</td>\n      <td>13658000000.0</td>\n      <td>NaN</td>\n      <td>NaN</td>\n    </tr>\n    <tr>\n      <th>Research And Development</th>\n      <td>7903000000.0</td>\n      <td>7696000000.0</td>\n      <td>7307000000.0</td>\n      <td>7442000000.0</td>\n      <td>7457000000.0</td>\n      <td>NaN</td>\n      <td>NaN</td>\n    </tr>\n    <tr>\n      <th>Selling General And Administration</th>\n      <td>6468000000.0</td>\n      <td>6786000000.0</td>\n      <td>6151000000.0</td>\n      <td>5973000000.0</td>\n      <td>6201000000.0</td>\n      <td>NaN</td>\n      <td>NaN</td>\n    </tr>\n    <tr>\n      <th>Gross Profit</th>\n      <td>42271000000.0</td>\n      <td>54855000000.0</td>\n      <td>40427000000.0</td>\n      <td>36413000000.0</td>\n      <td>41976000000.0</td>\n      <td>NaN</td>\n      <td>NaN</td>\n    </tr>\n    <tr>\n      <th>Cost Of Revenue</th>\n      <td>48482000000.0</td>\n      <td>64720000000.0</td>\n      <td>49071000000.0</td>\n      <td>45384000000.0</td>\n      <td>52860000000.0</td>\n      <td>NaN</td>\n      <td>NaN</td>\n    </tr>\n    <tr>\n      <th>Total Revenue</th>\n      <td>90753000000.0</td>\n      <td>119575000000.0</td>\n      <td>89498000000.0</td>\n      <td>81797000000.0</td>\n      <td>94836000000.0</td>\n      <td>NaN</td>\n      <td>NaN</td>\n    </tr>\n    <tr>\n      <th>Operating Revenue</th>\n      <td>90753000000.0</td>\n      <td>119575000000.0</td>\n      <td>89498000000.0</td>\n      <td>81797000000.0</td>\n      <td>94836000000.0</td>\n      <td>NaN</td>\n      <td>NaN</td>\n    </tr>\n  </tbody>\n</table>\n</div>"
     },
     "execution_count": 154,
     "metadata": {},
     "output_type": "execute_result"
    }
   ],
   "source": [
    "stock_data.quarterly_income_stmt"
   ],
   "metadata": {
    "collapsed": false
   }
  },
  {
   "cell_type": "markdown",
   "source": [
    "## 5. 盈利数据"
   ],
   "metadata": {
    "collapsed": false
   }
  },
  {
   "cell_type": "markdown",
   "source": [
    "### 年度和季度盈利数据\n",
    "earnings：获取公司的历史年度和季度盈利数据。\n",
    "**当前未实现**"
   ],
   "metadata": {
    "collapsed": false
   }
  },
  {
   "cell_type": "code",
   "execution_count": 136,
   "outputs": [
    {
     "ename": "YFNotImplementedError",
     "evalue": "Have not implemented fetching 'earnings' from Yahoo API",
     "output_type": "error",
     "traceback": [
      "\u001B[0;31m---------------------------------------------------------------------------\u001B[0m",
      "\u001B[0;31mYFNotImplementedError\u001B[0m                     Traceback (most recent call last)",
      "Cell \u001B[0;32mIn[136], line 1\u001B[0m\n\u001B[0;32m----> 1\u001B[0m earnings \u001B[38;5;241m=\u001B[39m \u001B[43mstock_data\u001B[49m\u001B[38;5;241;43m.\u001B[39;49m\u001B[43mearnings\u001B[49m\n\u001B[1;32m      2\u001B[0m earnings\n",
      "File \u001B[0;32m~/Documents/ProgramingGuide/SourceCode/GithubRepo/everyfine/GeniusAI/GeniusChatbots/venv/lib/python3.9/site-packages/yfinance/ticker.py:180\u001B[0m, in \u001B[0;36mTicker.earnings\u001B[0;34m(self)\u001B[0m\n\u001B[1;32m    178\u001B[0m \u001B[38;5;129m@property\u001B[39m\n\u001B[1;32m    179\u001B[0m \u001B[38;5;28;01mdef\u001B[39;00m \u001B[38;5;21mearnings\u001B[39m(\u001B[38;5;28mself\u001B[39m) \u001B[38;5;241m-\u001B[39m\u001B[38;5;241m>\u001B[39m _pd\u001B[38;5;241m.\u001B[39mDataFrame:\n\u001B[0;32m--> 180\u001B[0m     \u001B[38;5;28;01mreturn\u001B[39;00m \u001B[38;5;28;43mself\u001B[39;49m\u001B[38;5;241;43m.\u001B[39;49m\u001B[43mget_earnings\u001B[49m\u001B[43m(\u001B[49m\u001B[43m)\u001B[49m\n",
      "File \u001B[0;32m~/Documents/ProgramingGuide/SourceCode/GithubRepo/everyfine/GeniusAI/GeniusChatbots/venv/lib/python3.9/site-packages/yfinance/base.py:292\u001B[0m, in \u001B[0;36mTickerBase.get_earnings\u001B[0;34m(self, proxy, as_dict, freq)\u001B[0m\n\u001B[1;32m    279\u001B[0m \u001B[38;5;250m\u001B[39m\u001B[38;5;124;03m\"\"\"\u001B[39;00m\n\u001B[1;32m    280\u001B[0m \u001B[38;5;124;03m:Parameters:\u001B[39;00m\n\u001B[1;32m    281\u001B[0m \u001B[38;5;124;03m    as_dict: bool\u001B[39;00m\n\u001B[0;32m   (...)\u001B[0m\n\u001B[1;32m    289\u001B[0m \u001B[38;5;124;03m        Default is None\u001B[39;00m\n\u001B[1;32m    290\u001B[0m \u001B[38;5;124;03m\"\"\"\u001B[39;00m\n\u001B[1;32m    291\u001B[0m \u001B[38;5;28mself\u001B[39m\u001B[38;5;241m.\u001B[39m_fundamentals\u001B[38;5;241m.\u001B[39mproxy \u001B[38;5;241m=\u001B[39m proxy \u001B[38;5;129;01mor\u001B[39;00m \u001B[38;5;28mself\u001B[39m\u001B[38;5;241m.\u001B[39mproxy\n\u001B[0;32m--> 292\u001B[0m data \u001B[38;5;241m=\u001B[39m \u001B[38;5;28;43mself\u001B[39;49m\u001B[38;5;241;43m.\u001B[39;49m\u001B[43m_fundamentals\u001B[49m\u001B[38;5;241;43m.\u001B[39;49m\u001B[43mearnings\u001B[49m[freq]\n\u001B[1;32m    293\u001B[0m \u001B[38;5;28;01mif\u001B[39;00m as_dict:\n\u001B[1;32m    294\u001B[0m     dict_data \u001B[38;5;241m=\u001B[39m data\u001B[38;5;241m.\u001B[39mto_dict()\n",
      "File \u001B[0;32m~/Documents/ProgramingGuide/SourceCode/GithubRepo/everyfine/GeniusAI/GeniusChatbots/venv/lib/python3.9/site-packages/yfinance/scrapers/fundamentals.py:34\u001B[0m, in \u001B[0;36mFundamentals.earnings\u001B[0;34m(self)\u001B[0m\n\u001B[1;32m     31\u001B[0m \u001B[38;5;129m@property\u001B[39m\n\u001B[1;32m     32\u001B[0m \u001B[38;5;28;01mdef\u001B[39;00m \u001B[38;5;21mearnings\u001B[39m(\u001B[38;5;28mself\u001B[39m) \u001B[38;5;241m-\u001B[39m\u001B[38;5;241m>\u001B[39m \u001B[38;5;28mdict\u001B[39m:\n\u001B[1;32m     33\u001B[0m     \u001B[38;5;28;01mif\u001B[39;00m \u001B[38;5;28mself\u001B[39m\u001B[38;5;241m.\u001B[39m_earnings \u001B[38;5;129;01mis\u001B[39;00m \u001B[38;5;28;01mNone\u001B[39;00m:\n\u001B[0;32m---> 34\u001B[0m         \u001B[38;5;28;01mraise\u001B[39;00m YFNotImplementedError(\u001B[38;5;124m'\u001B[39m\u001B[38;5;124mearnings\u001B[39m\u001B[38;5;124m'\u001B[39m)\n\u001B[1;32m     35\u001B[0m     \u001B[38;5;28;01mreturn\u001B[39;00m \u001B[38;5;28mself\u001B[39m\u001B[38;5;241m.\u001B[39m_earnings\n",
      "\u001B[0;31mYFNotImplementedError\u001B[0m: Have not implemented fetching 'earnings' from Yahoo API"
     ]
    }
   ],
   "source": [
    "earnings = stock_data.earnings\n",
    "earnings"
   ],
   "metadata": {
    "collapsed": false
   }
  },
  {
   "cell_type": "markdown",
   "source": [
    "### earnings_dates: 这个属性提供了公司即将发布财报的具体日期\n"
   ],
   "metadata": {
    "collapsed": false
   }
  },
  {
   "cell_type": "code",
   "execution_count": null,
   "outputs": [],
   "source": [
    "# Show future and historic earnings dates, returns at most next 4 quarters and last 8 quarters by default.\n",
    "# Note: If more are needed use stock_data.get_earnings_dates(limit=XX) with increased limit argument.\n",
    "earnings_date = stock_data.earnings_dates\n",
    "earnings_date"
   ],
   "metadata": {
    "collapsed": false
   }
  },
  {
   "cell_type": "markdown",
   "source": [
    "## 6. 分析师预测和评级:"
   ],
   "metadata": {
    "collapsed": false
   }
  },
  {
   "cell_type": "markdown",
   "source": [
    "### 盈利趋势 earnings_trend\n",
    "关于公司未来盈利预期的趋势和分析师的预测\n",
    "**当前未实现**"
   ],
   "metadata": {
    "collapsed": false
   }
  },
  {
   "cell_type": "code",
   "execution_count": null,
   "outputs": [],
   "source": [
    "earnings_trend = stock_data.earnings_trend\n",
    "earnings_trend"
   ],
   "metadata": {
    "collapsed": false
   }
  },
  {
   "cell_type": "markdown",
   "source": [
    "### 盈利预测 earnings_forecasts\n",
    "\n",
    "对公司未来某一特定期间（如下一个季度或财年）的盈利预测\n",
    "**当前未实现**"
   ],
   "metadata": {
    "collapsed": false
   }
  },
  {
   "cell_type": "code",
   "execution_count": null,
   "outputs": [],
   "source": [
    "earnings_forecast = stock_data.earnings_forecasts\n",
    "earnings_forecast\n",
    "\n"
   ],
   "metadata": {
    "collapsed": false
   }
  },
  {
   "cell_type": "markdown",
   "source": [
    "### 历史评级和推荐\n",
    "recommendations: 获取历史上分析师对股票的评级和推荐。"
   ],
   "metadata": {
    "collapsed": false
   }
  },
  {
   "cell_type": "code",
   "execution_count": null,
   "outputs": [],
   "source": [
    "analyst_recommendations = stock_data.recommendations\n",
    "analyst_recommendations"
   ],
   "metadata": {
    "collapsed": false
   }
  },
  {
   "cell_type": "code",
   "execution_count": 157,
   "outputs": [
    {
     "data": {
      "text/plain": "  period  strongBuy  buy  hold  sell  strongSell\n0     0m         11   21     6     0           0\n1    -1m         10   19    13     1           0\n2    -2m         10   17    12     2           0\n3    -3m         10   24     7     1           0",
      "text/html": "<div>\n<style scoped>\n    .dataframe tbody tr th:only-of-type {\n        vertical-align: middle;\n    }\n\n    .dataframe tbody tr th {\n        vertical-align: top;\n    }\n\n    .dataframe thead th {\n        text-align: right;\n    }\n</style>\n<table border=\"1\" class=\"dataframe\">\n  <thead>\n    <tr style=\"text-align: right;\">\n      <th></th>\n      <th>period</th>\n      <th>strongBuy</th>\n      <th>buy</th>\n      <th>hold</th>\n      <th>sell</th>\n      <th>strongSell</th>\n    </tr>\n  </thead>\n  <tbody>\n    <tr>\n      <th>0</th>\n      <td>0m</td>\n      <td>11</td>\n      <td>21</td>\n      <td>6</td>\n      <td>0</td>\n      <td>0</td>\n    </tr>\n    <tr>\n      <th>1</th>\n      <td>-1m</td>\n      <td>10</td>\n      <td>19</td>\n      <td>13</td>\n      <td>1</td>\n      <td>0</td>\n    </tr>\n    <tr>\n      <th>2</th>\n      <td>-2m</td>\n      <td>10</td>\n      <td>17</td>\n      <td>12</td>\n      <td>2</td>\n      <td>0</td>\n    </tr>\n    <tr>\n      <th>3</th>\n      <td>-3m</td>\n      <td>10</td>\n      <td>24</td>\n      <td>7</td>\n      <td>1</td>\n      <td>0</td>\n    </tr>\n  </tbody>\n</table>\n</div>"
     },
     "execution_count": 157,
     "metadata": {},
     "output_type": "execute_result"
    }
   ],
   "source": [
    "stock_data.recommendations_summary"
   ],
   "metadata": {
    "collapsed": false
   }
  },
  {
   "cell_type": "markdown",
   "source": [
    "### 评级变动信息"
   ],
   "metadata": {
    "collapsed": false
   }
  },
  {
   "cell_type": "code",
   "execution_count": 158,
   "outputs": [
    {
     "data": {
      "text/plain": "                                       Firm         ToGrade    FromGrade  \\\nGradeDate                                                                  \n2024-06-14 16:16:23             Erste Group             Buy         Hold   \n2024-06-12 11:35:48       B of A Securities             Buy          Buy   \n2024-06-11 14:11:41             DA Davidson             Buy      Neutral   \n2024-06-11 13:29:16                Barclays     Underweight  Underweight   \n2024-06-11 11:22:24                     UBS         Neutral      Neutral   \n...                                     ...             ...          ...   \n2014-01-02 21:00:00             Wells Fargo  Market Perform   Outperform   \n2013-12-23 21:00:00          FBN Securities      Outperform                \n2013-12-19 21:00:00               JP Morgan      Overweight                \n2013-12-19 13:32:40  Monness, Crespi, Hardt             Buy                \n2012-09-12 11:51:00           Hudson Square             Buy                \n\n                    Action  \nGradeDate                   \n2024-06-14 16:16:23     up  \n2024-06-12 11:35:48   main  \n2024-06-11 14:11:41     up  \n2024-06-11 13:29:16   reit  \n2024-06-11 11:22:24   main  \n...                    ...  \n2014-01-02 21:00:00   down  \n2013-12-23 21:00:00   main  \n2013-12-19 21:00:00   main  \n2013-12-19 13:32:40   main  \n2012-09-12 11:51:00   main  \n\n[968 rows x 4 columns]",
      "text/html": "<div>\n<style scoped>\n    .dataframe tbody tr th:only-of-type {\n        vertical-align: middle;\n    }\n\n    .dataframe tbody tr th {\n        vertical-align: top;\n    }\n\n    .dataframe thead th {\n        text-align: right;\n    }\n</style>\n<table border=\"1\" class=\"dataframe\">\n  <thead>\n    <tr style=\"text-align: right;\">\n      <th></th>\n      <th>Firm</th>\n      <th>ToGrade</th>\n      <th>FromGrade</th>\n      <th>Action</th>\n    </tr>\n    <tr>\n      <th>GradeDate</th>\n      <th></th>\n      <th></th>\n      <th></th>\n      <th></th>\n    </tr>\n  </thead>\n  <tbody>\n    <tr>\n      <th>2024-06-14 16:16:23</th>\n      <td>Erste Group</td>\n      <td>Buy</td>\n      <td>Hold</td>\n      <td>up</td>\n    </tr>\n    <tr>\n      <th>2024-06-12 11:35:48</th>\n      <td>B of A Securities</td>\n      <td>Buy</td>\n      <td>Buy</td>\n      <td>main</td>\n    </tr>\n    <tr>\n      <th>2024-06-11 14:11:41</th>\n      <td>DA Davidson</td>\n      <td>Buy</td>\n      <td>Neutral</td>\n      <td>up</td>\n    </tr>\n    <tr>\n      <th>2024-06-11 13:29:16</th>\n      <td>Barclays</td>\n      <td>Underweight</td>\n      <td>Underweight</td>\n      <td>reit</td>\n    </tr>\n    <tr>\n      <th>2024-06-11 11:22:24</th>\n      <td>UBS</td>\n      <td>Neutral</td>\n      <td>Neutral</td>\n      <td>main</td>\n    </tr>\n    <tr>\n      <th>...</th>\n      <td>...</td>\n      <td>...</td>\n      <td>...</td>\n      <td>...</td>\n    </tr>\n    <tr>\n      <th>2014-01-02 21:00:00</th>\n      <td>Wells Fargo</td>\n      <td>Market Perform</td>\n      <td>Outperform</td>\n      <td>down</td>\n    </tr>\n    <tr>\n      <th>2013-12-23 21:00:00</th>\n      <td>FBN Securities</td>\n      <td>Outperform</td>\n      <td></td>\n      <td>main</td>\n    </tr>\n    <tr>\n      <th>2013-12-19 21:00:00</th>\n      <td>JP Morgan</td>\n      <td>Overweight</td>\n      <td></td>\n      <td>main</td>\n    </tr>\n    <tr>\n      <th>2013-12-19 13:32:40</th>\n      <td>Monness, Crespi, Hardt</td>\n      <td>Buy</td>\n      <td></td>\n      <td>main</td>\n    </tr>\n    <tr>\n      <th>2012-09-12 11:51:00</th>\n      <td>Hudson Square</td>\n      <td>Buy</td>\n      <td></td>\n      <td>main</td>\n    </tr>\n  </tbody>\n</table>\n<p>968 rows × 4 columns</p>\n</div>"
     },
     "execution_count": 158,
     "metadata": {},
     "output_type": "execute_result"
    }
   ],
   "source": [
    "stock_data.upgrades_downgrades"
   ],
   "metadata": {
    "collapsed": false
   }
  },
  {
   "cell_type": "markdown",
   "source": [
    "### 目标价格预测\n",
    "analyst_price_target：分析师对于某只股票的价格目标预测\n",
    "\n",
    "**当前未实现**"
   ],
   "metadata": {
    "collapsed": false
   }
  },
  {
   "cell_type": "code",
   "execution_count": null,
   "outputs": [],
   "source": [
    "analyst_price_target = stock_data.analyst_price_target\n",
    "analyst_price_target"
   ],
   "metadata": {
    "collapsed": false
   }
  },
  {
   "cell_type": "markdown",
   "source": [
    "## 7. 期权数据"
   ],
   "metadata": {
    "collapsed": false
   }
  },
  {
   "cell_type": "markdown",
   "source": [
    "### 可用期权到期日期\n",
    "options: 获取股票的可用期权到期日期"
   ],
   "metadata": {
    "collapsed": false
   }
  },
  {
   "cell_type": "code",
   "execution_count": null,
   "outputs": [],
   "source": [
    "# show options expirations\n",
    "options = stock_data.options\n",
    "options"
   ],
   "metadata": {
    "collapsed": false
   }
  },
  {
   "cell_type": "markdown",
   "source": [
    "### 期权链数据\n",
    "option_chain(date): 获取指定日期的期权链数据，包括看涨和看跌期权。"
   ],
   "metadata": {
    "collapsed": false
   }
  },
  {
   "cell_type": "code",
   "execution_count": null,
   "outputs": [],
   "source": [
    "# get option chain for specific expiration\n",
    "option_chain = stock_data.option_chain('2024–06–15')\n",
    "option_chain"
   ],
   "metadata": {
    "collapsed": false
   }
  },
  {
   "cell_type": "markdown",
   "source": [
    "## 8.持股信息"
   ],
   "metadata": {
    "collapsed": false
   }
  },
  {
   "cell_type": "markdown",
   "source": [
    "### 主要股东和持股比例\n",
    "major_holders: 列出主要股东和持股比例。"
   ],
   "metadata": {
    "collapsed": false
   }
  },
  {
   "cell_type": "code",
   "execution_count": 137,
   "outputs": [
    {
     "data": {
      "text/plain": "Breakdown                          Value\ninsidersPercentHeld              0.05220\ninstitutionsPercentHeld          0.57612\ninstitutionsFloatPercentHeld     0.60785\ninstitutionsCount             6327.00000",
      "text/html": "<div>\n<style scoped>\n    .dataframe tbody tr th:only-of-type {\n        vertical-align: middle;\n    }\n\n    .dataframe tbody tr th {\n        vertical-align: top;\n    }\n\n    .dataframe thead th {\n        text-align: right;\n    }\n</style>\n<table border=\"1\" class=\"dataframe\">\n  <thead>\n    <tr style=\"text-align: right;\">\n      <th>Breakdown</th>\n      <th>Value</th>\n    </tr>\n  </thead>\n  <tbody>\n    <tr>\n      <th>insidersPercentHeld</th>\n      <td>0.05220</td>\n    </tr>\n    <tr>\n      <th>institutionsPercentHeld</th>\n      <td>0.57612</td>\n    </tr>\n    <tr>\n      <th>institutionsFloatPercentHeld</th>\n      <td>0.60785</td>\n    </tr>\n    <tr>\n      <th>institutionsCount</th>\n      <td>6327.00000</td>\n    </tr>\n  </tbody>\n</table>\n</div>"
     },
     "execution_count": 137,
     "metadata": {},
     "output_type": "execute_result"
    }
   ],
   "source": [
    "major_holders = stock_data.major_holders\n",
    "major_holders"
   ],
   "metadata": {
    "collapsed": false
   }
  },
  {
   "cell_type": "markdown",
   "source": [
    "### 机构持股情况\n",
    "institutional_holders: 列出机构持股情况。"
   ],
   "metadata": {
    "collapsed": false
   }
  },
  {
   "cell_type": "code",
   "execution_count": 138,
   "outputs": [
    {
     "data": {
      "text/plain": "  Date Reported                             Holder  pctHeld      Shares  \\\n0    2023-06-30                 Vanguard Group Inc   0.0834  1303688506   \n1    2023-06-30                     Blackrock Inc.   0.0665  1039640859   \n2    2023-06-30            Berkshire Hathaway, Inc   0.0586   915560382   \n3    2023-06-30           State Street Corporation   0.0370   578897858   \n4    2023-06-30                           FMR, LLC   0.0196   307066638   \n5    2023-06-30      Geode Capital Management, LLC   0.0186   291538165   \n6    2023-06-30      Price (T.Rowe) Associates Inc   0.0145   226650943   \n7    2023-06-30                     Morgan Stanley   0.0131   204714950   \n8    2022-12-31  Norges Bank Investment Management   0.0107   167374278   \n9    2023-06-30         Northern Trust Corporation   0.0105   164536073   \n\n          Value  \n0  252876459508  \n1  201659137420  \n2  177591247296  \n3  112288817516  \n4   59561715772  \n5   56549657865  \n6   43963483413  \n7   39708558851  \n8   21746939940  \n9   31915062079  ",
      "text/html": "<div>\n<style scoped>\n    .dataframe tbody tr th:only-of-type {\n        vertical-align: middle;\n    }\n\n    .dataframe tbody tr th {\n        vertical-align: top;\n    }\n\n    .dataframe thead th {\n        text-align: right;\n    }\n</style>\n<table border=\"1\" class=\"dataframe\">\n  <thead>\n    <tr style=\"text-align: right;\">\n      <th></th>\n      <th>Date Reported</th>\n      <th>Holder</th>\n      <th>pctHeld</th>\n      <th>Shares</th>\n      <th>Value</th>\n    </tr>\n  </thead>\n  <tbody>\n    <tr>\n      <th>0</th>\n      <td>2023-06-30</td>\n      <td>Vanguard Group Inc</td>\n      <td>0.0834</td>\n      <td>1303688506</td>\n      <td>252876459508</td>\n    </tr>\n    <tr>\n      <th>1</th>\n      <td>2023-06-30</td>\n      <td>Blackrock Inc.</td>\n      <td>0.0665</td>\n      <td>1039640859</td>\n      <td>201659137420</td>\n    </tr>\n    <tr>\n      <th>2</th>\n      <td>2023-06-30</td>\n      <td>Berkshire Hathaway, Inc</td>\n      <td>0.0586</td>\n      <td>915560382</td>\n      <td>177591247296</td>\n    </tr>\n    <tr>\n      <th>3</th>\n      <td>2023-06-30</td>\n      <td>State Street Corporation</td>\n      <td>0.0370</td>\n      <td>578897858</td>\n      <td>112288817516</td>\n    </tr>\n    <tr>\n      <th>4</th>\n      <td>2023-06-30</td>\n      <td>FMR, LLC</td>\n      <td>0.0196</td>\n      <td>307066638</td>\n      <td>59561715772</td>\n    </tr>\n    <tr>\n      <th>5</th>\n      <td>2023-06-30</td>\n      <td>Geode Capital Management, LLC</td>\n      <td>0.0186</td>\n      <td>291538165</td>\n      <td>56549657865</td>\n    </tr>\n    <tr>\n      <th>6</th>\n      <td>2023-06-30</td>\n      <td>Price (T.Rowe) Associates Inc</td>\n      <td>0.0145</td>\n      <td>226650943</td>\n      <td>43963483413</td>\n    </tr>\n    <tr>\n      <th>7</th>\n      <td>2023-06-30</td>\n      <td>Morgan Stanley</td>\n      <td>0.0131</td>\n      <td>204714950</td>\n      <td>39708558851</td>\n    </tr>\n    <tr>\n      <th>8</th>\n      <td>2022-12-31</td>\n      <td>Norges Bank Investment Management</td>\n      <td>0.0107</td>\n      <td>167374278</td>\n      <td>21746939940</td>\n    </tr>\n    <tr>\n      <th>9</th>\n      <td>2023-06-30</td>\n      <td>Northern Trust Corporation</td>\n      <td>0.0105</td>\n      <td>164536073</td>\n      <td>31915062079</td>\n    </tr>\n  </tbody>\n</table>\n</div>"
     },
     "execution_count": 138,
     "metadata": {},
     "output_type": "execute_result"
    }
   ],
   "source": [
    "institutional_holders = stock_data.institutional_holders\n",
    "institutional_holders"
   ],
   "metadata": {
    "collapsed": false
   }
  },
  {
   "cell_type": "markdown",
   "source": [
    "### 共同基金持股情况\n",
    "mutualfund_holders: 列出共同基金持股情况。"
   ],
   "metadata": {
    "collapsed": false
   }
  },
  {
   "cell_type": "code",
   "execution_count": null,
   "outputs": [],
   "source": [
    "mutualfund_holders=stock_data.mutualfund_holders\n",
    "mutualfund_holders"
   ],
   "metadata": {
    "collapsed": false
   }
  },
  {
   "cell_type": "markdown",
   "source": [
    "### 公司内部人员持股情况\n",
    "insider_roster_holders: 公司内部人（insiders）的持股信息。这些内部人通常包括公司的高级管理人员、董事以及其他可能拥有公司重要非公开信息的关键员工。"
   ],
   "metadata": {
    "collapsed": false
   }
  },
  {
   "cell_type": "code",
   "execution_count": 139,
   "outputs": [
    {
     "data": {
      "text/plain": "                 Name                 Position URL  \\\n0   ADAMS KATHERINE L          General Counsel       \n1      COOK TIMOTHY D  Chief Executive Officer       \n2         JUNG ANDREA                 Director       \n3   KONDO CHRISTOPHER                  Officer       \n4   LEVINSON ARTHUR D                 Director       \n5        MAESTRI LUCA  Chief Financial Officer       \n6     O'BRIEN DEIRDRE                  Officer       \n7      SUGAR RONALD D                 Director       \n8      WAGNER SUSAN L                 Director       \n9  WILLIAMS JEFFREY E  Chief Operating Officer       \n\n                         Most Recent Transaction Latest Transaction Date  \\\n0                                     Stock Gift              2024-05-10   \n1                                           Sale              2024-04-02   \n2  Conversion of Exercise of derivative security              2024-02-01   \n3                                           Sale              2024-05-15   \n4                                           Sale              2024-05-30   \n5                                           Sale              2024-04-11   \n6                                           Sale              2024-04-02   \n7  Conversion of Exercise of derivative security              2024-02-01   \n8  Conversion of Exercise of derivative security              2024-02-01   \n9                                           Sale              2024-04-11   \n\n   Shares Owned Directly Position Direct Date  Shares Owned Indirectly  \\\n0               291543.0           2024-05-10                      NaN   \n1              3280180.0           2024-04-02                      NaN   \n2                74489.0           2024-02-01                      NaN   \n3                29278.0           2024-05-15                      NaN   \n4              4415580.0           2024-05-30                      NaN   \n5               107788.0           2024-04-11                      NaN   \n6               136572.0           2024-04-02                      NaN   \n7               107795.0           2024-02-01                      NaN   \n8                67375.0           2024-02-01                      NaN   \n9                    NaN                  NaT                 489944.0   \n\n   Position Indirect Date  \n0                     NaN  \n1                     NaN  \n2                     NaN  \n3                     NaN  \n4                     NaN  \n5                     NaN  \n6                     NaN  \n7                     NaN  \n8                     NaN  \n9            1.712794e+09  ",
      "text/html": "<div>\n<style scoped>\n    .dataframe tbody tr th:only-of-type {\n        vertical-align: middle;\n    }\n\n    .dataframe tbody tr th {\n        vertical-align: top;\n    }\n\n    .dataframe thead th {\n        text-align: right;\n    }\n</style>\n<table border=\"1\" class=\"dataframe\">\n  <thead>\n    <tr style=\"text-align: right;\">\n      <th></th>\n      <th>Name</th>\n      <th>Position</th>\n      <th>URL</th>\n      <th>Most Recent Transaction</th>\n      <th>Latest Transaction Date</th>\n      <th>Shares Owned Directly</th>\n      <th>Position Direct Date</th>\n      <th>Shares Owned Indirectly</th>\n      <th>Position Indirect Date</th>\n    </tr>\n  </thead>\n  <tbody>\n    <tr>\n      <th>0</th>\n      <td>ADAMS KATHERINE L</td>\n      <td>General Counsel</td>\n      <td></td>\n      <td>Stock Gift</td>\n      <td>2024-05-10</td>\n      <td>291543.0</td>\n      <td>2024-05-10</td>\n      <td>NaN</td>\n      <td>NaN</td>\n    </tr>\n    <tr>\n      <th>1</th>\n      <td>COOK TIMOTHY D</td>\n      <td>Chief Executive Officer</td>\n      <td></td>\n      <td>Sale</td>\n      <td>2024-04-02</td>\n      <td>3280180.0</td>\n      <td>2024-04-02</td>\n      <td>NaN</td>\n      <td>NaN</td>\n    </tr>\n    <tr>\n      <th>2</th>\n      <td>JUNG ANDREA</td>\n      <td>Director</td>\n      <td></td>\n      <td>Conversion of Exercise of derivative security</td>\n      <td>2024-02-01</td>\n      <td>74489.0</td>\n      <td>2024-02-01</td>\n      <td>NaN</td>\n      <td>NaN</td>\n    </tr>\n    <tr>\n      <th>3</th>\n      <td>KONDO CHRISTOPHER</td>\n      <td>Officer</td>\n      <td></td>\n      <td>Sale</td>\n      <td>2024-05-15</td>\n      <td>29278.0</td>\n      <td>2024-05-15</td>\n      <td>NaN</td>\n      <td>NaN</td>\n    </tr>\n    <tr>\n      <th>4</th>\n      <td>LEVINSON ARTHUR D</td>\n      <td>Director</td>\n      <td></td>\n      <td>Sale</td>\n      <td>2024-05-30</td>\n      <td>4415580.0</td>\n      <td>2024-05-30</td>\n      <td>NaN</td>\n      <td>NaN</td>\n    </tr>\n    <tr>\n      <th>5</th>\n      <td>MAESTRI LUCA</td>\n      <td>Chief Financial Officer</td>\n      <td></td>\n      <td>Sale</td>\n      <td>2024-04-11</td>\n      <td>107788.0</td>\n      <td>2024-04-11</td>\n      <td>NaN</td>\n      <td>NaN</td>\n    </tr>\n    <tr>\n      <th>6</th>\n      <td>O'BRIEN DEIRDRE</td>\n      <td>Officer</td>\n      <td></td>\n      <td>Sale</td>\n      <td>2024-04-02</td>\n      <td>136572.0</td>\n      <td>2024-04-02</td>\n      <td>NaN</td>\n      <td>NaN</td>\n    </tr>\n    <tr>\n      <th>7</th>\n      <td>SUGAR RONALD D</td>\n      <td>Director</td>\n      <td></td>\n      <td>Conversion of Exercise of derivative security</td>\n      <td>2024-02-01</td>\n      <td>107795.0</td>\n      <td>2024-02-01</td>\n      <td>NaN</td>\n      <td>NaN</td>\n    </tr>\n    <tr>\n      <th>8</th>\n      <td>WAGNER SUSAN L</td>\n      <td>Director</td>\n      <td></td>\n      <td>Conversion of Exercise of derivative security</td>\n      <td>2024-02-01</td>\n      <td>67375.0</td>\n      <td>2024-02-01</td>\n      <td>NaN</td>\n      <td>NaN</td>\n    </tr>\n    <tr>\n      <th>9</th>\n      <td>WILLIAMS JEFFREY E</td>\n      <td>Chief Operating Officer</td>\n      <td></td>\n      <td>Sale</td>\n      <td>2024-04-11</td>\n      <td>NaN</td>\n      <td>NaT</td>\n      <td>489944.0</td>\n      <td>1.712794e+09</td>\n    </tr>\n  </tbody>\n</table>\n</div>"
     },
     "execution_count": 139,
     "metadata": {},
     "output_type": "execute_result"
    }
   ],
   "source": [
    "insider_roster_holders = stock_data.insider_roster_holders\n",
    "insider_roster_holders"
   ],
   "metadata": {
    "collapsed": false
   }
  },
  {
   "cell_type": "markdown",
   "source": [
    "### 内部人交易记录\n",
    "\n",
    "insider_transactions： 指的是公司内部人（如高管、董事及其他关键员工）的股票交易记录。这些交易包括买入、卖出、期权行使等各种形式的股票交易活动。"
   ],
   "metadata": {
    "collapsed": false
   }
  },
  {
   "cell_type": "code",
   "execution_count": 155,
   "outputs": [
    {
     "data": {
      "text/plain": "     Shares       Value URL                                      Text  \\\n0     75000  14368500.0               Sale at price 191.58 per share.   \n1      4999    951785.0               Sale at price 190.40 per share.   \n2      1850         0.0           Stock Gift at price 0.00 per share.   \n3      8119         NaN                                                 \n4     59162  10188880.0               Sale at price 172.22 per share.   \n..      ...         ...  ..                                       ...   \n145   17000   1877109.0      Sale at price 109.22 - 110.99 per share.   \n146   14840   1800686.0               Sale at price 121.34 per share.   \n147   31200   3737869.0      Sale at price 119.58 - 120.14 per share.   \n148   23652         NaN                                                 \n149   66532         NaN                                                 \n\n                Insider                 Position Transaction Start Date  \\\n0     LEVINSON ARTHUR D                 Director             2024-05-30   \n1     KONDO CHRISTOPHER                  Officer             2024-05-15   \n2     ADAMS KATHERINE L          General Counsel             2024-05-10   \n3     KONDO CHRISTOPHER                  Officer             2024-04-15   \n4    WILLIAMS JEFFREY E  Chief Operating Officer             2024-04-11   \n..                  ...                      ...         ...        ...   \n145   ADAMS KATHERINE L          General Counsel             2020-11-03   \n146   KONDO CHRISTOPHER                  Officer             2020-10-16   \n147     O'BRIEN DEIRDRE                  Officer             2020-10-16   \n148   KONDO CHRISTOPHER                  Officer             2020-10-15   \n149     O'BRIEN DEIRDRE                  Officer             2020-10-15   \n\n    Ownership  \n0           D  \n1           D  \n2           D  \n3           D  \n4           I  \n..        ...  \n145         D  \n146         D  \n147         D  \n148         D  \n149         D  \n\n[150 rows x 9 columns]",
      "text/html": "<div>\n<style scoped>\n    .dataframe tbody tr th:only-of-type {\n        vertical-align: middle;\n    }\n\n    .dataframe tbody tr th {\n        vertical-align: top;\n    }\n\n    .dataframe thead th {\n        text-align: right;\n    }\n</style>\n<table border=\"1\" class=\"dataframe\">\n  <thead>\n    <tr style=\"text-align: right;\">\n      <th></th>\n      <th>Shares</th>\n      <th>Value</th>\n      <th>URL</th>\n      <th>Text</th>\n      <th>Insider</th>\n      <th>Position</th>\n      <th>Transaction</th>\n      <th>Start Date</th>\n      <th>Ownership</th>\n    </tr>\n  </thead>\n  <tbody>\n    <tr>\n      <th>0</th>\n      <td>75000</td>\n      <td>14368500.0</td>\n      <td></td>\n      <td>Sale at price 191.58 per share.</td>\n      <td>LEVINSON ARTHUR D</td>\n      <td>Director</td>\n      <td></td>\n      <td>2024-05-30</td>\n      <td>D</td>\n    </tr>\n    <tr>\n      <th>1</th>\n      <td>4999</td>\n      <td>951785.0</td>\n      <td></td>\n      <td>Sale at price 190.40 per share.</td>\n      <td>KONDO CHRISTOPHER</td>\n      <td>Officer</td>\n      <td></td>\n      <td>2024-05-15</td>\n      <td>D</td>\n    </tr>\n    <tr>\n      <th>2</th>\n      <td>1850</td>\n      <td>0.0</td>\n      <td></td>\n      <td>Stock Gift at price 0.00 per share.</td>\n      <td>ADAMS KATHERINE L</td>\n      <td>General Counsel</td>\n      <td></td>\n      <td>2024-05-10</td>\n      <td>D</td>\n    </tr>\n    <tr>\n      <th>3</th>\n      <td>8119</td>\n      <td>NaN</td>\n      <td></td>\n      <td></td>\n      <td>KONDO CHRISTOPHER</td>\n      <td>Officer</td>\n      <td></td>\n      <td>2024-04-15</td>\n      <td>D</td>\n    </tr>\n    <tr>\n      <th>4</th>\n      <td>59162</td>\n      <td>10188880.0</td>\n      <td></td>\n      <td>Sale at price 172.22 per share.</td>\n      <td>WILLIAMS JEFFREY E</td>\n      <td>Chief Operating Officer</td>\n      <td></td>\n      <td>2024-04-11</td>\n      <td>I</td>\n    </tr>\n    <tr>\n      <th>...</th>\n      <td>...</td>\n      <td>...</td>\n      <td>...</td>\n      <td>...</td>\n      <td>...</td>\n      <td>...</td>\n      <td>...</td>\n      <td>...</td>\n      <td>...</td>\n    </tr>\n    <tr>\n      <th>145</th>\n      <td>17000</td>\n      <td>1877109.0</td>\n      <td></td>\n      <td>Sale at price 109.22 - 110.99 per share.</td>\n      <td>ADAMS KATHERINE L</td>\n      <td>General Counsel</td>\n      <td></td>\n      <td>2020-11-03</td>\n      <td>D</td>\n    </tr>\n    <tr>\n      <th>146</th>\n      <td>14840</td>\n      <td>1800686.0</td>\n      <td></td>\n      <td>Sale at price 121.34 per share.</td>\n      <td>KONDO CHRISTOPHER</td>\n      <td>Officer</td>\n      <td></td>\n      <td>2020-10-16</td>\n      <td>D</td>\n    </tr>\n    <tr>\n      <th>147</th>\n      <td>31200</td>\n      <td>3737869.0</td>\n      <td></td>\n      <td>Sale at price 119.58 - 120.14 per share.</td>\n      <td>O'BRIEN DEIRDRE</td>\n      <td>Officer</td>\n      <td></td>\n      <td>2020-10-16</td>\n      <td>D</td>\n    </tr>\n    <tr>\n      <th>148</th>\n      <td>23652</td>\n      <td>NaN</td>\n      <td></td>\n      <td></td>\n      <td>KONDO CHRISTOPHER</td>\n      <td>Officer</td>\n      <td></td>\n      <td>2020-10-15</td>\n      <td>D</td>\n    </tr>\n    <tr>\n      <th>149</th>\n      <td>66532</td>\n      <td>NaN</td>\n      <td></td>\n      <td></td>\n      <td>O'BRIEN DEIRDRE</td>\n      <td>Officer</td>\n      <td></td>\n      <td>2020-10-15</td>\n      <td>D</td>\n    </tr>\n  </tbody>\n</table>\n<p>150 rows × 9 columns</p>\n</div>"
     },
     "execution_count": 155,
     "metadata": {},
     "output_type": "execute_result"
    }
   ],
   "source": [
    "stock_data.insider_transactions"
   ],
   "metadata": {
    "collapsed": false
   }
  },
  {
   "cell_type": "markdown",
   "source": [
    "### 公司内部人购买公司股票记录\n",
    "insider_purchases：公司内部人（如高管、董事及其他关键员工）购买公司股票的记录。"
   ],
   "metadata": {
    "collapsed": false
   }
  },
  {
   "cell_type": "code",
   "execution_count": 156,
   "outputs": [
    {
     "data": {
      "text/plain": "       Insider Purchases Last 6m     Shares  Trans\n0                      Purchases     674431     15\n1                          Sales     598229      8\n2    Net Shares Purchased (Sold)      76202     23\n3      Total Insider Shares Held  800439040   <NA>\n4  % Net Shares Purchased (Sold)          0   <NA>\n5                   % Buy Shares          0   <NA>\n6                  % Sell Shares          0   <NA>",
      "text/html": "<div>\n<style scoped>\n    .dataframe tbody tr th:only-of-type {\n        vertical-align: middle;\n    }\n\n    .dataframe tbody tr th {\n        vertical-align: top;\n    }\n\n    .dataframe thead th {\n        text-align: right;\n    }\n</style>\n<table border=\"1\" class=\"dataframe\">\n  <thead>\n    <tr style=\"text-align: right;\">\n      <th></th>\n      <th>Insider Purchases Last 6m</th>\n      <th>Shares</th>\n      <th>Trans</th>\n    </tr>\n  </thead>\n  <tbody>\n    <tr>\n      <th>0</th>\n      <td>Purchases</td>\n      <td>674431</td>\n      <td>15</td>\n    </tr>\n    <tr>\n      <th>1</th>\n      <td>Sales</td>\n      <td>598229</td>\n      <td>8</td>\n    </tr>\n    <tr>\n      <th>2</th>\n      <td>Net Shares Purchased (Sold)</td>\n      <td>76202</td>\n      <td>23</td>\n    </tr>\n    <tr>\n      <th>3</th>\n      <td>Total Insider Shares Held</td>\n      <td>800439040</td>\n      <td>&lt;NA&gt;</td>\n    </tr>\n    <tr>\n      <th>4</th>\n      <td>% Net Shares Purchased (Sold)</td>\n      <td>0</td>\n      <td>&lt;NA&gt;</td>\n    </tr>\n    <tr>\n      <th>5</th>\n      <td>% Buy Shares</td>\n      <td>0</td>\n      <td>&lt;NA&gt;</td>\n    </tr>\n    <tr>\n      <th>6</th>\n      <td>% Sell Shares</td>\n      <td>0</td>\n      <td>&lt;NA&gt;</td>\n    </tr>\n  </tbody>\n</table>\n</div>"
     },
     "execution_count": 156,
     "metadata": {},
     "output_type": "execute_result"
    }
   ],
   "source": [
    "stock_data.insider_purchases"
   ],
   "metadata": {
    "collapsed": false
   }
  },
  {
   "cell_type": "markdown",
   "source": [
    "## 9. 可持续性数据\n",
    "\n",
    "sustainability: 获取公司的可持续性数据，如环境、社会和公司治理（ESG）评分\n",
    "**未实现**"
   ],
   "metadata": {
    "collapsed": false
   }
  },
  {
   "cell_type": "code",
   "execution_count": 140,
   "outputs": [
    {
     "ename": "YFNotImplementedError",
     "evalue": "Have not implemented fetching 'sustainability' from Yahoo API",
     "output_type": "error",
     "traceback": [
      "\u001B[0;31m---------------------------------------------------------------------------\u001B[0m",
      "\u001B[0;31mYFNotImplementedError\u001B[0m                     Traceback (most recent call last)",
      "Cell \u001B[0;32mIn[140], line 1\u001B[0m\n\u001B[0;32m----> 1\u001B[0m sustainability \u001B[38;5;241m=\u001B[39m \u001B[43mstock_data\u001B[49m\u001B[38;5;241;43m.\u001B[39;49m\u001B[43msustainability\u001B[49m\n\u001B[1;32m      2\u001B[0m sustainability\n",
      "File \u001B[0;32m~/Documents/ProgramingGuide/SourceCode/GithubRepo/everyfine/GeniusAI/GeniusChatbots/venv/lib/python3.9/site-packages/yfinance/ticker.py:252\u001B[0m, in \u001B[0;36mTicker.sustainability\u001B[0;34m(self)\u001B[0m\n\u001B[1;32m    250\u001B[0m \u001B[38;5;129m@property\u001B[39m\n\u001B[1;32m    251\u001B[0m \u001B[38;5;28;01mdef\u001B[39;00m \u001B[38;5;21msustainability\u001B[39m(\u001B[38;5;28mself\u001B[39m) \u001B[38;5;241m-\u001B[39m\u001B[38;5;241m>\u001B[39m _pd\u001B[38;5;241m.\u001B[39mDataFrame:\n\u001B[0;32m--> 252\u001B[0m     \u001B[38;5;28;01mreturn\u001B[39;00m \u001B[38;5;28;43mself\u001B[39;49m\u001B[38;5;241;43m.\u001B[39;49m\u001B[43mget_sustainability\u001B[49m\u001B[43m(\u001B[49m\u001B[43m)\u001B[49m\n",
      "File \u001B[0;32m~/Documents/ProgramingGuide/SourceCode/GithubRepo/everyfine/GeniusAI/GeniusChatbots/venv/lib/python3.9/site-packages/yfinance/base.py:238\u001B[0m, in \u001B[0;36mTickerBase.get_sustainability\u001B[0;34m(self, proxy, as_dict)\u001B[0m\n\u001B[1;32m    236\u001B[0m \u001B[38;5;28;01mdef\u001B[39;00m \u001B[38;5;21mget_sustainability\u001B[39m(\u001B[38;5;28mself\u001B[39m, proxy\u001B[38;5;241m=\u001B[39m\u001B[38;5;28;01mNone\u001B[39;00m, as_dict\u001B[38;5;241m=\u001B[39m\u001B[38;5;28;01mFalse\u001B[39;00m):\n\u001B[1;32m    237\u001B[0m     \u001B[38;5;28mself\u001B[39m\u001B[38;5;241m.\u001B[39m_quote\u001B[38;5;241m.\u001B[39mproxy \u001B[38;5;241m=\u001B[39m proxy \u001B[38;5;129;01mor\u001B[39;00m \u001B[38;5;28mself\u001B[39m\u001B[38;5;241m.\u001B[39mproxy\n\u001B[0;32m--> 238\u001B[0m     data \u001B[38;5;241m=\u001B[39m \u001B[38;5;28;43mself\u001B[39;49m\u001B[38;5;241;43m.\u001B[39;49m\u001B[43m_quote\u001B[49m\u001B[38;5;241;43m.\u001B[39;49m\u001B[43msustainability\u001B[49m\n\u001B[1;32m    239\u001B[0m     \u001B[38;5;28;01mif\u001B[39;00m as_dict:\n\u001B[1;32m    240\u001B[0m         \u001B[38;5;28;01mreturn\u001B[39;00m data\u001B[38;5;241m.\u001B[39mto_dict()\n",
      "File \u001B[0;32m~/Documents/ProgramingGuide/SourceCode/GithubRepo/everyfine/GeniusAI/GeniusChatbots/venv/lib/python3.9/site-packages/yfinance/scrapers/quote.py:568\u001B[0m, in \u001B[0;36mQuote.sustainability\u001B[0;34m(self)\u001B[0m\n\u001B[1;32m    565\u001B[0m \u001B[38;5;129m@property\u001B[39m\n\u001B[1;32m    566\u001B[0m \u001B[38;5;28;01mdef\u001B[39;00m \u001B[38;5;21msustainability\u001B[39m(\u001B[38;5;28mself\u001B[39m) \u001B[38;5;241m-\u001B[39m\u001B[38;5;241m>\u001B[39m pd\u001B[38;5;241m.\u001B[39mDataFrame:\n\u001B[1;32m    567\u001B[0m     \u001B[38;5;28;01mif\u001B[39;00m \u001B[38;5;28mself\u001B[39m\u001B[38;5;241m.\u001B[39m_sustainability \u001B[38;5;129;01mis\u001B[39;00m \u001B[38;5;28;01mNone\u001B[39;00m:\n\u001B[0;32m--> 568\u001B[0m         \u001B[38;5;28;01mraise\u001B[39;00m YFNotImplementedError(\u001B[38;5;124m'\u001B[39m\u001B[38;5;124msustainability\u001B[39m\u001B[38;5;124m'\u001B[39m)\n\u001B[1;32m    569\u001B[0m     \u001B[38;5;28;01mreturn\u001B[39;00m \u001B[38;5;28mself\u001B[39m\u001B[38;5;241m.\u001B[39m_sustainability\n",
      "\u001B[0;31mYFNotImplementedError\u001B[0m: Have not implemented fetching 'sustainability' from Yahoo API"
     ]
    }
   ],
   "source": [
    "sustainability = stock_data.sustainability\n",
    "sustainability"
   ],
   "metadata": {
    "collapsed": false
   }
  },
  {
   "cell_type": "markdown",
   "source": [
    "## 10. 其他"
   ],
   "metadata": {
    "collapsed": false
   }
  },
  {
   "cell_type": "markdown",
   "source": [
    "### 财报日历\n",
    "calendar: 获取公司的财报日历，包括预计的财报发布日期，以及财报预测。"
   ],
   "metadata": {
    "collapsed": false
   }
  },
  {
   "cell_type": "code",
   "execution_count": 141,
   "outputs": [
    {
     "data": {
      "text/plain": "{'Dividend Date': datetime.date(2024, 5, 16),\n 'Ex-Dividend Date': datetime.date(2024, 5, 10),\n 'Earnings Date': [datetime.date(2024, 8, 1), datetime.date(2024, 8, 5)],\n 'Earnings High': 1.36,\n 'Earnings Low': 1.27,\n 'Earnings Average': 1.32,\n 'Revenue High': 85372700000,\n 'Revenue Low': 82022600000,\n 'Revenue Average': 83769200000}"
     },
     "execution_count": 141,
     "metadata": {},
     "output_type": "execute_result"
    }
   ],
   "source": [
    "calendar = stock_data.calendar\n",
    "calendar"
   ],
   "metadata": {
    "collapsed": false
   }
  },
  {
   "cell_type": "markdown",
   "source": [
    "### 公司新闻\n",
    "news：获取公司的新闻信息\n",
    "对于中国公司，获取的新闻内容不准确"
   ],
   "metadata": {
    "collapsed": false
   }
  },
  {
   "cell_type": "code",
   "execution_count": 142,
   "outputs": [
    {
     "data": {
      "text/plain": "[{'uuid': '16fe42e6-5988-305c-a974-0a60e9bf2ecb',\n  'title': 'Dow Jones Futures: Apple, Nvidia, Microsoft Vie For Crown; How To Handle A Divided Market Rally',\n  'publisher': \"Investor's Business Daily\",\n  'link': 'https://finance.yahoo.com/m/16fe42e6-5988-305c-a974-0a60e9bf2ecb/dow-jones-futures%3A-apple%2C.html',\n  'providerPublishTime': 1718510554,\n  'type': 'STORY',\n  'thumbnail': {'resolutions': [{'url': 'https://s.yimg.com/uu/api/res/1.2/1b0GD8bV8vmOxkAoGrwisA--~B/aD01MTE7dz0xMDAwO2FwcGlkPXl0YWNoeW9u/https://media.zenfs.com/en/ibd.com/89c7015108c5f916a51a9bce4bbccd19',\n     'width': 1000,\n     'height': 511,\n     'tag': 'original'},\n    {'url': 'https://s.yimg.com/uu/api/res/1.2/6RpLMQ3DSHLrTe8dDG18ag--~B/Zmk9ZmlsbDtoPTE0MDtweW9mZj0wO3c9MTQwO2FwcGlkPXl0YWNoeW9u/https://media.zenfs.com/en/ibd.com/89c7015108c5f916a51a9bce4bbccd19',\n     'width': 140,\n     'height': 140,\n     'tag': '140x140'}]},\n  'relatedTickers': ['TSLA',\n   'MSFT',\n   'NVDA',\n   'AAPL',\n   'COMP',\n   '^GSPC',\n   '^DJI',\n   'SPOT',\n   'NFLX',\n   'CMG',\n   '^RUT',\n   'PINS']},\n {'uuid': '0be01d60-cd5f-3707-9678-5071305ca0a4',\n  'title': 'Should You Buy Apple Stock Following Its AI Announcements?',\n  'publisher': 'Motley Fool',\n  'link': 'https://finance.yahoo.com/m/0be01d60-cd5f-3707-9678-5071305ca0a4/should-you-buy-apple-stock.html',\n  'providerPublishTime': 1718465760,\n  'type': 'STORY',\n  'thumbnail': {'resolutions': [{'url': 'https://s.yimg.com/uu/api/res/1.2/NoZji6QCwLaf1PPbMFzrpw--~B/aD0xNDE0O3c9MjEyMTthcHBpZD15dGFjaHlvbg--/https://media.zenfs.com/en/motleyfool.com/6e87a5b13543eb097bf7027bafab3bbb',\n     'width': 2121,\n     'height': 1414,\n     'tag': 'original'},\n    {'url': 'https://s.yimg.com/uu/api/res/1.2/peBw76O053PaNPnS9yjpRA--~B/Zmk9ZmlsbDtoPTE0MDtweW9mZj0wO3c9MTQwO2FwcGlkPXl0YWNoeW9u/https://media.zenfs.com/en/motleyfool.com/6e87a5b13543eb097bf7027bafab3bbb',\n     'width': 140,\n     'height': 140,\n     'tag': '140x140'}]},\n  'relatedTickers': ['AAPL']},\n {'uuid': '68e1ff8b-565b-3348-909e-f78af4ac9e14',\n  'title': 'Apple Gives Banks a Bigger Bite of Its Payment Features',\n  'publisher': 'The Wall Street Journal',\n  'link': 'https://finance.yahoo.com/m/68e1ff8b-565b-3348-909e-f78af4ac9e14/apple-gives-banks-a-bigger.html',\n  'providerPublishTime': 1718452800,\n  'type': 'STORY',\n  'thumbnail': {'resolutions': [{'url': 'https://s.yimg.com/uu/api/res/1.2/oSfZ_Vzhujk7_q1t_KdONQ--~B/aD02NDA7dz0xMjgwO2FwcGlkPXl0YWNoeW9u/https://media.zenfs.com/en/wsj.com/5e27cbfc1829974692b1f4daaa8ee6a8',\n     'width': 1280,\n     'height': 640,\n     'tag': 'original'},\n    {'url': 'https://s.yimg.com/uu/api/res/1.2/gZyhLvyZVXP4iUV.IscFiQ--~B/Zmk9ZmlsbDtoPTE0MDtweW9mZj0wO3c9MTQwO2FwcGlkPXl0YWNoeW9u/https://media.zenfs.com/en/wsj.com/5e27cbfc1829974692b1f4daaa8ee6a8',\n     'width': 140,\n     'height': 140,\n     'tag': '140x140'}]},\n  'relatedTickers': ['SYF', 'SYF-PB', 'C', 'FI', 'AAPL', 'DFS']},\n {'uuid': '3010c5ca-0971-3250-b09d-1a879cdbf706',\n  'title': 'Prediction: 3 Stocks That Will Be Worth More Than Nvidia 10 Years From Now',\n  'publisher': 'Motley Fool',\n  'link': 'https://finance.yahoo.com/m/3010c5ca-0971-3250-b09d-1a879cdbf706/prediction%3A-3-stocks-that.html',\n  'providerPublishTime': 1718445000,\n  'type': 'STORY',\n  'thumbnail': {'resolutions': [{'url': 'https://s.yimg.com/uu/api/res/1.2/poqctlPJdVV5y3ZdI8x9Nw--~B/aD00OTEyO3c9OTMzNzthcHBpZD15dGFjaHlvbg--/https://media.zenfs.com/en/motleyfool.com/79bfed0d32f3280d72c50c605f8ad4e3',\n     'width': 9337,\n     'height': 4912,\n     'tag': 'original'},\n    {'url': 'https://s.yimg.com/uu/api/res/1.2/bwlnmKOm8mEvcoPd5Y27Fg--~B/Zmk9ZmlsbDtoPTE0MDtweW9mZj0wO3c9MTQwO2FwcGlkPXl0YWNoeW9u/https://media.zenfs.com/en/motleyfool.com/79bfed0d32f3280d72c50c605f8ad4e3',\n     'width': 140,\n     'height': 140,\n     'tag': '140x140'}]},\n  'relatedTickers': ['NVDA', 'AAPL', 'MSFT', 'GOOG']},\n {'uuid': '4df04d0b-50d0-3028-b712-9757cc7877bf',\n  'title': 'Warren Buffett Is Selling Apple Stock and Buying This Brilliant Mega-Cap Stock Instead',\n  'publisher': 'Motley Fool',\n  'link': 'https://finance.yahoo.com/m/4df04d0b-50d0-3028-b712-9757cc7877bf/warren-buffett-is-selling.html',\n  'providerPublishTime': 1718442720,\n  'type': 'STORY',\n  'thumbnail': {'resolutions': [{'url': 'https://s.yimg.com/uu/api/res/1.2/X4ExOFBtvNLjDEi44XcZdQ--~B/aD0xNDE0O3c9MjEyMTthcHBpZD15dGFjaHlvbg--/https://media.zenfs.com/en/motleyfool.com/9f88a82d117a0a536db5a239b825f4a8',\n     'width': 2121,\n     'height': 1414,\n     'tag': 'original'},\n    {'url': 'https://s.yimg.com/uu/api/res/1.2/YQWmDW11KeXCSegVJq_4lg--~B/Zmk9ZmlsbDtoPTE0MDtweW9mZj0wO3c9MTQwO2FwcGlkPXl0YWNoeW9u/https://media.zenfs.com/en/motleyfool.com/9f88a82d117a0a536db5a239b825f4a8',\n     'width': 140,\n     'height': 140,\n     'tag': '140x140'}]},\n  'relatedTickers': ['AAPL', '^GSPC']},\n {'uuid': '5c9a758d-bb1b-38f6-9185-5afbbf758c25',\n  'title': 'Is Apple Stock a Buy Now?',\n  'publisher': 'Motley Fool',\n  'link': 'https://finance.yahoo.com/m/5c9a758d-bb1b-38f6-9185-5afbbf758c25/is-apple-stock-a-buy-now%3F.html',\n  'providerPublishTime': 1718442000,\n  'type': 'STORY',\n  'thumbnail': {'resolutions': [{'url': 'https://s.yimg.com/uu/api/res/1.2/3G8FFzIONlwe7MIp4Mxt0w--~B/aD05MzM7dz0xNDAwO2FwcGlkPXl0YWNoeW9u/https://media.zenfs.com/en/motleyfool.com/388a7addf8c43aa78eb0d920cf02adb7',\n     'width': 1400,\n     'height': 933,\n     'tag': 'original'},\n    {'url': 'https://s.yimg.com/uu/api/res/1.2/1MIvLreHhNoJi0ScrJarKA--~B/Zmk9ZmlsbDtoPTE0MDtweW9mZj0wO3c9MTQwO2FwcGlkPXl0YWNoeW9u/https://media.zenfs.com/en/motleyfool.com/388a7addf8c43aa78eb0d920cf02adb7',\n     'width': 140,\n     'height': 140,\n     'tag': '140x140'}]},\n  'relatedTickers': ['AAPL', 'GOOG']},\n {'uuid': '8d227ee3-1d6c-3656-be6d-b82cb1b9cf78',\n  'title': \"Billionaire Investor Warren Buffett Has 41% of Berkshire Hathaway's $332 Billion Portfolio in 2 Unstoppable Artificial Intelligence (AI) Growth Stocks\",\n  'publisher': 'Motley Fool',\n  'link': 'https://finance.yahoo.com/m/8d227ee3-1d6c-3656-be6d-b82cb1b9cf78/billionaire-investor-warren.html',\n  'providerPublishTime': 1718438820,\n  'type': 'STORY',\n  'thumbnail': {'resolutions': [{'url': 'https://s.yimg.com/uu/api/res/1.2/EC10MTKWK57aCNdZoZuUJg--~B/aD05MzM7dz0xNDAwO2FwcGlkPXl0YWNoeW9u/https://media.zenfs.com/en/motleyfool.com/bf4b33af8af9005c84476eda107dbefc',\n     'width': 1400,\n     'height': 933,\n     'tag': 'original'},\n    {'url': 'https://s.yimg.com/uu/api/res/1.2/NmD6ZkbKZ80d5A.DAW4d9g--~B/Zmk9ZmlsbDtoPTE0MDtweW9mZj0wO3c9MTQwO2FwcGlkPXl0YWNoeW9u/https://media.zenfs.com/en/motleyfool.com/bf4b33af8af9005c84476eda107dbefc',\n     'width': 140,\n     'height': 140,\n     'tag': '140x140'}]},\n  'relatedTickers': ['AAPL', 'AMZN']},\n {'uuid': '308f944d-9cb3-3a02-86f7-fee73912cf49',\n  'title': 'Is It Too Late to Buy Apple Stock?',\n  'publisher': 'Motley Fool',\n  'link': 'https://finance.yahoo.com/m/308f944d-9cb3-3a02-86f7-fee73912cf49/is-it-too-late-to-buy-apple.html',\n  'providerPublishTime': 1718437500,\n  'type': 'STORY',\n  'thumbnail': {'resolutions': [{'url': 'https://s.yimg.com/uu/api/res/1.2/9yNwzoVcKAA1NZupo1ipHw--~B/aD00NzM7dz03MjA7YXBwaWQ9eXRhY2h5b24-/https://media.zenfs.com/en/motleyfool.com/c5ca6ad5669c964c2613cb1b67a19984',\n     'width': 720,\n     'height': 473,\n     'tag': 'original'},\n    {'url': 'https://s.yimg.com/uu/api/res/1.2/vvz.nI7PmkMcP1gsXBPItQ--~B/Zmk9ZmlsbDtoPTE0MDtweW9mZj0wO3c9MTQwO2FwcGlkPXl0YWNoeW9u/https://media.zenfs.com/en/motleyfool.com/c5ca6ad5669c964c2613cb1b67a19984',\n     'width': 140,\n     'height': 140,\n     'tag': '140x140'}]},\n  'relatedTickers': ['AAPL', 'NVDA', 'MSFT', 'AMZN']}]"
     },
     "execution_count": 142,
     "metadata": {},
     "output_type": "execute_result"
    }
   ],
   "source": [
    "news = stock_data.news\n",
    "news"
   ],
   "metadata": {
    "collapsed": false
   }
  },
  {
   "cell_type": "markdown",
   "source": [
    "### ISIN信息"
   ],
   "metadata": {
    "collapsed": false
   }
  },
  {
   "cell_type": "code",
   "execution_count": 159,
   "outputs": [
    {
     "data": {
      "text/plain": "'US0378331005'"
     },
     "execution_count": 159,
     "metadata": {},
     "output_type": "execute_result"
    }
   ],
   "source": [
    "# show ISIN code - *experimental*\n",
    "# ISIN = International Securities Identification Number\n",
    "stock_data.isin"
   ],
   "metadata": {
    "collapsed": false
   }
  }
 ],
 "metadata": {
  "kernelspec": {
   "display_name": "Python 3",
   "language": "python",
   "name": "python3"
  },
  "language_info": {
   "codemirror_mode": {
    "name": "ipython",
    "version": 2
   },
   "file_extension": ".py",
   "mimetype": "text/x-python",
   "name": "python",
   "nbconvert_exporter": "python",
   "pygments_lexer": "ipython2",
   "version": "2.7.6"
  }
 },
 "nbformat": 4,
 "nbformat_minor": 0
}
