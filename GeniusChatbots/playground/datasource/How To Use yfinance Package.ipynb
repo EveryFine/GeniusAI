{
 "cells": [
  {
   "cell_type": "markdown",
   "source": [
    "# How To Use yfinance Package\n",
    "https://tradestie.com/apps/user/blog/how-to-use-yfinance-package-to-get-stock-data-free/\n",
    "\n",
    "Install yfinance using pip as shown below. Make sure you also have Pandas installed."
   ],
   "metadata": {
    "collapsed": false
   }
  },
  {
   "cell_type": "code",
   "execution_count": 32,
   "outputs": [
    {
     "name": "stdout",
     "output_type": "stream",
     "text": [
      "Requirement already satisfied: yfinance in /Users/zhengshuang/Documents/ProgramingGuide/SourceCode/GithubRepo/everyfine/GeniusAI/GeniusChatbots/venv/lib/python3.9/site-packages (0.2.40)\r\n",
      "Requirement already satisfied: pandas>=1.3.0 in /Users/zhengshuang/Documents/ProgramingGuide/SourceCode/GithubRepo/everyfine/GeniusAI/GeniusChatbots/venv/lib/python3.9/site-packages (from yfinance) (2.2.2)\r\n",
      "Requirement already satisfied: numpy>=1.16.5 in /Users/zhengshuang/Documents/ProgramingGuide/SourceCode/GithubRepo/everyfine/GeniusAI/GeniusChatbots/venv/lib/python3.9/site-packages (from yfinance) (1.26.4)\r\n",
      "Requirement already satisfied: requests>=2.31 in /Users/zhengshuang/Documents/ProgramingGuide/SourceCode/GithubRepo/everyfine/GeniusAI/GeniusChatbots/venv/lib/python3.9/site-packages (from yfinance) (2.32.3)\r\n",
      "Requirement already satisfied: multitasking>=0.0.7 in /Users/zhengshuang/Documents/ProgramingGuide/SourceCode/GithubRepo/everyfine/GeniusAI/GeniusChatbots/venv/lib/python3.9/site-packages (from yfinance) (0.0.11)\r\n",
      "Requirement already satisfied: lxml>=4.9.1 in /Users/zhengshuang/Documents/ProgramingGuide/SourceCode/GithubRepo/everyfine/GeniusAI/GeniusChatbots/venv/lib/python3.9/site-packages (from yfinance) (5.2.2)\r\n",
      "Requirement already satisfied: platformdirs>=2.0.0 in /Users/zhengshuang/Documents/ProgramingGuide/SourceCode/GithubRepo/everyfine/GeniusAI/GeniusChatbots/venv/lib/python3.9/site-packages (from yfinance) (4.2.2)\r\n",
      "Requirement already satisfied: pytz>=2022.5 in /Users/zhengshuang/Documents/ProgramingGuide/SourceCode/GithubRepo/everyfine/GeniusAI/GeniusChatbots/venv/lib/python3.9/site-packages (from yfinance) (2024.1)\r\n",
      "Requirement already satisfied: frozendict>=2.3.4 in /Users/zhengshuang/Documents/ProgramingGuide/SourceCode/GithubRepo/everyfine/GeniusAI/GeniusChatbots/venv/lib/python3.9/site-packages (from yfinance) (2.4.4)\r\n",
      "Requirement already satisfied: peewee>=3.16.2 in /Users/zhengshuang/Documents/ProgramingGuide/SourceCode/GithubRepo/everyfine/GeniusAI/GeniusChatbots/venv/lib/python3.9/site-packages (from yfinance) (3.17.5)\r\n",
      "Requirement already satisfied: beautifulsoup4>=4.11.1 in /Users/zhengshuang/Documents/ProgramingGuide/SourceCode/GithubRepo/everyfine/GeniusAI/GeniusChatbots/venv/lib/python3.9/site-packages (from yfinance) (4.12.3)\r\n",
      "Requirement already satisfied: html5lib>=1.1 in /Users/zhengshuang/Documents/ProgramingGuide/SourceCode/GithubRepo/everyfine/GeniusAI/GeniusChatbots/venv/lib/python3.9/site-packages (from yfinance) (1.1)\r\n",
      "Requirement already satisfied: soupsieve>1.2 in /Users/zhengshuang/Documents/ProgramingGuide/SourceCode/GithubRepo/everyfine/GeniusAI/GeniusChatbots/venv/lib/python3.9/site-packages (from beautifulsoup4>=4.11.1->yfinance) (2.5)\r\n",
      "Requirement already satisfied: six>=1.9 in /Users/zhengshuang/Documents/ProgramingGuide/SourceCode/GithubRepo/everyfine/GeniusAI/GeniusChatbots/venv/lib/python3.9/site-packages (from html5lib>=1.1->yfinance) (1.16.0)\r\n",
      "Requirement already satisfied: webencodings in /Users/zhengshuang/Documents/ProgramingGuide/SourceCode/GithubRepo/everyfine/GeniusAI/GeniusChatbots/venv/lib/python3.9/site-packages (from html5lib>=1.1->yfinance) (0.5.1)\r\n",
      "Requirement already satisfied: python-dateutil>=2.8.2 in /Users/zhengshuang/Documents/ProgramingGuide/SourceCode/GithubRepo/everyfine/GeniusAI/GeniusChatbots/venv/lib/python3.9/site-packages (from pandas>=1.3.0->yfinance) (2.9.0.post0)\r\n",
      "Requirement already satisfied: tzdata>=2022.7 in /Users/zhengshuang/Documents/ProgramingGuide/SourceCode/GithubRepo/everyfine/GeniusAI/GeniusChatbots/venv/lib/python3.9/site-packages (from pandas>=1.3.0->yfinance) (2024.1)\r\n",
      "Requirement already satisfied: charset-normalizer<4,>=2 in /Users/zhengshuang/Documents/ProgramingGuide/SourceCode/GithubRepo/everyfine/GeniusAI/GeniusChatbots/venv/lib/python3.9/site-packages (from requests>=2.31->yfinance) (3.3.2)\r\n",
      "Requirement already satisfied: idna<4,>=2.5 in /Users/zhengshuang/Documents/ProgramingGuide/SourceCode/GithubRepo/everyfine/GeniusAI/GeniusChatbots/venv/lib/python3.9/site-packages (from requests>=2.31->yfinance) (3.7)\r\n",
      "Requirement already satisfied: urllib3<3,>=1.21.1 in /Users/zhengshuang/Documents/ProgramingGuide/SourceCode/GithubRepo/everyfine/GeniusAI/GeniusChatbots/venv/lib/python3.9/site-packages (from requests>=2.31->yfinance) (2.2.1)\r\n",
      "Requirement already satisfied: certifi>=2017.4.17 in /Users/zhengshuang/Documents/ProgramingGuide/SourceCode/GithubRepo/everyfine/GeniusAI/GeniusChatbots/venv/lib/python3.9/site-packages (from requests>=2.31->yfinance) (2024.6.2)\r\n"
     ]
    }
   ],
   "source": [
    "!pip install yfinance --upgrade --no-cache-dir"
   ],
   "metadata": {
    "collapsed": false
   }
  },
  {
   "cell_type": "code",
   "execution_count": 33,
   "outputs": [],
   "source": [
    "import yfinance as yf\n",
    "import pandas as pd\n",
    "import json"
   ],
   "metadata": {
    "collapsed": false
   }
  },
  {
   "cell_type": "markdown",
   "source": [
    "yfinance has following methods.\n",
    "isin\n",
    "major_holders\n",
    "institutional_holders\n",
    "mutualfund_holders\n",
    "dividends\n",
    "splits\n",
    "actions\n",
    "shares\n",
    "info\n",
    "calendar\n",
    "recommendations\n",
    "earnings\n",
    "quarterly_earnings\n",
    "financials\n",
    "quarterly_financials\n",
    "balance_sheet\n",
    "quarterly_balance_sheet\n",
    "balancesheet\n",
    "quarterly_balancesheet\n",
    "cashflow\n",
    "quarterly_cashflow\n",
    "sustainability\n",
    "options\n",
    "news\n",
    "analysis\n",
    "earnings_history\n",
    "earnings_dates\n",
    "Let us try few of the above methods. To use above methods, we need to first get basic yfinance object."
   ],
   "metadata": {
    "collapsed": false
   }
  },
  {
   "cell_type": "markdown",
   "source": [
    "## Creating a Stock Data Object -- Ticker"
   ],
   "metadata": {
    "collapsed": false
   }
  },
  {
   "cell_type": "code",
   "execution_count": 57,
   "outputs": [],
   "source": [
    "# stock_symbol = \"GME\" ## Gamestop\n",
    "stock_symbol = \"600519.SS\" ## 贵州茅台\n",
    "stock_data = yf.Ticker(stock_symbol)"
   ],
   "metadata": {
    "collapsed": false
   }
  },
  {
   "cell_type": "markdown",
   "source": [
    "## Get Stock company general information"
   ],
   "metadata": {
    "collapsed": false
   }
  },
  {
   "cell_type": "code",
   "execution_count": 58,
   "outputs": [
    {
     "data": {
      "text/plain": "{'address1': 'Maotai Town',\n 'city': 'Renhuai',\n 'zip': '564501',\n 'country': 'China',\n 'phone': '86 85 1223 86002',\n 'fax': '86 85 1223 86193',\n 'website': 'https://www.moutaichina.com',\n 'industry': 'Beverages - Wineries & Distilleries',\n 'industryKey': 'beverages-wineries-distilleries',\n 'industryDisp': 'Beverages - Wineries & Distilleries',\n 'sector': 'Consumer Defensive',\n 'sectorKey': 'consumer-defensive',\n 'sectorDisp': 'Consumer Defensive',\n 'longBusinessSummary': 'Kweichow Moutai Co., Ltd. produces and sells liquor products in China and internationally. It offers liquors under the Kweichow Moutai, Moutai Wangzi liquor, Moutai 1935 liquor, Han Jiang liquor, and Lai Mao liquor brands. The company was founded in 1999 and is based in Renhuai, China. Kweichow Moutai Co., Ltd. is a subsidiary of China Kweichow Moutai Distillery (Group) Co., Ltd.',\n 'fullTimeEmployees': 33302,\n 'companyOfficers': [{'maxAge': 1,\n   'name': 'Ms. Wang  Li',\n   'age': 50,\n   'title': 'Acting GM & Director',\n   'yearBorn': 1973,\n   'exercisedValue': 0,\n   'unexercisedValue': 0},\n  {'maxAge': 1,\n   'name': 'Ms. Yan  Jiang',\n   'age': 45,\n   'title': 'Deputy GM, CFO & Secretary',\n   'yearBorn': 1978,\n   'exercisedValue': 0,\n   'unexercisedValue': 0},\n  {'maxAge': 1,\n   'name': 'Mr. Zheng Qiang  Zhong',\n   'age': 52,\n   'title': 'Deputy General Manager',\n   'yearBorn': 1971,\n   'exercisedValue': 0,\n   'unexercisedValue': 0},\n  {'maxAge': 1,\n   'name': 'Mr. Yong  Wen',\n   'age': 40,\n   'title': 'Employee Supervisor and Head of the Legal & Compliance Department',\n   'yearBorn': 1983,\n   'exercisedValue': 0,\n   'unexercisedValue': 0}],\n 'auditRisk': 3,\n 'boardRisk': 2,\n 'compensationRisk': 4,\n 'shareHolderRightsRisk': 2,\n 'overallRisk': 1,\n 'governanceEpochDate': 1717200000,\n 'maxAge': 86400,\n 'priceHint': 2,\n 'previousClose': 1555.01,\n 'open': 1555.0,\n 'dayLow': 1520.46,\n 'dayHigh': 1563.96,\n 'regularMarketPreviousClose': 1555.01,\n 'regularMarketOpen': 1555.0,\n 'regularMarketDayLow': 1520.46,\n 'regularMarketDayHigh': 1563.96,\n 'dividendRate': 30.88,\n 'dividendYield': 0.0199,\n 'exDividendDate': 1718755200,\n 'payoutRatio': 0.4172,\n 'fiveYearAvgDividendYield': 1.2,\n 'beta': 0.648,\n 'trailingPE': 25.064474,\n 'forwardPE': 19.19753,\n 'volume': 5951416,\n 'regularMarketVolume': 5951416,\n 'averageVolume': 2674311,\n 'averageVolume10days': 3229601,\n 'averageDailyVolume10Day': 3229601,\n 'bid': 1555.0,\n 'ask': 1555.3,\n 'marketCap': 1953390919680,\n 'fiftyTwoWeekLow': 1520.46,\n 'fiftyTwoWeekHigh': 1935.0,\n 'priceToSalesTrailing12Months': 12.625875,\n 'fiftyDayAverage': 1679.9766,\n 'twoHundredDayAverage': 1712.658,\n 'trailingAnnualDividendRate': 30.876,\n 'trailingAnnualDividendYield': 0.01985582,\n 'currency': 'CNY',\n 'enterpriseValue': 1884519530496,\n 'profitMargins': 0.50418997,\n 'floatShares': 549134306,\n 'sharesOutstanding': 1256199936,\n 'heldPercentInsiders': 0.61651003,\n 'heldPercentInstitutions': 0.1234,\n 'impliedSharesOutstanding': 1296370048,\n 'bookValue': 190.839,\n 'priceToBook': 8.14823,\n 'lastFiscalYearEnd': 1703980800,\n 'nextFiscalYearEnd': 1735603200,\n 'mostRecentQuarter': 1711843200,\n 'earningsQuarterlyGrowth': 0.157,\n 'netIncomeToCommon': 78004453376,\n 'trailingEps': 62.04,\n 'forwardEps': 81.0,\n 'pegRatio': 1.4,\n 'lastSplitFactor': '11:10',\n 'lastSplitDate': 1437091200,\n 'enterpriseToRevenue': 12.181,\n 'enterpriseToEbitda': 17.893,\n '52WeekChange': -0.13499546,\n 'SandP52WeekChange': 0.2322551,\n 'lastDividendValue': 30.876,\n 'lastDividendDate': 1718755200,\n 'exchange': 'SHH',\n 'quoteType': 'EQUITY',\n 'symbol': '600519.SS',\n 'underlyingSymbol': '600519.SS',\n 'shortName': 'KWEICHOW MOUTAI',\n 'longName': 'Kweichow Moutai Co., Ltd.',\n 'firstTradeDateEpochUtc': 998875800,\n 'timeZoneFullName': 'Asia/Shanghai',\n 'timeZoneShortName': 'CST',\n 'uuid': '0819cf2a-91f6-364c-a7ad-a37c3853d204',\n 'messageBoardId': 'finmb_9475874',\n 'gmtOffSetMilliseconds': 28800000,\n 'currentPrice': 1555.0,\n 'targetHighPrice': 2488.0,\n 'targetLowPrice': 1785.0,\n 'targetMeanPrice': 2168.04,\n 'targetMedianPrice': 2200.0,\n 'recommendationMean': 1.4,\n 'recommendationKey': 'strong_buy',\n 'numberOfAnalystOpinions': 19,\n 'totalCash': 78009466880,\n 'totalCashPerShare': 62.1,\n 'ebitda': 105323667456,\n 'totalDebt': 336393248,\n 'quickRatio': 2.136,\n 'currentRatio': 6.481,\n 'totalRevenue': 154713309184,\n 'debtToEquity': 0.135,\n 'revenuePerShare': 123.167,\n 'returnOnAssets': 0.23768999,\n 'returnOnEquity': 0.34054002,\n 'freeCashflow': -49829326848,\n 'operatingCashflow': 70535872512,\n 'earningsGrowth': 0.158,\n 'revenueGrowth': 0.181,\n 'grossMargins': 0.92023003,\n 'ebitdaMargins': 0.68077004,\n 'operatingMargins': 0.69833,\n 'financialCurrency': 'CNY',\n 'trailingPegRatio': 1.7054}"
     },
     "execution_count": 58,
     "metadata": {},
     "output_type": "execute_result"
    }
   ],
   "source": [
    "stock_data.info"
   ],
   "metadata": {
    "collapsed": false
   }
  },
  {
   "cell_type": "markdown",
   "source": [
    "## Downloading daily data with start date and end date"
   ],
   "metadata": {
    "collapsed": false
   }
  },
  {
   "cell_type": "code",
   "execution_count": 59,
   "outputs": [
    {
     "data": {
      "text/plain": "                                  Open         High          Low        Close  \\\nDate                                                                            \n2020-05-06 00:00:00+08:00  1165.159264  1210.796997  1164.227882  1210.796997   \n2020-05-07 00:00:00+08:00  1210.238359  1224.758579  1204.277489  1221.973755   \n2020-05-08 00:00:00+08:00  1226.630558  1246.189588  1218.723131  1224.404541   \n2020-05-11 00:00:00+08:00  1229.424679  1243.395414  1223.529070  1232.228149   \n2020-05-12 00:00:00+08:00  1227.561979  1243.386157  1225.699214  1241.532715   \n...                                ...          ...          ...          ...   \n2024-05-27 00:00:00+08:00  1678.000000  1687.449951  1668.010010  1670.119995   \n2024-05-28 00:00:00+08:00  1670.400024  1675.170044  1663.000000  1664.640015   \n2024-05-29 00:00:00+08:00  1666.000000  1680.000000  1665.000000  1674.000000   \n2024-05-30 00:00:00+08:00  1675.000000  1675.380005  1649.000000  1649.000000   \n2024-05-31 00:00:00+08:00  1650.500000  1663.500000  1648.449951  1648.449951   \n\n                            Volume  Dividends  Stock Splits  \nDate                                                         \n2020-05-06 00:00:00+08:00  3583481        0.0           0.0  \n2020-05-07 00:00:00+08:00  2793474        0.0           0.0  \n2020-05-08 00:00:00+08:00  2907868        0.0           0.0  \n2020-05-11 00:00:00+08:00  2367119        0.0           0.0  \n2020-05-12 00:00:00+08:00  1972181        0.0           0.0  \n...                            ...        ...           ...  \n2024-05-27 00:00:00+08:00  2509791        0.0           0.0  \n2024-05-28 00:00:00+08:00  2352087        0.0           0.0  \n2024-05-29 00:00:00+08:00  1965128        0.0           0.0  \n2024-05-30 00:00:00+08:00  3220792        0.0           0.0  \n2024-05-31 00:00:00+08:00  2185665        0.0           0.0  \n\n[989 rows x 7 columns]",
      "text/html": "<div>\n<style scoped>\n    .dataframe tbody tr th:only-of-type {\n        vertical-align: middle;\n    }\n\n    .dataframe tbody tr th {\n        vertical-align: top;\n    }\n\n    .dataframe thead th {\n        text-align: right;\n    }\n</style>\n<table border=\"1\" class=\"dataframe\">\n  <thead>\n    <tr style=\"text-align: right;\">\n      <th></th>\n      <th>Open</th>\n      <th>High</th>\n      <th>Low</th>\n      <th>Close</th>\n      <th>Volume</th>\n      <th>Dividends</th>\n      <th>Stock Splits</th>\n    </tr>\n    <tr>\n      <th>Date</th>\n      <th></th>\n      <th></th>\n      <th></th>\n      <th></th>\n      <th></th>\n      <th></th>\n      <th></th>\n    </tr>\n  </thead>\n  <tbody>\n    <tr>\n      <th>2020-05-06 00:00:00+08:00</th>\n      <td>1165.159264</td>\n      <td>1210.796997</td>\n      <td>1164.227882</td>\n      <td>1210.796997</td>\n      <td>3583481</td>\n      <td>0.0</td>\n      <td>0.0</td>\n    </tr>\n    <tr>\n      <th>2020-05-07 00:00:00+08:00</th>\n      <td>1210.238359</td>\n      <td>1224.758579</td>\n      <td>1204.277489</td>\n      <td>1221.973755</td>\n      <td>2793474</td>\n      <td>0.0</td>\n      <td>0.0</td>\n    </tr>\n    <tr>\n      <th>2020-05-08 00:00:00+08:00</th>\n      <td>1226.630558</td>\n      <td>1246.189588</td>\n      <td>1218.723131</td>\n      <td>1224.404541</td>\n      <td>2907868</td>\n      <td>0.0</td>\n      <td>0.0</td>\n    </tr>\n    <tr>\n      <th>2020-05-11 00:00:00+08:00</th>\n      <td>1229.424679</td>\n      <td>1243.395414</td>\n      <td>1223.529070</td>\n      <td>1232.228149</td>\n      <td>2367119</td>\n      <td>0.0</td>\n      <td>0.0</td>\n    </tr>\n    <tr>\n      <th>2020-05-12 00:00:00+08:00</th>\n      <td>1227.561979</td>\n      <td>1243.386157</td>\n      <td>1225.699214</td>\n      <td>1241.532715</td>\n      <td>1972181</td>\n      <td>0.0</td>\n      <td>0.0</td>\n    </tr>\n    <tr>\n      <th>...</th>\n      <td>...</td>\n      <td>...</td>\n      <td>...</td>\n      <td>...</td>\n      <td>...</td>\n      <td>...</td>\n      <td>...</td>\n    </tr>\n    <tr>\n      <th>2024-05-27 00:00:00+08:00</th>\n      <td>1678.000000</td>\n      <td>1687.449951</td>\n      <td>1668.010010</td>\n      <td>1670.119995</td>\n      <td>2509791</td>\n      <td>0.0</td>\n      <td>0.0</td>\n    </tr>\n    <tr>\n      <th>2024-05-28 00:00:00+08:00</th>\n      <td>1670.400024</td>\n      <td>1675.170044</td>\n      <td>1663.000000</td>\n      <td>1664.640015</td>\n      <td>2352087</td>\n      <td>0.0</td>\n      <td>0.0</td>\n    </tr>\n    <tr>\n      <th>2024-05-29 00:00:00+08:00</th>\n      <td>1666.000000</td>\n      <td>1680.000000</td>\n      <td>1665.000000</td>\n      <td>1674.000000</td>\n      <td>1965128</td>\n      <td>0.0</td>\n      <td>0.0</td>\n    </tr>\n    <tr>\n      <th>2024-05-30 00:00:00+08:00</th>\n      <td>1675.000000</td>\n      <td>1675.380005</td>\n      <td>1649.000000</td>\n      <td>1649.000000</td>\n      <td>3220792</td>\n      <td>0.0</td>\n      <td>0.0</td>\n    </tr>\n    <tr>\n      <th>2024-05-31 00:00:00+08:00</th>\n      <td>1650.500000</td>\n      <td>1663.500000</td>\n      <td>1648.449951</td>\n      <td>1648.449951</td>\n      <td>2185665</td>\n      <td>0.0</td>\n      <td>0.0</td>\n    </tr>\n  </tbody>\n</table>\n<p>989 rows × 7 columns</p>\n</div>"
     },
     "execution_count": 59,
     "metadata": {},
     "output_type": "execute_result"
    }
   ],
   "source": [
    "start_date = \"2020-05-01\"\n",
    "end_date = \"2024-06-01\"\n",
    "daily_data = stock_data.history(period=\"1d\", start=start_date, end=end_date)\n",
    "daily_data"
   ],
   "metadata": {
    "collapsed": false
   }
  },
  {
   "cell_type": "markdown",
   "source": [
    "## Add the adj close column(Default auto_adjust = true)"
   ],
   "metadata": {
    "collapsed": false
   }
  },
  {
   "cell_type": "code",
   "execution_count": 52,
   "outputs": [
    {
     "data": {
      "text/plain": "                              Open       High        Low      Close  \\\nDate                                                                  \n2020-05-01 00:00:00-04:00   1.4125   1.545000   1.362500   1.512500   \n2020-05-04 00:00:00-04:00   1.4600   1.482500   1.350000   1.370000   \n2020-05-05 00:00:00-04:00   1.3875   1.407500   1.337500   1.347500   \n2020-05-06 00:00:00-04:00   1.3500   1.350000   1.225000   1.232500   \n2020-05-07 00:00:00-04:00   1.2075   1.232500   1.162500   1.217500   \n...                            ...        ...        ...        ...   \n2024-05-24 00:00:00-04:00  18.4200  19.680000  17.700001  19.000000   \n2024-05-28 00:00:00-04:00  23.1000  26.660000  21.150000  23.780001   \n2024-05-29 00:00:00-04:00  22.0000  22.980000  21.049999  21.240000   \n2024-05-30 00:00:00-04:00  21.0200  22.700001  20.100000  22.610001   \n2024-05-31 00:00:00-04:00  22.5800  23.719999  21.680000  23.139999   \n\n                           Adj Close     Volume  Dividends  Stock Splits  \nDate                                                                      \n2020-05-01 00:00:00-04:00   1.512500   16022400        0.0           0.0  \n2020-05-04 00:00:00-04:00   1.370000   16272400        0.0           0.0  \n2020-05-05 00:00:00-04:00   1.347500    8423600        0.0           0.0  \n2020-05-06 00:00:00-04:00   1.232500   13478400        0.0           0.0  \n2020-05-07 00:00:00-04:00   1.217500   10003200        0.0           0.0  \n...                              ...        ...        ...           ...  \n2024-05-24 00:00:00-04:00  19.000000   41886700        0.0           0.0  \n2024-05-28 00:00:00-04:00  23.780001  105077600        0.0           0.0  \n2024-05-29 00:00:00-04:00  21.240000   26921200        0.0           0.0  \n2024-05-30 00:00:00-04:00  22.610001   24508800        0.0           0.0  \n2024-05-31 00:00:00-04:00  23.139999   22174300        0.0           0.0  \n\n[1028 rows x 8 columns]",
      "text/html": "<div>\n<style scoped>\n    .dataframe tbody tr th:only-of-type {\n        vertical-align: middle;\n    }\n\n    .dataframe tbody tr th {\n        vertical-align: top;\n    }\n\n    .dataframe thead th {\n        text-align: right;\n    }\n</style>\n<table border=\"1\" class=\"dataframe\">\n  <thead>\n    <tr style=\"text-align: right;\">\n      <th></th>\n      <th>Open</th>\n      <th>High</th>\n      <th>Low</th>\n      <th>Close</th>\n      <th>Adj Close</th>\n      <th>Volume</th>\n      <th>Dividends</th>\n      <th>Stock Splits</th>\n    </tr>\n    <tr>\n      <th>Date</th>\n      <th></th>\n      <th></th>\n      <th></th>\n      <th></th>\n      <th></th>\n      <th></th>\n      <th></th>\n      <th></th>\n    </tr>\n  </thead>\n  <tbody>\n    <tr>\n      <th>2020-05-01 00:00:00-04:00</th>\n      <td>1.4125</td>\n      <td>1.545000</td>\n      <td>1.362500</td>\n      <td>1.512500</td>\n      <td>1.512500</td>\n      <td>16022400</td>\n      <td>0.0</td>\n      <td>0.0</td>\n    </tr>\n    <tr>\n      <th>2020-05-04 00:00:00-04:00</th>\n      <td>1.4600</td>\n      <td>1.482500</td>\n      <td>1.350000</td>\n      <td>1.370000</td>\n      <td>1.370000</td>\n      <td>16272400</td>\n      <td>0.0</td>\n      <td>0.0</td>\n    </tr>\n    <tr>\n      <th>2020-05-05 00:00:00-04:00</th>\n      <td>1.3875</td>\n      <td>1.407500</td>\n      <td>1.337500</td>\n      <td>1.347500</td>\n      <td>1.347500</td>\n      <td>8423600</td>\n      <td>0.0</td>\n      <td>0.0</td>\n    </tr>\n    <tr>\n      <th>2020-05-06 00:00:00-04:00</th>\n      <td>1.3500</td>\n      <td>1.350000</td>\n      <td>1.225000</td>\n      <td>1.232500</td>\n      <td>1.232500</td>\n      <td>13478400</td>\n      <td>0.0</td>\n      <td>0.0</td>\n    </tr>\n    <tr>\n      <th>2020-05-07 00:00:00-04:00</th>\n      <td>1.2075</td>\n      <td>1.232500</td>\n      <td>1.162500</td>\n      <td>1.217500</td>\n      <td>1.217500</td>\n      <td>10003200</td>\n      <td>0.0</td>\n      <td>0.0</td>\n    </tr>\n    <tr>\n      <th>...</th>\n      <td>...</td>\n      <td>...</td>\n      <td>...</td>\n      <td>...</td>\n      <td>...</td>\n      <td>...</td>\n      <td>...</td>\n      <td>...</td>\n    </tr>\n    <tr>\n      <th>2024-05-24 00:00:00-04:00</th>\n      <td>18.4200</td>\n      <td>19.680000</td>\n      <td>17.700001</td>\n      <td>19.000000</td>\n      <td>19.000000</td>\n      <td>41886700</td>\n      <td>0.0</td>\n      <td>0.0</td>\n    </tr>\n    <tr>\n      <th>2024-05-28 00:00:00-04:00</th>\n      <td>23.1000</td>\n      <td>26.660000</td>\n      <td>21.150000</td>\n      <td>23.780001</td>\n      <td>23.780001</td>\n      <td>105077600</td>\n      <td>0.0</td>\n      <td>0.0</td>\n    </tr>\n    <tr>\n      <th>2024-05-29 00:00:00-04:00</th>\n      <td>22.0000</td>\n      <td>22.980000</td>\n      <td>21.049999</td>\n      <td>21.240000</td>\n      <td>21.240000</td>\n      <td>26921200</td>\n      <td>0.0</td>\n      <td>0.0</td>\n    </tr>\n    <tr>\n      <th>2024-05-30 00:00:00-04:00</th>\n      <td>21.0200</td>\n      <td>22.700001</td>\n      <td>20.100000</td>\n      <td>22.610001</td>\n      <td>22.610001</td>\n      <td>24508800</td>\n      <td>0.0</td>\n      <td>0.0</td>\n    </tr>\n    <tr>\n      <th>2024-05-31 00:00:00-04:00</th>\n      <td>22.5800</td>\n      <td>23.719999</td>\n      <td>21.680000</td>\n      <td>23.139999</td>\n      <td>23.139999</td>\n      <td>22174300</td>\n      <td>0.0</td>\n      <td>0.0</td>\n    </tr>\n  </tbody>\n</table>\n<p>1028 rows × 8 columns</p>\n</div>"
     },
     "execution_count": 52,
     "metadata": {},
     "output_type": "execute_result"
    }
   ],
   "source": [
    "daily_data = stock_data.history(interval=\"1d\", start=start_date, end=end_date, auto_adjust=False)\n",
    "daily_data"
   ],
   "metadata": {
    "collapsed": false
   }
  },
  {
   "cell_type": "markdown",
   "source": [
    "保存为CSV文件"
   ],
   "metadata": {
    "collapsed": false
   }
  },
  {
   "cell_type": "code",
   "execution_count": 77,
   "outputs": [],
   "source": [
    "daily_data.to_csv(\"maotai_daily.csv\")"
   ],
   "metadata": {
    "collapsed": false
   }
  },
  {
   "cell_type": "markdown",
   "source": [
    "> **Error**: ValueError: time data '2024–06–01' does not match format '%Y-%m-%d'\n",
    "原因：使用了中文的中横线\n"
   ],
   "metadata": {
    "collapsed": false
   }
  },
  {
   "cell_type": "markdown",
   "source": [
    "### 按月获取数据\n",
    "\n",
    "最长记录： 2001-09-01～现在"
   ],
   "metadata": {
    "collapsed": false
   }
  },
  {
   "cell_type": "code",
   "execution_count": 62,
   "outputs": [
    {
     "data": {
      "text/plain": "                                  Open         High          Low        Close  \\\nDate                                                                            \n2001-09-01 00:00:00+08:00     5.401366     5.529140     5.083382     5.385395   \n2001-10-01 00:00:00+08:00     5.357807     5.444926     4.747976     5.089191   \n2001-11-01 00:00:00+08:00     5.089191     5.256169     4.788631     5.131299   \n2001-12-01 00:00:00+08:00     5.132750     5.706282     5.031111     5.597383   \n2002-01-01 00:00:00+08:00     5.469609     5.706282     5.038371     5.459445   \n...                                ...          ...          ...          ...   \n2024-02-01 00:00:00+08:00  1605.500000  1737.930054  1581.000000  1695.000000   \n2024-03-01 00:00:00+08:00  1690.000000  1749.099976  1666.680054  1702.900024   \n2024-04-01 00:00:00+08:00  1709.989990  1739.439941  1634.030029  1705.000000   \n2024-05-01 00:00:00+08:00  1705.000000  1777.800049  1648.449951  1648.449951   \n2024-06-01 00:00:00+08:00  1650.000000  1658.680054  1520.459961  1555.000000   \n\n                              Volume  Dividends  Stock Splits  \nDate                                                           \n2001-09-01 00:00:00+08:00  153532558        0.0           0.0  \n2001-10-01 00:00:00+08:00  123683045        0.0           0.0  \n2001-11-01 00:00:00+08:00   49519892        0.0           0.0  \n2001-12-01 00:00:00+08:00  125293936        0.0           0.0  \n2002-01-01 00:00:00+08:00  193907341        0.0           0.0  \n...                              ...        ...           ...  \n2024-02-01 00:00:00+08:00   54455207        0.0           0.0  \n2024-03-01 00:00:00+08:00   51346885        0.0           0.0  \n2024-04-01 00:00:00+08:00   57007757        0.0           0.0  \n2024-05-01 00:00:00+08:00   51091654        0.0           0.0  \n2024-06-01 00:00:00+08:00   32840969        0.0           0.0  \n\n[274 rows x 7 columns]",
      "text/html": "<div>\n<style scoped>\n    .dataframe tbody tr th:only-of-type {\n        vertical-align: middle;\n    }\n\n    .dataframe tbody tr th {\n        vertical-align: top;\n    }\n\n    .dataframe thead th {\n        text-align: right;\n    }\n</style>\n<table border=\"1\" class=\"dataframe\">\n  <thead>\n    <tr style=\"text-align: right;\">\n      <th></th>\n      <th>Open</th>\n      <th>High</th>\n      <th>Low</th>\n      <th>Close</th>\n      <th>Volume</th>\n      <th>Dividends</th>\n      <th>Stock Splits</th>\n    </tr>\n    <tr>\n      <th>Date</th>\n      <th></th>\n      <th></th>\n      <th></th>\n      <th></th>\n      <th></th>\n      <th></th>\n      <th></th>\n    </tr>\n  </thead>\n  <tbody>\n    <tr>\n      <th>2001-09-01 00:00:00+08:00</th>\n      <td>5.401366</td>\n      <td>5.529140</td>\n      <td>5.083382</td>\n      <td>5.385395</td>\n      <td>153532558</td>\n      <td>0.0</td>\n      <td>0.0</td>\n    </tr>\n    <tr>\n      <th>2001-10-01 00:00:00+08:00</th>\n      <td>5.357807</td>\n      <td>5.444926</td>\n      <td>4.747976</td>\n      <td>5.089191</td>\n      <td>123683045</td>\n      <td>0.0</td>\n      <td>0.0</td>\n    </tr>\n    <tr>\n      <th>2001-11-01 00:00:00+08:00</th>\n      <td>5.089191</td>\n      <td>5.256169</td>\n      <td>4.788631</td>\n      <td>5.131299</td>\n      <td>49519892</td>\n      <td>0.0</td>\n      <td>0.0</td>\n    </tr>\n    <tr>\n      <th>2001-12-01 00:00:00+08:00</th>\n      <td>5.132750</td>\n      <td>5.706282</td>\n      <td>5.031111</td>\n      <td>5.597383</td>\n      <td>125293936</td>\n      <td>0.0</td>\n      <td>0.0</td>\n    </tr>\n    <tr>\n      <th>2002-01-01 00:00:00+08:00</th>\n      <td>5.469609</td>\n      <td>5.706282</td>\n      <td>5.038371</td>\n      <td>5.459445</td>\n      <td>193907341</td>\n      <td>0.0</td>\n      <td>0.0</td>\n    </tr>\n    <tr>\n      <th>...</th>\n      <td>...</td>\n      <td>...</td>\n      <td>...</td>\n      <td>...</td>\n      <td>...</td>\n      <td>...</td>\n      <td>...</td>\n    </tr>\n    <tr>\n      <th>2024-02-01 00:00:00+08:00</th>\n      <td>1605.500000</td>\n      <td>1737.930054</td>\n      <td>1581.000000</td>\n      <td>1695.000000</td>\n      <td>54455207</td>\n      <td>0.0</td>\n      <td>0.0</td>\n    </tr>\n    <tr>\n      <th>2024-03-01 00:00:00+08:00</th>\n      <td>1690.000000</td>\n      <td>1749.099976</td>\n      <td>1666.680054</td>\n      <td>1702.900024</td>\n      <td>51346885</td>\n      <td>0.0</td>\n      <td>0.0</td>\n    </tr>\n    <tr>\n      <th>2024-04-01 00:00:00+08:00</th>\n      <td>1709.989990</td>\n      <td>1739.439941</td>\n      <td>1634.030029</td>\n      <td>1705.000000</td>\n      <td>57007757</td>\n      <td>0.0</td>\n      <td>0.0</td>\n    </tr>\n    <tr>\n      <th>2024-05-01 00:00:00+08:00</th>\n      <td>1705.000000</td>\n      <td>1777.800049</td>\n      <td>1648.449951</td>\n      <td>1648.449951</td>\n      <td>51091654</td>\n      <td>0.0</td>\n      <td>0.0</td>\n    </tr>\n    <tr>\n      <th>2024-06-01 00:00:00+08:00</th>\n      <td>1650.000000</td>\n      <td>1658.680054</td>\n      <td>1520.459961</td>\n      <td>1555.000000</td>\n      <td>32840969</td>\n      <td>0.0</td>\n      <td>0.0</td>\n    </tr>\n  </tbody>\n</table>\n<p>274 rows × 7 columns</p>\n</div>"
     },
     "execution_count": 62,
     "metadata": {},
     "output_type": "execute_result"
    }
   ],
   "source": [
    "hist = stock_data.history(interval=\"1mo\",period=\"max\")\n",
    "hist"
   ],
   "metadata": {
    "collapsed": false
   }
  },
  {
   "cell_type": "markdown",
   "source": [
    "> **Error**: 获取到的数据仍然是按天的，没有按月\n",
    "2024-05-13 00:00:00-04:00,417.257382,417.596766,410.080325,412.975098,15440200,0.00,0.0\n",
    "2024-05-14 00:00:00-04:00,411.278163,416.738316,410.809008,415.809998,15109300,0.00,0.0\n",
    "2024-05-15 00:00:00-04:00,417.899994,423.809998,417.269989,423.079987,22239500,0.75,0.0\n",
    "应该设置参数interval，而不是参数period，参考：https://github.com/ranaroussi/yfinance/wiki/Ticker\n"
   ],
   "metadata": {
    "collapsed": false
   }
  },
  {
   "cell_type": "markdown",
   "source": [
    "### 按天获取所有数据，Adj Close单独一列\n",
    "获取尽量多的数据"
   ],
   "metadata": {
    "collapsed": false
   }
  },
  {
   "cell_type": "code",
   "execution_count": 79,
   "outputs": [
    {
     "data": {
      "text/plain": "                                  Open         High          Low        Close  \\\nDate                                                                            \n2001-08-27 00:00:00+08:00     6.867947     7.518720     6.537585     7.074920   \n2001-08-28 00:00:00+08:00     6.963473     7.363490     6.887848     7.335628   \n2001-08-29 00:00:00+08:00     7.359509     7.363490     7.184378     7.240101   \n2001-08-30 00:00:00+08:00     7.220200     7.464986     7.164476     7.383391   \n2001-08-31 00:00:00+08:00     7.393342     7.486878     7.323687     7.365480   \n...                                ...          ...          ...          ...   \n2024-06-07 00:00:00+08:00  1646.130005  1646.180054  1619.010010  1619.180054   \n2024-06-11 00:00:00+08:00  1602.989990  1605.000000  1567.000000  1569.000000   \n2024-06-12 00:00:00+08:00  1570.000000  1590.000000  1570.000000  1571.680054   \n2024-06-13 00:00:00+08:00  1576.770020  1576.890015  1553.150024  1555.010010   \n2024-06-14 00:00:00+08:00  1555.000000  1563.959961  1520.459961  1555.000000   \n\n                             Adj Close     Volume  Dividends  Stock Splits  \\\nDate                                                                         \n2001-08-27 00:00:00+08:00     5.161790  204166311        0.0           0.0   \n2001-08-28 00:00:00+08:00     5.352000   65145307        0.0           0.0   \n2001-08-29 00:00:00+08:00     5.282304   26758394        0.0           0.0   \n2001-08-30 00:00:00+08:00     5.386847   24125560        0.0           0.0   \n2001-08-31 00:00:00+08:00     5.373779   11673333        0.0           0.0   \n...                                ...        ...        ...           ...   \n2024-06-07 00:00:00+08:00  1619.180054    3352455        0.0           0.0   \n2024-06-11 00:00:00+08:00  1569.000000    7024676        0.0           0.0   \n2024-06-12 00:00:00+08:00  1571.680054    3317050        0.0           0.0   \n2024-06-13 00:00:00+08:00  1555.010010    3618597        0.0           0.0   \n2024-06-14 00:00:00+08:00  1555.000000    5951416        0.0           0.0   \n\n                           Repaired?  \nDate                                  \n2001-08-27 00:00:00+08:00      False  \n2001-08-28 00:00:00+08:00      False  \n2001-08-29 00:00:00+08:00      False  \n2001-08-30 00:00:00+08:00      False  \n2001-08-31 00:00:00+08:00      False  \n...                              ...  \n2024-06-07 00:00:00+08:00      False  \n2024-06-11 00:00:00+08:00      False  \n2024-06-12 00:00:00+08:00      False  \n2024-06-13 00:00:00+08:00      False  \n2024-06-14 00:00:00+08:00      False  \n\n[5617 rows x 9 columns]",
      "text/html": "<div>\n<style scoped>\n    .dataframe tbody tr th:only-of-type {\n        vertical-align: middle;\n    }\n\n    .dataframe tbody tr th {\n        vertical-align: top;\n    }\n\n    .dataframe thead th {\n        text-align: right;\n    }\n</style>\n<table border=\"1\" class=\"dataframe\">\n  <thead>\n    <tr style=\"text-align: right;\">\n      <th></th>\n      <th>Open</th>\n      <th>High</th>\n      <th>Low</th>\n      <th>Close</th>\n      <th>Adj Close</th>\n      <th>Volume</th>\n      <th>Dividends</th>\n      <th>Stock Splits</th>\n      <th>Repaired?</th>\n    </tr>\n    <tr>\n      <th>Date</th>\n      <th></th>\n      <th></th>\n      <th></th>\n      <th></th>\n      <th></th>\n      <th></th>\n      <th></th>\n      <th></th>\n      <th></th>\n    </tr>\n  </thead>\n  <tbody>\n    <tr>\n      <th>2001-08-27 00:00:00+08:00</th>\n      <td>6.867947</td>\n      <td>7.518720</td>\n      <td>6.537585</td>\n      <td>7.074920</td>\n      <td>5.161790</td>\n      <td>204166311</td>\n      <td>0.0</td>\n      <td>0.0</td>\n      <td>False</td>\n    </tr>\n    <tr>\n      <th>2001-08-28 00:00:00+08:00</th>\n      <td>6.963473</td>\n      <td>7.363490</td>\n      <td>6.887848</td>\n      <td>7.335628</td>\n      <td>5.352000</td>\n      <td>65145307</td>\n      <td>0.0</td>\n      <td>0.0</td>\n      <td>False</td>\n    </tr>\n    <tr>\n      <th>2001-08-29 00:00:00+08:00</th>\n      <td>7.359509</td>\n      <td>7.363490</td>\n      <td>7.184378</td>\n      <td>7.240101</td>\n      <td>5.282304</td>\n      <td>26758394</td>\n      <td>0.0</td>\n      <td>0.0</td>\n      <td>False</td>\n    </tr>\n    <tr>\n      <th>2001-08-30 00:00:00+08:00</th>\n      <td>7.220200</td>\n      <td>7.464986</td>\n      <td>7.164476</td>\n      <td>7.383391</td>\n      <td>5.386847</td>\n      <td>24125560</td>\n      <td>0.0</td>\n      <td>0.0</td>\n      <td>False</td>\n    </tr>\n    <tr>\n      <th>2001-08-31 00:00:00+08:00</th>\n      <td>7.393342</td>\n      <td>7.486878</td>\n      <td>7.323687</td>\n      <td>7.365480</td>\n      <td>5.373779</td>\n      <td>11673333</td>\n      <td>0.0</td>\n      <td>0.0</td>\n      <td>False</td>\n    </tr>\n    <tr>\n      <th>...</th>\n      <td>...</td>\n      <td>...</td>\n      <td>...</td>\n      <td>...</td>\n      <td>...</td>\n      <td>...</td>\n      <td>...</td>\n      <td>...</td>\n      <td>...</td>\n    </tr>\n    <tr>\n      <th>2024-06-07 00:00:00+08:00</th>\n      <td>1646.130005</td>\n      <td>1646.180054</td>\n      <td>1619.010010</td>\n      <td>1619.180054</td>\n      <td>1619.180054</td>\n      <td>3352455</td>\n      <td>0.0</td>\n      <td>0.0</td>\n      <td>False</td>\n    </tr>\n    <tr>\n      <th>2024-06-11 00:00:00+08:00</th>\n      <td>1602.989990</td>\n      <td>1605.000000</td>\n      <td>1567.000000</td>\n      <td>1569.000000</td>\n      <td>1569.000000</td>\n      <td>7024676</td>\n      <td>0.0</td>\n      <td>0.0</td>\n      <td>False</td>\n    </tr>\n    <tr>\n      <th>2024-06-12 00:00:00+08:00</th>\n      <td>1570.000000</td>\n      <td>1590.000000</td>\n      <td>1570.000000</td>\n      <td>1571.680054</td>\n      <td>1571.680054</td>\n      <td>3317050</td>\n      <td>0.0</td>\n      <td>0.0</td>\n      <td>False</td>\n    </tr>\n    <tr>\n      <th>2024-06-13 00:00:00+08:00</th>\n      <td>1576.770020</td>\n      <td>1576.890015</td>\n      <td>1553.150024</td>\n      <td>1555.010010</td>\n      <td>1555.010010</td>\n      <td>3618597</td>\n      <td>0.0</td>\n      <td>0.0</td>\n      <td>False</td>\n    </tr>\n    <tr>\n      <th>2024-06-14 00:00:00+08:00</th>\n      <td>1555.000000</td>\n      <td>1563.959961</td>\n      <td>1520.459961</td>\n      <td>1555.000000</td>\n      <td>1555.000000</td>\n      <td>5951416</td>\n      <td>0.0</td>\n      <td>0.0</td>\n      <td>False</td>\n    </tr>\n  </tbody>\n</table>\n<p>5617 rows × 9 columns</p>\n</div>"
     },
     "execution_count": 79,
     "metadata": {},
     "output_type": "execute_result"
    }
   ],
   "source": [
    "hist = stock_data.history(interval=\"1d\",period=\"max\",prepost=True, actions=True,auto_adjust=False,repair=True,)\n",
    "hist"
   ],
   "metadata": {
    "collapsed": false
   }
  },
  {
   "cell_type": "markdown",
   "source": [
    "保存为不同格式的文件"
   ],
   "metadata": {
    "collapsed": false
   }
  },
  {
   "cell_type": "code",
   "execution_count": 84,
   "outputs": [],
   "source": [
    "hist.to_csv(\"maotai_daily_max.csv\")"
   ],
   "metadata": {
    "collapsed": false
   }
  },
  {
   "cell_type": "markdown",
   "source": [
    "## Exploring Advanced Features"
   ],
   "metadata": {
    "collapsed": false
   }
  },
  {
   "cell_type": "markdown",
   "source": [
    "### 分红 Dividends"
   ],
   "metadata": {
    "collapsed": false
   }
  },
  {
   "cell_type": "code",
   "execution_count": 38,
   "outputs": [
    {
     "data": {
      "text/plain": "Series([], Name: Dividends, dtype: float64)"
     },
     "execution_count": 38,
     "metadata": {},
     "output_type": "execute_result"
    }
   ],
   "source": [
    "dividends = stock_data.dividends\n",
    "dividends.head()"
   ],
   "metadata": {
    "collapsed": false
   }
  },
  {
   "cell_type": "markdown",
   "source": [
    "### 股票分割 Stock splits"
   ],
   "metadata": {
    "collapsed": false
   }
  },
  {
   "cell_type": "code",
   "execution_count": 39,
   "outputs": [
    {
     "data": {
      "text/plain": "Date\n2022-07-22 00:00:00-04:00    4.0\nName: Stock Splits, dtype: float64"
     },
     "execution_count": 39,
     "metadata": {},
     "output_type": "execute_result"
    }
   ],
   "source": [
    "stock_data.splits"
   ],
   "metadata": {
    "collapsed": false
   }
  },
  {
   "cell_type": "markdown",
   "source": [
    "### 财务报表 Financial Statements\n",
    "\n",
    "#### 收入报表 Income Statement"
   ],
   "metadata": {
    "collapsed": false
   }
  },
  {
   "cell_type": "code",
   "execution_count": 85,
   "outputs": [
    {
     "data": {
      "text/plain": "                                                             2023-12-31  \\\nTax Effect Of Unusual Items                             10224051.265571   \nTax Rate For Calcs                                             0.252175   \nNormalized EBITDA                                   105555164497.509995   \nTotal Unusual Items                                         40543518.79   \nTotal Unusual Items Excluding Goodwill                      40543518.79   \nNet Income From Continuing Operation Net Minori...       74734071550.75   \nReconciled Depreciation                                   1920529698.14   \nReconciled Cost Of Revenue                           11980842560.280001   \nEBITDA                                              105595708016.300003   \nEBIT                                                103675178318.160004   \nNet Interest Income                                       1789503701.48   \nInterest Expense                                            12624628.35   \nInterest Income                                           1942301920.98   \nNormalized Income                                    74703752083.225571   \nNet Income From Continuing And Discontinued Ope...       74734071550.75   \nTotal Expenses                                       48715748296.160004   \nRent Expense Supplemental                                   20301085.12   \nTotal Operating Income As Reported                  103708655208.380005   \nDiluted Average Shares                                     1256245950.0   \nBasic Average Shares                                       1256245950.0   \nDiluted EPS                                                       59.49   \nBasic EPS                                                         59.49   \nNet Income Common Stockholders                           74734071550.75   \nOtherunder Preferred Stock Dividend                                 0.0   \nNet Income                                               74734071550.75   \nMinority Interests                                       -2787404727.05   \nNet Income Including Noncontrolling Interests        77521476277.800003   \nNet Income Extraordinary                                            NaN   \nNet Income Continuous Operations                     77521476277.800003   \nTax Provision                                        26141077412.009998   \nPretax Income                                       103662553689.809998   \nOther Non Operating Income Expenses                        -46101518.57   \nSpecial Income Charges                                      37391556.29   \nOther Special Charges                                         479736.97   \nWrite Off                                                  -37871293.26   \nNet Non Operating Interest Income Expense                 1789503701.48   \nTotal Other Finance Cost                                   140173591.15   \nInterest Expense Non Operating                              12624628.35   \nInterest Income Non Operating                             1942301920.98   \nOperating Income                                    101844582020.289993   \nOperating Expense                                    36734905735.879997   \nOther Operating Expenses                             22234175898.599998   \nDepreciation And Amortization In Income Statement          808903164.38   \nAmortization                                               196656866.73   \nDepreciation Income Statement                              612246297.65   \nResearch And Development                                   157371873.01   \nSelling General And Administration                    9186242616.459999   \nSelling And Marketing Expense                             4648613585.82   \nGeneral And Administrative Expense                        4537629030.64   \nRent And Landing Fees                                       20301085.12   \nGross Profit                                        138579487756.170013   \nCost Of Revenue                                      11980842560.280001   \nTotal Revenue                                       150560330316.450012   \nOperating Revenue                                   150560330316.450012   \n\n                                                             2022-12-31  \\\nTax Effect Of Unusual Items                             -3684352.103191   \nTax Rate For Calcs                                             0.254562   \nNormalized EBITDA                                    89404948951.539993   \nTotal Unusual Items                                        -14473310.56   \nTotal Unusual Items Excluding Goodwill                     -14473310.56   \nNet Income From Continuing Operation Net Minori...   62717467870.120003   \nReconciled Depreciation                                   1676962688.03   \nReconciled Cost Of Revenue                           10199195964.379999   \nEBITDA                                               89390475640.979996   \nEBIT                                                 87713512952.949997   \nNet Interest Income                                       1391805826.72   \nInterest Expense                                            12023204.77   \nInterest Income                                           1475422303.64   \nNormalized Income                                    62728256828.576813   \nNet Income From Continuing And Discontinued Ope...   62717467870.120003   \nTotal Expenses                                       41115610089.739998   \nRent Expense Supplemental                                   24919167.73   \nTotal Operating Income As Reported                   87879521782.389999   \nDiluted Average Shares                                     1256107908.0   \nBasic Average Shares                                       1256107908.0   \nDiluted EPS                                                       49.93   \nBasic EPS                                                         49.93   \nNet Income Common Stockholders                       62717467870.120003   \nOtherunder Preferred Stock Dividend                                 0.0   \nNet Income                                           62717467870.120003   \nMinority Interests                                       -2658572087.76   \nNet Income Including Noncontrolling Interests        65376039957.879997   \nNet Income Extraordinary                                            NaN   \nNet Income Continuous Operations                     65376039957.879997   \nTax Provision                                        22325449790.299999   \nPretax Income                                        87701489748.179993   \nOther Non Operating Income Expenses                       -178032034.21   \nSpecial Income Charges                                     -14473310.56   \nOther Special Charges                                        -213235.69   \nWrite Off                                                   14686546.25   \nNet Non Operating Interest Income Expense                 1391805826.72   \nTotal Other Finance Cost                                    71593272.15   \nInterest Expense Non Operating                              12023204.77   \nInterest Income Non Operating                             1475422303.64   \nOperating Income                                     86438349266.229996   \nOperating Expense                                    30916414125.360001   \nOther Operating Expenses                             18495818534.220001   \nDepreciation And Amortization In Income Statement          651055231.07   \nAmortization                                                156016278.9   \nDepreciation Income Statement                              495038952.17   \nResearch And Development                                    135185680.4   \nSelling General And Administration                        7280808618.87   \nSelling And Marketing Expense                             3297724190.94   \nGeneral And Administrative Expense                        3983084427.93   \nRent And Landing Fees                                       24919167.73   \nGross Profit                                        117354763391.589996   \nCost Of Revenue                                      10199195964.379999   \nTotal Revenue                                       127553959355.970001   \nOperating Revenue                                   127553959355.970001   \n\n                                                             2021-12-31  \\\nTax Effect Of Unusual Items                             -3286274.730402   \nTax Rate For Calcs                                             0.252355   \nNormalized EBITDA                                        76125110580.25   \nTotal Unusual Items                                        -13022441.19   \nTotal Unusual Items Excluding Goodwill                     -13022441.19   \nNet Income From Continuing Operation Net Minori...   52460144378.160004   \nReconciled Depreciation                                   1570526376.54   \nReconciled Cost Of Revenue                            9157390090.059999   \nEBITDA                                               76112088139.059998   \nEBIT                                                 74541561762.520004   \nNet Interest Income                                        934523406.02   \nInterest Expense                                            13529867.76   \nInterest Income                                            944578412.02   \nNormalized Income                                    52469880544.619598   \nNet Income From Continuing And Discontinued Ope...   52460144378.160004   \nTotal Expenses                                       35690909962.300003   \nRent Expense Supplemental                                   20126797.76   \nTotal Operating Income As Reported                   74750880777.520004   \nDiluted Average Shares                                     1256229511.0   \nBasic Average Shares                                       1256229511.0   \nDiluted EPS                                                       41.76   \nBasic EPS                                                         41.76   \nNet Income Common Stockholders                       52460144378.160004   \nOtherunder Preferred Stock Dividend                                 0.0   \nNet Income                                           52460144378.160004   \nMinority Interests                                        -3260385578.3   \nNet Income Including Noncontrolling Interests        55720529956.459999   \nNet Income Extraordinary                                            NaN   \nNet Income Continuous Operations                     55720529956.459999   \nTax Provision                                        18807501938.299999   \nPretax Income                                        74528031894.759995   \nOther Non Operating Income Expenses                       -225093609.05   \nSpecial Income Charges                                     -13022441.19   \nOther Special Charges                                               NaN   \nWrite Off                                                   13022441.19   \nNet Non Operating Interest Income Expense                  934523406.02   \nTotal Other Finance Cost                                    -3474861.76   \nInterest Expense Non Operating                              13529867.76   \nInterest Income Non Operating                              944578412.02   \nOperating Income                                     73773368601.589996   \nOperating Expense                                    26533519872.240002   \nOther Operating Expenses                             15304469070.030001   \nDepreciation And Amortization In Income Statement          518736432.49   \nAmortization                                               124084418.97   \nDepreciation Income Statement                              394652013.52   \nResearch And Development                                    61923213.59   \nSelling General And Administration                         6679588340.0   \nSelling And Marketing Expense                             2737369434.78   \nGeneral And Administrative Expense                        3942218905.22   \nRent And Landing Fees                                       20126797.76   \nGross Profit                                        100306888473.830002   \nCost Of Revenue                                       9157390090.059999   \nTotal Revenue                                       109464278563.889999   \nOperating Revenue                                   109464278563.889999   \n\n                                                            2020-12-31  \\\nTax Effect Of Unusual Items                           -17977052.068286   \nTax Rate For Calcs                                            0.251879   \nNormalized EBITDA                                   67844314861.349998   \nTotal Unusual Items                                       -71371809.85   \nTotal Unusual Items Excluding Goodwill                    -71371809.85   \nNet Income From Continuing Operation Net Minori...  46697285429.809998   \nReconciled Depreciation                                   1306305567.6   \nReconciled Cost Of Revenue                               8265235902.55   \nEBITDA                                                   67772943051.5   \nEBIT                                                66466637483.900002   \nNet Interest Income                                       234610582.44   \nInterest Expense                                                   NaN   \nInterest Income                                           278697733.32   \nNormalized Income                                   46750680187.591713   \nNet Income From Continuing And Discontinued Ope...  46697285429.809998   \nTotal Expenses                                      31526603017.310001   \nRent Expense Supplemental                                  22870672.67   \nTotal Operating Income As Reported                  66635079882.379997   \nDiluted Average Shares                                    1256316530.0   \nBasic Average Shares                                      1256316530.0   \nDiluted EPS                                                      37.17   \nBasic EPS                                                        37.17   \nNet Income Common Stockholders                      46697285429.809998   \nOtherunder Preferred Stock Dividend                                0.0   \nNet Income                                          46697285429.809998   \nMinority Interests                                      -2826044452.59   \nNet Income Including Noncontrolling Interests       49523329882.400002   \nNet Income Extraordinary                                           0.0   \nNet Income Continuous Operations                    49523329882.400002   \nTax Provision                                       16673612108.709999   \nPretax Income                                       66196941991.110001   \nOther Non Operating Income Expenses                      -433239896.84   \nSpecial Income Charges                                    -71371809.85   \nOther Special Charges                                              NaN   \nWrite Off                                                  71371809.85   \nNet Non Operating Interest Income Expense                 234610582.44   \nTotal Other Finance Cost                                   44087150.88   \nInterest Expense Non Operating                                     NaN   \nInterest Income Non Operating                             278697733.32   \nOperating Income                                    66466637483.900002   \nOperating Expense                                   23261367114.759998   \nOther Operating Expenses                            13886517290.780001   \nDepreciation And Amortization In Income Statement         481452556.14   \nAmortization                                               110349099.0   \nDepreciation Income Statement                             371103457.14   \nResearch And Development                                   50398036.33   \nSelling General And Administration                       5550003470.79   \nSelling And Marketing Expense                            2547745650.95   \nGeneral And Administrative Expense                       3002257819.84   \nRent And Landing Fees                                      22870672.67   \nGross Profit                                        89728004598.660004   \nCost Of Revenue                                          8265235902.55   \nTotal Revenue                                       97993240501.210007   \nOperating Revenue                                   97993240501.210007   \n\n                                                      2019-12-31  \nTax Effect Of Unusual Items                                  NaN  \nTax Rate For Calcs                                           NaN  \nNormalized EBITDA                                            NaN  \nTotal Unusual Items                                          NaN  \nTotal Unusual Items Excluding Goodwill                       NaN  \nNet Income From Continuing Operation Net Minori...           NaN  \nReconciled Depreciation                                      NaN  \nReconciled Cost Of Revenue                                   NaN  \nEBITDA                                                       NaN  \nEBIT                                                         NaN  \nNet Interest Income                                          NaN  \nInterest Expense                                    145752825.87  \nInterest Income                                              NaN  \nNormalized Income                                            NaN  \nNet Income From Continuing And Discontinued Ope...           NaN  \nTotal Expenses                                               NaN  \nRent Expense Supplemental                                    NaN  \nTotal Operating Income As Reported                           NaN  \nDiluted Average Shares                                       NaN  \nBasic Average Shares                                         NaN  \nDiluted EPS                                                  NaN  \nBasic EPS                                                    NaN  \nNet Income Common Stockholders                               NaN  \nOtherunder Preferred Stock Dividend                          NaN  \nNet Income                                                   NaN  \nMinority Interests                                           NaN  \nNet Income Including Noncontrolling Interests                NaN  \nNet Income Extraordinary                                     0.0  \nNet Income Continuous Operations                             NaN  \nTax Provision                                                NaN  \nPretax Income                                                NaN  \nOther Non Operating Income Expenses                          NaN  \nSpecial Income Charges                                       NaN  \nOther Special Charges                                   32123.57  \nWrite Off                                                    NaN  \nNet Non Operating Interest Income Expense                    NaN  \nTotal Other Finance Cost                                     NaN  \nInterest Expense Non Operating                      145752825.87  \nInterest Income Non Operating                                NaN  \nOperating Income                                             NaN  \nOperating Expense                                            NaN  \nOther Operating Expenses                                     NaN  \nDepreciation And Amortization In Income Statement            NaN  \nAmortization                                                 NaN  \nDepreciation Income Statement                                NaN  \nResearch And Development                                     NaN  \nSelling General And Administration                           NaN  \nSelling And Marketing Expense                                NaN  \nGeneral And Administrative Expense                           NaN  \nRent And Landing Fees                                        NaN  \nGross Profit                                                 NaN  \nCost Of Revenue                                              NaN  \nTotal Revenue                                                NaN  \nOperating Revenue                                            NaN  ",
      "text/html": "<div>\n<style scoped>\n    .dataframe tbody tr th:only-of-type {\n        vertical-align: middle;\n    }\n\n    .dataframe tbody tr th {\n        vertical-align: top;\n    }\n\n    .dataframe thead th {\n        text-align: right;\n    }\n</style>\n<table border=\"1\" class=\"dataframe\">\n  <thead>\n    <tr style=\"text-align: right;\">\n      <th></th>\n      <th>2023-12-31</th>\n      <th>2022-12-31</th>\n      <th>2021-12-31</th>\n      <th>2020-12-31</th>\n      <th>2019-12-31</th>\n    </tr>\n  </thead>\n  <tbody>\n    <tr>\n      <th>Tax Effect Of Unusual Items</th>\n      <td>10224051.265571</td>\n      <td>-3684352.103191</td>\n      <td>-3286274.730402</td>\n      <td>-17977052.068286</td>\n      <td>NaN</td>\n    </tr>\n    <tr>\n      <th>Tax Rate For Calcs</th>\n      <td>0.252175</td>\n      <td>0.254562</td>\n      <td>0.252355</td>\n      <td>0.251879</td>\n      <td>NaN</td>\n    </tr>\n    <tr>\n      <th>Normalized EBITDA</th>\n      <td>105555164497.509995</td>\n      <td>89404948951.539993</td>\n      <td>76125110580.25</td>\n      <td>67844314861.349998</td>\n      <td>NaN</td>\n    </tr>\n    <tr>\n      <th>Total Unusual Items</th>\n      <td>40543518.79</td>\n      <td>-14473310.56</td>\n      <td>-13022441.19</td>\n      <td>-71371809.85</td>\n      <td>NaN</td>\n    </tr>\n    <tr>\n      <th>Total Unusual Items Excluding Goodwill</th>\n      <td>40543518.79</td>\n      <td>-14473310.56</td>\n      <td>-13022441.19</td>\n      <td>-71371809.85</td>\n      <td>NaN</td>\n    </tr>\n    <tr>\n      <th>Net Income From Continuing Operation Net Minority Interest</th>\n      <td>74734071550.75</td>\n      <td>62717467870.120003</td>\n      <td>52460144378.160004</td>\n      <td>46697285429.809998</td>\n      <td>NaN</td>\n    </tr>\n    <tr>\n      <th>Reconciled Depreciation</th>\n      <td>1920529698.14</td>\n      <td>1676962688.03</td>\n      <td>1570526376.54</td>\n      <td>1306305567.6</td>\n      <td>NaN</td>\n    </tr>\n    <tr>\n      <th>Reconciled Cost Of Revenue</th>\n      <td>11980842560.280001</td>\n      <td>10199195964.379999</td>\n      <td>9157390090.059999</td>\n      <td>8265235902.55</td>\n      <td>NaN</td>\n    </tr>\n    <tr>\n      <th>EBITDA</th>\n      <td>105595708016.300003</td>\n      <td>89390475640.979996</td>\n      <td>76112088139.059998</td>\n      <td>67772943051.5</td>\n      <td>NaN</td>\n    </tr>\n    <tr>\n      <th>EBIT</th>\n      <td>103675178318.160004</td>\n      <td>87713512952.949997</td>\n      <td>74541561762.520004</td>\n      <td>66466637483.900002</td>\n      <td>NaN</td>\n    </tr>\n    <tr>\n      <th>Net Interest Income</th>\n      <td>1789503701.48</td>\n      <td>1391805826.72</td>\n      <td>934523406.02</td>\n      <td>234610582.44</td>\n      <td>NaN</td>\n    </tr>\n    <tr>\n      <th>Interest Expense</th>\n      <td>12624628.35</td>\n      <td>12023204.77</td>\n      <td>13529867.76</td>\n      <td>NaN</td>\n      <td>145752825.87</td>\n    </tr>\n    <tr>\n      <th>Interest Income</th>\n      <td>1942301920.98</td>\n      <td>1475422303.64</td>\n      <td>944578412.02</td>\n      <td>278697733.32</td>\n      <td>NaN</td>\n    </tr>\n    <tr>\n      <th>Normalized Income</th>\n      <td>74703752083.225571</td>\n      <td>62728256828.576813</td>\n      <td>52469880544.619598</td>\n      <td>46750680187.591713</td>\n      <td>NaN</td>\n    </tr>\n    <tr>\n      <th>Net Income From Continuing And Discontinued Operation</th>\n      <td>74734071550.75</td>\n      <td>62717467870.120003</td>\n      <td>52460144378.160004</td>\n      <td>46697285429.809998</td>\n      <td>NaN</td>\n    </tr>\n    <tr>\n      <th>Total Expenses</th>\n      <td>48715748296.160004</td>\n      <td>41115610089.739998</td>\n      <td>35690909962.300003</td>\n      <td>31526603017.310001</td>\n      <td>NaN</td>\n    </tr>\n    <tr>\n      <th>Rent Expense Supplemental</th>\n      <td>20301085.12</td>\n      <td>24919167.73</td>\n      <td>20126797.76</td>\n      <td>22870672.67</td>\n      <td>NaN</td>\n    </tr>\n    <tr>\n      <th>Total Operating Income As Reported</th>\n      <td>103708655208.380005</td>\n      <td>87879521782.389999</td>\n      <td>74750880777.520004</td>\n      <td>66635079882.379997</td>\n      <td>NaN</td>\n    </tr>\n    <tr>\n      <th>Diluted Average Shares</th>\n      <td>1256245950.0</td>\n      <td>1256107908.0</td>\n      <td>1256229511.0</td>\n      <td>1256316530.0</td>\n      <td>NaN</td>\n    </tr>\n    <tr>\n      <th>Basic Average Shares</th>\n      <td>1256245950.0</td>\n      <td>1256107908.0</td>\n      <td>1256229511.0</td>\n      <td>1256316530.0</td>\n      <td>NaN</td>\n    </tr>\n    <tr>\n      <th>Diluted EPS</th>\n      <td>59.49</td>\n      <td>49.93</td>\n      <td>41.76</td>\n      <td>37.17</td>\n      <td>NaN</td>\n    </tr>\n    <tr>\n      <th>Basic EPS</th>\n      <td>59.49</td>\n      <td>49.93</td>\n      <td>41.76</td>\n      <td>37.17</td>\n      <td>NaN</td>\n    </tr>\n    <tr>\n      <th>Net Income Common Stockholders</th>\n      <td>74734071550.75</td>\n      <td>62717467870.120003</td>\n      <td>52460144378.160004</td>\n      <td>46697285429.809998</td>\n      <td>NaN</td>\n    </tr>\n    <tr>\n      <th>Otherunder Preferred Stock Dividend</th>\n      <td>0.0</td>\n      <td>0.0</td>\n      <td>0.0</td>\n      <td>0.0</td>\n      <td>NaN</td>\n    </tr>\n    <tr>\n      <th>Net Income</th>\n      <td>74734071550.75</td>\n      <td>62717467870.120003</td>\n      <td>52460144378.160004</td>\n      <td>46697285429.809998</td>\n      <td>NaN</td>\n    </tr>\n    <tr>\n      <th>Minority Interests</th>\n      <td>-2787404727.05</td>\n      <td>-2658572087.76</td>\n      <td>-3260385578.3</td>\n      <td>-2826044452.59</td>\n      <td>NaN</td>\n    </tr>\n    <tr>\n      <th>Net Income Including Noncontrolling Interests</th>\n      <td>77521476277.800003</td>\n      <td>65376039957.879997</td>\n      <td>55720529956.459999</td>\n      <td>49523329882.400002</td>\n      <td>NaN</td>\n    </tr>\n    <tr>\n      <th>Net Income Extraordinary</th>\n      <td>NaN</td>\n      <td>NaN</td>\n      <td>NaN</td>\n      <td>0.0</td>\n      <td>0.0</td>\n    </tr>\n    <tr>\n      <th>Net Income Continuous Operations</th>\n      <td>77521476277.800003</td>\n      <td>65376039957.879997</td>\n      <td>55720529956.459999</td>\n      <td>49523329882.400002</td>\n      <td>NaN</td>\n    </tr>\n    <tr>\n      <th>Tax Provision</th>\n      <td>26141077412.009998</td>\n      <td>22325449790.299999</td>\n      <td>18807501938.299999</td>\n      <td>16673612108.709999</td>\n      <td>NaN</td>\n    </tr>\n    <tr>\n      <th>Pretax Income</th>\n      <td>103662553689.809998</td>\n      <td>87701489748.179993</td>\n      <td>74528031894.759995</td>\n      <td>66196941991.110001</td>\n      <td>NaN</td>\n    </tr>\n    <tr>\n      <th>Other Non Operating Income Expenses</th>\n      <td>-46101518.57</td>\n      <td>-178032034.21</td>\n      <td>-225093609.05</td>\n      <td>-433239896.84</td>\n      <td>NaN</td>\n    </tr>\n    <tr>\n      <th>Special Income Charges</th>\n      <td>37391556.29</td>\n      <td>-14473310.56</td>\n      <td>-13022441.19</td>\n      <td>-71371809.85</td>\n      <td>NaN</td>\n    </tr>\n    <tr>\n      <th>Other Special Charges</th>\n      <td>479736.97</td>\n      <td>-213235.69</td>\n      <td>NaN</td>\n      <td>NaN</td>\n      <td>32123.57</td>\n    </tr>\n    <tr>\n      <th>Write Off</th>\n      <td>-37871293.26</td>\n      <td>14686546.25</td>\n      <td>13022441.19</td>\n      <td>71371809.85</td>\n      <td>NaN</td>\n    </tr>\n    <tr>\n      <th>Net Non Operating Interest Income Expense</th>\n      <td>1789503701.48</td>\n      <td>1391805826.72</td>\n      <td>934523406.02</td>\n      <td>234610582.44</td>\n      <td>NaN</td>\n    </tr>\n    <tr>\n      <th>Total Other Finance Cost</th>\n      <td>140173591.15</td>\n      <td>71593272.15</td>\n      <td>-3474861.76</td>\n      <td>44087150.88</td>\n      <td>NaN</td>\n    </tr>\n    <tr>\n      <th>Interest Expense Non Operating</th>\n      <td>12624628.35</td>\n      <td>12023204.77</td>\n      <td>13529867.76</td>\n      <td>NaN</td>\n      <td>145752825.87</td>\n    </tr>\n    <tr>\n      <th>Interest Income Non Operating</th>\n      <td>1942301920.98</td>\n      <td>1475422303.64</td>\n      <td>944578412.02</td>\n      <td>278697733.32</td>\n      <td>NaN</td>\n    </tr>\n    <tr>\n      <th>Operating Income</th>\n      <td>101844582020.289993</td>\n      <td>86438349266.229996</td>\n      <td>73773368601.589996</td>\n      <td>66466637483.900002</td>\n      <td>NaN</td>\n    </tr>\n    <tr>\n      <th>Operating Expense</th>\n      <td>36734905735.879997</td>\n      <td>30916414125.360001</td>\n      <td>26533519872.240002</td>\n      <td>23261367114.759998</td>\n      <td>NaN</td>\n    </tr>\n    <tr>\n      <th>Other Operating Expenses</th>\n      <td>22234175898.599998</td>\n      <td>18495818534.220001</td>\n      <td>15304469070.030001</td>\n      <td>13886517290.780001</td>\n      <td>NaN</td>\n    </tr>\n    <tr>\n      <th>Depreciation And Amortization In Income Statement</th>\n      <td>808903164.38</td>\n      <td>651055231.07</td>\n      <td>518736432.49</td>\n      <td>481452556.14</td>\n      <td>NaN</td>\n    </tr>\n    <tr>\n      <th>Amortization</th>\n      <td>196656866.73</td>\n      <td>156016278.9</td>\n      <td>124084418.97</td>\n      <td>110349099.0</td>\n      <td>NaN</td>\n    </tr>\n    <tr>\n      <th>Depreciation Income Statement</th>\n      <td>612246297.65</td>\n      <td>495038952.17</td>\n      <td>394652013.52</td>\n      <td>371103457.14</td>\n      <td>NaN</td>\n    </tr>\n    <tr>\n      <th>Research And Development</th>\n      <td>157371873.01</td>\n      <td>135185680.4</td>\n      <td>61923213.59</td>\n      <td>50398036.33</td>\n      <td>NaN</td>\n    </tr>\n    <tr>\n      <th>Selling General And Administration</th>\n      <td>9186242616.459999</td>\n      <td>7280808618.87</td>\n      <td>6679588340.0</td>\n      <td>5550003470.79</td>\n      <td>NaN</td>\n    </tr>\n    <tr>\n      <th>Selling And Marketing Expense</th>\n      <td>4648613585.82</td>\n      <td>3297724190.94</td>\n      <td>2737369434.78</td>\n      <td>2547745650.95</td>\n      <td>NaN</td>\n    </tr>\n    <tr>\n      <th>General And Administrative Expense</th>\n      <td>4537629030.64</td>\n      <td>3983084427.93</td>\n      <td>3942218905.22</td>\n      <td>3002257819.84</td>\n      <td>NaN</td>\n    </tr>\n    <tr>\n      <th>Rent And Landing Fees</th>\n      <td>20301085.12</td>\n      <td>24919167.73</td>\n      <td>20126797.76</td>\n      <td>22870672.67</td>\n      <td>NaN</td>\n    </tr>\n    <tr>\n      <th>Gross Profit</th>\n      <td>138579487756.170013</td>\n      <td>117354763391.589996</td>\n      <td>100306888473.830002</td>\n      <td>89728004598.660004</td>\n      <td>NaN</td>\n    </tr>\n    <tr>\n      <th>Cost Of Revenue</th>\n      <td>11980842560.280001</td>\n      <td>10199195964.379999</td>\n      <td>9157390090.059999</td>\n      <td>8265235902.55</td>\n      <td>NaN</td>\n    </tr>\n    <tr>\n      <th>Total Revenue</th>\n      <td>150560330316.450012</td>\n      <td>127553959355.970001</td>\n      <td>109464278563.889999</td>\n      <td>97993240501.210007</td>\n      <td>NaN</td>\n    </tr>\n    <tr>\n      <th>Operating Revenue</th>\n      <td>150560330316.450012</td>\n      <td>127553959355.970001</td>\n      <td>109464278563.889999</td>\n      <td>97993240501.210007</td>\n      <td>NaN</td>\n    </tr>\n  </tbody>\n</table>\n</div>"
     },
     "execution_count": 85,
     "metadata": {},
     "output_type": "execute_result"
    }
   ],
   "source": [
    "income_statement = stock_data.financials\n",
    "income_statement.to_csv(\"income_statement.csv\")\n",
    "income_statement"
   ],
   "metadata": {
    "collapsed": false
   }
  },
  {
   "cell_type": "markdown",
   "source": [
    "#### 资产负债表 balance sheets"
   ],
   "metadata": {
    "collapsed": false
   }
  },
  {
   "cell_type": "code",
   "execution_count": 65,
   "outputs": [
    {
     "data": {
      "text/plain": "                                                           2023-12-31  \\\nOrdinary Shares Number                                   1256197800.0   \nShare Issued                                             1256197800.0   \nTotal Debt                                               323691113.52   \nTangible Book Value                               206878288738.100006   \nInvested Capital                                  215668571607.429993   \n...                                                               ...   \nCash Cash Equivalents And Short Term Investments   69470848436.050003   \nOther Short Term Investments                             400712059.93   \nCash And Cash Equivalents                          69070136376.119995   \nCash Equivalents                                                  NaN   \nCash Financial                                     69070136376.119995   \n\n                                                           2022-12-31  \\\nOrdinary Shares Number                                   1256197800.0   \nShare Issued                                             1256197800.0   \nTotal Debt                                               443799098.07   \nTangible Book Value                               190206327380.410004   \nInvested Capital                                  197480041239.459991   \n...                                                               ...   \nCash Cash Equivalents And Short Term Investments   58274318733.230003   \nOther Short Term Investments                                      NaN   \nCash And Cash Equivalents                          58274318733.230003   \nCash Equivalents                                                  NaN   \nCash Financial                                     58274318733.230003   \n\n                                                           2021-12-31  \\\nOrdinary Shares Number                                   1256197800.0   \nShare Issued                                             1256197800.0   \nTotal Debt                                               400786086.61   \nTangible Book Value                               183331010467.049988   \nInvested Capital                                  189539368797.290009   \n...                                                               ...   \nCash Cash Equivalents And Short Term Investments   51810243607.110001   \nOther Short Term Investments                                      NaN   \nCash And Cash Equivalents                          51810243607.110001   \nCash Equivalents                                                  NaN   \nCash Financial                                     51810243607.110001   \n\n                                                           2020-12-31  \\\nOrdinary Shares Number                                   1256197800.0   \nShare Issued                                             1256197800.0   \nTotal Debt                                               536281365.04   \nTangible Book Value                               156505564105.649994   \nInvested Capital                                  161322735087.559998   \n...                                                               ...   \nCash Cash Equivalents And Short Term Investments   36091090060.900002   \nOther Short Term Investments                      118199586541.059998   \nCash And Cash Equivalents                          36091090060.900002   \nCash Equivalents                                                  NaN   \nCash Financial                                     36091090060.900002   \n\n                                                           2019-12-31  \nOrdinary Shares Number                                            NaN  \nShare Issued                                                      NaN  \nTotal Debt                                                        NaN  \nTangible Book Value                                               NaN  \nInvested Capital                                                  NaN  \n...                                                               ...  \nCash Cash Equivalents And Short Term Investments                  NaN  \nOther Short Term Investments                      117377810563.270004  \nCash And Cash Equivalents                                         NaN  \nCash Equivalents                                       13251611132.75  \nCash Financial                                                    NaN  \n\n[68 rows x 5 columns]",
      "text/html": "<div>\n<style scoped>\n    .dataframe tbody tr th:only-of-type {\n        vertical-align: middle;\n    }\n\n    .dataframe tbody tr th {\n        vertical-align: top;\n    }\n\n    .dataframe thead th {\n        text-align: right;\n    }\n</style>\n<table border=\"1\" class=\"dataframe\">\n  <thead>\n    <tr style=\"text-align: right;\">\n      <th></th>\n      <th>2023-12-31</th>\n      <th>2022-12-31</th>\n      <th>2021-12-31</th>\n      <th>2020-12-31</th>\n      <th>2019-12-31</th>\n    </tr>\n  </thead>\n  <tbody>\n    <tr>\n      <th>Ordinary Shares Number</th>\n      <td>1256197800.0</td>\n      <td>1256197800.0</td>\n      <td>1256197800.0</td>\n      <td>1256197800.0</td>\n      <td>NaN</td>\n    </tr>\n    <tr>\n      <th>Share Issued</th>\n      <td>1256197800.0</td>\n      <td>1256197800.0</td>\n      <td>1256197800.0</td>\n      <td>1256197800.0</td>\n      <td>NaN</td>\n    </tr>\n    <tr>\n      <th>Total Debt</th>\n      <td>323691113.52</td>\n      <td>443799098.07</td>\n      <td>400786086.61</td>\n      <td>536281365.04</td>\n      <td>NaN</td>\n    </tr>\n    <tr>\n      <th>Tangible Book Value</th>\n      <td>206878288738.100006</td>\n      <td>190206327380.410004</td>\n      <td>183331010467.049988</td>\n      <td>156505564105.649994</td>\n      <td>NaN</td>\n    </tr>\n    <tr>\n      <th>Invested Capital</th>\n      <td>215668571607.429993</td>\n      <td>197480041239.459991</td>\n      <td>189539368797.290009</td>\n      <td>161322735087.559998</td>\n      <td>NaN</td>\n    </tr>\n    <tr>\n      <th>...</th>\n      <td>...</td>\n      <td>...</td>\n      <td>...</td>\n      <td>...</td>\n      <td>...</td>\n    </tr>\n    <tr>\n      <th>Cash Cash Equivalents And Short Term Investments</th>\n      <td>69470848436.050003</td>\n      <td>58274318733.230003</td>\n      <td>51810243607.110001</td>\n      <td>36091090060.900002</td>\n      <td>NaN</td>\n    </tr>\n    <tr>\n      <th>Other Short Term Investments</th>\n      <td>400712059.93</td>\n      <td>NaN</td>\n      <td>NaN</td>\n      <td>118199586541.059998</td>\n      <td>117377810563.270004</td>\n    </tr>\n    <tr>\n      <th>Cash And Cash Equivalents</th>\n      <td>69070136376.119995</td>\n      <td>58274318733.230003</td>\n      <td>51810243607.110001</td>\n      <td>36091090060.900002</td>\n      <td>NaN</td>\n    </tr>\n    <tr>\n      <th>Cash Equivalents</th>\n      <td>NaN</td>\n      <td>NaN</td>\n      <td>NaN</td>\n      <td>NaN</td>\n      <td>13251611132.75</td>\n    </tr>\n    <tr>\n      <th>Cash Financial</th>\n      <td>69070136376.119995</td>\n      <td>58274318733.230003</td>\n      <td>51810243607.110001</td>\n      <td>36091090060.900002</td>\n      <td>NaN</td>\n    </tr>\n  </tbody>\n</table>\n<p>68 rows × 5 columns</p>\n</div>"
     },
     "execution_count": 65,
     "metadata": {},
     "output_type": "execute_result"
    }
   ],
   "source": [
    "balance_sheet = stock_data.balance_sheet\n",
    "balance_sheet"
   ],
   "metadata": {
    "collapsed": false
   }
  },
  {
   "cell_type": "markdown",
   "source": [
    "#### 现金流量表 cash flow statement"
   ],
   "metadata": {
    "collapsed": false
   }
  },
  {
   "cell_type": "code",
   "execution_count": 66,
   "outputs": [
    {
     "data": {
      "text/plain": "                                                           2023-12-31  \\\nFree Cash Flow                                     63973491832.300003   \nCapital Expenditure                                    -2619755888.79   \nEnd Cash Position                                 150360188952.470001   \nBeginning Cash Position                           152378738982.829987   \nEffect Of Exchange Rate Changes                            1718255.65   \nChanges In Cash                                        -2020268286.01   \nFinancing Cash Flow                               -58889101991.940002   \nNet Other Financing Charges                             -134315261.93   \nCash Dividends Paid                               -56550256362.599998   \nInvesting Cash Flow                                    -9724414015.16   \nNet Other Investing Changes                               -2415980.47   \nNet Investment Purchase And Sale                       -7127190498.85   \nSale Of Investment                                      7690662301.15   \nPurchase Of Investment                                 -14817852800.0   \nNet PPE Purchase And Sale                              -2594807535.84   \nSale Of PPE                                               24948352.95   \nPurchase Of PPE                                        -2619755888.79   \nCapital Expenditure Reported                                      NaN   \nOperating Cash Flow                                66593247721.089996   \nChange In Working Capital                         -12802067752.309999   \nChange In Other Current Assets                         -1134619985.02   \nChange In Payable                                       -591505967.47   \nChange In Inventory                                    -7610810825.29   \nChange In Receivables                                  -3465130974.53   \nOther Non Cash Items                                      29511237.21   \nDeferred Tax                                                      NaN   \nDepreciation And Amortization                           1920529698.14   \nAmortization Cash Flow                                   196656866.73   \nDepreciation                                            1723872831.41   \nGain Loss On Investment Securities                       -37177930.32   \nGain Loss On Sale Of PPE                                  -1152516.17   \nNet Income From Continuing Operations              77521476277.800003   \nCash Flowsfromusedin Operating Activities Direct   66593247721.089996   \nTaxes Refund Paid Direct                              -66681972462.18   \nInterest Received Direct                                3018786023.42   \nInterest Paid Direct                                    -142896151.21   \nClassesof Cash Payments                               -34836552574.43   \nOther Cash Paymentsfrom Operating Activities       -9961782630.959999   \nPaymentson Behalfof Employees                         -13845293907.26   \nPaymentsto Suppliersfor Goodsand Services         -11029476036.209999   \nClassesof Cash Receiptsfrom Operating Activities   165235882885.48999   \nOther Cash Receiptsfrom Operating Activities            1535973467.87   \nReceiptsfrom Customers                            163699909417.619995   \n\n                                                           2022-12-31  \\\nFree Cash Flow                                     31392049413.490002   \nCapital Expenditure                                    -5306546416.54   \nEnd Cash Position                                 152378738982.829987   \nBeginning Cash Position                           178640587379.519989   \nEffect Of Exchange Rate Changes                             911088.01   \nChanges In Cash                                   -26262759484.700001   \nFinancing Cash Flow                               -57424528979.830002   \nNet Other Financing Charges                              -54332788.37   \nCash Dividends Paid                               -54751381113.010002   \nInvesting Cash Flow                                     -5536826334.9   \nNet Other Investing Changes                              -26515067.36   \nNet Investment Purchase And Sale                         -204120000.0   \nSale Of Investment                                          5880000.0   \nPurchase Of Investment                                   -210000000.0   \nNet PPE Purchase And Sale                              -5306191267.54   \nSale Of PPE                                                  355149.0   \nPurchase Of PPE                                        -5306546416.54   \nCapital Expenditure Reported                                      NaN   \nOperating Cash Flow                                36698595830.029999   \nChange In Working Capital                         -30349331943.130001   \nChange In Other Current Assets                          -1222628115.4   \nChange In Payable                                      -8644820580.52   \nChange In Inventory                                    -5430009151.41   \nChange In Receivables                             -15051874095.799999   \nOther Non Cash Items                                      23510823.81   \nDeferred Tax                                                      NaN   \nDepreciation And Amortization                           1676962688.03   \nAmortization Cash Flow                                    156016278.9   \nDepreciation                                            1520946409.13   \nGain Loss On Investment Securities                        -63840000.0   \nGain Loss On Sale Of PPE                                  20567757.19   \nNet Income From Continuing Operations              65376039957.879997   \nCash Flowsfromusedin Operating Activities Direct   36698595830.029999   \nTaxes Refund Paid Direct                          -62010132593.800003   \nInterest Received Direct                                3247615476.04   \nInterest Paid Direct                                     -79226410.98   \nClassesof Cash Payments                           -38994728176.440002   \nOther Cash Paymentsfrom Operating Activities      -18884627426.790001   \nPaymentson Behalfof Employees                     -11752241598.620001   \nPaymentsto Suppliersfor Goodsand Services              -8357859151.03   \nClassesof Cash Receiptsfrom Operating Activities  134535067535.210007   \nOther Cash Receiptsfrom Operating Activities           -6156611056.79   \nReceiptsfrom Customers                                 140691678592.0   \n\n                                                           2021-12-31  \\\nFree Cash Flow                                     60619891615.360001   \nCapital Expenditure                                    -3408784532.01   \nEnd Cash Position                                 178640587379.519989   \nBeginning Cash Position                           146740524868.049988   \nEffect Of Exchange Rate Changes                            -2026542.6   \nChanges In Cash                                        31902089054.07   \nFinancing Cash Flow                               -26564141388.959999   \nNet Other Financing Charges                              -88121549.59   \nCash Dividends Paid                               -24235824155.400002   \nInvesting Cash Flow                                    -5562445704.34   \nNet Other Investing Changes                               -13064577.3   \nNet Investment Purchase And Sale                       -2143060069.32   \nSale Of Investment                                         6939930.68   \nPurchase Of Investment                                  -2150000000.0   \nNet PPE Purchase And Sale                              -3406321057.72   \nSale Of PPE                                                2463474.29   \nPurchase Of PPE                                        -3408784532.01   \nCapital Expenditure Reported                                      NaN   \nOperating Cash Flow                                64028676147.370003   \nChange In Working Capital                               6744470011.98   \nChange In Other Current Assets                          -1115438870.7   \nChange In Payable                                  11880880539.559999   \nChange In Inventory                                    -4525277406.77   \nChange In Receivables                                    504305749.89   \nOther Non Cash Items                                      24217742.53   \nDeferred Tax                                                      NaN   \nDepreciation And Amortization                           1570526376.54   \nAmortization Cash Flow                                   124084418.97   \nDepreciation                                            1446441957.57   \nGain Loss On Investment Securities                        -56011211.1   \nGain Loss On Sale Of PPE                                  11920829.77   \nNet Income From Continuing Operations              55720529956.459999   \nCash Flowsfromusedin Operating Activities Direct   64028676147.370003   \nTaxes Refund Paid Direct                          -44609684025.279999   \nInterest Received Direct                                3145747032.91   \nInterest Paid Direct                                    -163462728.48   \nClassesof Cash Payments                               -22819163936.84   \nOther Cash Paymentsfrom Operating Activities           -5011838104.28   \nPaymentson Behalfof Employees                         -10061366201.66   \nPaymentsto Suppliersfor Goodsand Services               -7745959630.9   \nClassesof Cash Receiptsfrom Operating Activities  128475239805.059998   \nOther Cash Receiptsfrom Operating Activities            9154703008.41   \nReceiptsfrom Customers                            119320536796.649994   \n\n                                                           2020-12-31  \\\nFree Cash Flow                                         49579299194.25   \nCapital Expenditure                                    -2089769498.78   \nEnd Cash Position                                 146740524868.049988   \nBeginning Cash Position                           121003839599.639999   \nEffect Of Exchange Rate Changes                             380639.36   \nChanges In Cash                                    25736304629.049999   \nFinancing Cash Flow                               -24127536908.259998   \nNet Other Financing Charges                              -36507157.75   \nCash Dividends Paid                               -21386767571.400002   \nInvesting Cash Flow                                    -1805227155.72   \nNet Other Investing Changes                              -10860083.27   \nNet Investment Purchase And Sale                         294906521.48   \nSale Of Investment                                       314906521.48   \nPurchase Of Investment                                    -20000000.0   \nNet PPE Purchase And Sale                              -2089273593.93   \nSale Of PPE                                                 495904.85   \nPurchase Of PPE                                        -2089769498.78   \nCapital Expenditure Reported                           -2089769498.78   \nOperating Cash Flow                                51669068693.029999   \nChange In Working Capital                                762602133.39   \nChange In Other Current Assets                           -94513226.58   \nChange In Payable                                       4945290607.14   \nChange In Inventory                                    -3584166871.73   \nChange In Receivables                                   -504008375.44   \nOther Non Cash Items                                      10562811.76   \nDeferred Tax                                             -94513226.58   \nDepreciation And Amortization                            1306305567.6   \nAmortization Cash Flow                                    110349099.0   \nDepreciation                                             1195956468.6   \nGain Loss On Investment Securities                        -5203625.89   \nGain Loss On Sale Of PPE                                    100113.92   \nNet Income From Continuing Operations              49523329882.400002   \nCash Flowsfromusedin Operating Activities Direct   51669068693.029999   \nTaxes Refund Paid Direct                          -41622706350.370003   \nInterest Received Direct                                3075945383.34   \nInterest Paid Direct                                    -107241768.26   \nClassesof Cash Payments                           -20111834558.349998   \nOther Cash Paymentsfrom Operating Activities            -4719375231.9   \nPaymentson Behalfof Employees                          -8161813197.26   \nPaymentsto Suppliersfor Goodsand Services              -7230646129.19   \nClassesof Cash Receiptsfrom Operating Activities  110434905986.669998   \nOther Cash Receiptsfrom Operating Activities             3410521426.5   \nReceiptsfrom Customers                            107024384560.169998   \n\n                                                     2019-12-31  \nFree Cash Flow                                              NaN  \nCapital Expenditure                                         NaN  \nEnd Cash Position                                           NaN  \nBeginning Cash Position                                     NaN  \nEffect Of Exchange Rate Changes                             NaN  \nChanges In Cash                                             NaN  \nFinancing Cash Flow                                         NaN  \nNet Other Financing Charges                                 NaN  \nCash Dividends Paid                                         NaN  \nInvesting Cash Flow                                         NaN  \nNet Other Investing Changes                                 NaN  \nNet Investment Purchase And Sale                            NaN  \nSale Of Investment                                          NaN  \nPurchase Of Investment                                      NaN  \nNet PPE Purchase And Sale                                   NaN  \nSale Of PPE                                                 NaN  \nPurchase Of PPE                                             NaN  \nCapital Expenditure Reported                     -3148864661.38  \nOperating Cash Flow                                         NaN  \nChange In Working Capital                                   NaN  \nChange In Other Current Assets                              NaN  \nChange In Payable                                           NaN  \nChange In Inventory                                         NaN  \nChange In Receivables                                       NaN  \nOther Non Cash Items                                        NaN  \nDeferred Tax                                       -54395304.75  \nDepreciation And Amortization                               NaN  \nAmortization Cash Flow                                      NaN  \nDepreciation                                                NaN  \nGain Loss On Investment Securities                          NaN  \nGain Loss On Sale Of PPE                                    NaN  \nNet Income From Continuing Operations                       NaN  \nCash Flowsfromusedin Operating Activities Direct            NaN  \nTaxes Refund Paid Direct                                    NaN  \nInterest Received Direct                                    NaN  \nInterest Paid Direct                                        NaN  \nClassesof Cash Payments                                     NaN  \nOther Cash Paymentsfrom Operating Activities                NaN  \nPaymentson Behalfof Employees                               NaN  \nPaymentsto Suppliersfor Goodsand Services                   NaN  \nClassesof Cash Receiptsfrom Operating Activities            NaN  \nOther Cash Receiptsfrom Operating Activities                NaN  \nReceiptsfrom Customers                                      NaN  ",
      "text/html": "<div>\n<style scoped>\n    .dataframe tbody tr th:only-of-type {\n        vertical-align: middle;\n    }\n\n    .dataframe tbody tr th {\n        vertical-align: top;\n    }\n\n    .dataframe thead th {\n        text-align: right;\n    }\n</style>\n<table border=\"1\" class=\"dataframe\">\n  <thead>\n    <tr style=\"text-align: right;\">\n      <th></th>\n      <th>2023-12-31</th>\n      <th>2022-12-31</th>\n      <th>2021-12-31</th>\n      <th>2020-12-31</th>\n      <th>2019-12-31</th>\n    </tr>\n  </thead>\n  <tbody>\n    <tr>\n      <th>Free Cash Flow</th>\n      <td>63973491832.300003</td>\n      <td>31392049413.490002</td>\n      <td>60619891615.360001</td>\n      <td>49579299194.25</td>\n      <td>NaN</td>\n    </tr>\n    <tr>\n      <th>Capital Expenditure</th>\n      <td>-2619755888.79</td>\n      <td>-5306546416.54</td>\n      <td>-3408784532.01</td>\n      <td>-2089769498.78</td>\n      <td>NaN</td>\n    </tr>\n    <tr>\n      <th>End Cash Position</th>\n      <td>150360188952.470001</td>\n      <td>152378738982.829987</td>\n      <td>178640587379.519989</td>\n      <td>146740524868.049988</td>\n      <td>NaN</td>\n    </tr>\n    <tr>\n      <th>Beginning Cash Position</th>\n      <td>152378738982.829987</td>\n      <td>178640587379.519989</td>\n      <td>146740524868.049988</td>\n      <td>121003839599.639999</td>\n      <td>NaN</td>\n    </tr>\n    <tr>\n      <th>Effect Of Exchange Rate Changes</th>\n      <td>1718255.65</td>\n      <td>911088.01</td>\n      <td>-2026542.6</td>\n      <td>380639.36</td>\n      <td>NaN</td>\n    </tr>\n    <tr>\n      <th>Changes In Cash</th>\n      <td>-2020268286.01</td>\n      <td>-26262759484.700001</td>\n      <td>31902089054.07</td>\n      <td>25736304629.049999</td>\n      <td>NaN</td>\n    </tr>\n    <tr>\n      <th>Financing Cash Flow</th>\n      <td>-58889101991.940002</td>\n      <td>-57424528979.830002</td>\n      <td>-26564141388.959999</td>\n      <td>-24127536908.259998</td>\n      <td>NaN</td>\n    </tr>\n    <tr>\n      <th>Net Other Financing Charges</th>\n      <td>-134315261.93</td>\n      <td>-54332788.37</td>\n      <td>-88121549.59</td>\n      <td>-36507157.75</td>\n      <td>NaN</td>\n    </tr>\n    <tr>\n      <th>Cash Dividends Paid</th>\n      <td>-56550256362.599998</td>\n      <td>-54751381113.010002</td>\n      <td>-24235824155.400002</td>\n      <td>-21386767571.400002</td>\n      <td>NaN</td>\n    </tr>\n    <tr>\n      <th>Investing Cash Flow</th>\n      <td>-9724414015.16</td>\n      <td>-5536826334.9</td>\n      <td>-5562445704.34</td>\n      <td>-1805227155.72</td>\n      <td>NaN</td>\n    </tr>\n    <tr>\n      <th>Net Other Investing Changes</th>\n      <td>-2415980.47</td>\n      <td>-26515067.36</td>\n      <td>-13064577.3</td>\n      <td>-10860083.27</td>\n      <td>NaN</td>\n    </tr>\n    <tr>\n      <th>Net Investment Purchase And Sale</th>\n      <td>-7127190498.85</td>\n      <td>-204120000.0</td>\n      <td>-2143060069.32</td>\n      <td>294906521.48</td>\n      <td>NaN</td>\n    </tr>\n    <tr>\n      <th>Sale Of Investment</th>\n      <td>7690662301.15</td>\n      <td>5880000.0</td>\n      <td>6939930.68</td>\n      <td>314906521.48</td>\n      <td>NaN</td>\n    </tr>\n    <tr>\n      <th>Purchase Of Investment</th>\n      <td>-14817852800.0</td>\n      <td>-210000000.0</td>\n      <td>-2150000000.0</td>\n      <td>-20000000.0</td>\n      <td>NaN</td>\n    </tr>\n    <tr>\n      <th>Net PPE Purchase And Sale</th>\n      <td>-2594807535.84</td>\n      <td>-5306191267.54</td>\n      <td>-3406321057.72</td>\n      <td>-2089273593.93</td>\n      <td>NaN</td>\n    </tr>\n    <tr>\n      <th>Sale Of PPE</th>\n      <td>24948352.95</td>\n      <td>355149.0</td>\n      <td>2463474.29</td>\n      <td>495904.85</td>\n      <td>NaN</td>\n    </tr>\n    <tr>\n      <th>Purchase Of PPE</th>\n      <td>-2619755888.79</td>\n      <td>-5306546416.54</td>\n      <td>-3408784532.01</td>\n      <td>-2089769498.78</td>\n      <td>NaN</td>\n    </tr>\n    <tr>\n      <th>Capital Expenditure Reported</th>\n      <td>NaN</td>\n      <td>NaN</td>\n      <td>NaN</td>\n      <td>-2089769498.78</td>\n      <td>-3148864661.38</td>\n    </tr>\n    <tr>\n      <th>Operating Cash Flow</th>\n      <td>66593247721.089996</td>\n      <td>36698595830.029999</td>\n      <td>64028676147.370003</td>\n      <td>51669068693.029999</td>\n      <td>NaN</td>\n    </tr>\n    <tr>\n      <th>Change In Working Capital</th>\n      <td>-12802067752.309999</td>\n      <td>-30349331943.130001</td>\n      <td>6744470011.98</td>\n      <td>762602133.39</td>\n      <td>NaN</td>\n    </tr>\n    <tr>\n      <th>Change In Other Current Assets</th>\n      <td>-1134619985.02</td>\n      <td>-1222628115.4</td>\n      <td>-1115438870.7</td>\n      <td>-94513226.58</td>\n      <td>NaN</td>\n    </tr>\n    <tr>\n      <th>Change In Payable</th>\n      <td>-591505967.47</td>\n      <td>-8644820580.52</td>\n      <td>11880880539.559999</td>\n      <td>4945290607.14</td>\n      <td>NaN</td>\n    </tr>\n    <tr>\n      <th>Change In Inventory</th>\n      <td>-7610810825.29</td>\n      <td>-5430009151.41</td>\n      <td>-4525277406.77</td>\n      <td>-3584166871.73</td>\n      <td>NaN</td>\n    </tr>\n    <tr>\n      <th>Change In Receivables</th>\n      <td>-3465130974.53</td>\n      <td>-15051874095.799999</td>\n      <td>504305749.89</td>\n      <td>-504008375.44</td>\n      <td>NaN</td>\n    </tr>\n    <tr>\n      <th>Other Non Cash Items</th>\n      <td>29511237.21</td>\n      <td>23510823.81</td>\n      <td>24217742.53</td>\n      <td>10562811.76</td>\n      <td>NaN</td>\n    </tr>\n    <tr>\n      <th>Deferred Tax</th>\n      <td>NaN</td>\n      <td>NaN</td>\n      <td>NaN</td>\n      <td>-94513226.58</td>\n      <td>-54395304.75</td>\n    </tr>\n    <tr>\n      <th>Depreciation And Amortization</th>\n      <td>1920529698.14</td>\n      <td>1676962688.03</td>\n      <td>1570526376.54</td>\n      <td>1306305567.6</td>\n      <td>NaN</td>\n    </tr>\n    <tr>\n      <th>Amortization Cash Flow</th>\n      <td>196656866.73</td>\n      <td>156016278.9</td>\n      <td>124084418.97</td>\n      <td>110349099.0</td>\n      <td>NaN</td>\n    </tr>\n    <tr>\n      <th>Depreciation</th>\n      <td>1723872831.41</td>\n      <td>1520946409.13</td>\n      <td>1446441957.57</td>\n      <td>1195956468.6</td>\n      <td>NaN</td>\n    </tr>\n    <tr>\n      <th>Gain Loss On Investment Securities</th>\n      <td>-37177930.32</td>\n      <td>-63840000.0</td>\n      <td>-56011211.1</td>\n      <td>-5203625.89</td>\n      <td>NaN</td>\n    </tr>\n    <tr>\n      <th>Gain Loss On Sale Of PPE</th>\n      <td>-1152516.17</td>\n      <td>20567757.19</td>\n      <td>11920829.77</td>\n      <td>100113.92</td>\n      <td>NaN</td>\n    </tr>\n    <tr>\n      <th>Net Income From Continuing Operations</th>\n      <td>77521476277.800003</td>\n      <td>65376039957.879997</td>\n      <td>55720529956.459999</td>\n      <td>49523329882.400002</td>\n      <td>NaN</td>\n    </tr>\n    <tr>\n      <th>Cash Flowsfromusedin Operating Activities Direct</th>\n      <td>66593247721.089996</td>\n      <td>36698595830.029999</td>\n      <td>64028676147.370003</td>\n      <td>51669068693.029999</td>\n      <td>NaN</td>\n    </tr>\n    <tr>\n      <th>Taxes Refund Paid Direct</th>\n      <td>-66681972462.18</td>\n      <td>-62010132593.800003</td>\n      <td>-44609684025.279999</td>\n      <td>-41622706350.370003</td>\n      <td>NaN</td>\n    </tr>\n    <tr>\n      <th>Interest Received Direct</th>\n      <td>3018786023.42</td>\n      <td>3247615476.04</td>\n      <td>3145747032.91</td>\n      <td>3075945383.34</td>\n      <td>NaN</td>\n    </tr>\n    <tr>\n      <th>Interest Paid Direct</th>\n      <td>-142896151.21</td>\n      <td>-79226410.98</td>\n      <td>-163462728.48</td>\n      <td>-107241768.26</td>\n      <td>NaN</td>\n    </tr>\n    <tr>\n      <th>Classesof Cash Payments</th>\n      <td>-34836552574.43</td>\n      <td>-38994728176.440002</td>\n      <td>-22819163936.84</td>\n      <td>-20111834558.349998</td>\n      <td>NaN</td>\n    </tr>\n    <tr>\n      <th>Other Cash Paymentsfrom Operating Activities</th>\n      <td>-9961782630.959999</td>\n      <td>-18884627426.790001</td>\n      <td>-5011838104.28</td>\n      <td>-4719375231.9</td>\n      <td>NaN</td>\n    </tr>\n    <tr>\n      <th>Paymentson Behalfof Employees</th>\n      <td>-13845293907.26</td>\n      <td>-11752241598.620001</td>\n      <td>-10061366201.66</td>\n      <td>-8161813197.26</td>\n      <td>NaN</td>\n    </tr>\n    <tr>\n      <th>Paymentsto Suppliersfor Goodsand Services</th>\n      <td>-11029476036.209999</td>\n      <td>-8357859151.03</td>\n      <td>-7745959630.9</td>\n      <td>-7230646129.19</td>\n      <td>NaN</td>\n    </tr>\n    <tr>\n      <th>Classesof Cash Receiptsfrom Operating Activities</th>\n      <td>165235882885.48999</td>\n      <td>134535067535.210007</td>\n      <td>128475239805.059998</td>\n      <td>110434905986.669998</td>\n      <td>NaN</td>\n    </tr>\n    <tr>\n      <th>Other Cash Receiptsfrom Operating Activities</th>\n      <td>1535973467.87</td>\n      <td>-6156611056.79</td>\n      <td>9154703008.41</td>\n      <td>3410521426.5</td>\n      <td>NaN</td>\n    </tr>\n    <tr>\n      <th>Receiptsfrom Customers</th>\n      <td>163699909417.619995</td>\n      <td>140691678592.0</td>\n      <td>119320536796.649994</td>\n      <td>107024384560.169998</td>\n      <td>NaN</td>\n    </tr>\n  </tbody>\n</table>\n</div>"
     },
     "execution_count": 66,
     "metadata": {},
     "output_type": "execute_result"
    }
   ],
   "source": [
    "cash_flow = stock_data.cashflow\n",
    "cash_flow"
   ],
   "metadata": {
    "collapsed": false
   }
  },
  {
   "cell_type": "markdown",
   "source": [
    "#### 主要股东 Major Holders"
   ],
   "metadata": {
    "collapsed": false
   }
  },
  {
   "cell_type": "code",
   "execution_count": 70,
   "outputs": [
    {
     "data": {
      "text/plain": "Breakdown                         Value\ninsidersPercentHeld             0.61651\ninstitutionsPercentHeld         0.12339\ninstitutionsFloatPercentHeld    0.32175\ninstitutionsCount             541.00000",
      "text/html": "<div>\n<style scoped>\n    .dataframe tbody tr th:only-of-type {\n        vertical-align: middle;\n    }\n\n    .dataframe tbody tr th {\n        vertical-align: top;\n    }\n\n    .dataframe thead th {\n        text-align: right;\n    }\n</style>\n<table border=\"1\" class=\"dataframe\">\n  <thead>\n    <tr style=\"text-align: right;\">\n      <th>Breakdown</th>\n      <th>Value</th>\n    </tr>\n  </thead>\n  <tbody>\n    <tr>\n      <th>insidersPercentHeld</th>\n      <td>0.61651</td>\n    </tr>\n    <tr>\n      <th>institutionsPercentHeld</th>\n      <td>0.12339</td>\n    </tr>\n    <tr>\n      <th>institutionsFloatPercentHeld</th>\n      <td>0.32175</td>\n    </tr>\n    <tr>\n      <th>institutionsCount</th>\n      <td>541.00000</td>\n    </tr>\n  </tbody>\n</table>\n</div>"
     },
     "execution_count": 70,
     "metadata": {},
     "output_type": "execute_result"
    }
   ],
   "source": [
    "major_holders = stock_data.major_holders\n",
    "major_holders"
   ],
   "metadata": {
    "collapsed": false
   }
  },
  {
   "cell_type": "markdown",
   "source": [
    "#### 股票建议 Recommendations"
   ],
   "metadata": {
    "collapsed": false
   }
  },
  {
   "cell_type": "code",
   "execution_count": 71,
   "outputs": [
    {
     "data": {
      "text/plain": "  period  strongBuy  buy  hold  sell  strongSell\n0     0m          0    0     0     0           0\n1    -1m         11   14     2     0           0\n2    -2m         11   14     2     0           0\n3    -3m         11   14     2     0           0",
      "text/html": "<div>\n<style scoped>\n    .dataframe tbody tr th:only-of-type {\n        vertical-align: middle;\n    }\n\n    .dataframe tbody tr th {\n        vertical-align: top;\n    }\n\n    .dataframe thead th {\n        text-align: right;\n    }\n</style>\n<table border=\"1\" class=\"dataframe\">\n  <thead>\n    <tr style=\"text-align: right;\">\n      <th></th>\n      <th>period</th>\n      <th>strongBuy</th>\n      <th>buy</th>\n      <th>hold</th>\n      <th>sell</th>\n      <th>strongSell</th>\n    </tr>\n  </thead>\n  <tbody>\n    <tr>\n      <th>0</th>\n      <td>0m</td>\n      <td>0</td>\n      <td>0</td>\n      <td>0</td>\n      <td>0</td>\n      <td>0</td>\n    </tr>\n    <tr>\n      <th>1</th>\n      <td>-1m</td>\n      <td>11</td>\n      <td>14</td>\n      <td>2</td>\n      <td>0</td>\n      <td>0</td>\n    </tr>\n    <tr>\n      <th>2</th>\n      <td>-2m</td>\n      <td>11</td>\n      <td>14</td>\n      <td>2</td>\n      <td>0</td>\n      <td>0</td>\n    </tr>\n    <tr>\n      <th>3</th>\n      <td>-3m</td>\n      <td>11</td>\n      <td>14</td>\n      <td>2</td>\n      <td>0</td>\n      <td>0</td>\n    </tr>\n  </tbody>\n</table>\n</div>"
     },
     "execution_count": 71,
     "metadata": {},
     "output_type": "execute_result"
    }
   ],
   "source": [
    "analyst_recommendations = stock_data.recommendations\n",
    "analyst_recommendations"
   ],
   "metadata": {
    "collapsed": false
   }
  },
  {
   "cell_type": "markdown",
   "source": [
    "#### 期权链 Option Chain"
   ],
   "metadata": {
    "collapsed": false
   }
  },
  {
   "cell_type": "code",
   "execution_count": 74,
   "outputs": [
    {
     "ename": "ValueError",
     "evalue": "Expiration `2024–06–15` cannot be found. Available expirations are: []",
     "output_type": "error",
     "traceback": [
      "\u001B[0;31m---------------------------------------------------------------------------\u001B[0m",
      "\u001B[0;31mValueError\u001B[0m                                Traceback (most recent call last)",
      "Cell \u001B[0;32mIn[74], line 1\u001B[0m\n\u001B[0;32m----> 1\u001B[0m option_chain \u001B[38;5;241m=\u001B[39m \u001B[43mstock_data\u001B[49m\u001B[38;5;241;43m.\u001B[39;49m\u001B[43moption_chain\u001B[49m\u001B[43m(\u001B[49m\u001B[38;5;124;43m'\u001B[39;49m\u001B[38;5;124;43m2024–06–15\u001B[39;49m\u001B[38;5;124;43m'\u001B[39;49m\u001B[43m)\u001B[49m\n\u001B[1;32m      2\u001B[0m option_chain\n",
      "File \u001B[0;32m~/Documents/ProgramingGuide/SourceCode/GithubRepo/everyfine/GeniusAI/GeniusChatbots/venv/lib/python3.9/site-packages/yfinance/ticker.py:89\u001B[0m, in \u001B[0;36mTicker.option_chain\u001B[0;34m(self, date, tz)\u001B[0m\n\u001B[1;32m     87\u001B[0m     \u001B[38;5;28mself\u001B[39m\u001B[38;5;241m.\u001B[39m_download_options()\n\u001B[1;32m     88\u001B[0m \u001B[38;5;28;01mif\u001B[39;00m date \u001B[38;5;129;01mnot\u001B[39;00m \u001B[38;5;129;01min\u001B[39;00m \u001B[38;5;28mself\u001B[39m\u001B[38;5;241m.\u001B[39m_expirations:\n\u001B[0;32m---> 89\u001B[0m     \u001B[38;5;28;01mraise\u001B[39;00m \u001B[38;5;167;01mValueError\u001B[39;00m(\n\u001B[1;32m     90\u001B[0m         \u001B[38;5;124mf\u001B[39m\u001B[38;5;124m\"\u001B[39m\u001B[38;5;124mExpiration `\u001B[39m\u001B[38;5;132;01m{\u001B[39;00mdate\u001B[38;5;132;01m}\u001B[39;00m\u001B[38;5;124m` cannot be found. \u001B[39m\u001B[38;5;124m\"\u001B[39m\n\u001B[1;32m     91\u001B[0m         \u001B[38;5;124mf\u001B[39m\u001B[38;5;124m\"\u001B[39m\u001B[38;5;124mAvailable expirations are: [\u001B[39m\u001B[38;5;132;01m{\u001B[39;00m\u001B[38;5;124m'\u001B[39m\u001B[38;5;124m, \u001B[39m\u001B[38;5;124m'\u001B[39m\u001B[38;5;241m.\u001B[39mjoin(\u001B[38;5;28mself\u001B[39m\u001B[38;5;241m.\u001B[39m_expirations)\u001B[38;5;132;01m}\u001B[39;00m\u001B[38;5;124m]\u001B[39m\u001B[38;5;124m\"\u001B[39m)\n\u001B[1;32m     92\u001B[0m date \u001B[38;5;241m=\u001B[39m \u001B[38;5;28mself\u001B[39m\u001B[38;5;241m.\u001B[39m_expirations[date]\n\u001B[1;32m     93\u001B[0m options \u001B[38;5;241m=\u001B[39m \u001B[38;5;28mself\u001B[39m\u001B[38;5;241m.\u001B[39m_download_options(date)\n",
      "\u001B[0;31mValueError\u001B[0m: Expiration `2024–06–15` cannot be found. Available expirations are: []"
     ]
    }
   ],
   "source": [
    "option_chain = stock_data.option_chain('2024–06–15')\n",
    "option_chain"
   ],
   "metadata": {
    "collapsed": false
   }
  },
  {
   "cell_type": "markdown",
   "source": [
    "#### 可持续性 Sustainability(未实现，存在错误）"
   ],
   "metadata": {
    "collapsed": false
   }
  },
  {
   "cell_type": "code",
   "execution_count": 76,
   "outputs": [
    {
     "ename": "YFNotImplementedError",
     "evalue": "Have not implemented fetching 'sustainability' from Yahoo API",
     "output_type": "error",
     "traceback": [
      "\u001B[0;31m---------------------------------------------------------------------------\u001B[0m",
      "\u001B[0;31mYFNotImplementedError\u001B[0m                     Traceback (most recent call last)",
      "Cell \u001B[0;32mIn[76], line 1\u001B[0m\n\u001B[0;32m----> 1\u001B[0m sustainability \u001B[38;5;241m=\u001B[39m \u001B[43mstock_data\u001B[49m\u001B[38;5;241;43m.\u001B[39;49m\u001B[43msustainability\u001B[49m\n\u001B[1;32m      2\u001B[0m sustainability\n",
      "File \u001B[0;32m~/Documents/ProgramingGuide/SourceCode/GithubRepo/everyfine/GeniusAI/GeniusChatbots/venv/lib/python3.9/site-packages/yfinance/ticker.py:252\u001B[0m, in \u001B[0;36mTicker.sustainability\u001B[0;34m(self)\u001B[0m\n\u001B[1;32m    250\u001B[0m \u001B[38;5;129m@property\u001B[39m\n\u001B[1;32m    251\u001B[0m \u001B[38;5;28;01mdef\u001B[39;00m \u001B[38;5;21msustainability\u001B[39m(\u001B[38;5;28mself\u001B[39m) \u001B[38;5;241m-\u001B[39m\u001B[38;5;241m>\u001B[39m _pd\u001B[38;5;241m.\u001B[39mDataFrame:\n\u001B[0;32m--> 252\u001B[0m     \u001B[38;5;28;01mreturn\u001B[39;00m \u001B[38;5;28;43mself\u001B[39;49m\u001B[38;5;241;43m.\u001B[39;49m\u001B[43mget_sustainability\u001B[49m\u001B[43m(\u001B[49m\u001B[43m)\u001B[49m\n",
      "File \u001B[0;32m~/Documents/ProgramingGuide/SourceCode/GithubRepo/everyfine/GeniusAI/GeniusChatbots/venv/lib/python3.9/site-packages/yfinance/base.py:238\u001B[0m, in \u001B[0;36mTickerBase.get_sustainability\u001B[0;34m(self, proxy, as_dict)\u001B[0m\n\u001B[1;32m    236\u001B[0m \u001B[38;5;28;01mdef\u001B[39;00m \u001B[38;5;21mget_sustainability\u001B[39m(\u001B[38;5;28mself\u001B[39m, proxy\u001B[38;5;241m=\u001B[39m\u001B[38;5;28;01mNone\u001B[39;00m, as_dict\u001B[38;5;241m=\u001B[39m\u001B[38;5;28;01mFalse\u001B[39;00m):\n\u001B[1;32m    237\u001B[0m     \u001B[38;5;28mself\u001B[39m\u001B[38;5;241m.\u001B[39m_quote\u001B[38;5;241m.\u001B[39mproxy \u001B[38;5;241m=\u001B[39m proxy \u001B[38;5;129;01mor\u001B[39;00m \u001B[38;5;28mself\u001B[39m\u001B[38;5;241m.\u001B[39mproxy\n\u001B[0;32m--> 238\u001B[0m     data \u001B[38;5;241m=\u001B[39m \u001B[38;5;28;43mself\u001B[39;49m\u001B[38;5;241;43m.\u001B[39;49m\u001B[43m_quote\u001B[49m\u001B[38;5;241;43m.\u001B[39;49m\u001B[43msustainability\u001B[49m\n\u001B[1;32m    239\u001B[0m     \u001B[38;5;28;01mif\u001B[39;00m as_dict:\n\u001B[1;32m    240\u001B[0m         \u001B[38;5;28;01mreturn\u001B[39;00m data\u001B[38;5;241m.\u001B[39mto_dict()\n",
      "File \u001B[0;32m~/Documents/ProgramingGuide/SourceCode/GithubRepo/everyfine/GeniusAI/GeniusChatbots/venv/lib/python3.9/site-packages/yfinance/scrapers/quote.py:568\u001B[0m, in \u001B[0;36mQuote.sustainability\u001B[0;34m(self)\u001B[0m\n\u001B[1;32m    565\u001B[0m \u001B[38;5;129m@property\u001B[39m\n\u001B[1;32m    566\u001B[0m \u001B[38;5;28;01mdef\u001B[39;00m \u001B[38;5;21msustainability\u001B[39m(\u001B[38;5;28mself\u001B[39m) \u001B[38;5;241m-\u001B[39m\u001B[38;5;241m>\u001B[39m pd\u001B[38;5;241m.\u001B[39mDataFrame:\n\u001B[1;32m    567\u001B[0m     \u001B[38;5;28;01mif\u001B[39;00m \u001B[38;5;28mself\u001B[39m\u001B[38;5;241m.\u001B[39m_sustainability \u001B[38;5;129;01mis\u001B[39;00m \u001B[38;5;28;01mNone\u001B[39;00m:\n\u001B[0;32m--> 568\u001B[0m         \u001B[38;5;28;01mraise\u001B[39;00m YFNotImplementedError(\u001B[38;5;124m'\u001B[39m\u001B[38;5;124msustainability\u001B[39m\u001B[38;5;124m'\u001B[39m)\n\u001B[1;32m    569\u001B[0m     \u001B[38;5;28;01mreturn\u001B[39;00m \u001B[38;5;28mself\u001B[39m\u001B[38;5;241m.\u001B[39m_sustainability\n",
      "\u001B[0;31mYFNotImplementedError\u001B[0m: Have not implemented fetching 'sustainability' from Yahoo API"
     ]
    }
   ],
   "source": [
    "sustainability = stock_data.sustainability\n",
    "sustainability"
   ],
   "metadata": {
    "collapsed": false
   }
  },
  {
   "cell_type": "markdown",
   "source": [
    "Now we can query for the data using any of the above methods. Let us get the earnings date for the GME stock using gme.earnings_dates method."
   ],
   "metadata": {
    "collapsed": false
   }
  },
  {
   "cell_type": "code",
   "execution_count": 40,
   "outputs": [],
   "source": [
    "df = gme.earnings_dates"
   ],
   "metadata": {
    "collapsed": false
   }
  },
  {
   "cell_type": "code",
   "execution_count": 41,
   "outputs": [
    {
     "data": {
      "text/plain": "pandas.core.frame.DataFrame"
     },
     "execution_count": 41,
     "metadata": {},
     "output_type": "execute_result"
    }
   ],
   "source": [
    "type(df)"
   ],
   "metadata": {
    "collapsed": false
   }
  },
  {
   "cell_type": "code",
   "execution_count": 42,
   "outputs": [
    {
     "data": {
      "text/plain": "                           EPS Estimate  Reported EPS  Surprise(%)\nEarnings Date                                                     \n2025-06-13 11:00:00-04:00         -0.09           NaN          NaN\n2025-03-24 06:00:00-04:00           NaN           NaN          NaN\n2024-12-04 05:00:00-05:00           NaN           NaN          NaN\n2024-09-04 06:00:00-04:00         -0.01           NaN          NaN\n2024-06-13 11:00:00-04:00         -0.09           NaN          NaN\n2024-06-11 16:00:00-04:00         -0.09           NaN          NaN\n2024-06-07 06:00:00-04:00         -0.09         -0.12      -0.3333\n2024-05-17 07:00:00-04:00         -0.09         -0.12      -0.3333\n2024-03-26 16:00:00-04:00          0.30          0.22      -0.2542\n2023-12-06 16:00:00-05:00         -0.09           NaN       1.0000\n2023-09-06 16:00:00-04:00         -0.14         -0.03       0.7877\n2023-06-07 16:00:00-04:00         -0.12         -0.14      -0.1667",
      "text/html": "<div>\n<style scoped>\n    .dataframe tbody tr th:only-of-type {\n        vertical-align: middle;\n    }\n\n    .dataframe tbody tr th {\n        vertical-align: top;\n    }\n\n    .dataframe thead th {\n        text-align: right;\n    }\n</style>\n<table border=\"1\" class=\"dataframe\">\n  <thead>\n    <tr style=\"text-align: right;\">\n      <th></th>\n      <th>EPS Estimate</th>\n      <th>Reported EPS</th>\n      <th>Surprise(%)</th>\n    </tr>\n    <tr>\n      <th>Earnings Date</th>\n      <th></th>\n      <th></th>\n      <th></th>\n    </tr>\n  </thead>\n  <tbody>\n    <tr>\n      <th>2025-06-13 11:00:00-04:00</th>\n      <td>-0.09</td>\n      <td>NaN</td>\n      <td>NaN</td>\n    </tr>\n    <tr>\n      <th>2025-03-24 06:00:00-04:00</th>\n      <td>NaN</td>\n      <td>NaN</td>\n      <td>NaN</td>\n    </tr>\n    <tr>\n      <th>2024-12-04 05:00:00-05:00</th>\n      <td>NaN</td>\n      <td>NaN</td>\n      <td>NaN</td>\n    </tr>\n    <tr>\n      <th>2024-09-04 06:00:00-04:00</th>\n      <td>-0.01</td>\n      <td>NaN</td>\n      <td>NaN</td>\n    </tr>\n    <tr>\n      <th>2024-06-13 11:00:00-04:00</th>\n      <td>-0.09</td>\n      <td>NaN</td>\n      <td>NaN</td>\n    </tr>\n    <tr>\n      <th>2024-06-11 16:00:00-04:00</th>\n      <td>-0.09</td>\n      <td>NaN</td>\n      <td>NaN</td>\n    </tr>\n    <tr>\n      <th>2024-06-07 06:00:00-04:00</th>\n      <td>-0.09</td>\n      <td>-0.12</td>\n      <td>-0.3333</td>\n    </tr>\n    <tr>\n      <th>2024-05-17 07:00:00-04:00</th>\n      <td>-0.09</td>\n      <td>-0.12</td>\n      <td>-0.3333</td>\n    </tr>\n    <tr>\n      <th>2024-03-26 16:00:00-04:00</th>\n      <td>0.30</td>\n      <td>0.22</td>\n      <td>-0.2542</td>\n    </tr>\n    <tr>\n      <th>2023-12-06 16:00:00-05:00</th>\n      <td>-0.09</td>\n      <td>NaN</td>\n      <td>1.0000</td>\n    </tr>\n    <tr>\n      <th>2023-09-06 16:00:00-04:00</th>\n      <td>-0.14</td>\n      <td>-0.03</td>\n      <td>0.7877</td>\n    </tr>\n    <tr>\n      <th>2023-06-07 16:00:00-04:00</th>\n      <td>-0.12</td>\n      <td>-0.14</td>\n      <td>-0.1667</td>\n    </tr>\n  </tbody>\n</table>\n</div>"
     },
     "execution_count": 42,
     "metadata": {},
     "output_type": "execute_result"
    }
   ],
   "source": [
    "gme.earnings_dates.head(20)"
   ],
   "metadata": {
    "collapsed": false
   }
  },
  {
   "cell_type": "code",
   "execution_count": 43,
   "outputs": [
    {
     "ename": "KeyError",
     "evalue": "'currentPrice'",
     "output_type": "error",
     "traceback": [
      "\u001B[0;31m---------------------------------------------------------------------------\u001B[0m",
      "\u001B[0;31mKeyError\u001B[0m                                  Traceback (most recent call last)",
      "Cell \u001B[0;32mIn[43], line 1\u001B[0m\n\u001B[0;32m----> 1\u001B[0m \u001B[43mgme\u001B[49m\u001B[38;5;241;43m.\u001B[39;49m\u001B[43minfo\u001B[49m\u001B[43m[\u001B[49m\u001B[38;5;124;43m'\u001B[39;49m\u001B[38;5;124;43mcurrentPrice\u001B[39;49m\u001B[38;5;124;43m'\u001B[39;49m\u001B[43m]\u001B[49m\n",
      "\u001B[0;31mKeyError\u001B[0m: 'currentPrice'"
     ]
    }
   ],
   "source": [
    "gme.info['currentPrice']"
   ],
   "metadata": {
    "collapsed": false
   }
  },
  {
   "cell_type": "markdown",
   "source": [
    "To get historic data, use history() method. Let us query the historic data for 1 month."
   ],
   "metadata": {
    "collapsed": false
   }
  },
  {
   "cell_type": "code",
   "execution_count": null,
   "outputs": [],
   "source": [
    "gme.history(period=\"1mo\").head(30)"
   ],
   "metadata": {
    "collapsed": false
   }
  },
  {
   "cell_type": "markdown",
   "source": [
    "Let us try one more, the news method."
   ],
   "metadata": {
    "collapsed": false
   }
  },
  {
   "cell_type": "code",
   "execution_count": null,
   "outputs": [],
   "source": [
    "gme.news[2]"
   ],
   "metadata": {
    "collapsed": false
   }
  },
  {
   "cell_type": "code",
   "execution_count": null,
   "outputs": [],
   "source": [
    "gme.analyst_price_target()"
   ],
   "metadata": {
    "collapsed": false
   }
  },
  {
   "cell_type": "code",
   "execution_count": null,
   "outputs": [],
   "source": [
    "apple = yf.Ticker(\"AAPL\")\n",
    "print(apple.info)"
   ],
   "metadata": {
    "collapsed": false
   }
  },
  {
   "cell_type": "code",
   "execution_count": null,
   "outputs": [],
   "source": [
    "apple.analyst_price_target()"
   ],
   "metadata": {
    "collapsed": false
   }
  },
  {
   "cell_type": "markdown",
   "source": [
    "## Get tbe history\n",
    "\n",
    "### Adjust closed"
   ],
   "metadata": {
    "collapsed": false
   }
  },
  {
   "cell_type": "code",
   "execution_count": null,
   "outputs": [],
   "source": [
    "apple.history()"
   ],
   "metadata": {
    "collapsed": false
   }
  }
 ],
 "metadata": {
  "kernelspec": {
   "display_name": "Python 3",
   "language": "python",
   "name": "python3"
  },
  "language_info": {
   "codemirror_mode": {
    "name": "ipython",
    "version": 2
   },
   "file_extension": ".py",
   "mimetype": "text/x-python",
   "name": "python",
   "nbconvert_exporter": "python",
   "pygments_lexer": "ipython2",
   "version": "2.7.6"
  }
 },
 "nbformat": 4,
 "nbformat_minor": 0
}
