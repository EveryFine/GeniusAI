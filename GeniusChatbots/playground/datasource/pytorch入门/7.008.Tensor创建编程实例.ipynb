{
 "cells": [
  {
   "metadata": {},
   "cell_type": "markdown",
   "source": [
    "## BiliBili视频\n",
    "\n",
    "【【不要再看那些过时的PyTorch老教程了】2024巨献，PyTorch入门小白最新版全套教程(PyTorch入门/深度学习/神经网络/项目实战教程）】https://www.bilibili.com/video/BV1tH4y1c7Ud?p=7&vd_source=877d8021f1e4e120e907c47b8398eb6c"
   ],
   "id": "70fe6cce851db3d8"
  },
  {
   "metadata": {
    "ExecuteTime": {
     "end_time": "2024-08-14T13:24:47.856675Z",
     "start_time": "2024-08-14T13:24:46.508887Z"
    }
   },
   "cell_type": "code",
   "source": [
    "import numpy\n",
    "!pip install  torch torchvision"
   ],
   "id": "3276b8d7ca925990",
   "outputs": [
    {
     "name": "stdout",
     "output_type": "stream",
     "text": [
      "Requirement already satisfied: torch in /Users/zhengshuang/Documents/ProgramingGuide/SourceCode/GithubRepo/everyfine/GeniusAI/GeniusChatbots/venv/lib/python3.9/site-packages (2.4.0)\r\n",
      "Requirement already satisfied: torchvision in /Users/zhengshuang/Documents/ProgramingGuide/SourceCode/GithubRepo/everyfine/GeniusAI/GeniusChatbots/venv/lib/python3.9/site-packages (0.19.0)\r\n",
      "Requirement already satisfied: filelock in /Users/zhengshuang/Documents/ProgramingGuide/SourceCode/GithubRepo/everyfine/GeniusAI/GeniusChatbots/venv/lib/python3.9/site-packages (from torch) (3.14.0)\r\n",
      "Requirement already satisfied: typing-extensions>=4.8.0 in /Users/zhengshuang/Documents/ProgramingGuide/SourceCode/GithubRepo/everyfine/GeniusAI/GeniusChatbots/venv/lib/python3.9/site-packages (from torch) (4.12.1)\r\n",
      "Requirement already satisfied: sympy in /Users/zhengshuang/Documents/ProgramingGuide/SourceCode/GithubRepo/everyfine/GeniusAI/GeniusChatbots/venv/lib/python3.9/site-packages (from torch) (1.12.1)\r\n",
      "Requirement already satisfied: networkx in /Users/zhengshuang/Documents/ProgramingGuide/SourceCode/GithubRepo/everyfine/GeniusAI/GeniusChatbots/venv/lib/python3.9/site-packages (from torch) (3.2.1)\r\n",
      "Requirement already satisfied: jinja2 in /Users/zhengshuang/Documents/ProgramingGuide/SourceCode/GithubRepo/everyfine/GeniusAI/GeniusChatbots/venv/lib/python3.9/site-packages (from torch) (3.1.4)\r\n",
      "Requirement already satisfied: fsspec in /Users/zhengshuang/Documents/ProgramingGuide/SourceCode/GithubRepo/everyfine/GeniusAI/GeniusChatbots/venv/lib/python3.9/site-packages (from torch) (2024.6.0)\r\n",
      "Requirement already satisfied: numpy in /Users/zhengshuang/Documents/ProgramingGuide/SourceCode/GithubRepo/everyfine/GeniusAI/GeniusChatbots/venv/lib/python3.9/site-packages (from torchvision) (1.26.4)\r\n",
      "Requirement already satisfied: pillow!=8.3.*,>=5.3.0 in /Users/zhengshuang/Documents/ProgramingGuide/SourceCode/GithubRepo/everyfine/GeniusAI/GeniusChatbots/venv/lib/python3.9/site-packages (from torchvision) (10.3.0)\r\n",
      "Requirement already satisfied: MarkupSafe>=2.0 in /Users/zhengshuang/Documents/ProgramingGuide/SourceCode/GithubRepo/everyfine/GeniusAI/GeniusChatbots/venv/lib/python3.9/site-packages (from jinja2->torch) (2.1.5)\r\n",
      "Requirement already satisfied: mpmath<1.4.0,>=1.1.0 in /Users/zhengshuang/Documents/ProgramingGuide/SourceCode/GithubRepo/everyfine/GeniusAI/GeniusChatbots/venv/lib/python3.9/site-packages (from sympy->torch) (1.3.0)\r\n",
      "\r\n",
      "\u001B[1m[\u001B[0m\u001B[34;49mnotice\u001B[0m\u001B[1;39;49m]\u001B[0m\u001B[39;49m A new release of pip is available: \u001B[0m\u001B[31;49m24.0\u001B[0m\u001B[39;49m -> \u001B[0m\u001B[32;49m24.2\u001B[0m\r\n",
      "\u001B[1m[\u001B[0m\u001B[34;49mnotice\u001B[0m\u001B[1;39;49m]\u001B[0m\u001B[39;49m To update, run: \u001B[0m\u001B[32;49mpip install --upgrade pip\u001B[0m\r\n"
     ]
    }
   ],
   "execution_count": 2
  },
  {
   "metadata": {
    "ExecuteTime": {
     "end_time": "2024-08-14T13:25:34.974143Z",
     "start_time": "2024-08-14T13:25:34.145671Z"
    }
   },
   "cell_type": "code",
   "source": [
    "import torch\n",
    "\n",
    "a = torch.Tensor([[1,2,3],[4,5,6],[7,8,9]])\n",
    "print(a)\n",
    "print(a.shape)"
   ],
   "id": "9fe4c0eeba289446",
   "outputs": [
    {
     "name": "stdout",
     "output_type": "stream",
     "text": [
      "tensor([[1., 2., 3.],\n",
      "        [4., 5., 6.],\n",
      "        [7., 8., 9.]])\n",
      "torch.Size([3, 3])\n"
     ]
    }
   ],
   "execution_count": 3
  },
  {
   "metadata": {
    "ExecuteTime": {
     "end_time": "2024-08-14T13:26:33.927330Z",
     "start_time": "2024-08-14T13:26:33.923090Z"
    }
   },
   "cell_type": "code",
   "source": [
    "a = torch.Tensor(2,3,4)\n",
    "print(a)\n",
    "print(a.shape)"
   ],
   "id": "1095145bcd9f7f61",
   "outputs": [
    {
     "name": "stdout",
     "output_type": "stream",
     "text": [
      "tensor([[[0., 0., 0., 0.],\n",
      "         [0., 0., 0., 0.],\n",
      "         [0., 0., 0., 0.]],\n",
      "\n",
      "        [[0., 0., 0., 0.],\n",
      "         [0., 0., 0., 0.],\n",
      "         [0., 0., 0., 0.]]])\n",
      "torch.Size([2, 3, 4])\n"
     ]
    }
   ],
   "execution_count": 4
  },
  {
   "metadata": {
    "ExecuteTime": {
     "end_time": "2024-08-14T13:27:44.994208Z",
     "start_time": "2024-08-14T13:27:44.989430Z"
    }
   },
   "cell_type": "code",
   "source": [
    "b = torch.ones(2,2)\n",
    "print(b)\n",
    "print(b.shape)"
   ],
   "id": "61ea33613e37cd92",
   "outputs": [
    {
     "name": "stdout",
     "output_type": "stream",
     "text": [
      "tensor([[1., 1.],\n",
      "        [1., 1.]])\n",
      "torch.Size([2, 2])\n"
     ]
    }
   ],
   "execution_count": 5
  },
  {
   "metadata": {
    "ExecuteTime": {
     "end_time": "2024-08-14T13:28:11.761617Z",
     "start_time": "2024-08-14T13:28:11.757800Z"
    }
   },
   "cell_type": "code",
   "source": [
    "c = torch.eye(3,3)\n",
    "print(c)\n",
    "print(c.shape)"
   ],
   "id": "5237a7932714e058",
   "outputs": [
    {
     "name": "stdout",
     "output_type": "stream",
     "text": [
      "tensor([[1., 0., 0.],\n",
      "        [0., 1., 0.],\n",
      "        [0., 0., 1.]])\n",
      "torch.Size([3, 3])\n"
     ]
    }
   ],
   "execution_count": 6
  },
  {
   "metadata": {
    "ExecuteTime": {
     "end_time": "2024-08-14T13:29:36.640609Z",
     "start_time": "2024-08-14T13:29:36.636954Z"
    }
   },
   "cell_type": "code",
   "source": [
    "d = torch.zeros_like(c)\n",
    "print(d)\n",
    "print(d.shape)"
   ],
   "id": "8f87015e1b8e09bb",
   "outputs": [
    {
     "name": "stdout",
     "output_type": "stream",
     "text": [
      "tensor([[0., 0., 0.],\n",
      "        [0., 0., 0.],\n",
      "        [0., 0., 0.]])\n",
      "torch.Size([3, 3])\n"
     ]
    }
   ],
   "execution_count": 7
  },
  {
   "metadata": {
    "ExecuteTime": {
     "end_time": "2024-08-14T13:30:31.456861Z",
     "start_time": "2024-08-14T13:30:31.453473Z"
    }
   },
   "cell_type": "code",
   "source": [
    "e = torch.ones_like(c)\n",
    "print(e)\n",
    "print(e.shape)"
   ],
   "id": "8195f821477c9fd9",
   "outputs": [
    {
     "name": "stdout",
     "output_type": "stream",
     "text": [
      "tensor([[1., 1., 1.],\n",
      "        [1., 1., 1.],\n",
      "        [1., 1., 1.]])\n",
      "torch.Size([3, 3])\n"
     ]
    }
   ],
   "execution_count": 8
  },
  {
   "metadata": {
    "ExecuteTime": {
     "end_time": "2024-08-14T13:31:10.975540Z",
     "start_time": "2024-08-14T13:31:10.969378Z"
    }
   },
   "cell_type": "code",
   "source": [
    "f = torch.randn(2,3,4)\n",
    "print(f)\n",
    "print(f.shape)"
   ],
   "id": "b86373ee5f9c788b",
   "outputs": [
    {
     "name": "stdout",
     "output_type": "stream",
     "text": [
      "tensor([[[-0.9028,  0.5348,  0.2289,  2.0100],\n",
      "         [-0.6600, -0.4701,  0.3862,  0.6011],\n",
      "         [ 0.4632, -0.1391,  0.6374, -0.8559]],\n",
      "\n",
      "        [[-0.3868, -0.0595, -0.8155, -0.9603],\n",
      "         [ 1.7459, -1.0963,  1.2972, -0.0252],\n",
      "         [ 0.0673,  0.7326,  0.0569,  0.1308]]])\n",
      "torch.Size([2, 3, 4])\n"
     ]
    }
   ],
   "execution_count": 9
  },
  {
   "metadata": {
    "ExecuteTime": {
     "end_time": "2024-08-14T13:33:07.996691Z",
     "start_time": "2024-08-14T13:33:07.991052Z"
    }
   },
   "cell_type": "code",
   "source": [
    "# 高斯分布\n",
    "g = torch.normal(mean=0.0,std=torch.rand(5))\n",
    "print(g)\n",
    "print(g.shape)"
   ],
   "id": "d56b3ae8f4531d2f",
   "outputs": [
    {
     "name": "stdout",
     "output_type": "stream",
     "text": [
      "tensor([-0.3611, -0.6140, -0.5529,  0.0418,  0.3586])\n",
      "torch.Size([5])\n"
     ]
    }
   ],
   "execution_count": 10
  },
  {
   "metadata": {
    "ExecuteTime": {
     "end_time": "2024-08-14T13:36:57.762316Z",
     "start_time": "2024-08-14T13:36:57.756281Z"
    }
   },
   "cell_type": "code",
   "source": [
    "#均匀分布\n",
    "h = torch.Tensor(2,2).uniform_(-3,1)\n",
    "print(h)\n",
    "print(h.shape)"
   ],
   "id": "8c8a3789e72dcd93",
   "outputs": [
    {
     "name": "stdout",
     "output_type": "stream",
     "text": [
      "tensor([[-2.0988, -1.4679],\n",
      "        [ 0.4179,  0.4805]])\n",
      "torch.Size([2, 2])\n"
     ]
    }
   ],
   "execution_count": 12
  },
  {
   "metadata": {
    "ExecuteTime": {
     "end_time": "2024-08-14T13:38:58.422107Z",
     "start_time": "2024-08-14T13:38:58.417313Z"
    }
   },
   "cell_type": "code",
   "source": [
    "# 序列\n",
    "i = torch.arange(0,10,2)\n",
    "print(i)\n",
    "print(i.shape)"
   ],
   "id": "172fdbeee712b533",
   "outputs": [
    {
     "name": "stdout",
     "output_type": "stream",
     "text": [
      "tensor([0, 2, 4, 6, 8])\n",
      "torch.Size([5])\n"
     ]
    }
   ],
   "execution_count": 14
  },
  {
   "metadata": {
    "ExecuteTime": {
     "end_time": "2024-08-14T13:40:47.619251Z",
     "start_time": "2024-08-14T13:40:47.616060Z"
    }
   },
   "cell_type": "code",
   "source": [
    "# 等间隔序列\n",
    "j = torch.linspace(2,10,3)\n",
    "print(j)\n",
    "print(j.shape)"
   ],
   "id": "8cab234f6a626c0",
   "outputs": [
    {
     "name": "stdout",
     "output_type": "stream",
     "text": [
      "tensor([ 2.,  6., 10.])\n",
      "torch.Size([3])\n"
     ]
    }
   ],
   "execution_count": 16
  },
  {
   "metadata": {
    "ExecuteTime": {
     "end_time": "2024-08-14T13:44:16.797593Z",
     "start_time": "2024-08-14T13:44:16.792742Z"
    }
   },
   "cell_type": "code",
   "source": [
    "#打乱索引\n",
    "k = torch.randperm(10)\n",
    "print(k)\n",
    "print(k.shape)"
   ],
   "id": "d938d6c68a59810b",
   "outputs": [
    {
     "name": "stdout",
     "output_type": "stream",
     "text": [
      "tensor([2, 4, 6, 5, 3, 0, 1, 8, 9, 7])\n",
      "torch.Size([10])\n"
     ]
    }
   ],
   "execution_count": 17
  },
  {
   "metadata": {},
   "cell_type": "markdown",
   "source": "########################## numpy",
   "id": "9846236b02f12eeb"
  },
  {
   "metadata": {
    "ExecuteTime": {
     "end_time": "2024-08-14T13:47:05.525002Z",
     "start_time": "2024-08-14T13:47:05.521900Z"
    }
   },
   "cell_type": "code",
   "source": [
    "import numpy as np\n",
    "l=np.array([[1,2,3],[4,5,6],[7,8,9]])\n",
    "print(l)\n",
    "print(l.shape)"
   ],
   "id": "c51efed2acb63e53",
   "outputs": [
    {
     "name": "stdout",
     "output_type": "stream",
     "text": [
      "[[1 2 3]\n",
      " [4 5 6]\n",
      " [7 8 9]]\n",
      "(3, 3)\n"
     ]
    }
   ],
   "execution_count": 19
  }
 ],
 "metadata": {
  "kernelspec": {
   "display_name": "Python 3",
   "language": "python",
   "name": "python3"
  },
  "language_info": {
   "codemirror_mode": {
    "name": "ipython",
    "version": 2
   },
   "file_extension": ".py",
   "mimetype": "text/x-python",
   "name": "python",
   "nbconvert_exporter": "python",
   "pygments_lexer": "ipython2",
   "version": "2.7.6"
  }
 },
 "nbformat": 4,
 "nbformat_minor": 5
}
