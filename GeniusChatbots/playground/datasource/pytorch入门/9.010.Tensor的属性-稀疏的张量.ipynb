{
 "cells": [
  {
   "cell_type": "code",
   "id": "initial_id",
   "metadata": {
    "collapsed": true,
    "ExecuteTime": {
     "end_time": "2024-08-14T13:57:22.858774Z",
     "start_time": "2024-08-14T13:57:21.903566Z"
    }
   },
   "source": [
    "import torch\n",
    "cuda_av=torch.cuda.is_available()\n",
    "print(cuda_av)\n"
   ],
   "outputs": [
    {
     "name": "stdout",
     "output_type": "stream",
     "text": [
      "False\n"
     ]
    }
   ],
   "execution_count": 1
  },
  {
   "metadata": {
    "ExecuteTime": {
     "end_time": "2024-08-14T13:59:51.833953Z",
     "start_time": "2024-08-14T13:59:51.826311Z"
    }
   },
   "cell_type": "code",
   "source": [
    "dev = torch.device('cuda' if torch.cuda.is_available() else 'cpu')\n",
    "print(dev)\n",
    "a = torch.tensor([2,2],dtype=torch.float, device=dev)\n",
    "print(a)"
   ],
   "id": "55440262179bf720",
   "outputs": [
    {
     "name": "stdout",
     "output_type": "stream",
     "text": [
      "cpu\n",
      "tensor([2., 2.])\n"
     ]
    }
   ],
   "execution_count": 5
  },
  {
   "metadata": {
    "ExecuteTime": {
     "end_time": "2024-08-14T14:04:37.581601Z",
     "start_time": "2024-08-14T14:04:37.577631Z"
    }
   },
   "cell_type": "code",
   "source": [
    "# 定义稀疏张量\n",
    "# 定义坐标\n",
    "i = torch.tensor([[0,1,2],[0,1,2]])\n",
    "# 定义值\n",
    "v = torch.tensor([1,2,3])\n",
    "a = torch.sparse_coo_tensor(i,v,(4,4))\n",
    "print(a)\n",
    "print(a.shape)"
   ],
   "id": "65e906aad51a6dd6",
   "outputs": [
    {
     "name": "stdout",
     "output_type": "stream",
     "text": [
      "tensor(indices=tensor([[0, 1, 2],\n",
      "                       [0, 1, 2]]),\n",
      "       values=tensor([1, 2, 3]),\n",
      "       size=(4, 4), nnz=3, layout=torch.sparse_coo)\n",
      "torch.Size([4, 4])\n"
     ]
    }
   ],
   "execution_count": 6
  },
  {
   "metadata": {
    "ExecuteTime": {
     "end_time": "2024-08-14T14:06:03.162417Z",
     "start_time": "2024-08-14T14:06:03.158706Z"
    }
   },
   "cell_type": "code",
   "source": [
    "# 转换成稠密张量\n",
    "b = a.to_dense()\n",
    "print(b)\n",
    "print(b.shape)"
   ],
   "id": "40d15f34e5e3afac",
   "outputs": [
    {
     "name": "stdout",
     "output_type": "stream",
     "text": [
      "tensor([[1, 0, 0, 0],\n",
      "        [0, 2, 0, 0],\n",
      "        [0, 0, 3, 0],\n",
      "        [0, 0, 0, 0]])\n",
      "torch.Size([4, 4])\n"
     ]
    }
   ],
   "execution_count": 7
  }
 ],
 "metadata": {
  "kernelspec": {
   "display_name": "Python 3",
   "language": "python",
   "name": "python3"
  },
  "language_info": {
   "codemirror_mode": {
    "name": "ipython",
    "version": 2
   },
   "file_extension": ".py",
   "mimetype": "text/x-python",
   "name": "python",
   "nbconvert_exporter": "python",
   "pygments_lexer": "ipython2",
   "version": "2.7.6"
  }
 },
 "nbformat": 4,
 "nbformat_minor": 5
}
