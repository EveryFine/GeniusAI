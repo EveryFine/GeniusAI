{
 "cells": [
  {
   "cell_type": "markdown",
   "source": [
    "# 获取所有股票列表"
   ],
   "metadata": {
    "collapsed": false
   }
  },
  {
   "cell_type": "markdown",
   "source": [
    "## AKShare"
   ],
   "metadata": {
    "collapsed": false
   }
  },
  {
   "cell_type": "code",
   "execution_count": null,
   "outputs": [],
   "source": [
    "\n",
    "!pip install akshare --upgrade -i https://pypi.tuna.tsinghua.edu.cn/simple"
   ],
   "metadata": {
    "collapsed": false
   }
  },
  {
   "cell_type": "markdown",
   "source": [
    "### A+H股票字典"
   ],
   "metadata": {
    "collapsed": false
   }
  },
  {
   "cell_type": "code",
   "execution_count": 8,
   "outputs": [
    {
     "data": {
      "text/plain": "  0%|          | 0/8 [00:00<?, ?it/s]",
      "application/vnd.jupyter.widget-view+json": {
       "version_major": 2,
       "version_minor": 0,
       "model_id": "bbcac7d970464f70bf6b885688f60045"
      }
     },
     "metadata": {},
     "output_type": "display_data"
    },
    {
     "data": {
      "text/plain": "        代码        名称\n0    01618      中国中冶\n1    00895      东江环保\n2    06806      申万宏源\n3    02727      上海电气\n4    01528     红星美凯龙\n..     ...       ...\n155  01635      大众公用\n156  00323   马鞍山钢铁股份\n157  00338  上海石油化工股份\n158  02866      中远海发\n159  01375      中州证券\n\n[160 rows x 2 columns]",
      "text/html": "<div>\n<style scoped>\n    .dataframe tbody tr th:only-of-type {\n        vertical-align: middle;\n    }\n\n    .dataframe tbody tr th {\n        vertical-align: top;\n    }\n\n    .dataframe thead th {\n        text-align: right;\n    }\n</style>\n<table border=\"1\" class=\"dataframe\">\n  <thead>\n    <tr style=\"text-align: right;\">\n      <th></th>\n      <th>代码</th>\n      <th>名称</th>\n    </tr>\n  </thead>\n  <tbody>\n    <tr>\n      <th>0</th>\n      <td>01618</td>\n      <td>中国中冶</td>\n    </tr>\n    <tr>\n      <th>1</th>\n      <td>00895</td>\n      <td>东江环保</td>\n    </tr>\n    <tr>\n      <th>2</th>\n      <td>06806</td>\n      <td>申万宏源</td>\n    </tr>\n    <tr>\n      <th>3</th>\n      <td>02727</td>\n      <td>上海电气</td>\n    </tr>\n    <tr>\n      <th>4</th>\n      <td>01528</td>\n      <td>红星美凯龙</td>\n    </tr>\n    <tr>\n      <th>...</th>\n      <td>...</td>\n      <td>...</td>\n    </tr>\n    <tr>\n      <th>155</th>\n      <td>01635</td>\n      <td>大众公用</td>\n    </tr>\n    <tr>\n      <th>156</th>\n      <td>00323</td>\n      <td>马鞍山钢铁股份</td>\n    </tr>\n    <tr>\n      <th>157</th>\n      <td>00338</td>\n      <td>上海石油化工股份</td>\n    </tr>\n    <tr>\n      <th>158</th>\n      <td>02866</td>\n      <td>中远海发</td>\n    </tr>\n    <tr>\n      <th>159</th>\n      <td>01375</td>\n      <td>中州证券</td>\n    </tr>\n  </tbody>\n</table>\n<p>160 rows × 2 columns</p>\n</div>"
     },
     "execution_count": 8,
     "metadata": {},
     "output_type": "execute_result"
    }
   ],
   "source": [
    "import akshare as ak\n",
    "import pandas as pd\n",
    "\n",
    "stock_zh_ah_name_df = ak.stock_zh_ah_name()\n",
    "stock_zh_ah_name_df"
   ],
   "metadata": {
    "collapsed": false
   }
  },
  {
   "cell_type": "code",
   "execution_count": 35,
   "outputs": [
    {
     "data": {
      "text/plain": "        代码        名称\n0    01618      中国中冶\n1    00895      东江环保\n2    06806      申万宏源\n3    02727      上海电气\n4    01528     红星美凯龙\n..     ...       ...\n155  01635      大众公用\n156  00323   马鞍山钢铁股份\n157  00338  上海石油化工股份\n158  02866      中远海发\n159  01375      中州证券\n\n[160 rows x 2 columns]",
      "text/html": "<div>\n<style scoped>\n    .dataframe tbody tr th:only-of-type {\n        vertical-align: middle;\n    }\n\n    .dataframe tbody tr th {\n        vertical-align: top;\n    }\n\n    .dataframe thead th {\n        text-align: right;\n    }\n</style>\n<table border=\"1\" class=\"dataframe\">\n  <thead>\n    <tr style=\"text-align: right;\">\n      <th></th>\n      <th>代码</th>\n      <th>名称</th>\n    </tr>\n  </thead>\n  <tbody>\n    <tr>\n      <th>0</th>\n      <td>01618</td>\n      <td>中国中冶</td>\n    </tr>\n    <tr>\n      <th>1</th>\n      <td>00895</td>\n      <td>东江环保</td>\n    </tr>\n    <tr>\n      <th>2</th>\n      <td>06806</td>\n      <td>申万宏源</td>\n    </tr>\n    <tr>\n      <th>3</th>\n      <td>02727</td>\n      <td>上海电气</td>\n    </tr>\n    <tr>\n      <th>4</th>\n      <td>01528</td>\n      <td>红星美凯龙</td>\n    </tr>\n    <tr>\n      <th>...</th>\n      <td>...</td>\n      <td>...</td>\n    </tr>\n    <tr>\n      <th>155</th>\n      <td>01635</td>\n      <td>大众公用</td>\n    </tr>\n    <tr>\n      <th>156</th>\n      <td>00323</td>\n      <td>马鞍山钢铁股份</td>\n    </tr>\n    <tr>\n      <th>157</th>\n      <td>00338</td>\n      <td>上海石油化工股份</td>\n    </tr>\n    <tr>\n      <th>158</th>\n      <td>02866</td>\n      <td>中远海发</td>\n    </tr>\n    <tr>\n      <th>159</th>\n      <td>01375</td>\n      <td>中州证券</td>\n    </tr>\n  </tbody>\n</table>\n<p>160 rows × 2 columns</p>\n</div>"
     },
     "execution_count": 35,
     "metadata": {},
     "output_type": "execute_result"
    }
   ],
   "source": [
    "stock_zh_ah_name_df.to_csv(\"A+H股列表.csv\")\n",
    "stock_zh_ah_name_df.to_excel(\"A+H股列表.xlsx\")\n",
    "stock_zh_ah_name_df"
   ],
   "metadata": {
    "collapsed": false
   }
  },
  {
   "cell_type": "markdown",
   "source": [
    "### A股实时行情数据（含股票列表）"
   ],
   "metadata": {
    "collapsed": false
   }
  },
  {
   "cell_type": "markdown",
   "source": [
    "#### 东财"
   ],
   "metadata": {
    "collapsed": false
   }
  },
  {
   "cell_type": "markdown",
   "source": [
    "##### 沪深京 A 股"
   ],
   "metadata": {
    "collapsed": false
   }
  },
  {
   "cell_type": "code",
   "execution_count": 4,
   "outputs": [
    {
     "data": {
      "text/plain": "        序号      代码     名称    最新价    涨跌幅   涨跌额        成交量           成交额     振幅  \\\n0        1  301208   中亦科技  30.94  20.02  5.16   150052.0  4.345324e+08  20.83   \n1        2  688693    锴威特  33.28  20.01  5.55   102678.0  3.301906e+08  11.83   \n2        3  301251    威尔高  38.81  20.01  6.47   181125.0  6.340770e+08  24.83   \n3        4  300933   中辰股份   7.14  20.00  1.19   365999.0  2.555057e+08  18.66   \n4        5  301183    东田微  45.74  19.99  7.62   114830.0  5.051763e+08  22.25   \n...    ...     ...    ...    ...    ...   ...        ...           ...    ...   \n5610  5611  603009   北特科技  19.58 -10.02 -2.18   117629.0  2.323651e+08   4.69   \n5611  5612  688701   卓锦股份   4.90 -11.07 -0.61    94562.0  4.748865e+07  13.79   \n5612  5613  300839   博汇股份   5.43 -19.91 -1.35   184558.0  1.043551e+08   8.55   \n5613  5614  300262  *ST巴安   0.71 -20.22 -0.18   990797.0  8.165060e+07  25.84   \n5614  5615  002433    太安退   0.21 -58.82 -0.30  1388058.0  2.845834e+07   7.84   \n\n         最高  ...      量比    换手率  市盈率-动态   市净率           总市值          流通市值  \\\n0     30.94  ...    2.98  34.59   48.24  2.54  3.712802e+09  1.341993e+09   \n1     33.28  ...    5.13  58.67  -38.43  2.44  2.452211e+09  5.824000e+08   \n2     38.81  ...    1.24  53.82   62.55  3.65  5.224671e+09  1.306168e+09   \n3      7.14  ...    2.96  15.59   53.04  2.19  3.273753e+09  1.676178e+09   \n4     45.74  ...    3.66  24.92  116.26  4.54  3.659200e+09  2.108065e+09   \n...     ...  ...     ...    ...     ...   ...           ...           ...   \n5610  20.60  ...    0.46   3.48  106.84  4.07  7.023935e+09  6.626048e+09   \n5611   5.55  ...    2.90  14.05  -28.53  2.39  6.579591e+08  3.298080e+08   \n5612   6.00  ...    6.96   7.68   -3.35  2.19  1.332898e+09  1.304257e+09   \n5613   0.94  ...    1.23  14.84  -21.70  6.66  4.755346e+08  4.741388e+08   \n5614   0.23  ...  101.19  18.65   -0.73  0.42  1.610224e+08  1.563210e+08   \n\n        涨速  5分钟涨跌  60日涨跌幅  年初至今涨跌幅  \n0     0.00   0.00    5.96    -3.94  \n1     0.00   0.00   11.68   -25.10  \n2     0.00   0.00   25.68     8.65  \n3     0.00   0.00  -15.10   -24.44  \n4     0.00   0.00  -13.03     6.52  \n...    ...    ...     ...      ...  \n5610  0.00   0.00   27.64    32.57  \n5611 -0.20   0.41  -16.38   -45.86  \n5612  0.00   0.18  -38.71   -46.92  \n5613 -1.39  -4.05  -69.53   -78.22  \n5614  5.00   0.00  -88.52   -91.14  \n\n[5615 rows x 23 columns]",
      "text/html": "<div>\n<style scoped>\n    .dataframe tbody tr th:only-of-type {\n        vertical-align: middle;\n    }\n\n    .dataframe tbody tr th {\n        vertical-align: top;\n    }\n\n    .dataframe thead th {\n        text-align: right;\n    }\n</style>\n<table border=\"1\" class=\"dataframe\">\n  <thead>\n    <tr style=\"text-align: right;\">\n      <th></th>\n      <th>序号</th>\n      <th>代码</th>\n      <th>名称</th>\n      <th>最新价</th>\n      <th>涨跌幅</th>\n      <th>涨跌额</th>\n      <th>成交量</th>\n      <th>成交额</th>\n      <th>振幅</th>\n      <th>最高</th>\n      <th>...</th>\n      <th>量比</th>\n      <th>换手率</th>\n      <th>市盈率-动态</th>\n      <th>市净率</th>\n      <th>总市值</th>\n      <th>流通市值</th>\n      <th>涨速</th>\n      <th>5分钟涨跌</th>\n      <th>60日涨跌幅</th>\n      <th>年初至今涨跌幅</th>\n    </tr>\n  </thead>\n  <tbody>\n    <tr>\n      <th>0</th>\n      <td>1</td>\n      <td>301208</td>\n      <td>中亦科技</td>\n      <td>30.94</td>\n      <td>20.02</td>\n      <td>5.16</td>\n      <td>150052.0</td>\n      <td>4.345324e+08</td>\n      <td>20.83</td>\n      <td>30.94</td>\n      <td>...</td>\n      <td>2.98</td>\n      <td>34.59</td>\n      <td>48.24</td>\n      <td>2.54</td>\n      <td>3.712802e+09</td>\n      <td>1.341993e+09</td>\n      <td>0.00</td>\n      <td>0.00</td>\n      <td>5.96</td>\n      <td>-3.94</td>\n    </tr>\n    <tr>\n      <th>1</th>\n      <td>2</td>\n      <td>688693</td>\n      <td>锴威特</td>\n      <td>33.28</td>\n      <td>20.01</td>\n      <td>5.55</td>\n      <td>102678.0</td>\n      <td>3.301906e+08</td>\n      <td>11.83</td>\n      <td>33.28</td>\n      <td>...</td>\n      <td>5.13</td>\n      <td>58.67</td>\n      <td>-38.43</td>\n      <td>2.44</td>\n      <td>2.452211e+09</td>\n      <td>5.824000e+08</td>\n      <td>0.00</td>\n      <td>0.00</td>\n      <td>11.68</td>\n      <td>-25.10</td>\n    </tr>\n    <tr>\n      <th>2</th>\n      <td>3</td>\n      <td>301251</td>\n      <td>威尔高</td>\n      <td>38.81</td>\n      <td>20.01</td>\n      <td>6.47</td>\n      <td>181125.0</td>\n      <td>6.340770e+08</td>\n      <td>24.83</td>\n      <td>38.81</td>\n      <td>...</td>\n      <td>1.24</td>\n      <td>53.82</td>\n      <td>62.55</td>\n      <td>3.65</td>\n      <td>5.224671e+09</td>\n      <td>1.306168e+09</td>\n      <td>0.00</td>\n      <td>0.00</td>\n      <td>25.68</td>\n      <td>8.65</td>\n    </tr>\n    <tr>\n      <th>3</th>\n      <td>4</td>\n      <td>300933</td>\n      <td>中辰股份</td>\n      <td>7.14</td>\n      <td>20.00</td>\n      <td>1.19</td>\n      <td>365999.0</td>\n      <td>2.555057e+08</td>\n      <td>18.66</td>\n      <td>7.14</td>\n      <td>...</td>\n      <td>2.96</td>\n      <td>15.59</td>\n      <td>53.04</td>\n      <td>2.19</td>\n      <td>3.273753e+09</td>\n      <td>1.676178e+09</td>\n      <td>0.00</td>\n      <td>0.00</td>\n      <td>-15.10</td>\n      <td>-24.44</td>\n    </tr>\n    <tr>\n      <th>4</th>\n      <td>5</td>\n      <td>301183</td>\n      <td>东田微</td>\n      <td>45.74</td>\n      <td>19.99</td>\n      <td>7.62</td>\n      <td>114830.0</td>\n      <td>5.051763e+08</td>\n      <td>22.25</td>\n      <td>45.74</td>\n      <td>...</td>\n      <td>3.66</td>\n      <td>24.92</td>\n      <td>116.26</td>\n      <td>4.54</td>\n      <td>3.659200e+09</td>\n      <td>2.108065e+09</td>\n      <td>0.00</td>\n      <td>0.00</td>\n      <td>-13.03</td>\n      <td>6.52</td>\n    </tr>\n    <tr>\n      <th>...</th>\n      <td>...</td>\n      <td>...</td>\n      <td>...</td>\n      <td>...</td>\n      <td>...</td>\n      <td>...</td>\n      <td>...</td>\n      <td>...</td>\n      <td>...</td>\n      <td>...</td>\n      <td>...</td>\n      <td>...</td>\n      <td>...</td>\n      <td>...</td>\n      <td>...</td>\n      <td>...</td>\n      <td>...</td>\n      <td>...</td>\n      <td>...</td>\n      <td>...</td>\n      <td>...</td>\n    </tr>\n    <tr>\n      <th>5610</th>\n      <td>5611</td>\n      <td>603009</td>\n      <td>北特科技</td>\n      <td>19.58</td>\n      <td>-10.02</td>\n      <td>-2.18</td>\n      <td>117629.0</td>\n      <td>2.323651e+08</td>\n      <td>4.69</td>\n      <td>20.60</td>\n      <td>...</td>\n      <td>0.46</td>\n      <td>3.48</td>\n      <td>106.84</td>\n      <td>4.07</td>\n      <td>7.023935e+09</td>\n      <td>6.626048e+09</td>\n      <td>0.00</td>\n      <td>0.00</td>\n      <td>27.64</td>\n      <td>32.57</td>\n    </tr>\n    <tr>\n      <th>5611</th>\n      <td>5612</td>\n      <td>688701</td>\n      <td>卓锦股份</td>\n      <td>4.90</td>\n      <td>-11.07</td>\n      <td>-0.61</td>\n      <td>94562.0</td>\n      <td>4.748865e+07</td>\n      <td>13.79</td>\n      <td>5.55</td>\n      <td>...</td>\n      <td>2.90</td>\n      <td>14.05</td>\n      <td>-28.53</td>\n      <td>2.39</td>\n      <td>6.579591e+08</td>\n      <td>3.298080e+08</td>\n      <td>-0.20</td>\n      <td>0.41</td>\n      <td>-16.38</td>\n      <td>-45.86</td>\n    </tr>\n    <tr>\n      <th>5612</th>\n      <td>5613</td>\n      <td>300839</td>\n      <td>博汇股份</td>\n      <td>5.43</td>\n      <td>-19.91</td>\n      <td>-1.35</td>\n      <td>184558.0</td>\n      <td>1.043551e+08</td>\n      <td>8.55</td>\n      <td>6.00</td>\n      <td>...</td>\n      <td>6.96</td>\n      <td>7.68</td>\n      <td>-3.35</td>\n      <td>2.19</td>\n      <td>1.332898e+09</td>\n      <td>1.304257e+09</td>\n      <td>0.00</td>\n      <td>0.18</td>\n      <td>-38.71</td>\n      <td>-46.92</td>\n    </tr>\n    <tr>\n      <th>5613</th>\n      <td>5614</td>\n      <td>300262</td>\n      <td>*ST巴安</td>\n      <td>0.71</td>\n      <td>-20.22</td>\n      <td>-0.18</td>\n      <td>990797.0</td>\n      <td>8.165060e+07</td>\n      <td>25.84</td>\n      <td>0.94</td>\n      <td>...</td>\n      <td>1.23</td>\n      <td>14.84</td>\n      <td>-21.70</td>\n      <td>6.66</td>\n      <td>4.755346e+08</td>\n      <td>4.741388e+08</td>\n      <td>-1.39</td>\n      <td>-4.05</td>\n      <td>-69.53</td>\n      <td>-78.22</td>\n    </tr>\n    <tr>\n      <th>5614</th>\n      <td>5615</td>\n      <td>002433</td>\n      <td>太安退</td>\n      <td>0.21</td>\n      <td>-58.82</td>\n      <td>-0.30</td>\n      <td>1388058.0</td>\n      <td>2.845834e+07</td>\n      <td>7.84</td>\n      <td>0.23</td>\n      <td>...</td>\n      <td>101.19</td>\n      <td>18.65</td>\n      <td>-0.73</td>\n      <td>0.42</td>\n      <td>1.610224e+08</td>\n      <td>1.563210e+08</td>\n      <td>5.00</td>\n      <td>0.00</td>\n      <td>-88.52</td>\n      <td>-91.14</td>\n    </tr>\n  </tbody>\n</table>\n<p>5615 rows × 23 columns</p>\n</div>"
     },
     "execution_count": 4,
     "metadata": {},
     "output_type": "execute_result"
    }
   ],
   "source": [
    "stock_zh_a_spot_em_df = ak.stock_zh_a_spot_em()\n",
    "stock_zh_a_spot_em_df"
   ],
   "metadata": {
    "collapsed": false
   }
  },
  {
   "cell_type": "code",
   "execution_count": 20,
   "outputs": [
    {
     "data": {
      "text/plain": "        序号      代码     名称\n0        1  301208   中亦科技\n1        2  688693    锴威特\n2        3  301251    威尔高\n3        4  300933   中辰股份\n4        5  301183    东田微\n...    ...     ...    ...\n5610  5611  603009   北特科技\n5611  5612  688701   卓锦股份\n5612  5613  300839   博汇股份\n5613  5614  300262  *ST巴安\n5614  5615  002433    太安退\n\n[5615 rows x 3 columns]",
      "text/html": "<div>\n<style scoped>\n    .dataframe tbody tr th:only-of-type {\n        vertical-align: middle;\n    }\n\n    .dataframe tbody tr th {\n        vertical-align: top;\n    }\n\n    .dataframe thead th {\n        text-align: right;\n    }\n</style>\n<table border=\"1\" class=\"dataframe\">\n  <thead>\n    <tr style=\"text-align: right;\">\n      <th></th>\n      <th>序号</th>\n      <th>代码</th>\n      <th>名称</th>\n    </tr>\n  </thead>\n  <tbody>\n    <tr>\n      <th>0</th>\n      <td>1</td>\n      <td>301208</td>\n      <td>中亦科技</td>\n    </tr>\n    <tr>\n      <th>1</th>\n      <td>2</td>\n      <td>688693</td>\n      <td>锴威特</td>\n    </tr>\n    <tr>\n      <th>2</th>\n      <td>3</td>\n      <td>301251</td>\n      <td>威尔高</td>\n    </tr>\n    <tr>\n      <th>3</th>\n      <td>4</td>\n      <td>300933</td>\n      <td>中辰股份</td>\n    </tr>\n    <tr>\n      <th>4</th>\n      <td>5</td>\n      <td>301183</td>\n      <td>东田微</td>\n    </tr>\n    <tr>\n      <th>...</th>\n      <td>...</td>\n      <td>...</td>\n      <td>...</td>\n    </tr>\n    <tr>\n      <th>5610</th>\n      <td>5611</td>\n      <td>603009</td>\n      <td>北特科技</td>\n    </tr>\n    <tr>\n      <th>5611</th>\n      <td>5612</td>\n      <td>688701</td>\n      <td>卓锦股份</td>\n    </tr>\n    <tr>\n      <th>5612</th>\n      <td>5613</td>\n      <td>300839</td>\n      <td>博汇股份</td>\n    </tr>\n    <tr>\n      <th>5613</th>\n      <td>5614</td>\n      <td>300262</td>\n      <td>*ST巴安</td>\n    </tr>\n    <tr>\n      <th>5614</th>\n      <td>5615</td>\n      <td>002433</td>\n      <td>太安退</td>\n    </tr>\n  </tbody>\n</table>\n<p>5615 rows × 3 columns</p>\n</div>"
     },
     "execution_count": 20,
     "metadata": {},
     "output_type": "execute_result"
    }
   ],
   "source": [
    "stock_zh_a_list_df = pd.DataFrame(stock_zh_a_spot_em_df, columns=['序号','代码','名称'])\n",
    "stock_zh_a_list_df.to_csv(\"沪深京A股列表.csv\")\n",
    "stock_zh_a_list_df.to_excel(\"沪深京A股列表.xlsx\")\n",
    "stock_zh_a_list_df"
   ],
   "metadata": {
    "collapsed": false
   }
  },
  {
   "cell_type": "markdown",
   "source": [
    "##### 沪 A 股"
   ],
   "metadata": {
    "collapsed": false
   }
  },
  {
   "cell_type": "code",
   "execution_count": 6,
   "outputs": [
    {
     "data": {
      "text/plain": "        序号      代码      名称    最新价    涨跌幅    涨跌额       成交量          成交额     振幅  \\\n0        1  688693     锴威特  33.28  20.01   5.55  102678.0  330190616.0  11.83   \n1        2  688597    煜邦电力   8.04  15.52   1.08  155640.0  126666613.0  16.52   \n2        3  688517    金冠电气  14.23  10.22   1.32  126274.0  181604352.0  21.22   \n3        4  600067    冠城大通   1.96  10.11   0.18  354323.0   68071864.0  10.11   \n4        5  603389    亚振家居   5.47  10.06   0.50  336380.0  175296197.0  13.28   \n...    ...     ...     ...    ...    ...    ...       ...          ...    ...   \n2374  2375  688443  智翔金泰-U  31.55  -9.70  -3.39   30314.0   98494120.0   9.79   \n2375  2376  688017    绿的谐波  99.48  -9.96 -11.00   84790.0  853490710.0  10.13   \n2376  2377  601133   XD柏诚股  11.33 -10.01  -1.26  382854.0  448323917.0   9.29   \n2377  2378  603009    北特科技  19.58 -10.02  -2.18  117629.0  232365080.0   4.69   \n2378  2379  688701    卓锦股份   4.90 -11.07  -0.61   94562.0   47488653.0  13.79   \n\n          最高  ...    量比    换手率  市盈率-动态   市净率           总市值          流通市值  \\\n0      33.28  ...  5.13  58.67  -38.43  2.44  2.452211e+09  5.824000e+08   \n1       8.35  ...  9.63   8.59  -62.86  2.62  1.986385e+09  1.456115e+09   \n2      15.49  ...  4.32  14.77   23.63  2.65  1.944006e+09  1.216706e+09   \n3       1.96  ...  1.76   2.55   36.51  0.42  2.727671e+09  2.727671e+09   \n4       5.47  ...  2.00  12.80  -12.71  4.13  1.437253e+09  1.437253e+09   \n...      ...  ...   ...    ...     ...   ...           ...           ...   \n2374   34.65  ...  1.28   3.39  -17.66  4.35  1.156875e+10  2.818055e+09   \n2375  108.28  ...  3.61   5.03  208.54  8.46  1.677951e+10  1.677951e+10   \n2376   12.50  ...  3.99  25.96   26.58  2.16  5.919925e+09  1.671175e+09   \n2377   20.60  ...  0.46   3.48  106.84  4.07  7.023935e+09  6.626048e+09   \n2378    5.55  ...  2.90  14.05  -28.53  2.39  6.579591e+08  3.298080e+08   \n\n        涨速  5分钟涨跌  60日涨跌幅  年初至今涨跌幅  \n0     0.00   0.00   11.68   -25.10  \n1     0.00   0.25   -4.17   -11.65  \n2    -0.21   0.21   16.45    -6.93  \n3     0.00   0.00   -1.51   -21.91  \n4     0.00   0.00    8.53   -17.50  \n...    ...    ...     ...      ...  \n2374  0.00   0.22  -21.67   -21.03  \n2375  0.99   0.83  -28.24   -35.07  \n2376 -0.18   0.00    3.19   -12.91  \n2377  0.00   0.00   27.64    32.57  \n2378 -0.20   0.41  -16.38   -45.86  \n\n[2379 rows x 23 columns]",
      "text/html": "<div>\n<style scoped>\n    .dataframe tbody tr th:only-of-type {\n        vertical-align: middle;\n    }\n\n    .dataframe tbody tr th {\n        vertical-align: top;\n    }\n\n    .dataframe thead th {\n        text-align: right;\n    }\n</style>\n<table border=\"1\" class=\"dataframe\">\n  <thead>\n    <tr style=\"text-align: right;\">\n      <th></th>\n      <th>序号</th>\n      <th>代码</th>\n      <th>名称</th>\n      <th>最新价</th>\n      <th>涨跌幅</th>\n      <th>涨跌额</th>\n      <th>成交量</th>\n      <th>成交额</th>\n      <th>振幅</th>\n      <th>最高</th>\n      <th>...</th>\n      <th>量比</th>\n      <th>换手率</th>\n      <th>市盈率-动态</th>\n      <th>市净率</th>\n      <th>总市值</th>\n      <th>流通市值</th>\n      <th>涨速</th>\n      <th>5分钟涨跌</th>\n      <th>60日涨跌幅</th>\n      <th>年初至今涨跌幅</th>\n    </tr>\n  </thead>\n  <tbody>\n    <tr>\n      <th>0</th>\n      <td>1</td>\n      <td>688693</td>\n      <td>锴威特</td>\n      <td>33.28</td>\n      <td>20.01</td>\n      <td>5.55</td>\n      <td>102678.0</td>\n      <td>330190616.0</td>\n      <td>11.83</td>\n      <td>33.28</td>\n      <td>...</td>\n      <td>5.13</td>\n      <td>58.67</td>\n      <td>-38.43</td>\n      <td>2.44</td>\n      <td>2.452211e+09</td>\n      <td>5.824000e+08</td>\n      <td>0.00</td>\n      <td>0.00</td>\n      <td>11.68</td>\n      <td>-25.10</td>\n    </tr>\n    <tr>\n      <th>1</th>\n      <td>2</td>\n      <td>688597</td>\n      <td>煜邦电力</td>\n      <td>8.04</td>\n      <td>15.52</td>\n      <td>1.08</td>\n      <td>155640.0</td>\n      <td>126666613.0</td>\n      <td>16.52</td>\n      <td>8.35</td>\n      <td>...</td>\n      <td>9.63</td>\n      <td>8.59</td>\n      <td>-62.86</td>\n      <td>2.62</td>\n      <td>1.986385e+09</td>\n      <td>1.456115e+09</td>\n      <td>0.00</td>\n      <td>0.25</td>\n      <td>-4.17</td>\n      <td>-11.65</td>\n    </tr>\n    <tr>\n      <th>2</th>\n      <td>3</td>\n      <td>688517</td>\n      <td>金冠电气</td>\n      <td>14.23</td>\n      <td>10.22</td>\n      <td>1.32</td>\n      <td>126274.0</td>\n      <td>181604352.0</td>\n      <td>21.22</td>\n      <td>15.49</td>\n      <td>...</td>\n      <td>4.32</td>\n      <td>14.77</td>\n      <td>23.63</td>\n      <td>2.65</td>\n      <td>1.944006e+09</td>\n      <td>1.216706e+09</td>\n      <td>-0.21</td>\n      <td>0.21</td>\n      <td>16.45</td>\n      <td>-6.93</td>\n    </tr>\n    <tr>\n      <th>3</th>\n      <td>4</td>\n      <td>600067</td>\n      <td>冠城大通</td>\n      <td>1.96</td>\n      <td>10.11</td>\n      <td>0.18</td>\n      <td>354323.0</td>\n      <td>68071864.0</td>\n      <td>10.11</td>\n      <td>1.96</td>\n      <td>...</td>\n      <td>1.76</td>\n      <td>2.55</td>\n      <td>36.51</td>\n      <td>0.42</td>\n      <td>2.727671e+09</td>\n      <td>2.727671e+09</td>\n      <td>0.00</td>\n      <td>0.00</td>\n      <td>-1.51</td>\n      <td>-21.91</td>\n    </tr>\n    <tr>\n      <th>4</th>\n      <td>5</td>\n      <td>603389</td>\n      <td>亚振家居</td>\n      <td>5.47</td>\n      <td>10.06</td>\n      <td>0.50</td>\n      <td>336380.0</td>\n      <td>175296197.0</td>\n      <td>13.28</td>\n      <td>5.47</td>\n      <td>...</td>\n      <td>2.00</td>\n      <td>12.80</td>\n      <td>-12.71</td>\n      <td>4.13</td>\n      <td>1.437253e+09</td>\n      <td>1.437253e+09</td>\n      <td>0.00</td>\n      <td>0.00</td>\n      <td>8.53</td>\n      <td>-17.50</td>\n    </tr>\n    <tr>\n      <th>...</th>\n      <td>...</td>\n      <td>...</td>\n      <td>...</td>\n      <td>...</td>\n      <td>...</td>\n      <td>...</td>\n      <td>...</td>\n      <td>...</td>\n      <td>...</td>\n      <td>...</td>\n      <td>...</td>\n      <td>...</td>\n      <td>...</td>\n      <td>...</td>\n      <td>...</td>\n      <td>...</td>\n      <td>...</td>\n      <td>...</td>\n      <td>...</td>\n      <td>...</td>\n      <td>...</td>\n    </tr>\n    <tr>\n      <th>2374</th>\n      <td>2375</td>\n      <td>688443</td>\n      <td>智翔金泰-U</td>\n      <td>31.55</td>\n      <td>-9.70</td>\n      <td>-3.39</td>\n      <td>30314.0</td>\n      <td>98494120.0</td>\n      <td>9.79</td>\n      <td>34.65</td>\n      <td>...</td>\n      <td>1.28</td>\n      <td>3.39</td>\n      <td>-17.66</td>\n      <td>4.35</td>\n      <td>1.156875e+10</td>\n      <td>2.818055e+09</td>\n      <td>0.00</td>\n      <td>0.22</td>\n      <td>-21.67</td>\n      <td>-21.03</td>\n    </tr>\n    <tr>\n      <th>2375</th>\n      <td>2376</td>\n      <td>688017</td>\n      <td>绿的谐波</td>\n      <td>99.48</td>\n      <td>-9.96</td>\n      <td>-11.00</td>\n      <td>84790.0</td>\n      <td>853490710.0</td>\n      <td>10.13</td>\n      <td>108.28</td>\n      <td>...</td>\n      <td>3.61</td>\n      <td>5.03</td>\n      <td>208.54</td>\n      <td>8.46</td>\n      <td>1.677951e+10</td>\n      <td>1.677951e+10</td>\n      <td>0.99</td>\n      <td>0.83</td>\n      <td>-28.24</td>\n      <td>-35.07</td>\n    </tr>\n    <tr>\n      <th>2376</th>\n      <td>2377</td>\n      <td>601133</td>\n      <td>XD柏诚股</td>\n      <td>11.33</td>\n      <td>-10.01</td>\n      <td>-1.26</td>\n      <td>382854.0</td>\n      <td>448323917.0</td>\n      <td>9.29</td>\n      <td>12.50</td>\n      <td>...</td>\n      <td>3.99</td>\n      <td>25.96</td>\n      <td>26.58</td>\n      <td>2.16</td>\n      <td>5.919925e+09</td>\n      <td>1.671175e+09</td>\n      <td>-0.18</td>\n      <td>0.00</td>\n      <td>3.19</td>\n      <td>-12.91</td>\n    </tr>\n    <tr>\n      <th>2377</th>\n      <td>2378</td>\n      <td>603009</td>\n      <td>北特科技</td>\n      <td>19.58</td>\n      <td>-10.02</td>\n      <td>-2.18</td>\n      <td>117629.0</td>\n      <td>232365080.0</td>\n      <td>4.69</td>\n      <td>20.60</td>\n      <td>...</td>\n      <td>0.46</td>\n      <td>3.48</td>\n      <td>106.84</td>\n      <td>4.07</td>\n      <td>7.023935e+09</td>\n      <td>6.626048e+09</td>\n      <td>0.00</td>\n      <td>0.00</td>\n      <td>27.64</td>\n      <td>32.57</td>\n    </tr>\n    <tr>\n      <th>2378</th>\n      <td>2379</td>\n      <td>688701</td>\n      <td>卓锦股份</td>\n      <td>4.90</td>\n      <td>-11.07</td>\n      <td>-0.61</td>\n      <td>94562.0</td>\n      <td>47488653.0</td>\n      <td>13.79</td>\n      <td>5.55</td>\n      <td>...</td>\n      <td>2.90</td>\n      <td>14.05</td>\n      <td>-28.53</td>\n      <td>2.39</td>\n      <td>6.579591e+08</td>\n      <td>3.298080e+08</td>\n      <td>-0.20</td>\n      <td>0.41</td>\n      <td>-16.38</td>\n      <td>-45.86</td>\n    </tr>\n  </tbody>\n</table>\n<p>2379 rows × 23 columns</p>\n</div>"
     },
     "execution_count": 6,
     "metadata": {},
     "output_type": "execute_result"
    }
   ],
   "source": [
    "stock_sh_a_spot_em_df = ak.stock_sh_a_spot_em()\n",
    "stock_sh_a_spot_em_df"
   ],
   "metadata": {
    "collapsed": false
   }
  },
  {
   "cell_type": "code",
   "execution_count": 47,
   "outputs": [
    {
     "data": {
      "text/plain": "        序号      代码      名称\n0        1  688693     锴威特\n1        2  688597    煜邦电力\n2        3  688517    金冠电气\n3        4  600067    冠城大通\n4        5  603389    亚振家居\n...    ...     ...     ...\n2374  2375  688443  智翔金泰-U\n2375  2376  688017    绿的谐波\n2376  2377  601133   XD柏诚股\n2377  2378  603009    北特科技\n2378  2379  688701    卓锦股份\n\n[2379 rows x 3 columns]",
      "text/html": "<div>\n<style scoped>\n    .dataframe tbody tr th:only-of-type {\n        vertical-align: middle;\n    }\n\n    .dataframe tbody tr th {\n        vertical-align: top;\n    }\n\n    .dataframe thead th {\n        text-align: right;\n    }\n</style>\n<table border=\"1\" class=\"dataframe\">\n  <thead>\n    <tr style=\"text-align: right;\">\n      <th></th>\n      <th>序号</th>\n      <th>代码</th>\n      <th>名称</th>\n    </tr>\n  </thead>\n  <tbody>\n    <tr>\n      <th>0</th>\n      <td>1</td>\n      <td>688693</td>\n      <td>锴威特</td>\n    </tr>\n    <tr>\n      <th>1</th>\n      <td>2</td>\n      <td>688597</td>\n      <td>煜邦电力</td>\n    </tr>\n    <tr>\n      <th>2</th>\n      <td>3</td>\n      <td>688517</td>\n      <td>金冠电气</td>\n    </tr>\n    <tr>\n      <th>3</th>\n      <td>4</td>\n      <td>600067</td>\n      <td>冠城大通</td>\n    </tr>\n    <tr>\n      <th>4</th>\n      <td>5</td>\n      <td>603389</td>\n      <td>亚振家居</td>\n    </tr>\n    <tr>\n      <th>...</th>\n      <td>...</td>\n      <td>...</td>\n      <td>...</td>\n    </tr>\n    <tr>\n      <th>2374</th>\n      <td>2375</td>\n      <td>688443</td>\n      <td>智翔金泰-U</td>\n    </tr>\n    <tr>\n      <th>2375</th>\n      <td>2376</td>\n      <td>688017</td>\n      <td>绿的谐波</td>\n    </tr>\n    <tr>\n      <th>2376</th>\n      <td>2377</td>\n      <td>601133</td>\n      <td>XD柏诚股</td>\n    </tr>\n    <tr>\n      <th>2377</th>\n      <td>2378</td>\n      <td>603009</td>\n      <td>北特科技</td>\n    </tr>\n    <tr>\n      <th>2378</th>\n      <td>2379</td>\n      <td>688701</td>\n      <td>卓锦股份</td>\n    </tr>\n  </tbody>\n</table>\n<p>2379 rows × 3 columns</p>\n</div>"
     },
     "execution_count": 47,
     "metadata": {},
     "output_type": "execute_result"
    }
   ],
   "source": [
    "stock_sh_a_list_df = pd.DataFrame(stock_sh_a_spot_em_df, columns=['序号','代码','名称'])\n",
    "stock_sh_a_list_df.to_csv(\"沪A股列表.csv\")\n",
    "stock_sh_a_list_df.to_excel(\"沪A股列表.xlsx\")\n",
    "stock_sh_a_list_df"
   ],
   "metadata": {
    "collapsed": false
   }
  },
  {
   "cell_type": "markdown",
   "source": [
    "##### 深 A 股"
   ],
   "metadata": {
    "collapsed": false
   }
  },
  {
   "cell_type": "code",
   "execution_count": 13,
   "outputs": [
    {
     "data": {
      "text/plain": "        序号      代码     名称    最新价    涨跌幅   涨跌额        成交量           成交额     振幅  \\\n0        1  301208   中亦科技  30.94  20.02  5.16   150052.0  4.345324e+08  20.83   \n1        2  301251    威尔高  38.81  20.01  6.47   181125.0  6.340770e+08  24.83   \n2        3  300933   中辰股份   7.14  20.00  1.19   365999.0  2.555057e+08  18.66   \n3        4  301183    东田微  45.74  19.99  7.62   114830.0  5.051763e+08  22.25   \n4        5  300713    英可瑞  12.92  19.96  2.15    98523.0  1.218526e+08  23.40   \n...    ...     ...    ...    ...    ...   ...        ...           ...    ...   \n2982  2983  000982   中银绒业   0.29  -9.38 -0.03   349801.0  1.014423e+07   0.00   \n2983  2984  002496   辉丰股份   2.64  -9.90 -0.29   962974.0  2.666850e+08  13.65   \n2984  2985  300839   博汇股份   5.43 -19.91 -1.35   184558.0  1.043551e+08   8.55   \n2985  2986  300262  *ST巴安   0.71 -20.22 -0.18   990797.0  8.165060e+07  25.84   \n2986  2987  002433    太安退   0.21 -58.82 -0.30  1388058.0  2.845834e+07   7.84   \n\n         最高  ...      量比    换手率  市盈率-动态   市净率           总市值          流通市值  \\\n0     30.94  ...    2.98  34.59   48.24  2.54  3.712802e+09  1.341993e+09   \n1     38.81  ...    1.24  53.82   62.55  3.65  5.224671e+09  1.306168e+09   \n2      7.14  ...    2.96  15.59   53.04  2.19  3.273753e+09  1.676178e+09   \n3     45.74  ...    3.66  24.92  116.26  4.54  3.659200e+09  2.108065e+09   \n4     12.92  ...    2.59  11.37  -35.87  3.24  2.050673e+09  1.119228e+09   \n...     ...  ...     ...    ...     ...   ...           ...           ...   \n2982   0.29  ...    0.62   0.82  -29.07  1.16  1.235944e+09  1.235944e+09   \n2983   3.04  ...    2.03   8.21   20.57  2.59  3.980037e+09  3.097203e+09   \n2984   6.00  ...    6.96   7.68   -3.35  2.19  1.332898e+09  1.304257e+09   \n2985   0.94  ...    1.23  14.84  -21.70  6.66  4.755346e+08  4.741388e+08   \n2986   0.23  ...  101.19  18.65   -0.73  0.42  1.610224e+08  1.563210e+08   \n\n        涨速  5分钟涨跌  60日涨跌幅  年初至今涨跌幅  \n0     0.00   0.00    5.96    -3.94  \n1     0.00   0.00   25.68     8.65  \n2     0.00   0.00  -15.10   -24.44  \n3     0.00   0.00  -13.03     6.52  \n4     0.00   0.00   -8.82   -29.28  \n...    ...    ...     ...      ...  \n2982  0.00   0.00  -78.68   -80.27  \n2983  0.00   0.00   46.67    36.79  \n2984  0.00   0.18  -38.71   -46.92  \n2985 -1.39  -4.05  -69.53   -78.22  \n2986  5.00   0.00  -88.52   -91.14  \n\n[2987 rows x 23 columns]",
      "text/html": "<div>\n<style scoped>\n    .dataframe tbody tr th:only-of-type {\n        vertical-align: middle;\n    }\n\n    .dataframe tbody tr th {\n        vertical-align: top;\n    }\n\n    .dataframe thead th {\n        text-align: right;\n    }\n</style>\n<table border=\"1\" class=\"dataframe\">\n  <thead>\n    <tr style=\"text-align: right;\">\n      <th></th>\n      <th>序号</th>\n      <th>代码</th>\n      <th>名称</th>\n      <th>最新价</th>\n      <th>涨跌幅</th>\n      <th>涨跌额</th>\n      <th>成交量</th>\n      <th>成交额</th>\n      <th>振幅</th>\n      <th>最高</th>\n      <th>...</th>\n      <th>量比</th>\n      <th>换手率</th>\n      <th>市盈率-动态</th>\n      <th>市净率</th>\n      <th>总市值</th>\n      <th>流通市值</th>\n      <th>涨速</th>\n      <th>5分钟涨跌</th>\n      <th>60日涨跌幅</th>\n      <th>年初至今涨跌幅</th>\n    </tr>\n  </thead>\n  <tbody>\n    <tr>\n      <th>0</th>\n      <td>1</td>\n      <td>301208</td>\n      <td>中亦科技</td>\n      <td>30.94</td>\n      <td>20.02</td>\n      <td>5.16</td>\n      <td>150052.0</td>\n      <td>4.345324e+08</td>\n      <td>20.83</td>\n      <td>30.94</td>\n      <td>...</td>\n      <td>2.98</td>\n      <td>34.59</td>\n      <td>48.24</td>\n      <td>2.54</td>\n      <td>3.712802e+09</td>\n      <td>1.341993e+09</td>\n      <td>0.00</td>\n      <td>0.00</td>\n      <td>5.96</td>\n      <td>-3.94</td>\n    </tr>\n    <tr>\n      <th>1</th>\n      <td>2</td>\n      <td>301251</td>\n      <td>威尔高</td>\n      <td>38.81</td>\n      <td>20.01</td>\n      <td>6.47</td>\n      <td>181125.0</td>\n      <td>6.340770e+08</td>\n      <td>24.83</td>\n      <td>38.81</td>\n      <td>...</td>\n      <td>1.24</td>\n      <td>53.82</td>\n      <td>62.55</td>\n      <td>3.65</td>\n      <td>5.224671e+09</td>\n      <td>1.306168e+09</td>\n      <td>0.00</td>\n      <td>0.00</td>\n      <td>25.68</td>\n      <td>8.65</td>\n    </tr>\n    <tr>\n      <th>2</th>\n      <td>3</td>\n      <td>300933</td>\n      <td>中辰股份</td>\n      <td>7.14</td>\n      <td>20.00</td>\n      <td>1.19</td>\n      <td>365999.0</td>\n      <td>2.555057e+08</td>\n      <td>18.66</td>\n      <td>7.14</td>\n      <td>...</td>\n      <td>2.96</td>\n      <td>15.59</td>\n      <td>53.04</td>\n      <td>2.19</td>\n      <td>3.273753e+09</td>\n      <td>1.676178e+09</td>\n      <td>0.00</td>\n      <td>0.00</td>\n      <td>-15.10</td>\n      <td>-24.44</td>\n    </tr>\n    <tr>\n      <th>3</th>\n      <td>4</td>\n      <td>301183</td>\n      <td>东田微</td>\n      <td>45.74</td>\n      <td>19.99</td>\n      <td>7.62</td>\n      <td>114830.0</td>\n      <td>5.051763e+08</td>\n      <td>22.25</td>\n      <td>45.74</td>\n      <td>...</td>\n      <td>3.66</td>\n      <td>24.92</td>\n      <td>116.26</td>\n      <td>4.54</td>\n      <td>3.659200e+09</td>\n      <td>2.108065e+09</td>\n      <td>0.00</td>\n      <td>0.00</td>\n      <td>-13.03</td>\n      <td>6.52</td>\n    </tr>\n    <tr>\n      <th>4</th>\n      <td>5</td>\n      <td>300713</td>\n      <td>英可瑞</td>\n      <td>12.92</td>\n      <td>19.96</td>\n      <td>2.15</td>\n      <td>98523.0</td>\n      <td>1.218526e+08</td>\n      <td>23.40</td>\n      <td>12.92</td>\n      <td>...</td>\n      <td>2.59</td>\n      <td>11.37</td>\n      <td>-35.87</td>\n      <td>3.24</td>\n      <td>2.050673e+09</td>\n      <td>1.119228e+09</td>\n      <td>0.00</td>\n      <td>0.00</td>\n      <td>-8.82</td>\n      <td>-29.28</td>\n    </tr>\n    <tr>\n      <th>...</th>\n      <td>...</td>\n      <td>...</td>\n      <td>...</td>\n      <td>...</td>\n      <td>...</td>\n      <td>...</td>\n      <td>...</td>\n      <td>...</td>\n      <td>...</td>\n      <td>...</td>\n      <td>...</td>\n      <td>...</td>\n      <td>...</td>\n      <td>...</td>\n      <td>...</td>\n      <td>...</td>\n      <td>...</td>\n      <td>...</td>\n      <td>...</td>\n      <td>...</td>\n      <td>...</td>\n    </tr>\n    <tr>\n      <th>2982</th>\n      <td>2983</td>\n      <td>000982</td>\n      <td>中银绒业</td>\n      <td>0.29</td>\n      <td>-9.38</td>\n      <td>-0.03</td>\n      <td>349801.0</td>\n      <td>1.014423e+07</td>\n      <td>0.00</td>\n      <td>0.29</td>\n      <td>...</td>\n      <td>0.62</td>\n      <td>0.82</td>\n      <td>-29.07</td>\n      <td>1.16</td>\n      <td>1.235944e+09</td>\n      <td>1.235944e+09</td>\n      <td>0.00</td>\n      <td>0.00</td>\n      <td>-78.68</td>\n      <td>-80.27</td>\n    </tr>\n    <tr>\n      <th>2983</th>\n      <td>2984</td>\n      <td>002496</td>\n      <td>辉丰股份</td>\n      <td>2.64</td>\n      <td>-9.90</td>\n      <td>-0.29</td>\n      <td>962974.0</td>\n      <td>2.666850e+08</td>\n      <td>13.65</td>\n      <td>3.04</td>\n      <td>...</td>\n      <td>2.03</td>\n      <td>8.21</td>\n      <td>20.57</td>\n      <td>2.59</td>\n      <td>3.980037e+09</td>\n      <td>3.097203e+09</td>\n      <td>0.00</td>\n      <td>0.00</td>\n      <td>46.67</td>\n      <td>36.79</td>\n    </tr>\n    <tr>\n      <th>2984</th>\n      <td>2985</td>\n      <td>300839</td>\n      <td>博汇股份</td>\n      <td>5.43</td>\n      <td>-19.91</td>\n      <td>-1.35</td>\n      <td>184558.0</td>\n      <td>1.043551e+08</td>\n      <td>8.55</td>\n      <td>6.00</td>\n      <td>...</td>\n      <td>6.96</td>\n      <td>7.68</td>\n      <td>-3.35</td>\n      <td>2.19</td>\n      <td>1.332898e+09</td>\n      <td>1.304257e+09</td>\n      <td>0.00</td>\n      <td>0.18</td>\n      <td>-38.71</td>\n      <td>-46.92</td>\n    </tr>\n    <tr>\n      <th>2985</th>\n      <td>2986</td>\n      <td>300262</td>\n      <td>*ST巴安</td>\n      <td>0.71</td>\n      <td>-20.22</td>\n      <td>-0.18</td>\n      <td>990797.0</td>\n      <td>8.165060e+07</td>\n      <td>25.84</td>\n      <td>0.94</td>\n      <td>...</td>\n      <td>1.23</td>\n      <td>14.84</td>\n      <td>-21.70</td>\n      <td>6.66</td>\n      <td>4.755346e+08</td>\n      <td>4.741388e+08</td>\n      <td>-1.39</td>\n      <td>-4.05</td>\n      <td>-69.53</td>\n      <td>-78.22</td>\n    </tr>\n    <tr>\n      <th>2986</th>\n      <td>2987</td>\n      <td>002433</td>\n      <td>太安退</td>\n      <td>0.21</td>\n      <td>-58.82</td>\n      <td>-0.30</td>\n      <td>1388058.0</td>\n      <td>2.845834e+07</td>\n      <td>7.84</td>\n      <td>0.23</td>\n      <td>...</td>\n      <td>101.19</td>\n      <td>18.65</td>\n      <td>-0.73</td>\n      <td>0.42</td>\n      <td>1.610224e+08</td>\n      <td>1.563210e+08</td>\n      <td>5.00</td>\n      <td>0.00</td>\n      <td>-88.52</td>\n      <td>-91.14</td>\n    </tr>\n  </tbody>\n</table>\n<p>2987 rows × 23 columns</p>\n</div>"
     },
     "execution_count": 13,
     "metadata": {},
     "output_type": "execute_result"
    }
   ],
   "source": [
    "stock_sz_a_spot_em_df = ak.stock_sz_a_spot_em()\n",
    "stock_sz_a_spot_em_df"
   ],
   "metadata": {
    "collapsed": false
   }
  },
  {
   "cell_type": "code",
   "execution_count": 48,
   "outputs": [
    {
     "data": {
      "text/plain": "        序号      代码     名称\n0        1  301208   中亦科技\n1        2  301251    威尔高\n2        3  300933   中辰股份\n3        4  301183    东田微\n4        5  300713    英可瑞\n...    ...     ...    ...\n2982  2983  000982   中银绒业\n2983  2984  002496   辉丰股份\n2984  2985  300839   博汇股份\n2985  2986  300262  *ST巴安\n2986  2987  002433    太安退\n\n[2987 rows x 3 columns]",
      "text/html": "<div>\n<style scoped>\n    .dataframe tbody tr th:only-of-type {\n        vertical-align: middle;\n    }\n\n    .dataframe tbody tr th {\n        vertical-align: top;\n    }\n\n    .dataframe thead th {\n        text-align: right;\n    }\n</style>\n<table border=\"1\" class=\"dataframe\">\n  <thead>\n    <tr style=\"text-align: right;\">\n      <th></th>\n      <th>序号</th>\n      <th>代码</th>\n      <th>名称</th>\n    </tr>\n  </thead>\n  <tbody>\n    <tr>\n      <th>0</th>\n      <td>1</td>\n      <td>301208</td>\n      <td>中亦科技</td>\n    </tr>\n    <tr>\n      <th>1</th>\n      <td>2</td>\n      <td>301251</td>\n      <td>威尔高</td>\n    </tr>\n    <tr>\n      <th>2</th>\n      <td>3</td>\n      <td>300933</td>\n      <td>中辰股份</td>\n    </tr>\n    <tr>\n      <th>3</th>\n      <td>4</td>\n      <td>301183</td>\n      <td>东田微</td>\n    </tr>\n    <tr>\n      <th>4</th>\n      <td>5</td>\n      <td>300713</td>\n      <td>英可瑞</td>\n    </tr>\n    <tr>\n      <th>...</th>\n      <td>...</td>\n      <td>...</td>\n      <td>...</td>\n    </tr>\n    <tr>\n      <th>2982</th>\n      <td>2983</td>\n      <td>000982</td>\n      <td>中银绒业</td>\n    </tr>\n    <tr>\n      <th>2983</th>\n      <td>2984</td>\n      <td>002496</td>\n      <td>辉丰股份</td>\n    </tr>\n    <tr>\n      <th>2984</th>\n      <td>2985</td>\n      <td>300839</td>\n      <td>博汇股份</td>\n    </tr>\n    <tr>\n      <th>2985</th>\n      <td>2986</td>\n      <td>300262</td>\n      <td>*ST巴安</td>\n    </tr>\n    <tr>\n      <th>2986</th>\n      <td>2987</td>\n      <td>002433</td>\n      <td>太安退</td>\n    </tr>\n  </tbody>\n</table>\n<p>2987 rows × 3 columns</p>\n</div>"
     },
     "execution_count": 48,
     "metadata": {},
     "output_type": "execute_result"
    }
   ],
   "source": [
    "stock_sz_a_list_df = pd.DataFrame(stock_sz_a_spot_em_df, columns=['序号','代码','名称'])\n",
    "stock_sz_a_list_df.to_csv(\"深A股列表.csv\")\n",
    "stock_sz_a_list_df.to_excel('深A股列表.xlsx')\n",
    "stock_sz_a_list_df"
   ],
   "metadata": {
    "collapsed": false
   }
  },
  {
   "cell_type": "markdown",
   "source": [
    "##### 京 A 股"
   ],
   "metadata": {
    "collapsed": false
   }
  },
  {
   "cell_type": "code",
   "execution_count": 33,
   "outputs": [
    {
     "data": {
      "text/plain": "      序号      代码    名称    最新价   涨跌幅   涨跌额     成交量           成交额     振幅     最高  \\\n0      1  837592  华信永道  17.39  9.85  1.56   56881  9.663278e+07  14.21  18.18   \n1      2  836239  长虹能源  17.40  5.78  0.95   16497  2.828928e+07   4.74  17.50   \n2      3  870299  灿能电力   7.71  5.76  0.42   81581  6.351831e+07  15.78   8.36   \n3      4  830799  艾融软件   9.81  5.26  0.49   46757  4.530502e+07   7.40   9.95   \n4      5  837046  亿能电力  11.21  5.16  0.55  144523  1.668471e+08  23.73  13.00   \n..   ...     ...   ...    ...   ...   ...     ...           ...    ...    ...   \n244  245  837344  三元基因  15.04 -3.90 -0.61   10117  1.514413e+07   5.50  15.60   \n245  246  834415  恒拓开源   5.47 -4.04 -0.23   54441  2.981748e+07   3.33   5.60   \n246  247  832735  德源药业  23.10 -4.39 -1.06    6399  1.480249e+07   6.04  24.25   \n247  248  430476  海能技术   7.50 -4.46 -0.35   19377  1.452982e+07   7.52   7.93   \n248  249  831526  凯华材料  21.05 -6.61 -1.49   62385  1.326160e+08   6.48  22.00   \n\n     ...    量比    换手率  市盈率-动态   市净率         总市值        流通市值    涨速  5分钟涨跌  \\\n0    ...  2.06  33.20  -29.94  2.94  1080788500   297959843 -0.11   0.35   \n1    ...  2.27   3.32   13.54  3.01  2262922252   865033762 -0.06   0.12   \n2    ...  1.87  27.69   49.25  2.54   694742518   227157062  0.13   0.13   \n3    ...  3.20   3.87   44.85  5.61  2063722833  1186323997  0.10   0.10   \n4    ...  1.25  32.42   51.09  4.79  1133891500   499727642  0.36  -0.62   \n..   ...   ...    ...     ...   ...         ...         ...   ...    ...   \n244  ...  3.61   0.89  237.51  2.99  1832022400  1707954372 -0.07   0.27   \n245  ...  1.22   3.95   62.28  1.49   768597834   754241420  0.00  -0.18   \n246  ...  4.01   1.27   12.75  1.89  1807460424  1160918867  0.13   0.04   \n247  ...  5.13   3.01  -12.19  1.30   634348500   482906963  0.40   0.67   \n248  ...  0.89  24.71   87.11  8.51  1740835000   531489177  0.05   0.24   \n\n     60日涨跌幅  年初至今涨跌幅  \n0     -3.82   -28.67  \n1     37.88    -5.23  \n2      8.90    -9.82  \n3    -11.62   -25.96  \n4     82.87    71.41  \n..      ...      ...  \n244  -18.75   -31.14  \n245   -2.50   -14.13  \n246  -14.54   -27.06  \n247  -33.21   -49.63  \n248   -3.62   -22.87  \n\n[249 rows x 23 columns]",
      "text/html": "<div>\n<style scoped>\n    .dataframe tbody tr th:only-of-type {\n        vertical-align: middle;\n    }\n\n    .dataframe tbody tr th {\n        vertical-align: top;\n    }\n\n    .dataframe thead th {\n        text-align: right;\n    }\n</style>\n<table border=\"1\" class=\"dataframe\">\n  <thead>\n    <tr style=\"text-align: right;\">\n      <th></th>\n      <th>序号</th>\n      <th>代码</th>\n      <th>名称</th>\n      <th>最新价</th>\n      <th>涨跌幅</th>\n      <th>涨跌额</th>\n      <th>成交量</th>\n      <th>成交额</th>\n      <th>振幅</th>\n      <th>最高</th>\n      <th>...</th>\n      <th>量比</th>\n      <th>换手率</th>\n      <th>市盈率-动态</th>\n      <th>市净率</th>\n      <th>总市值</th>\n      <th>流通市值</th>\n      <th>涨速</th>\n      <th>5分钟涨跌</th>\n      <th>60日涨跌幅</th>\n      <th>年初至今涨跌幅</th>\n    </tr>\n  </thead>\n  <tbody>\n    <tr>\n      <th>0</th>\n      <td>1</td>\n      <td>837592</td>\n      <td>华信永道</td>\n      <td>17.39</td>\n      <td>9.85</td>\n      <td>1.56</td>\n      <td>56881</td>\n      <td>9.663278e+07</td>\n      <td>14.21</td>\n      <td>18.18</td>\n      <td>...</td>\n      <td>2.06</td>\n      <td>33.20</td>\n      <td>-29.94</td>\n      <td>2.94</td>\n      <td>1080788500</td>\n      <td>297959843</td>\n      <td>-0.11</td>\n      <td>0.35</td>\n      <td>-3.82</td>\n      <td>-28.67</td>\n    </tr>\n    <tr>\n      <th>1</th>\n      <td>2</td>\n      <td>836239</td>\n      <td>长虹能源</td>\n      <td>17.40</td>\n      <td>5.78</td>\n      <td>0.95</td>\n      <td>16497</td>\n      <td>2.828928e+07</td>\n      <td>4.74</td>\n      <td>17.50</td>\n      <td>...</td>\n      <td>2.27</td>\n      <td>3.32</td>\n      <td>13.54</td>\n      <td>3.01</td>\n      <td>2262922252</td>\n      <td>865033762</td>\n      <td>-0.06</td>\n      <td>0.12</td>\n      <td>37.88</td>\n      <td>-5.23</td>\n    </tr>\n    <tr>\n      <th>2</th>\n      <td>3</td>\n      <td>870299</td>\n      <td>灿能电力</td>\n      <td>7.71</td>\n      <td>5.76</td>\n      <td>0.42</td>\n      <td>81581</td>\n      <td>6.351831e+07</td>\n      <td>15.78</td>\n      <td>8.36</td>\n      <td>...</td>\n      <td>1.87</td>\n      <td>27.69</td>\n      <td>49.25</td>\n      <td>2.54</td>\n      <td>694742518</td>\n      <td>227157062</td>\n      <td>0.13</td>\n      <td>0.13</td>\n      <td>8.90</td>\n      <td>-9.82</td>\n    </tr>\n    <tr>\n      <th>3</th>\n      <td>4</td>\n      <td>830799</td>\n      <td>艾融软件</td>\n      <td>9.81</td>\n      <td>5.26</td>\n      <td>0.49</td>\n      <td>46757</td>\n      <td>4.530502e+07</td>\n      <td>7.40</td>\n      <td>9.95</td>\n      <td>...</td>\n      <td>3.20</td>\n      <td>3.87</td>\n      <td>44.85</td>\n      <td>5.61</td>\n      <td>2063722833</td>\n      <td>1186323997</td>\n      <td>0.10</td>\n      <td>0.10</td>\n      <td>-11.62</td>\n      <td>-25.96</td>\n    </tr>\n    <tr>\n      <th>4</th>\n      <td>5</td>\n      <td>837046</td>\n      <td>亿能电力</td>\n      <td>11.21</td>\n      <td>5.16</td>\n      <td>0.55</td>\n      <td>144523</td>\n      <td>1.668471e+08</td>\n      <td>23.73</td>\n      <td>13.00</td>\n      <td>...</td>\n      <td>1.25</td>\n      <td>32.42</td>\n      <td>51.09</td>\n      <td>4.79</td>\n      <td>1133891500</td>\n      <td>499727642</td>\n      <td>0.36</td>\n      <td>-0.62</td>\n      <td>82.87</td>\n      <td>71.41</td>\n    </tr>\n    <tr>\n      <th>...</th>\n      <td>...</td>\n      <td>...</td>\n      <td>...</td>\n      <td>...</td>\n      <td>...</td>\n      <td>...</td>\n      <td>...</td>\n      <td>...</td>\n      <td>...</td>\n      <td>...</td>\n      <td>...</td>\n      <td>...</td>\n      <td>...</td>\n      <td>...</td>\n      <td>...</td>\n      <td>...</td>\n      <td>...</td>\n      <td>...</td>\n      <td>...</td>\n      <td>...</td>\n      <td>...</td>\n    </tr>\n    <tr>\n      <th>244</th>\n      <td>245</td>\n      <td>837344</td>\n      <td>三元基因</td>\n      <td>15.04</td>\n      <td>-3.90</td>\n      <td>-0.61</td>\n      <td>10117</td>\n      <td>1.514413e+07</td>\n      <td>5.50</td>\n      <td>15.60</td>\n      <td>...</td>\n      <td>3.61</td>\n      <td>0.89</td>\n      <td>237.51</td>\n      <td>2.99</td>\n      <td>1832022400</td>\n      <td>1707954372</td>\n      <td>-0.07</td>\n      <td>0.27</td>\n      <td>-18.75</td>\n      <td>-31.14</td>\n    </tr>\n    <tr>\n      <th>245</th>\n      <td>246</td>\n      <td>834415</td>\n      <td>恒拓开源</td>\n      <td>5.47</td>\n      <td>-4.04</td>\n      <td>-0.23</td>\n      <td>54441</td>\n      <td>2.981748e+07</td>\n      <td>3.33</td>\n      <td>5.60</td>\n      <td>...</td>\n      <td>1.22</td>\n      <td>3.95</td>\n      <td>62.28</td>\n      <td>1.49</td>\n      <td>768597834</td>\n      <td>754241420</td>\n      <td>0.00</td>\n      <td>-0.18</td>\n      <td>-2.50</td>\n      <td>-14.13</td>\n    </tr>\n    <tr>\n      <th>246</th>\n      <td>247</td>\n      <td>832735</td>\n      <td>德源药业</td>\n      <td>23.10</td>\n      <td>-4.39</td>\n      <td>-1.06</td>\n      <td>6399</td>\n      <td>1.480249e+07</td>\n      <td>6.04</td>\n      <td>24.25</td>\n      <td>...</td>\n      <td>4.01</td>\n      <td>1.27</td>\n      <td>12.75</td>\n      <td>1.89</td>\n      <td>1807460424</td>\n      <td>1160918867</td>\n      <td>0.13</td>\n      <td>0.04</td>\n      <td>-14.54</td>\n      <td>-27.06</td>\n    </tr>\n    <tr>\n      <th>247</th>\n      <td>248</td>\n      <td>430476</td>\n      <td>海能技术</td>\n      <td>7.50</td>\n      <td>-4.46</td>\n      <td>-0.35</td>\n      <td>19377</td>\n      <td>1.452982e+07</td>\n      <td>7.52</td>\n      <td>7.93</td>\n      <td>...</td>\n      <td>5.13</td>\n      <td>3.01</td>\n      <td>-12.19</td>\n      <td>1.30</td>\n      <td>634348500</td>\n      <td>482906963</td>\n      <td>0.40</td>\n      <td>0.67</td>\n      <td>-33.21</td>\n      <td>-49.63</td>\n    </tr>\n    <tr>\n      <th>248</th>\n      <td>249</td>\n      <td>831526</td>\n      <td>凯华材料</td>\n      <td>21.05</td>\n      <td>-6.61</td>\n      <td>-1.49</td>\n      <td>62385</td>\n      <td>1.326160e+08</td>\n      <td>6.48</td>\n      <td>22.00</td>\n      <td>...</td>\n      <td>0.89</td>\n      <td>24.71</td>\n      <td>87.11</td>\n      <td>8.51</td>\n      <td>1740835000</td>\n      <td>531489177</td>\n      <td>0.05</td>\n      <td>0.24</td>\n      <td>-3.62</td>\n      <td>-22.87</td>\n    </tr>\n  </tbody>\n</table>\n<p>249 rows × 23 columns</p>\n</div>"
     },
     "execution_count": 33,
     "metadata": {},
     "output_type": "execute_result"
    }
   ],
   "source": [
    "stock_bj_a_spot_em_df = ak.stock_bj_a_spot_em()\n",
    "stock_bj_a_spot_em_df"
   ],
   "metadata": {
    "collapsed": false
   }
  },
  {
   "cell_type": "code",
   "execution_count": 49,
   "outputs": [
    {
     "data": {
      "text/plain": "      序号      代码    名称\n0      1  837592  华信永道\n1      2  836239  长虹能源\n2      3  870299  灿能电力\n3      4  830799  艾融软件\n4      5  837046  亿能电力\n..   ...     ...   ...\n244  245  837344  三元基因\n245  246  834415  恒拓开源\n246  247  832735  德源药业\n247  248  430476  海能技术\n248  249  831526  凯华材料\n\n[249 rows x 3 columns]",
      "text/html": "<div>\n<style scoped>\n    .dataframe tbody tr th:only-of-type {\n        vertical-align: middle;\n    }\n\n    .dataframe tbody tr th {\n        vertical-align: top;\n    }\n\n    .dataframe thead th {\n        text-align: right;\n    }\n</style>\n<table border=\"1\" class=\"dataframe\">\n  <thead>\n    <tr style=\"text-align: right;\">\n      <th></th>\n      <th>序号</th>\n      <th>代码</th>\n      <th>名称</th>\n    </tr>\n  </thead>\n  <tbody>\n    <tr>\n      <th>0</th>\n      <td>1</td>\n      <td>837592</td>\n      <td>华信永道</td>\n    </tr>\n    <tr>\n      <th>1</th>\n      <td>2</td>\n      <td>836239</td>\n      <td>长虹能源</td>\n    </tr>\n    <tr>\n      <th>2</th>\n      <td>3</td>\n      <td>870299</td>\n      <td>灿能电力</td>\n    </tr>\n    <tr>\n      <th>3</th>\n      <td>4</td>\n      <td>830799</td>\n      <td>艾融软件</td>\n    </tr>\n    <tr>\n      <th>4</th>\n      <td>5</td>\n      <td>837046</td>\n      <td>亿能电力</td>\n    </tr>\n    <tr>\n      <th>...</th>\n      <td>...</td>\n      <td>...</td>\n      <td>...</td>\n    </tr>\n    <tr>\n      <th>244</th>\n      <td>245</td>\n      <td>837344</td>\n      <td>三元基因</td>\n    </tr>\n    <tr>\n      <th>245</th>\n      <td>246</td>\n      <td>834415</td>\n      <td>恒拓开源</td>\n    </tr>\n    <tr>\n      <th>246</th>\n      <td>247</td>\n      <td>832735</td>\n      <td>德源药业</td>\n    </tr>\n    <tr>\n      <th>247</th>\n      <td>248</td>\n      <td>430476</td>\n      <td>海能技术</td>\n    </tr>\n    <tr>\n      <th>248</th>\n      <td>249</td>\n      <td>831526</td>\n      <td>凯华材料</td>\n    </tr>\n  </tbody>\n</table>\n<p>249 rows × 3 columns</p>\n</div>"
     },
     "execution_count": 49,
     "metadata": {},
     "output_type": "execute_result"
    }
   ],
   "source": [
    "stock_bj_a_list_df = pd.DataFrame(stock_bj_a_spot_em_df, columns=['序号','代码','名称'])\n",
    "stock_bj_a_list_df.to_csv(\"京A股列表.csv\")\n",
    "stock_bj_a_list_df.to_excel('京A股列表.xlsx')\n",
    "stock_bj_a_list_df"
   ],
   "metadata": {
    "collapsed": false
   }
  },
  {
   "cell_type": "markdown",
   "source": [
    "#### 新浪（总数少于东财）"
   ],
   "metadata": {
    "collapsed": false
   }
  },
  {
   "cell_type": "code",
   "execution_count": 51,
   "outputs": [
    {
     "name": "stderr",
     "output_type": "stream",
     "text": [
      "                                                                         \r"
     ]
    },
    {
     "data": {
      "text/plain": "            代码    名称     最新价   涨跌额    涨跌幅      买入      卖出      昨收      今开  \\\n0     bj430017  星昊医药   10.80  0.00  0.000   10.80   10.82   10.80   10.82   \n1     bj430047  诺思兰德   15.81  0.48  3.131   15.81   15.82   15.33   15.45   \n2     bj430090  同辉信息    2.34  0.01  0.429    2.33    2.34    2.33    2.32   \n3     bj430139  华岭股份   10.29 -0.20 -1.907   10.27   10.29   10.49   10.39   \n4     bj430198  微创光电    4.76  0.17  3.704    4.76    4.77    4.59    4.65   \n...        ...   ...     ...   ...    ...     ...     ...     ...     ...   \n5358  sz301587  中瑞股份   31.01 -0.84 -2.637   31.01   31.02   31.85   31.47   \n5359  sz301588  美新科技   25.38 -0.05 -0.197   25.38   25.39   25.43   25.43   \n5360  sz301589  诺瓦星云  218.28 -1.72 -0.782  218.20  218.28  220.00  218.55   \n5361  sz301591  肯特股份   43.01 -1.18 -2.670   43.00   43.01   44.19   43.76   \n5362  sz301596  瑞迪智驱   94.68 -4.01 -4.063   94.68   94.69   98.69   97.08   \n\n          最高      最低        成交量          成交额       时间戳  \n0      10.82   10.77   255072.0    2753258.0  15:30:01  \n1      15.90   15.25   758337.0   11822927.0  15:30:01  \n2       2.37    2.30  1466007.0    3438579.0  15:30:01  \n3      10.48   10.20  2344099.0   24157158.0  15:30:01  \n4       4.85    4.65  2915702.0   13865672.0  15:30:01  \n...      ...     ...        ...          ...       ...  \n5358   32.28   30.72  5848392.0  182640703.0  15:35:15  \n5359   25.77   24.82  3319477.0   83810075.0  15:35:30  \n5360  219.53  214.08   619252.0  133983254.0  15:35:45  \n5361   44.18   42.42  3389085.0  145993284.0  15:35:00  \n5362   97.28   93.39  4063347.0  386967178.0  15:35:15  \n\n[5363 rows x 14 columns]",
      "text/html": "<div>\n<style scoped>\n    .dataframe tbody tr th:only-of-type {\n        vertical-align: middle;\n    }\n\n    .dataframe tbody tr th {\n        vertical-align: top;\n    }\n\n    .dataframe thead th {\n        text-align: right;\n    }\n</style>\n<table border=\"1\" class=\"dataframe\">\n  <thead>\n    <tr style=\"text-align: right;\">\n      <th></th>\n      <th>代码</th>\n      <th>名称</th>\n      <th>最新价</th>\n      <th>涨跌额</th>\n      <th>涨跌幅</th>\n      <th>买入</th>\n      <th>卖出</th>\n      <th>昨收</th>\n      <th>今开</th>\n      <th>最高</th>\n      <th>最低</th>\n      <th>成交量</th>\n      <th>成交额</th>\n      <th>时间戳</th>\n    </tr>\n  </thead>\n  <tbody>\n    <tr>\n      <th>0</th>\n      <td>bj430017</td>\n      <td>星昊医药</td>\n      <td>10.80</td>\n      <td>0.00</td>\n      <td>0.000</td>\n      <td>10.80</td>\n      <td>10.82</td>\n      <td>10.80</td>\n      <td>10.82</td>\n      <td>10.82</td>\n      <td>10.77</td>\n      <td>255072.0</td>\n      <td>2753258.0</td>\n      <td>15:30:01</td>\n    </tr>\n    <tr>\n      <th>1</th>\n      <td>bj430047</td>\n      <td>诺思兰德</td>\n      <td>15.81</td>\n      <td>0.48</td>\n      <td>3.131</td>\n      <td>15.81</td>\n      <td>15.82</td>\n      <td>15.33</td>\n      <td>15.45</td>\n      <td>15.90</td>\n      <td>15.25</td>\n      <td>758337.0</td>\n      <td>11822927.0</td>\n      <td>15:30:01</td>\n    </tr>\n    <tr>\n      <th>2</th>\n      <td>bj430090</td>\n      <td>同辉信息</td>\n      <td>2.34</td>\n      <td>0.01</td>\n      <td>0.429</td>\n      <td>2.33</td>\n      <td>2.34</td>\n      <td>2.33</td>\n      <td>2.32</td>\n      <td>2.37</td>\n      <td>2.30</td>\n      <td>1466007.0</td>\n      <td>3438579.0</td>\n      <td>15:30:01</td>\n    </tr>\n    <tr>\n      <th>3</th>\n      <td>bj430139</td>\n      <td>华岭股份</td>\n      <td>10.29</td>\n      <td>-0.20</td>\n      <td>-1.907</td>\n      <td>10.27</td>\n      <td>10.29</td>\n      <td>10.49</td>\n      <td>10.39</td>\n      <td>10.48</td>\n      <td>10.20</td>\n      <td>2344099.0</td>\n      <td>24157158.0</td>\n      <td>15:30:01</td>\n    </tr>\n    <tr>\n      <th>4</th>\n      <td>bj430198</td>\n      <td>微创光电</td>\n      <td>4.76</td>\n      <td>0.17</td>\n      <td>3.704</td>\n      <td>4.76</td>\n      <td>4.77</td>\n      <td>4.59</td>\n      <td>4.65</td>\n      <td>4.85</td>\n      <td>4.65</td>\n      <td>2915702.0</td>\n      <td>13865672.0</td>\n      <td>15:30:01</td>\n    </tr>\n    <tr>\n      <th>...</th>\n      <td>...</td>\n      <td>...</td>\n      <td>...</td>\n      <td>...</td>\n      <td>...</td>\n      <td>...</td>\n      <td>...</td>\n      <td>...</td>\n      <td>...</td>\n      <td>...</td>\n      <td>...</td>\n      <td>...</td>\n      <td>...</td>\n      <td>...</td>\n    </tr>\n    <tr>\n      <th>5358</th>\n      <td>sz301587</td>\n      <td>中瑞股份</td>\n      <td>31.01</td>\n      <td>-0.84</td>\n      <td>-2.637</td>\n      <td>31.01</td>\n      <td>31.02</td>\n      <td>31.85</td>\n      <td>31.47</td>\n      <td>32.28</td>\n      <td>30.72</td>\n      <td>5848392.0</td>\n      <td>182640703.0</td>\n      <td>15:35:15</td>\n    </tr>\n    <tr>\n      <th>5359</th>\n      <td>sz301588</td>\n      <td>美新科技</td>\n      <td>25.38</td>\n      <td>-0.05</td>\n      <td>-0.197</td>\n      <td>25.38</td>\n      <td>25.39</td>\n      <td>25.43</td>\n      <td>25.43</td>\n      <td>25.77</td>\n      <td>24.82</td>\n      <td>3319477.0</td>\n      <td>83810075.0</td>\n      <td>15:35:30</td>\n    </tr>\n    <tr>\n      <th>5360</th>\n      <td>sz301589</td>\n      <td>诺瓦星云</td>\n      <td>218.28</td>\n      <td>-1.72</td>\n      <td>-0.782</td>\n      <td>218.20</td>\n      <td>218.28</td>\n      <td>220.00</td>\n      <td>218.55</td>\n      <td>219.53</td>\n      <td>214.08</td>\n      <td>619252.0</td>\n      <td>133983254.0</td>\n      <td>15:35:45</td>\n    </tr>\n    <tr>\n      <th>5361</th>\n      <td>sz301591</td>\n      <td>肯特股份</td>\n      <td>43.01</td>\n      <td>-1.18</td>\n      <td>-2.670</td>\n      <td>43.00</td>\n      <td>43.01</td>\n      <td>44.19</td>\n      <td>43.76</td>\n      <td>44.18</td>\n      <td>42.42</td>\n      <td>3389085.0</td>\n      <td>145993284.0</td>\n      <td>15:35:00</td>\n    </tr>\n    <tr>\n      <th>5362</th>\n      <td>sz301596</td>\n      <td>瑞迪智驱</td>\n      <td>94.68</td>\n      <td>-4.01</td>\n      <td>-4.063</td>\n      <td>94.68</td>\n      <td>94.69</td>\n      <td>98.69</td>\n      <td>97.08</td>\n      <td>97.28</td>\n      <td>93.39</td>\n      <td>4063347.0</td>\n      <td>386967178.0</td>\n      <td>15:35:15</td>\n    </tr>\n  </tbody>\n</table>\n<p>5363 rows × 14 columns</p>\n</div>"
     },
     "execution_count": 51,
     "metadata": {},
     "output_type": "execute_result"
    }
   ],
   "source": [
    "stock_zh_a_spot_sina_df = ak.stock_zh_a_spot()\n",
    "stock_zh_a_spot_sina_df"
   ],
   "metadata": {
    "collapsed": false
   }
  },
  {
   "cell_type": "code",
   "execution_count": 52,
   "outputs": [
    {
     "data": {
      "text/plain": "      序号        代码    名称\n0    NaN  bj430017  星昊医药\n1    NaN  bj430047  诺思兰德\n2    NaN  bj430090  同辉信息\n3    NaN  bj430139  华岭股份\n4    NaN  bj430198  微创光电\n...   ..       ...   ...\n5358 NaN  sz301587  中瑞股份\n5359 NaN  sz301588  美新科技\n5360 NaN  sz301589  诺瓦星云\n5361 NaN  sz301591  肯特股份\n5362 NaN  sz301596  瑞迪智驱\n\n[5363 rows x 3 columns]",
      "text/html": "<div>\n<style scoped>\n    .dataframe tbody tr th:only-of-type {\n        vertical-align: middle;\n    }\n\n    .dataframe tbody tr th {\n        vertical-align: top;\n    }\n\n    .dataframe thead th {\n        text-align: right;\n    }\n</style>\n<table border=\"1\" class=\"dataframe\">\n  <thead>\n    <tr style=\"text-align: right;\">\n      <th></th>\n      <th>序号</th>\n      <th>代码</th>\n      <th>名称</th>\n    </tr>\n  </thead>\n  <tbody>\n    <tr>\n      <th>0</th>\n      <td>NaN</td>\n      <td>bj430017</td>\n      <td>星昊医药</td>\n    </tr>\n    <tr>\n      <th>1</th>\n      <td>NaN</td>\n      <td>bj430047</td>\n      <td>诺思兰德</td>\n    </tr>\n    <tr>\n      <th>2</th>\n      <td>NaN</td>\n      <td>bj430090</td>\n      <td>同辉信息</td>\n    </tr>\n    <tr>\n      <th>3</th>\n      <td>NaN</td>\n      <td>bj430139</td>\n      <td>华岭股份</td>\n    </tr>\n    <tr>\n      <th>4</th>\n      <td>NaN</td>\n      <td>bj430198</td>\n      <td>微创光电</td>\n    </tr>\n    <tr>\n      <th>...</th>\n      <td>...</td>\n      <td>...</td>\n      <td>...</td>\n    </tr>\n    <tr>\n      <th>5358</th>\n      <td>NaN</td>\n      <td>sz301587</td>\n      <td>中瑞股份</td>\n    </tr>\n    <tr>\n      <th>5359</th>\n      <td>NaN</td>\n      <td>sz301588</td>\n      <td>美新科技</td>\n    </tr>\n    <tr>\n      <th>5360</th>\n      <td>NaN</td>\n      <td>sz301589</td>\n      <td>诺瓦星云</td>\n    </tr>\n    <tr>\n      <th>5361</th>\n      <td>NaN</td>\n      <td>sz301591</td>\n      <td>肯特股份</td>\n    </tr>\n    <tr>\n      <th>5362</th>\n      <td>NaN</td>\n      <td>sz301596</td>\n      <td>瑞迪智驱</td>\n    </tr>\n  </tbody>\n</table>\n<p>5363 rows × 3 columns</p>\n</div>"
     },
     "execution_count": 52,
     "metadata": {},
     "output_type": "execute_result"
    }
   ],
   "source": [
    "stock_zh_a_list_sina_df = pd.DataFrame(stock_zh_a_spot_sina_df, columns=['序号','代码','名称'])\n",
    "stock_zh_a_list_sina_df.to_csv(\"深A股列表新浪.csv\")\n",
    "stock_zh_a_list_sina_df.to_excel('深A股列表新浪.xlsx')\n",
    "stock_zh_a_list_sina_df"
   ],
   "metadata": {
    "collapsed": false
   }
  },
  {
   "cell_type": "markdown",
   "source": [
    "### 美股实时行情数据"
   ],
   "metadata": {
    "collapsed": false
   }
  },
  {
   "cell_type": "markdown",
   "source": [
    "#### 实时行情数据-东财\n",
    "无法获取，报错"
   ],
   "metadata": {
    "collapsed": false
   }
  },
  {
   "cell_type": "code",
   "execution_count": 41,
   "outputs": [
    {
     "data": {
      "text/plain": "          序号                               名称    最新价    涨跌额     涨跌幅    开盘价  \\\n0          1  Kaival Brands Innovations Group  5.960  4.600  338.24  4.160   \n1          2           SRIVARU Holding Ltd Wt  0.016  0.011  189.29  0.012   \n2          3  Canna-Global Acquisition Corp W  0.025  0.014  131.13  0.025   \n3          4        Vicarious Surgical Inc Wt  0.068  0.034  100.29  0.068   \n4          5     eFFECTOR Therapeutics Inc Wt  0.039  0.019   92.12  0.039   \n...      ...                              ...    ...    ...     ...    ...   \n11523  11524                Mobix Labs Inc Wt  0.121 -0.078  -39.13  0.104   \n11524  11525            SilverBox Corp III Wt  0.083 -0.058  -41.07  0.083   \n11525  11526                  Lemonade Inc Wt  0.020 -0.016  -44.44  0.036   \n11526  11527        Nexalin Technology Inc Wt  0.191 -0.269  -58.48  0.400   \n11527  11528                Netcapital Inc Wt  0.012 -0.022  -64.71  0.045   \n\n         最高价    最低价    昨收价         总市值   市盈率         成交量          成交额      振幅  \\\n0      8.370  3.500  1.360  17063492.0 -1.66  70986932.0  396910128.0  358.09   \n1      0.020  0.010  0.006         NaN   NaN    430290.0       7049.0  176.79   \n2      0.025  0.025  0.011         NaN   NaN       220.0          5.0    0.00   \n3      0.068  0.068  0.034         NaN   NaN       201.0         13.0    0.00   \n4      0.039  0.039  0.020         NaN   NaN       300.0         11.0    0.00   \n...      ...    ...    ...         ...   ...         ...          ...     ...   \n11523  0.121  0.103  0.199         NaN   NaN      4930.0        544.0    9.39   \n11524  0.083  0.083  0.140         NaN   NaN       266.0         21.0    0.00   \n11525  0.036  0.020  0.036         NaN   NaN    486852.0      11282.0   44.72   \n11526  0.400  0.171  0.460         NaN   NaN      2011.0        523.0   49.85   \n11527  0.049  0.012  0.034         NaN   NaN     22875.0        574.0  108.82   \n\n           换手率           代码  \n0      2479.46     105.KAVL  \n1          NaN    105.SVMHW  \n2          NaN    105.CNGLW  \n3          NaN  106.RBOT_WS  \n4          NaN    105.EFTRW  \n...        ...          ...  \n11523      NaN    105.MOBXW  \n11524      NaN  106.SBXC_WS  \n11525      NaN  107.LMND_WS  \n11526      NaN    105.NXLIW  \n11527      NaN    105.NCPLW  \n\n[11528 rows x 16 columns]",
      "text/html": "<div>\n<style scoped>\n    .dataframe tbody tr th:only-of-type {\n        vertical-align: middle;\n    }\n\n    .dataframe tbody tr th {\n        vertical-align: top;\n    }\n\n    .dataframe thead th {\n        text-align: right;\n    }\n</style>\n<table border=\"1\" class=\"dataframe\">\n  <thead>\n    <tr style=\"text-align: right;\">\n      <th></th>\n      <th>序号</th>\n      <th>名称</th>\n      <th>最新价</th>\n      <th>涨跌额</th>\n      <th>涨跌幅</th>\n      <th>开盘价</th>\n      <th>最高价</th>\n      <th>最低价</th>\n      <th>昨收价</th>\n      <th>总市值</th>\n      <th>市盈率</th>\n      <th>成交量</th>\n      <th>成交额</th>\n      <th>振幅</th>\n      <th>换手率</th>\n      <th>代码</th>\n    </tr>\n  </thead>\n  <tbody>\n    <tr>\n      <th>0</th>\n      <td>1</td>\n      <td>Kaival Brands Innovations Group</td>\n      <td>5.960</td>\n      <td>4.600</td>\n      <td>338.24</td>\n      <td>4.160</td>\n      <td>8.370</td>\n      <td>3.500</td>\n      <td>1.360</td>\n      <td>17063492.0</td>\n      <td>-1.66</td>\n      <td>70986932.0</td>\n      <td>396910128.0</td>\n      <td>358.09</td>\n      <td>2479.46</td>\n      <td>105.KAVL</td>\n    </tr>\n    <tr>\n      <th>1</th>\n      <td>2</td>\n      <td>SRIVARU Holding Ltd Wt</td>\n      <td>0.016</td>\n      <td>0.011</td>\n      <td>189.29</td>\n      <td>0.012</td>\n      <td>0.020</td>\n      <td>0.010</td>\n      <td>0.006</td>\n      <td>NaN</td>\n      <td>NaN</td>\n      <td>430290.0</td>\n      <td>7049.0</td>\n      <td>176.79</td>\n      <td>NaN</td>\n      <td>105.SVMHW</td>\n    </tr>\n    <tr>\n      <th>2</th>\n      <td>3</td>\n      <td>Canna-Global Acquisition Corp W</td>\n      <td>0.025</td>\n      <td>0.014</td>\n      <td>131.13</td>\n      <td>0.025</td>\n      <td>0.025</td>\n      <td>0.025</td>\n      <td>0.011</td>\n      <td>NaN</td>\n      <td>NaN</td>\n      <td>220.0</td>\n      <td>5.0</td>\n      <td>0.00</td>\n      <td>NaN</td>\n      <td>105.CNGLW</td>\n    </tr>\n    <tr>\n      <th>3</th>\n      <td>4</td>\n      <td>Vicarious Surgical Inc Wt</td>\n      <td>0.068</td>\n      <td>0.034</td>\n      <td>100.29</td>\n      <td>0.068</td>\n      <td>0.068</td>\n      <td>0.068</td>\n      <td>0.034</td>\n      <td>NaN</td>\n      <td>NaN</td>\n      <td>201.0</td>\n      <td>13.0</td>\n      <td>0.00</td>\n      <td>NaN</td>\n      <td>106.RBOT_WS</td>\n    </tr>\n    <tr>\n      <th>4</th>\n      <td>5</td>\n      <td>eFFECTOR Therapeutics Inc Wt</td>\n      <td>0.039</td>\n      <td>0.019</td>\n      <td>92.12</td>\n      <td>0.039</td>\n      <td>0.039</td>\n      <td>0.039</td>\n      <td>0.020</td>\n      <td>NaN</td>\n      <td>NaN</td>\n      <td>300.0</td>\n      <td>11.0</td>\n      <td>0.00</td>\n      <td>NaN</td>\n      <td>105.EFTRW</td>\n    </tr>\n    <tr>\n      <th>...</th>\n      <td>...</td>\n      <td>...</td>\n      <td>...</td>\n      <td>...</td>\n      <td>...</td>\n      <td>...</td>\n      <td>...</td>\n      <td>...</td>\n      <td>...</td>\n      <td>...</td>\n      <td>...</td>\n      <td>...</td>\n      <td>...</td>\n      <td>...</td>\n      <td>...</td>\n      <td>...</td>\n    </tr>\n    <tr>\n      <th>11523</th>\n      <td>11524</td>\n      <td>Mobix Labs Inc Wt</td>\n      <td>0.121</td>\n      <td>-0.078</td>\n      <td>-39.13</td>\n      <td>0.104</td>\n      <td>0.121</td>\n      <td>0.103</td>\n      <td>0.199</td>\n      <td>NaN</td>\n      <td>NaN</td>\n      <td>4930.0</td>\n      <td>544.0</td>\n      <td>9.39</td>\n      <td>NaN</td>\n      <td>105.MOBXW</td>\n    </tr>\n    <tr>\n      <th>11524</th>\n      <td>11525</td>\n      <td>SilverBox Corp III Wt</td>\n      <td>0.083</td>\n      <td>-0.058</td>\n      <td>-41.07</td>\n      <td>0.083</td>\n      <td>0.083</td>\n      <td>0.083</td>\n      <td>0.140</td>\n      <td>NaN</td>\n      <td>NaN</td>\n      <td>266.0</td>\n      <td>21.0</td>\n      <td>0.00</td>\n      <td>NaN</td>\n      <td>106.SBXC_WS</td>\n    </tr>\n    <tr>\n      <th>11525</th>\n      <td>11526</td>\n      <td>Lemonade Inc Wt</td>\n      <td>0.020</td>\n      <td>-0.016</td>\n      <td>-44.44</td>\n      <td>0.036</td>\n      <td>0.036</td>\n      <td>0.020</td>\n      <td>0.036</td>\n      <td>NaN</td>\n      <td>NaN</td>\n      <td>486852.0</td>\n      <td>11282.0</td>\n      <td>44.72</td>\n      <td>NaN</td>\n      <td>107.LMND_WS</td>\n    </tr>\n    <tr>\n      <th>11526</th>\n      <td>11527</td>\n      <td>Nexalin Technology Inc Wt</td>\n      <td>0.191</td>\n      <td>-0.269</td>\n      <td>-58.48</td>\n      <td>0.400</td>\n      <td>0.400</td>\n      <td>0.171</td>\n      <td>0.460</td>\n      <td>NaN</td>\n      <td>NaN</td>\n      <td>2011.0</td>\n      <td>523.0</td>\n      <td>49.85</td>\n      <td>NaN</td>\n      <td>105.NXLIW</td>\n    </tr>\n    <tr>\n      <th>11527</th>\n      <td>11528</td>\n      <td>Netcapital Inc Wt</td>\n      <td>0.012</td>\n      <td>-0.022</td>\n      <td>-64.71</td>\n      <td>0.045</td>\n      <td>0.049</td>\n      <td>0.012</td>\n      <td>0.034</td>\n      <td>NaN</td>\n      <td>NaN</td>\n      <td>22875.0</td>\n      <td>574.0</td>\n      <td>108.82</td>\n      <td>NaN</td>\n      <td>105.NCPLW</td>\n    </tr>\n  </tbody>\n</table>\n<p>11528 rows × 16 columns</p>\n</div>"
     },
     "execution_count": 41,
     "metadata": {},
     "output_type": "execute_result"
    }
   ],
   "source": [
    "stock_us_spot_em_df = ak.stock_us_spot_em()\n",
    "stock_us_spot_em_df"
   ],
   "metadata": {
    "collapsed": false
   }
  },
  {
   "cell_type": "code",
   "execution_count": 46,
   "outputs": [
    {
     "data": {
      "text/plain": "          序号           代码                               名称\n0          1     105.KAVL  Kaival Brands Innovations Group\n1          2    105.SVMHW           SRIVARU Holding Ltd Wt\n2          3    105.CNGLW  Canna-Global Acquisition Corp W\n3          4  106.RBOT_WS        Vicarious Surgical Inc Wt\n4          5    105.EFTRW     eFFECTOR Therapeutics Inc Wt\n...      ...          ...                              ...\n11523  11524    105.MOBXW                Mobix Labs Inc Wt\n11524  11525  106.SBXC_WS            SilverBox Corp III Wt\n11525  11526  107.LMND_WS                  Lemonade Inc Wt\n11526  11527    105.NXLIW        Nexalin Technology Inc Wt\n11527  11528    105.NCPLW                Netcapital Inc Wt\n\n[11528 rows x 3 columns]",
      "text/html": "<div>\n<style scoped>\n    .dataframe tbody tr th:only-of-type {\n        vertical-align: middle;\n    }\n\n    .dataframe tbody tr th {\n        vertical-align: top;\n    }\n\n    .dataframe thead th {\n        text-align: right;\n    }\n</style>\n<table border=\"1\" class=\"dataframe\">\n  <thead>\n    <tr style=\"text-align: right;\">\n      <th></th>\n      <th>序号</th>\n      <th>代码</th>\n      <th>名称</th>\n    </tr>\n  </thead>\n  <tbody>\n    <tr>\n      <th>0</th>\n      <td>1</td>\n      <td>105.KAVL</td>\n      <td>Kaival Brands Innovations Group</td>\n    </tr>\n    <tr>\n      <th>1</th>\n      <td>2</td>\n      <td>105.SVMHW</td>\n      <td>SRIVARU Holding Ltd Wt</td>\n    </tr>\n    <tr>\n      <th>2</th>\n      <td>3</td>\n      <td>105.CNGLW</td>\n      <td>Canna-Global Acquisition Corp W</td>\n    </tr>\n    <tr>\n      <th>3</th>\n      <td>4</td>\n      <td>106.RBOT_WS</td>\n      <td>Vicarious Surgical Inc Wt</td>\n    </tr>\n    <tr>\n      <th>4</th>\n      <td>5</td>\n      <td>105.EFTRW</td>\n      <td>eFFECTOR Therapeutics Inc Wt</td>\n    </tr>\n    <tr>\n      <th>...</th>\n      <td>...</td>\n      <td>...</td>\n      <td>...</td>\n    </tr>\n    <tr>\n      <th>11523</th>\n      <td>11524</td>\n      <td>105.MOBXW</td>\n      <td>Mobix Labs Inc Wt</td>\n    </tr>\n    <tr>\n      <th>11524</th>\n      <td>11525</td>\n      <td>106.SBXC_WS</td>\n      <td>SilverBox Corp III Wt</td>\n    </tr>\n    <tr>\n      <th>11525</th>\n      <td>11526</td>\n      <td>107.LMND_WS</td>\n      <td>Lemonade Inc Wt</td>\n    </tr>\n    <tr>\n      <th>11526</th>\n      <td>11527</td>\n      <td>105.NXLIW</td>\n      <td>Nexalin Technology Inc Wt</td>\n    </tr>\n    <tr>\n      <th>11527</th>\n      <td>11528</td>\n      <td>105.NCPLW</td>\n      <td>Netcapital Inc Wt</td>\n    </tr>\n  </tbody>\n</table>\n<p>11528 rows × 3 columns</p>\n</div>"
     },
     "execution_count": 46,
     "metadata": {},
     "output_type": "execute_result"
    }
   ],
   "source": [
    "stock_us_em_list_df = pd.DataFrame(stock_us_spot_em_df, columns=['序号','代码','名称'])\n",
    "stock_us_em_list_df.to_csv(\"美股列表_东财.csv\")\n",
    "stock_us_em_list_df.to_excel('美股列表_东财.xlsx')\n",
    "stock_us_em_list_df"
   ],
   "metadata": {
    "collapsed": false
   }
  },
  {
   "cell_type": "markdown",
   "source": [
    "#### 实时行情数据-新浪"
   ],
   "metadata": {
    "collapsed": false
   }
  },
  {
   "cell_type": "code",
   "execution_count": 43,
   "outputs": [
    {
     "name": "stderr",
     "output_type": "stream",
     "text": [
      "                                                 \r"
     ]
    },
    {
     "data": {
      "text/plain": "                                  name                            cname  \\\n0                      Microsoft Corp.                             微软公司   \n1                          Apple, Inc.                             苹果公司   \n2                         NVIDIA Corp.                            英伟达公司   \n3                       Alphabet, Inc.                               谷歌   \n4                       Alphabet, Inc.                            谷歌A类股   \n...                                ...                              ...   \n14461                             ZTST                             ZTST   \n14462  F/M 2-YEAR INVESTMENT GRADE COR  F/M 2-YEAR INVESTMENT GRADE COR   \n14463                    Zura Bio Ltd.                    Zura Bio Ltd.   \n14464       ZyVersa Therapeutics, Inc.       ZyVersa Therapeutics, Inc.   \n14465                  IEX Test symbol                  IEX Test symbol   \n\n      category symbol   price   diff    chg preclose    open    high     low  \\\n0           软件   MSFT  442.57   0.99   0.22   441.58  438.27  443.14  436.72   \n1          计算机   AAPL  212.49  -1.75  -0.82   214.24  213.85  215.17  211.30   \n2          半导体   NVDA  131.88   2.27   1.75   129.61  129.96  132.84  128.32   \n3          互联网   GOOG  178.37   1.63   0.92   176.74  175.85  178.73  175.85   \n4         媒体内容  GOOGL  176.79   1.63   0.93   175.16  174.22  177.06  174.15   \n...        ...    ...     ...    ...    ...      ...     ...     ...     ...   \n14461     None   ZTST   40.17   0.00   0.00    40.17    0.00   40.17   40.17   \n14462     None   ZTWO   49.95   0.00   0.00    49.95   49.96   49.96   49.93   \n14463     None  ZURAW    0.52   0.00   0.00     0.52    0.52    0.52    0.52   \n14464     None  ZVSAW    0.07   0.00   0.00     0.07    0.00    0.00    0.00   \n14465     None  ZXIET  100.00   0.00   0.00   100.00    0.00    0.00    0.00   \n\n      amplitude     volume         mktcap           pe  market category_id  \n0         1.45%   13581582  3289315629686  38.15258558  NASDAQ          14  \n1         1.81%   70122699  3258339168413  32.89318951  NASDAQ           5  \n2         3.49%  309320376  3244029459113  76.23121585  NASDAQ          12  \n3         1.63%   12360326  2204296399658  27.10790231  NASDAQ          41  \n4         1.66%   18063152  2184770737030  26.86778045  NASDAQ         702  \n...         ...        ...            ...          ...     ...         ...  \n14461     0.00%          0              0         None    AMEX        None  \n14462     0.06%       1865              0         None    AMEX        None  \n14463     0.00%       2499              0         None  NASDAQ        None  \n14464    55.53%          0              0         None  NASDAQ        None  \n14465     0.00%          0              0         None    AMEX        None  \n\n[14466 rows x 17 columns]",
      "text/html": "<div>\n<style scoped>\n    .dataframe tbody tr th:only-of-type {\n        vertical-align: middle;\n    }\n\n    .dataframe tbody tr th {\n        vertical-align: top;\n    }\n\n    .dataframe thead th {\n        text-align: right;\n    }\n</style>\n<table border=\"1\" class=\"dataframe\">\n  <thead>\n    <tr style=\"text-align: right;\">\n      <th></th>\n      <th>name</th>\n      <th>cname</th>\n      <th>category</th>\n      <th>symbol</th>\n      <th>price</th>\n      <th>diff</th>\n      <th>chg</th>\n      <th>preclose</th>\n      <th>open</th>\n      <th>high</th>\n      <th>low</th>\n      <th>amplitude</th>\n      <th>volume</th>\n      <th>mktcap</th>\n      <th>pe</th>\n      <th>market</th>\n      <th>category_id</th>\n    </tr>\n  </thead>\n  <tbody>\n    <tr>\n      <th>0</th>\n      <td>Microsoft Corp.</td>\n      <td>微软公司</td>\n      <td>软件</td>\n      <td>MSFT</td>\n      <td>442.57</td>\n      <td>0.99</td>\n      <td>0.22</td>\n      <td>441.58</td>\n      <td>438.27</td>\n      <td>443.14</td>\n      <td>436.72</td>\n      <td>1.45%</td>\n      <td>13581582</td>\n      <td>3289315629686</td>\n      <td>38.15258558</td>\n      <td>NASDAQ</td>\n      <td>14</td>\n    </tr>\n    <tr>\n      <th>1</th>\n      <td>Apple, Inc.</td>\n      <td>苹果公司</td>\n      <td>计算机</td>\n      <td>AAPL</td>\n      <td>212.49</td>\n      <td>-1.75</td>\n      <td>-0.82</td>\n      <td>214.24</td>\n      <td>213.85</td>\n      <td>215.17</td>\n      <td>211.30</td>\n      <td>1.81%</td>\n      <td>70122699</td>\n      <td>3258339168413</td>\n      <td>32.89318951</td>\n      <td>NASDAQ</td>\n      <td>5</td>\n    </tr>\n    <tr>\n      <th>2</th>\n      <td>NVIDIA Corp.</td>\n      <td>英伟达公司</td>\n      <td>半导体</td>\n      <td>NVDA</td>\n      <td>131.88</td>\n      <td>2.27</td>\n      <td>1.75</td>\n      <td>129.61</td>\n      <td>129.96</td>\n      <td>132.84</td>\n      <td>128.32</td>\n      <td>3.49%</td>\n      <td>309320376</td>\n      <td>3244029459113</td>\n      <td>76.23121585</td>\n      <td>NASDAQ</td>\n      <td>12</td>\n    </tr>\n    <tr>\n      <th>3</th>\n      <td>Alphabet, Inc.</td>\n      <td>谷歌</td>\n      <td>互联网</td>\n      <td>GOOG</td>\n      <td>178.37</td>\n      <td>1.63</td>\n      <td>0.92</td>\n      <td>176.74</td>\n      <td>175.85</td>\n      <td>178.73</td>\n      <td>175.85</td>\n      <td>1.63%</td>\n      <td>12360326</td>\n      <td>2204296399658</td>\n      <td>27.10790231</td>\n      <td>NASDAQ</td>\n      <td>41</td>\n    </tr>\n    <tr>\n      <th>4</th>\n      <td>Alphabet, Inc.</td>\n      <td>谷歌A类股</td>\n      <td>媒体内容</td>\n      <td>GOOGL</td>\n      <td>176.79</td>\n      <td>1.63</td>\n      <td>0.93</td>\n      <td>175.16</td>\n      <td>174.22</td>\n      <td>177.06</td>\n      <td>174.15</td>\n      <td>1.66%</td>\n      <td>18063152</td>\n      <td>2184770737030</td>\n      <td>26.86778045</td>\n      <td>NASDAQ</td>\n      <td>702</td>\n    </tr>\n    <tr>\n      <th>...</th>\n      <td>...</td>\n      <td>...</td>\n      <td>...</td>\n      <td>...</td>\n      <td>...</td>\n      <td>...</td>\n      <td>...</td>\n      <td>...</td>\n      <td>...</td>\n      <td>...</td>\n      <td>...</td>\n      <td>...</td>\n      <td>...</td>\n      <td>...</td>\n      <td>...</td>\n      <td>...</td>\n      <td>...</td>\n    </tr>\n    <tr>\n      <th>14461</th>\n      <td>ZTST</td>\n      <td>ZTST</td>\n      <td>None</td>\n      <td>ZTST</td>\n      <td>40.17</td>\n      <td>0.00</td>\n      <td>0.00</td>\n      <td>40.17</td>\n      <td>0.00</td>\n      <td>40.17</td>\n      <td>40.17</td>\n      <td>0.00%</td>\n      <td>0</td>\n      <td>0</td>\n      <td>None</td>\n      <td>AMEX</td>\n      <td>None</td>\n    </tr>\n    <tr>\n      <th>14462</th>\n      <td>F/M 2-YEAR INVESTMENT GRADE COR</td>\n      <td>F/M 2-YEAR INVESTMENT GRADE COR</td>\n      <td>None</td>\n      <td>ZTWO</td>\n      <td>49.95</td>\n      <td>0.00</td>\n      <td>0.00</td>\n      <td>49.95</td>\n      <td>49.96</td>\n      <td>49.96</td>\n      <td>49.93</td>\n      <td>0.06%</td>\n      <td>1865</td>\n      <td>0</td>\n      <td>None</td>\n      <td>AMEX</td>\n      <td>None</td>\n    </tr>\n    <tr>\n      <th>14463</th>\n      <td>Zura Bio Ltd.</td>\n      <td>Zura Bio Ltd.</td>\n      <td>None</td>\n      <td>ZURAW</td>\n      <td>0.52</td>\n      <td>0.00</td>\n      <td>0.00</td>\n      <td>0.52</td>\n      <td>0.52</td>\n      <td>0.52</td>\n      <td>0.52</td>\n      <td>0.00%</td>\n      <td>2499</td>\n      <td>0</td>\n      <td>None</td>\n      <td>NASDAQ</td>\n      <td>None</td>\n    </tr>\n    <tr>\n      <th>14464</th>\n      <td>ZyVersa Therapeutics, Inc.</td>\n      <td>ZyVersa Therapeutics, Inc.</td>\n      <td>None</td>\n      <td>ZVSAW</td>\n      <td>0.07</td>\n      <td>0.00</td>\n      <td>0.00</td>\n      <td>0.07</td>\n      <td>0.00</td>\n      <td>0.00</td>\n      <td>0.00</td>\n      <td>55.53%</td>\n      <td>0</td>\n      <td>0</td>\n      <td>None</td>\n      <td>NASDAQ</td>\n      <td>None</td>\n    </tr>\n    <tr>\n      <th>14465</th>\n      <td>IEX Test symbol</td>\n      <td>IEX Test symbol</td>\n      <td>None</td>\n      <td>ZXIET</td>\n      <td>100.00</td>\n      <td>0.00</td>\n      <td>0.00</td>\n      <td>100.00</td>\n      <td>0.00</td>\n      <td>0.00</td>\n      <td>0.00</td>\n      <td>0.00%</td>\n      <td>0</td>\n      <td>0</td>\n      <td>None</td>\n      <td>AMEX</td>\n      <td>None</td>\n    </tr>\n  </tbody>\n</table>\n<p>14466 rows × 17 columns</p>\n</div>"
     },
     "execution_count": 43,
     "metadata": {},
     "output_type": "execute_result"
    }
   ],
   "source": [
    "us_stock_current_df = ak.stock_us_spot()\n",
    "us_stock_current_df"
   ],
   "metadata": {
    "collapsed": false
   }
  },
  {
   "cell_type": "code",
   "execution_count": 45,
   "outputs": [
    {
     "data": {
      "text/plain": "                                  name                            cname  \\\n0                      Microsoft Corp.                             微软公司   \n1                          Apple, Inc.                             苹果公司   \n2                         NVIDIA Corp.                            英伟达公司   \n3                       Alphabet, Inc.                               谷歌   \n4                       Alphabet, Inc.                            谷歌A类股   \n...                                ...                              ...   \n14461                             ZTST                             ZTST   \n14462  F/M 2-YEAR INVESTMENT GRADE COR  F/M 2-YEAR INVESTMENT GRADE COR   \n14463                    Zura Bio Ltd.                    Zura Bio Ltd.   \n14464       ZyVersa Therapeutics, Inc.       ZyVersa Therapeutics, Inc.   \n14465                  IEX Test symbol                  IEX Test symbol   \n\n      symbol category  \n0       MSFT       软件  \n1       AAPL      计算机  \n2       NVDA      半导体  \n3       GOOG      互联网  \n4      GOOGL     媒体内容  \n...      ...      ...  \n14461   ZTST     None  \n14462   ZTWO     None  \n14463  ZURAW     None  \n14464  ZVSAW     None  \n14465  ZXIET     None  \n\n[14466 rows x 4 columns]",
      "text/html": "<div>\n<style scoped>\n    .dataframe tbody tr th:only-of-type {\n        vertical-align: middle;\n    }\n\n    .dataframe tbody tr th {\n        vertical-align: top;\n    }\n\n    .dataframe thead th {\n        text-align: right;\n    }\n</style>\n<table border=\"1\" class=\"dataframe\">\n  <thead>\n    <tr style=\"text-align: right;\">\n      <th></th>\n      <th>name</th>\n      <th>cname</th>\n      <th>symbol</th>\n      <th>category</th>\n    </tr>\n  </thead>\n  <tbody>\n    <tr>\n      <th>0</th>\n      <td>Microsoft Corp.</td>\n      <td>微软公司</td>\n      <td>MSFT</td>\n      <td>软件</td>\n    </tr>\n    <tr>\n      <th>1</th>\n      <td>Apple, Inc.</td>\n      <td>苹果公司</td>\n      <td>AAPL</td>\n      <td>计算机</td>\n    </tr>\n    <tr>\n      <th>2</th>\n      <td>NVIDIA Corp.</td>\n      <td>英伟达公司</td>\n      <td>NVDA</td>\n      <td>半导体</td>\n    </tr>\n    <tr>\n      <th>3</th>\n      <td>Alphabet, Inc.</td>\n      <td>谷歌</td>\n      <td>GOOG</td>\n      <td>互联网</td>\n    </tr>\n    <tr>\n      <th>4</th>\n      <td>Alphabet, Inc.</td>\n      <td>谷歌A类股</td>\n      <td>GOOGL</td>\n      <td>媒体内容</td>\n    </tr>\n    <tr>\n      <th>...</th>\n      <td>...</td>\n      <td>...</td>\n      <td>...</td>\n      <td>...</td>\n    </tr>\n    <tr>\n      <th>14461</th>\n      <td>ZTST</td>\n      <td>ZTST</td>\n      <td>ZTST</td>\n      <td>None</td>\n    </tr>\n    <tr>\n      <th>14462</th>\n      <td>F/M 2-YEAR INVESTMENT GRADE COR</td>\n      <td>F/M 2-YEAR INVESTMENT GRADE COR</td>\n      <td>ZTWO</td>\n      <td>None</td>\n    </tr>\n    <tr>\n      <th>14463</th>\n      <td>Zura Bio Ltd.</td>\n      <td>Zura Bio Ltd.</td>\n      <td>ZURAW</td>\n      <td>None</td>\n    </tr>\n    <tr>\n      <th>14464</th>\n      <td>ZyVersa Therapeutics, Inc.</td>\n      <td>ZyVersa Therapeutics, Inc.</td>\n      <td>ZVSAW</td>\n      <td>None</td>\n    </tr>\n    <tr>\n      <th>14465</th>\n      <td>IEX Test symbol</td>\n      <td>IEX Test symbol</td>\n      <td>ZXIET</td>\n      <td>None</td>\n    </tr>\n  </tbody>\n</table>\n<p>14466 rows × 4 columns</p>\n</div>"
     },
     "execution_count": 45,
     "metadata": {},
     "output_type": "execute_result"
    }
   ],
   "source": [
    "stock_us_list_df = pd.DataFrame(us_stock_current_df, columns=['name','cname','symbol','category'])\n",
    "stock_us_list_df.to_csv(\"美股列表.csv\")\n",
    "stock_us_list_df.to_excel('美股列表.xlsx')\n",
    "stock_us_list_df"
   ],
   "metadata": {
    "collapsed": false
   }
  }
 ],
 "metadata": {
  "kernelspec": {
   "display_name": "Python 3",
   "language": "python",
   "name": "python3"
  },
  "language_info": {
   "codemirror_mode": {
    "name": "ipython",
    "version": 2
   },
   "file_extension": ".py",
   "mimetype": "text/x-python",
   "name": "python",
   "nbconvert_exporter": "python",
   "pygments_lexer": "ipython2",
   "version": "2.7.6"
  }
 },
 "nbformat": 4,
 "nbformat_minor": 0
}
