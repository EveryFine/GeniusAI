{
 "cells": [
  {
   "cell_type": "markdown",
   "source": [
    "# AKShare获取股票信息"
   ],
   "metadata": {
    "collapsed": false
   }
  },
  {
   "cell_type": "markdown",
   "source": [
    "## 股市日历"
   ],
   "metadata": {
    "collapsed": false
   }
  },
  {
   "cell_type": "markdown",
   "source": [
    "### [公司动态](https://akshare.akfamily.xyz/data/stock/stock.html#id41)"
   ],
   "metadata": {
    "collapsed": false
   }
  },
  {
   "cell_type": "code",
   "execution_count": 3,
   "outputs": [
    {
     "data": {
      "text/plain": "    序号      代码    简称  事件类型                                               具体事项  \\\n0    1  000034  神州数码  对外担保  公司近期就香港上海汇丰银行有限公司与子公司神州数码澳门离岸商业服务有限公司、神州数码(香港)...   \n1    2  000151  中成股份  资产重组  国投集团于6月14日与通用技术集团签署《关于中国成套设备进出口集团有限公司之股权无偿划转协议...   \n2    3  000564  供销大集  资产重组  供销大集集团股份有限公司(以下简称“供销大集”或“公司”)根据公司主业发展需要,进一步提高资...   \n3    4  000605  渤海股份  对外担保  渤海水业股份有限公司(以下简称“公司”)全资子公司天津市滨海水业集团有限公司(以下简称“滨海...   \n4    5  000679  大连友谊  资产重组  大连友谊(集团)股份有限公司(以下简称“公司”)为拓宽公司零售业务发展渠道,培育公司新的业绩...   \n..  ..     ...   ...   ...                                                ...   \n70  71  603880  ST南卫  股份质押  公司股东李平将持有的本公司股份2300万股质押给诸暨春阳鸿来企业管理合伙企业(有限合伙),质...   \n71  72  603885  吉祥航空  股份质押  公司股东上海均瑶(集团)有限公司将持有的本公司股份3300万股质押给兴业银行股份有限公司上海...   \n72  73  605007  五洲特纸  对外担保  2024年6月13日,公司与广发银行股份有限公司南昌分行(以下简称“广发银行”)签署《最高额...   \n73  74  688560  明冠新材  资产重组  明冠新材料股份有限公司(以下简称“公司”)以自有资金通过明冠国际向越南明冠增资3,605.8...   \n74  75  688628   优利德  资产重组  拓利亚一期企业管理(东莞)中心(有限合伙)、拓利亚二期企业管理(东莞)中心(有限合伙)、拓利...   \n\n           交易日  \n0   2024-06-15  \n1   2024-06-15  \n2   2024-06-15  \n3   2024-06-15  \n4   2024-06-15  \n..         ...  \n70  2024-06-15  \n71  2024-06-15  \n72  2024-06-15  \n73  2024-06-15  \n74  2024-06-15  \n\n[75 rows x 6 columns]",
      "text/html": "<div>\n<style scoped>\n    .dataframe tbody tr th:only-of-type {\n        vertical-align: middle;\n    }\n\n    .dataframe tbody tr th {\n        vertical-align: top;\n    }\n\n    .dataframe thead th {\n        text-align: right;\n    }\n</style>\n<table border=\"1\" class=\"dataframe\">\n  <thead>\n    <tr style=\"text-align: right;\">\n      <th></th>\n      <th>序号</th>\n      <th>代码</th>\n      <th>简称</th>\n      <th>事件类型</th>\n      <th>具体事项</th>\n      <th>交易日</th>\n    </tr>\n  </thead>\n  <tbody>\n    <tr>\n      <th>0</th>\n      <td>1</td>\n      <td>000034</td>\n      <td>神州数码</td>\n      <td>对外担保</td>\n      <td>公司近期就香港上海汇丰银行有限公司与子公司神州数码澳门离岸商业服务有限公司、神州数码(香港)...</td>\n      <td>2024-06-15</td>\n    </tr>\n    <tr>\n      <th>1</th>\n      <td>2</td>\n      <td>000151</td>\n      <td>中成股份</td>\n      <td>资产重组</td>\n      <td>国投集团于6月14日与通用技术集团签署《关于中国成套设备进出口集团有限公司之股权无偿划转协议...</td>\n      <td>2024-06-15</td>\n    </tr>\n    <tr>\n      <th>2</th>\n      <td>3</td>\n      <td>000564</td>\n      <td>供销大集</td>\n      <td>资产重组</td>\n      <td>供销大集集团股份有限公司(以下简称“供销大集”或“公司”)根据公司主业发展需要,进一步提高资...</td>\n      <td>2024-06-15</td>\n    </tr>\n    <tr>\n      <th>3</th>\n      <td>4</td>\n      <td>000605</td>\n      <td>渤海股份</td>\n      <td>对外担保</td>\n      <td>渤海水业股份有限公司(以下简称“公司”)全资子公司天津市滨海水业集团有限公司(以下简称“滨海...</td>\n      <td>2024-06-15</td>\n    </tr>\n    <tr>\n      <th>4</th>\n      <td>5</td>\n      <td>000679</td>\n      <td>大连友谊</td>\n      <td>资产重组</td>\n      <td>大连友谊(集团)股份有限公司(以下简称“公司”)为拓宽公司零售业务发展渠道,培育公司新的业绩...</td>\n      <td>2024-06-15</td>\n    </tr>\n    <tr>\n      <th>...</th>\n      <td>...</td>\n      <td>...</td>\n      <td>...</td>\n      <td>...</td>\n      <td>...</td>\n      <td>...</td>\n    </tr>\n    <tr>\n      <th>70</th>\n      <td>71</td>\n      <td>603880</td>\n      <td>ST南卫</td>\n      <td>股份质押</td>\n      <td>公司股东李平将持有的本公司股份2300万股质押给诸暨春阳鸿来企业管理合伙企业(有限合伙),质...</td>\n      <td>2024-06-15</td>\n    </tr>\n    <tr>\n      <th>71</th>\n      <td>72</td>\n      <td>603885</td>\n      <td>吉祥航空</td>\n      <td>股份质押</td>\n      <td>公司股东上海均瑶(集团)有限公司将持有的本公司股份3300万股质押给兴业银行股份有限公司上海...</td>\n      <td>2024-06-15</td>\n    </tr>\n    <tr>\n      <th>72</th>\n      <td>73</td>\n      <td>605007</td>\n      <td>五洲特纸</td>\n      <td>对外担保</td>\n      <td>2024年6月13日,公司与广发银行股份有限公司南昌分行(以下简称“广发银行”)签署《最高额...</td>\n      <td>2024-06-15</td>\n    </tr>\n    <tr>\n      <th>73</th>\n      <td>74</td>\n      <td>688560</td>\n      <td>明冠新材</td>\n      <td>资产重组</td>\n      <td>明冠新材料股份有限公司(以下简称“公司”)以自有资金通过明冠国际向越南明冠增资3,605.8...</td>\n      <td>2024-06-15</td>\n    </tr>\n    <tr>\n      <th>74</th>\n      <td>75</td>\n      <td>688628</td>\n      <td>优利德</td>\n      <td>资产重组</td>\n      <td>拓利亚一期企业管理(东莞)中心(有限合伙)、拓利亚二期企业管理(东莞)中心(有限合伙)、拓利...</td>\n      <td>2024-06-15</td>\n    </tr>\n  </tbody>\n</table>\n<p>75 rows × 6 columns</p>\n</div>"
     },
     "execution_count": 3,
     "metadata": {},
     "output_type": "execute_result"
    }
   ],
   "source": [
    "import akshare as ak\n",
    "\n",
    "stock_gsrl_gsdt_em_df = ak.stock_gsrl_gsdt_em(date=\"20240615\")\n",
    "stock_gsrl_gsdt_em_df"
   ],
   "metadata": {
    "collapsed": false
   }
  },
  {
   "cell_type": "markdown",
   "source": [
    "### [风险警示板](https://akshare.akfamily.xyz/data/stock/stock.html#id42)\n",
    "\n",
    "接口: stock_zh_a_st_em\n",
    "\n",
    "目标地址: https://quote.eastmoney.com/center/gridlist.html#st_board\n",
    "\n",
    "描述: 东方财富网-行情中心-沪深个股-风险警示板\n",
    "\n",
    "限量: 单次返回当前交易日风险警示板的所有股票的行情数据"
   ],
   "metadata": {
    "collapsed": false
   }
  },
  {
   "cell_type": "code",
   "execution_count": 5,
   "outputs": [
    {
     "data": {
      "text/plain": "      序号      代码     名称   最新价    涨跌幅   涨跌额       成交量          成交额     振幅  \\\n0      1  300013  *ST新宁  1.84  10.84  0.18  211206.0  38456891.00  19.88   \n1      2  000584  *ST工智  1.16   5.45  0.06  448614.0  49653674.74  10.00   \n2      3  603377   ST东时  1.18   5.36  0.06  202034.0  23670868.00   4.46   \n3      4  002742   ST三圣  1.61   5.23  0.08   85753.0  13798108.50   1.96   \n4      5  600898  *ST美讯  1.01   5.21  0.05   54682.0   5436087.00   5.21   \n..   ...     ...    ...   ...    ...   ...       ...          ...    ...   \n150  151  002288  *ST超华  0.55  -5.17 -0.03    2710.0    149050.00   0.00   \n151  152  002280   ST联络  0.55  -5.17 -0.03   10677.0    587235.00   0.00   \n152  153  000506  *ST中润  1.09  -5.22 -0.06   39697.0   4326973.00   0.00   \n153  154  300125   ST聆达  2.07  -6.33 -0.14  309167.0  65252993.75   6.33   \n154  155  300262  *ST巴安  0.71 -20.22 -0.18  990797.0  81650602.20  25.84   \n\n       最高    最低    今开    昨收    量比    换手率  市盈率-动态   市净率  \n0    1.97  1.64  1.66  1.66  1.48   4.73 -105.90 -5.93  \n1    1.16  1.05  1.05  1.10  1.35   5.91  160.43  1.62  \n2    1.18  1.13  1.16  1.12  0.67   2.80   -6.06  0.48  \n3    1.61  1.58  1.61  1.53  0.99   1.99   -4.91  2.25  \n4    1.01  0.96  0.96  0.96  1.57   2.17   -6.37 -3.05  \n..    ...   ...   ...   ...   ...    ...     ...   ...  \n150  0.55  0.55  0.55  0.58  0.60   0.03   -5.73  0.67  \n151  0.55  0.55  0.55  0.58  0.17   0.05   -2.17  7.59  \n152  1.09  1.09  1.09  1.15  1.48   0.43   -8.47  1.54  \n153  2.19  2.05  2.15  2.21  0.82  11.65   -3.23  1.50  \n154  0.94  0.71  0.80  0.89  1.23  14.84  -21.70  6.66  \n\n[155 rows x 17 columns]",
      "text/html": "<div>\n<style scoped>\n    .dataframe tbody tr th:only-of-type {\n        vertical-align: middle;\n    }\n\n    .dataframe tbody tr th {\n        vertical-align: top;\n    }\n\n    .dataframe thead th {\n        text-align: right;\n    }\n</style>\n<table border=\"1\" class=\"dataframe\">\n  <thead>\n    <tr style=\"text-align: right;\">\n      <th></th>\n      <th>序号</th>\n      <th>代码</th>\n      <th>名称</th>\n      <th>最新价</th>\n      <th>涨跌幅</th>\n      <th>涨跌额</th>\n      <th>成交量</th>\n      <th>成交额</th>\n      <th>振幅</th>\n      <th>最高</th>\n      <th>最低</th>\n      <th>今开</th>\n      <th>昨收</th>\n      <th>量比</th>\n      <th>换手率</th>\n      <th>市盈率-动态</th>\n      <th>市净率</th>\n    </tr>\n  </thead>\n  <tbody>\n    <tr>\n      <th>0</th>\n      <td>1</td>\n      <td>300013</td>\n      <td>*ST新宁</td>\n      <td>1.84</td>\n      <td>10.84</td>\n      <td>0.18</td>\n      <td>211206.0</td>\n      <td>38456891.00</td>\n      <td>19.88</td>\n      <td>1.97</td>\n      <td>1.64</td>\n      <td>1.66</td>\n      <td>1.66</td>\n      <td>1.48</td>\n      <td>4.73</td>\n      <td>-105.90</td>\n      <td>-5.93</td>\n    </tr>\n    <tr>\n      <th>1</th>\n      <td>2</td>\n      <td>000584</td>\n      <td>*ST工智</td>\n      <td>1.16</td>\n      <td>5.45</td>\n      <td>0.06</td>\n      <td>448614.0</td>\n      <td>49653674.74</td>\n      <td>10.00</td>\n      <td>1.16</td>\n      <td>1.05</td>\n      <td>1.05</td>\n      <td>1.10</td>\n      <td>1.35</td>\n      <td>5.91</td>\n      <td>160.43</td>\n      <td>1.62</td>\n    </tr>\n    <tr>\n      <th>2</th>\n      <td>3</td>\n      <td>603377</td>\n      <td>ST东时</td>\n      <td>1.18</td>\n      <td>5.36</td>\n      <td>0.06</td>\n      <td>202034.0</td>\n      <td>23670868.00</td>\n      <td>4.46</td>\n      <td>1.18</td>\n      <td>1.13</td>\n      <td>1.16</td>\n      <td>1.12</td>\n      <td>0.67</td>\n      <td>2.80</td>\n      <td>-6.06</td>\n      <td>0.48</td>\n    </tr>\n    <tr>\n      <th>3</th>\n      <td>4</td>\n      <td>002742</td>\n      <td>ST三圣</td>\n      <td>1.61</td>\n      <td>5.23</td>\n      <td>0.08</td>\n      <td>85753.0</td>\n      <td>13798108.50</td>\n      <td>1.96</td>\n      <td>1.61</td>\n      <td>1.58</td>\n      <td>1.61</td>\n      <td>1.53</td>\n      <td>0.99</td>\n      <td>1.99</td>\n      <td>-4.91</td>\n      <td>2.25</td>\n    </tr>\n    <tr>\n      <th>4</th>\n      <td>5</td>\n      <td>600898</td>\n      <td>*ST美讯</td>\n      <td>1.01</td>\n      <td>5.21</td>\n      <td>0.05</td>\n      <td>54682.0</td>\n      <td>5436087.00</td>\n      <td>5.21</td>\n      <td>1.01</td>\n      <td>0.96</td>\n      <td>0.96</td>\n      <td>0.96</td>\n      <td>1.57</td>\n      <td>2.17</td>\n      <td>-6.37</td>\n      <td>-3.05</td>\n    </tr>\n    <tr>\n      <th>...</th>\n      <td>...</td>\n      <td>...</td>\n      <td>...</td>\n      <td>...</td>\n      <td>...</td>\n      <td>...</td>\n      <td>...</td>\n      <td>...</td>\n      <td>...</td>\n      <td>...</td>\n      <td>...</td>\n      <td>...</td>\n      <td>...</td>\n      <td>...</td>\n      <td>...</td>\n      <td>...</td>\n      <td>...</td>\n    </tr>\n    <tr>\n      <th>150</th>\n      <td>151</td>\n      <td>002288</td>\n      <td>*ST超华</td>\n      <td>0.55</td>\n      <td>-5.17</td>\n      <td>-0.03</td>\n      <td>2710.0</td>\n      <td>149050.00</td>\n      <td>0.00</td>\n      <td>0.55</td>\n      <td>0.55</td>\n      <td>0.55</td>\n      <td>0.58</td>\n      <td>0.60</td>\n      <td>0.03</td>\n      <td>-5.73</td>\n      <td>0.67</td>\n    </tr>\n    <tr>\n      <th>151</th>\n      <td>152</td>\n      <td>002280</td>\n      <td>ST联络</td>\n      <td>0.55</td>\n      <td>-5.17</td>\n      <td>-0.03</td>\n      <td>10677.0</td>\n      <td>587235.00</td>\n      <td>0.00</td>\n      <td>0.55</td>\n      <td>0.55</td>\n      <td>0.55</td>\n      <td>0.58</td>\n      <td>0.17</td>\n      <td>0.05</td>\n      <td>-2.17</td>\n      <td>7.59</td>\n    </tr>\n    <tr>\n      <th>152</th>\n      <td>153</td>\n      <td>000506</td>\n      <td>*ST中润</td>\n      <td>1.09</td>\n      <td>-5.22</td>\n      <td>-0.06</td>\n      <td>39697.0</td>\n      <td>4326973.00</td>\n      <td>0.00</td>\n      <td>1.09</td>\n      <td>1.09</td>\n      <td>1.09</td>\n      <td>1.15</td>\n      <td>1.48</td>\n      <td>0.43</td>\n      <td>-8.47</td>\n      <td>1.54</td>\n    </tr>\n    <tr>\n      <th>153</th>\n      <td>154</td>\n      <td>300125</td>\n      <td>ST聆达</td>\n      <td>2.07</td>\n      <td>-6.33</td>\n      <td>-0.14</td>\n      <td>309167.0</td>\n      <td>65252993.75</td>\n      <td>6.33</td>\n      <td>2.19</td>\n      <td>2.05</td>\n      <td>2.15</td>\n      <td>2.21</td>\n      <td>0.82</td>\n      <td>11.65</td>\n      <td>-3.23</td>\n      <td>1.50</td>\n    </tr>\n    <tr>\n      <th>154</th>\n      <td>155</td>\n      <td>300262</td>\n      <td>*ST巴安</td>\n      <td>0.71</td>\n      <td>-20.22</td>\n      <td>-0.18</td>\n      <td>990797.0</td>\n      <td>81650602.20</td>\n      <td>25.84</td>\n      <td>0.94</td>\n      <td>0.71</td>\n      <td>0.80</td>\n      <td>0.89</td>\n      <td>1.23</td>\n      <td>14.84</td>\n      <td>-21.70</td>\n      <td>6.66</td>\n    </tr>\n  </tbody>\n</table>\n<p>155 rows × 17 columns</p>\n</div>"
     },
     "execution_count": 5,
     "metadata": {},
     "output_type": "execute_result"
    }
   ],
   "source": [
    "stock_zh_a_st_em_df = ak.stock_zh_a_st_em()\n",
    "stock_zh_a_st_em_df"
   ],
   "metadata": {
    "collapsed": false
   }
  },
  {
   "cell_type": "markdown",
   "source": [
    "### [IPO 受益股](https://akshare.akfamily.xyz/data/stock/stock.html#ipo)\n",
    "\n",
    "接口: stock_ipo_benefit_ths\n",
    "\n",
    "目标地址: https://data.10jqka.com.cn/ipo/syg/\n",
    "\n",
    "描述: 同花顺-数据中心-新股数据-IPO受益股\n",
    "\n",
    "限量: 单次返回当前交易日的所有数据; 该数据每周更新一次, 返回最近一周的数据"
   ],
   "metadata": {
    "collapsed": false
   }
  },
  {
   "cell_type": "code",
   "execution_count": 7,
   "outputs": [
    {
     "ename": "AttributeError",
     "evalue": "'NoneType' object has no attribute 'text'",
     "output_type": "error",
     "traceback": [
      "\u001B[0;31m---------------------------------------------------------------------------\u001B[0m",
      "\u001B[0;31mAttributeError\u001B[0m                            Traceback (most recent call last)",
      "Cell \u001B[0;32mIn[7], line 1\u001B[0m\n\u001B[0;32m----> 1\u001B[0m stock_ipo_benefit_ths_df \u001B[38;5;241m=\u001B[39m \u001B[43mak\u001B[49m\u001B[38;5;241;43m.\u001B[39;49m\u001B[43mstock_ipo_benefit_ths\u001B[49m\u001B[43m(\u001B[49m\u001B[43m)\u001B[49m\n\u001B[1;32m      2\u001B[0m \u001B[38;5;28mprint\u001B[39m(stock_ipo_benefit_ths_df)\n",
      "File \u001B[0;32m~/Documents/ProgramingGuide/SourceCode/GithubRepo/everyfine/GeniusAI/GeniusChatbots/venv/lib/python3.9/site-packages/akshare/stock_feature/stock_board_industry_ths.py:572\u001B[0m, in \u001B[0;36mstock_ipo_benefit_ths\u001B[0;34m()\u001B[0m\n\u001B[1;32m    570\u001B[0m r \u001B[38;5;241m=\u001B[39m requests\u001B[38;5;241m.\u001B[39mget(url, headers\u001B[38;5;241m=\u001B[39mheaders)\n\u001B[1;32m    571\u001B[0m soup \u001B[38;5;241m=\u001B[39m BeautifulSoup(r\u001B[38;5;241m.\u001B[39mtext, features\u001B[38;5;241m=\u001B[39m\u001B[38;5;124m\"\u001B[39m\u001B[38;5;124mlxml\u001B[39m\u001B[38;5;124m\"\u001B[39m)\n\u001B[0;32m--> 572\u001B[0m page_num \u001B[38;5;241m=\u001B[39m \u001B[43msoup\u001B[49m\u001B[38;5;241;43m.\u001B[39;49m\u001B[43mfind\u001B[49m\u001B[43m(\u001B[49m\u001B[43mname\u001B[49m\u001B[38;5;241;43m=\u001B[39;49m\u001B[38;5;124;43m\"\u001B[39;49m\u001B[38;5;124;43mspan\u001B[39;49m\u001B[38;5;124;43m\"\u001B[39;49m\u001B[43m,\u001B[49m\u001B[43m \u001B[49m\u001B[43mattrs\u001B[49m\u001B[38;5;241;43m=\u001B[39;49m\u001B[43m{\u001B[49m\u001B[38;5;124;43m\"\u001B[39;49m\u001B[38;5;124;43mclass\u001B[39;49m\u001B[38;5;124;43m\"\u001B[39;49m\u001B[43m:\u001B[49m\u001B[43m \u001B[49m\u001B[38;5;124;43m\"\u001B[39;49m\u001B[38;5;124;43mpage_info\u001B[39;49m\u001B[38;5;124;43m\"\u001B[39;49m\u001B[43m}\u001B[49m\u001B[43m)\u001B[49m\u001B[38;5;241;43m.\u001B[39;49m\u001B[43mtext\u001B[49m\u001B[38;5;241m.\u001B[39msplit(\u001B[38;5;124m\"\u001B[39m\u001B[38;5;124m/\u001B[39m\u001B[38;5;124m\"\u001B[39m)[\u001B[38;5;241m1\u001B[39m]\n\u001B[1;32m    573\u001B[0m big_df \u001B[38;5;241m=\u001B[39m pd\u001B[38;5;241m.\u001B[39mDataFrame()\n\u001B[1;32m    574\u001B[0m tqdm \u001B[38;5;241m=\u001B[39m get_tqdm()\n",
      "\u001B[0;31mAttributeError\u001B[0m: 'NoneType' object has no attribute 'text'"
     ]
    }
   ],
   "source": [
    "stock_ipo_benefit_ths_df = ak.stock_ipo_benefit_ths()\n",
    "print(stock_ipo_benefit_ths_df)"
   ],
   "metadata": {
    "collapsed": false
   }
  },
  {
   "cell_type": "markdown",
   "source": [
    "### [知名美股](https://akshare.akfamily.xyz/data/stock/stock.html#id59)\n",
    "\n",
    "接口: stock_us_famous_spot_em\n",
    "\n",
    "目标地址: http://quote.eastmoney.com/center/gridlist.html#us_wellknown\n",
    "\n",
    "描述: 美股-知名美股的实时行情数据\n",
    "\n",
    "限量: 单次返回指定 symbol 的行情数据\n",
    "\n",
    "输入参数\n",
    "\n",
    "名称\t类型\t描述\n",
    "symbol\tstr\tsymbol=\"科技类\"; choice of {'科技类', '金融类', '医药食品类', '媒体类', '汽车能源类', '制造零售类'}\n"
   ],
   "metadata": {
    "collapsed": false
   }
  },
  {
   "cell_type": "code",
   "execution_count": 13,
   "outputs": [
    {
     "data": {
      "text/plain": "    序号                         名称     最新价    涨跌额    涨跌幅      开盘价      最高价  \\\n0    1                        奥多比  525.31  66.57  14.51  530.250  534.450   \n1    2                        英伟达  131.88   2.27   1.75  129.960  132.840   \n2    3                       谷歌-C  178.37   1.63   0.92  175.852  178.730   \n3    4                        阿卡迈   89.09   0.74   0.84   88.340   89.730   \n4    5                       中华电信   39.60   0.20   0.51   39.330   39.620   \n5    6                         思科   45.68   0.16   0.35   45.320   45.705   \n6    7          SentinelOne Inc-A   18.46   0.05   0.27   18.380   18.620   \n7    8                         微软  442.57   0.99   0.22  438.275  443.138   \n8    9              IBM国际商业机器(US)  169.21   0.09   0.05  168.290  169.470   \n9   10                Yandex NV-A     NaN    NaN    NaN      NaN      NaN   \n10  11                        英特尔   30.45  -0.01  -0.03   30.285   30.560   \n11  12                   摩托罗拉解决方案  375.41  -0.32  -0.09  370.760  376.055   \n12  13                        亚马逊  183.66  -0.17  -0.09  183.080  183.720   \n13  14                    沃达丰(US)    8.74  -0.01  -0.11    8.735    8.740   \n14  15                      超威半导体  159.63  -0.27  -0.17  158.500  161.340   \n15  16                     美国电话电报   17.64  -0.03  -0.17   17.590   17.745   \n16  17                      威瑞森通讯   39.67  -0.11  -0.28   39.475   39.838   \n17  18                        高知特   64.26  -0.35  -0.54   64.550   64.820   \n18  19                         苹果  212.49  -1.75  -0.82  213.850  215.170   \n19  20                         高通  215.33  -2.48  -1.14  217.640  218.050   \n20  21                        爱立信    5.81  -0.07  -1.19    5.780    5.830   \n21  22                       德州仪器  193.90  -2.38  -1.21  193.840  195.628   \n22  23                         陶氏   55.02  -1.04  -1.86   55.520   56.120   \n23  24  Opendoor Technologies Inc    2.06  -0.04  -1.90    2.090    2.115   \n24  25                        思爱普  187.82  -4.60  -2.39  188.160  188.690   \n25  26                        诺基亚    3.62  -0.09  -2.43    3.610    3.640   \n26  27                         惠普   35.51  -0.94  -2.58   36.220   36.630   \n27  28                         易趣   52.13  -1.56  -2.91   53.080   53.450   \n28  29              Groupon Inc-A   14.87  -0.85  -5.41   15.500   15.580   \n29  30                     阿勒格尼技术   53.35  -3.76  -6.58   55.620   55.935   \n\n        最低价     昨收价            总市值     市盈率        代码  \n0   521.880  458.74   235338880000   46.34  105.ADBE  \n1   128.320  129.61  3244248000000   76.16  105.NVDA  \n2   175.852  176.74  2204296460000   26.75  105.GOOG  \n3    88.020   88.35    13569881261   21.68  105.AKAM  \n4    39.330   39.40    30719488318   27.37   106.CHT  \n5    44.970   45.52   184036258968   15.19  105.CSCO  \n6    18.262   18.41     5775615496  -19.13     106.S  \n7   436.721  441.58  3289315575251   38.17  105.MSFT  \n8   167.230  169.12   155436756945   19.00   106.IBM  \n9       NaN   18.94     6846474402   22.68  105.YNDX  \n10   30.210   30.46   129625650000   31.88  105.INTC  \n11  370.000  375.73    62613537703   44.98   106.MSI  \n12  182.230  183.83  1911281191039   50.72  105.AMZN  \n13    8.650    8.75    23551001323   19.09   105.VOD  \n14  157.610  159.90   258012183228  231.19   105.AMD  \n15   17.490   17.67   126481712435    9.29     106.T  \n16   39.450   39.78   166981141645   14.77    106.VZ  \n17   63.920   64.61    31949999258   15.27  105.CTSH  \n18  211.300  214.24  3258339084180   32.46  105.AAPL  \n19  213.650  217.81   240308280000   28.66  105.QCOM  \n20    5.760    5.88    19453342580   -8.52  105.ERIC  \n21  193.070  196.28   176542488109   29.89   105.TXN  \n22   54.590   56.06    38690384767   32.30   106.DOW  \n23    2.030    2.10     1424646519   -5.03  105.OPEN  \n24  186.500  192.42   219228961298   40.64   106.SAP  \n25    3.570    3.71    20002675088   22.15   106.NOK  \n26   35.435   36.45    34748650899   11.70   106.HPQ  \n27   51.945   53.69    26169260000    9.92  105.EBAY  \n28   14.710   15.72      587970982  -15.26  105.GRPN  \n29   50.380   57.11     6638948743   16.92   106.ATI  ",
      "text/html": "<div>\n<style scoped>\n    .dataframe tbody tr th:only-of-type {\n        vertical-align: middle;\n    }\n\n    .dataframe tbody tr th {\n        vertical-align: top;\n    }\n\n    .dataframe thead th {\n        text-align: right;\n    }\n</style>\n<table border=\"1\" class=\"dataframe\">\n  <thead>\n    <tr style=\"text-align: right;\">\n      <th></th>\n      <th>序号</th>\n      <th>名称</th>\n      <th>最新价</th>\n      <th>涨跌额</th>\n      <th>涨跌幅</th>\n      <th>开盘价</th>\n      <th>最高价</th>\n      <th>最低价</th>\n      <th>昨收价</th>\n      <th>总市值</th>\n      <th>市盈率</th>\n      <th>代码</th>\n    </tr>\n  </thead>\n  <tbody>\n    <tr>\n      <th>0</th>\n      <td>1</td>\n      <td>奥多比</td>\n      <td>525.31</td>\n      <td>66.57</td>\n      <td>14.51</td>\n      <td>530.250</td>\n      <td>534.450</td>\n      <td>521.880</td>\n      <td>458.74</td>\n      <td>235338880000</td>\n      <td>46.34</td>\n      <td>105.ADBE</td>\n    </tr>\n    <tr>\n      <th>1</th>\n      <td>2</td>\n      <td>英伟达</td>\n      <td>131.88</td>\n      <td>2.27</td>\n      <td>1.75</td>\n      <td>129.960</td>\n      <td>132.840</td>\n      <td>128.320</td>\n      <td>129.61</td>\n      <td>3244248000000</td>\n      <td>76.16</td>\n      <td>105.NVDA</td>\n    </tr>\n    <tr>\n      <th>2</th>\n      <td>3</td>\n      <td>谷歌-C</td>\n      <td>178.37</td>\n      <td>1.63</td>\n      <td>0.92</td>\n      <td>175.852</td>\n      <td>178.730</td>\n      <td>175.852</td>\n      <td>176.74</td>\n      <td>2204296460000</td>\n      <td>26.75</td>\n      <td>105.GOOG</td>\n    </tr>\n    <tr>\n      <th>3</th>\n      <td>4</td>\n      <td>阿卡迈</td>\n      <td>89.09</td>\n      <td>0.74</td>\n      <td>0.84</td>\n      <td>88.340</td>\n      <td>89.730</td>\n      <td>88.020</td>\n      <td>88.35</td>\n      <td>13569881261</td>\n      <td>21.68</td>\n      <td>105.AKAM</td>\n    </tr>\n    <tr>\n      <th>4</th>\n      <td>5</td>\n      <td>中华电信</td>\n      <td>39.60</td>\n      <td>0.20</td>\n      <td>0.51</td>\n      <td>39.330</td>\n      <td>39.620</td>\n      <td>39.330</td>\n      <td>39.40</td>\n      <td>30719488318</td>\n      <td>27.37</td>\n      <td>106.CHT</td>\n    </tr>\n    <tr>\n      <th>5</th>\n      <td>6</td>\n      <td>思科</td>\n      <td>45.68</td>\n      <td>0.16</td>\n      <td>0.35</td>\n      <td>45.320</td>\n      <td>45.705</td>\n      <td>44.970</td>\n      <td>45.52</td>\n      <td>184036258968</td>\n      <td>15.19</td>\n      <td>105.CSCO</td>\n    </tr>\n    <tr>\n      <th>6</th>\n      <td>7</td>\n      <td>SentinelOne Inc-A</td>\n      <td>18.46</td>\n      <td>0.05</td>\n      <td>0.27</td>\n      <td>18.380</td>\n      <td>18.620</td>\n      <td>18.262</td>\n      <td>18.41</td>\n      <td>5775615496</td>\n      <td>-19.13</td>\n      <td>106.S</td>\n    </tr>\n    <tr>\n      <th>7</th>\n      <td>8</td>\n      <td>微软</td>\n      <td>442.57</td>\n      <td>0.99</td>\n      <td>0.22</td>\n      <td>438.275</td>\n      <td>443.138</td>\n      <td>436.721</td>\n      <td>441.58</td>\n      <td>3289315575251</td>\n      <td>38.17</td>\n      <td>105.MSFT</td>\n    </tr>\n    <tr>\n      <th>8</th>\n      <td>9</td>\n      <td>IBM国际商业机器(US)</td>\n      <td>169.21</td>\n      <td>0.09</td>\n      <td>0.05</td>\n      <td>168.290</td>\n      <td>169.470</td>\n      <td>167.230</td>\n      <td>169.12</td>\n      <td>155436756945</td>\n      <td>19.00</td>\n      <td>106.IBM</td>\n    </tr>\n    <tr>\n      <th>9</th>\n      <td>10</td>\n      <td>Yandex NV-A</td>\n      <td>NaN</td>\n      <td>NaN</td>\n      <td>NaN</td>\n      <td>NaN</td>\n      <td>NaN</td>\n      <td>NaN</td>\n      <td>18.94</td>\n      <td>6846474402</td>\n      <td>22.68</td>\n      <td>105.YNDX</td>\n    </tr>\n    <tr>\n      <th>10</th>\n      <td>11</td>\n      <td>英特尔</td>\n      <td>30.45</td>\n      <td>-0.01</td>\n      <td>-0.03</td>\n      <td>30.285</td>\n      <td>30.560</td>\n      <td>30.210</td>\n      <td>30.46</td>\n      <td>129625650000</td>\n      <td>31.88</td>\n      <td>105.INTC</td>\n    </tr>\n    <tr>\n      <th>11</th>\n      <td>12</td>\n      <td>摩托罗拉解决方案</td>\n      <td>375.41</td>\n      <td>-0.32</td>\n      <td>-0.09</td>\n      <td>370.760</td>\n      <td>376.055</td>\n      <td>370.000</td>\n      <td>375.73</td>\n      <td>62613537703</td>\n      <td>44.98</td>\n      <td>106.MSI</td>\n    </tr>\n    <tr>\n      <th>12</th>\n      <td>13</td>\n      <td>亚马逊</td>\n      <td>183.66</td>\n      <td>-0.17</td>\n      <td>-0.09</td>\n      <td>183.080</td>\n      <td>183.720</td>\n      <td>182.230</td>\n      <td>183.83</td>\n      <td>1911281191039</td>\n      <td>50.72</td>\n      <td>105.AMZN</td>\n    </tr>\n    <tr>\n      <th>13</th>\n      <td>14</td>\n      <td>沃达丰(US)</td>\n      <td>8.74</td>\n      <td>-0.01</td>\n      <td>-0.11</td>\n      <td>8.735</td>\n      <td>8.740</td>\n      <td>8.650</td>\n      <td>8.75</td>\n      <td>23551001323</td>\n      <td>19.09</td>\n      <td>105.VOD</td>\n    </tr>\n    <tr>\n      <th>14</th>\n      <td>15</td>\n      <td>超威半导体</td>\n      <td>159.63</td>\n      <td>-0.27</td>\n      <td>-0.17</td>\n      <td>158.500</td>\n      <td>161.340</td>\n      <td>157.610</td>\n      <td>159.90</td>\n      <td>258012183228</td>\n      <td>231.19</td>\n      <td>105.AMD</td>\n    </tr>\n    <tr>\n      <th>15</th>\n      <td>16</td>\n      <td>美国电话电报</td>\n      <td>17.64</td>\n      <td>-0.03</td>\n      <td>-0.17</td>\n      <td>17.590</td>\n      <td>17.745</td>\n      <td>17.490</td>\n      <td>17.67</td>\n      <td>126481712435</td>\n      <td>9.29</td>\n      <td>106.T</td>\n    </tr>\n    <tr>\n      <th>16</th>\n      <td>17</td>\n      <td>威瑞森通讯</td>\n      <td>39.67</td>\n      <td>-0.11</td>\n      <td>-0.28</td>\n      <td>39.475</td>\n      <td>39.838</td>\n      <td>39.450</td>\n      <td>39.78</td>\n      <td>166981141645</td>\n      <td>14.77</td>\n      <td>106.VZ</td>\n    </tr>\n    <tr>\n      <th>17</th>\n      <td>18</td>\n      <td>高知特</td>\n      <td>64.26</td>\n      <td>-0.35</td>\n      <td>-0.54</td>\n      <td>64.550</td>\n      <td>64.820</td>\n      <td>63.920</td>\n      <td>64.61</td>\n      <td>31949999258</td>\n      <td>15.27</td>\n      <td>105.CTSH</td>\n    </tr>\n    <tr>\n      <th>18</th>\n      <td>19</td>\n      <td>苹果</td>\n      <td>212.49</td>\n      <td>-1.75</td>\n      <td>-0.82</td>\n      <td>213.850</td>\n      <td>215.170</td>\n      <td>211.300</td>\n      <td>214.24</td>\n      <td>3258339084180</td>\n      <td>32.46</td>\n      <td>105.AAPL</td>\n    </tr>\n    <tr>\n      <th>19</th>\n      <td>20</td>\n      <td>高通</td>\n      <td>215.33</td>\n      <td>-2.48</td>\n      <td>-1.14</td>\n      <td>217.640</td>\n      <td>218.050</td>\n      <td>213.650</td>\n      <td>217.81</td>\n      <td>240308280000</td>\n      <td>28.66</td>\n      <td>105.QCOM</td>\n    </tr>\n    <tr>\n      <th>20</th>\n      <td>21</td>\n      <td>爱立信</td>\n      <td>5.81</td>\n      <td>-0.07</td>\n      <td>-1.19</td>\n      <td>5.780</td>\n      <td>5.830</td>\n      <td>5.760</td>\n      <td>5.88</td>\n      <td>19453342580</td>\n      <td>-8.52</td>\n      <td>105.ERIC</td>\n    </tr>\n    <tr>\n      <th>21</th>\n      <td>22</td>\n      <td>德州仪器</td>\n      <td>193.90</td>\n      <td>-2.38</td>\n      <td>-1.21</td>\n      <td>193.840</td>\n      <td>195.628</td>\n      <td>193.070</td>\n      <td>196.28</td>\n      <td>176542488109</td>\n      <td>29.89</td>\n      <td>105.TXN</td>\n    </tr>\n    <tr>\n      <th>22</th>\n      <td>23</td>\n      <td>陶氏</td>\n      <td>55.02</td>\n      <td>-1.04</td>\n      <td>-1.86</td>\n      <td>55.520</td>\n      <td>56.120</td>\n      <td>54.590</td>\n      <td>56.06</td>\n      <td>38690384767</td>\n      <td>32.30</td>\n      <td>106.DOW</td>\n    </tr>\n    <tr>\n      <th>23</th>\n      <td>24</td>\n      <td>Opendoor Technologies Inc</td>\n      <td>2.06</td>\n      <td>-0.04</td>\n      <td>-1.90</td>\n      <td>2.090</td>\n      <td>2.115</td>\n      <td>2.030</td>\n      <td>2.10</td>\n      <td>1424646519</td>\n      <td>-5.03</td>\n      <td>105.OPEN</td>\n    </tr>\n    <tr>\n      <th>24</th>\n      <td>25</td>\n      <td>思爱普</td>\n      <td>187.82</td>\n      <td>-4.60</td>\n      <td>-2.39</td>\n      <td>188.160</td>\n      <td>188.690</td>\n      <td>186.500</td>\n      <td>192.42</td>\n      <td>219228961298</td>\n      <td>40.64</td>\n      <td>106.SAP</td>\n    </tr>\n    <tr>\n      <th>25</th>\n      <td>26</td>\n      <td>诺基亚</td>\n      <td>3.62</td>\n      <td>-0.09</td>\n      <td>-2.43</td>\n      <td>3.610</td>\n      <td>3.640</td>\n      <td>3.570</td>\n      <td>3.71</td>\n      <td>20002675088</td>\n      <td>22.15</td>\n      <td>106.NOK</td>\n    </tr>\n    <tr>\n      <th>26</th>\n      <td>27</td>\n      <td>惠普</td>\n      <td>35.51</td>\n      <td>-0.94</td>\n      <td>-2.58</td>\n      <td>36.220</td>\n      <td>36.630</td>\n      <td>35.435</td>\n      <td>36.45</td>\n      <td>34748650899</td>\n      <td>11.70</td>\n      <td>106.HPQ</td>\n    </tr>\n    <tr>\n      <th>27</th>\n      <td>28</td>\n      <td>易趣</td>\n      <td>52.13</td>\n      <td>-1.56</td>\n      <td>-2.91</td>\n      <td>53.080</td>\n      <td>53.450</td>\n      <td>51.945</td>\n      <td>53.69</td>\n      <td>26169260000</td>\n      <td>9.92</td>\n      <td>105.EBAY</td>\n    </tr>\n    <tr>\n      <th>28</th>\n      <td>29</td>\n      <td>Groupon Inc-A</td>\n      <td>14.87</td>\n      <td>-0.85</td>\n      <td>-5.41</td>\n      <td>15.500</td>\n      <td>15.580</td>\n      <td>14.710</td>\n      <td>15.72</td>\n      <td>587970982</td>\n      <td>-15.26</td>\n      <td>105.GRPN</td>\n    </tr>\n    <tr>\n      <th>29</th>\n      <td>30</td>\n      <td>阿勒格尼技术</td>\n      <td>53.35</td>\n      <td>-3.76</td>\n      <td>-6.58</td>\n      <td>55.620</td>\n      <td>55.935</td>\n      <td>50.380</td>\n      <td>57.11</td>\n      <td>6638948743</td>\n      <td>16.92</td>\n      <td>106.ATI</td>\n    </tr>\n  </tbody>\n</table>\n</div>"
     },
     "execution_count": 13,
     "metadata": {},
     "output_type": "execute_result"
    }
   ],
   "source": [
    "stock_us_famous_spot_em_df = ak.stock_us_famous_spot_em(symbol='科技类')\n",
    "stock_us_famous_spot_em_df"
   ],
   "metadata": {
    "collapsed": false
   }
  },
  {
   "cell_type": "markdown",
   "source": [
    "### [主营介绍-同花顺](https://akshare.akfamily.xyz/data/stock/stock.html#id70)\n",
    "\n",
    "接口: stock_zyjs_ths\n",
    "\n",
    "目标地址: https://basic.10jqka.com.cn/new/000066/operate.html\n",
    "\n",
    "描述: 同花顺-主营介绍\n",
    "\n",
    "限量: 单次返回所有数据\n",
    "\n",
    "输入参数\n",
    "\n",
    "名称\t类型\t描述\n",
    "symbol\tstr\tsymbol=\"000066\""
   ],
   "metadata": {
    "collapsed": false
   }
  },
  {
   "cell_type": "code",
   "execution_count": 15,
   "outputs": [
    {
     "data": {
      "text/plain": "     股票代码            主营业务 产品类型           产品名称  \\\n0  600235  研发、生产和销售特种纸产品。  纸制品  卷烟纸、工业配套纸、描图纸   \n\n                                                经营范围  \n0  卷烟纸的生产销售（《烟草专卖生产企业许可证》）。纸浆、纸和纸制品制造、销售，造纸设备的设计、...  ",
      "text/html": "<div>\n<style scoped>\n    .dataframe tbody tr th:only-of-type {\n        vertical-align: middle;\n    }\n\n    .dataframe tbody tr th {\n        vertical-align: top;\n    }\n\n    .dataframe thead th {\n        text-align: right;\n    }\n</style>\n<table border=\"1\" class=\"dataframe\">\n  <thead>\n    <tr style=\"text-align: right;\">\n      <th></th>\n      <th>股票代码</th>\n      <th>主营业务</th>\n      <th>产品类型</th>\n      <th>产品名称</th>\n      <th>经营范围</th>\n    </tr>\n  </thead>\n  <tbody>\n    <tr>\n      <th>0</th>\n      <td>600235</td>\n      <td>研发、生产和销售特种纸产品。</td>\n      <td>纸制品</td>\n      <td>卷烟纸、工业配套纸、描图纸</td>\n      <td>卷烟纸的生产销售（《烟草专卖生产企业许可证》）。纸浆、纸和纸制品制造、销售，造纸设备的设计、...</td>\n    </tr>\n  </tbody>\n</table>\n</div>"
     },
     "execution_count": 15,
     "metadata": {},
     "output_type": "execute_result"
    }
   ],
   "source": [
    "stock_zyjs_ths_df = ak.stock_zyjs_ths(symbol=\"600235\")\n",
    "stock_zyjs_ths_df"
   ],
   "metadata": {
    "collapsed": false
   }
  },
  {
   "cell_type": "markdown",
   "source": [
    "### [主营构成-东财](https://akshare.akfamily.xyz/data/stock/stock.html#id71)\n",
    "\n",
    "接口: stock_zygc_em\n",
    "\n",
    "目标地址: https://emweb.securities.eastmoney.com/PC_HSF10/BusinessAnalysis/Index?type=web&code=SH688041#\n",
    "\n",
    "描述: 东方财富网-个股-主营构成\n",
    "\n",
    "限量: 单次返回所有历史数据\n",
    "\n",
    "输入参数\n",
    "\n",
    "名称\t类型\t描述\n",
    "symbol\tstr\tsymbol=\"SH688041\"\n"
   ],
   "metadata": {
    "collapsed": false
   }
  },
  {
   "cell_type": "code",
   "execution_count": 16,
   "outputs": [
    {
     "data": {
      "text/plain": "      股票代码        报告日期   分类类型        主营构成          主营收入      收入比例  \\\n0   688041  2023-12-31    NaN      集成电路产品  6.011810e+09  0.999969   \n1   688041  2023-12-31    NaN    集成电路技术服务  1.886792e+05  0.000031   \n2   688041  2023-12-31  按产品分类       高端处理器  6.011810e+09  0.999969   \n3   688041  2023-12-31  按产品分类        技术服务  1.886792e+05  0.000031   \n4   688041  2023-12-31  按地区分类  境内(含港澳台地区)  6.011999e+09  1.000000   \n..     ...         ...    ...         ...           ...       ...   \n57  688041  2018-12-31  按产品分类      7000系列  4.205100e+07  0.871498   \n58  688041  2018-12-31  按产品分类      5000系列  5.488900e+06  0.113756   \n59  688041  2018-12-31  按产品分类      其他(补充)  7.115000e+05  0.014746   \n60  688041  2018-12-31  按地区分类          华北  4.753990e+07  0.985254   \n61  688041  2018-12-31  按地区分类      其他(补充)  7.115000e+05  0.014746   \n\n            主营成本      成本比例          主营利润      利润比例       毛利率  \n0   2.424669e+09  0.999977  3.587141e+09  0.999963  0.596682  \n1   5.497631e+04  0.000023  1.337029e+05  0.000037  0.708626  \n2   2.424669e+09  0.999977  3.587141e+09  0.999963  0.596682  \n3   5.497631e+04  0.000023  1.337029e+05  0.000037  0.708626  \n4   2.424724e+09  1.000000  3.587275e+09  1.000000  0.596686  \n..           ...       ...           ...       ...       ...  \n57  6.661200e+06  0.854274  3.538980e+07  0.890480  0.841592  \n58  1.136300e+06  0.145726  4.352600e+06  0.109520  0.792982  \n59           NaN       NaN           NaN       NaN       NaN  \n60           NaN       NaN           NaN       NaN       NaN  \n61           NaN       NaN           NaN       NaN       NaN  \n\n[62 rows x 11 columns]",
      "text/html": "<div>\n<style scoped>\n    .dataframe tbody tr th:only-of-type {\n        vertical-align: middle;\n    }\n\n    .dataframe tbody tr th {\n        vertical-align: top;\n    }\n\n    .dataframe thead th {\n        text-align: right;\n    }\n</style>\n<table border=\"1\" class=\"dataframe\">\n  <thead>\n    <tr style=\"text-align: right;\">\n      <th></th>\n      <th>股票代码</th>\n      <th>报告日期</th>\n      <th>分类类型</th>\n      <th>主营构成</th>\n      <th>主营收入</th>\n      <th>收入比例</th>\n      <th>主营成本</th>\n      <th>成本比例</th>\n      <th>主营利润</th>\n      <th>利润比例</th>\n      <th>毛利率</th>\n    </tr>\n  </thead>\n  <tbody>\n    <tr>\n      <th>0</th>\n      <td>688041</td>\n      <td>2023-12-31</td>\n      <td>NaN</td>\n      <td>集成电路产品</td>\n      <td>6.011810e+09</td>\n      <td>0.999969</td>\n      <td>2.424669e+09</td>\n      <td>0.999977</td>\n      <td>3.587141e+09</td>\n      <td>0.999963</td>\n      <td>0.596682</td>\n    </tr>\n    <tr>\n      <th>1</th>\n      <td>688041</td>\n      <td>2023-12-31</td>\n      <td>NaN</td>\n      <td>集成电路技术服务</td>\n      <td>1.886792e+05</td>\n      <td>0.000031</td>\n      <td>5.497631e+04</td>\n      <td>0.000023</td>\n      <td>1.337029e+05</td>\n      <td>0.000037</td>\n      <td>0.708626</td>\n    </tr>\n    <tr>\n      <th>2</th>\n      <td>688041</td>\n      <td>2023-12-31</td>\n      <td>按产品分类</td>\n      <td>高端处理器</td>\n      <td>6.011810e+09</td>\n      <td>0.999969</td>\n      <td>2.424669e+09</td>\n      <td>0.999977</td>\n      <td>3.587141e+09</td>\n      <td>0.999963</td>\n      <td>0.596682</td>\n    </tr>\n    <tr>\n      <th>3</th>\n      <td>688041</td>\n      <td>2023-12-31</td>\n      <td>按产品分类</td>\n      <td>技术服务</td>\n      <td>1.886792e+05</td>\n      <td>0.000031</td>\n      <td>5.497631e+04</td>\n      <td>0.000023</td>\n      <td>1.337029e+05</td>\n      <td>0.000037</td>\n      <td>0.708626</td>\n    </tr>\n    <tr>\n      <th>4</th>\n      <td>688041</td>\n      <td>2023-12-31</td>\n      <td>按地区分类</td>\n      <td>境内(含港澳台地区)</td>\n      <td>6.011999e+09</td>\n      <td>1.000000</td>\n      <td>2.424724e+09</td>\n      <td>1.000000</td>\n      <td>3.587275e+09</td>\n      <td>1.000000</td>\n      <td>0.596686</td>\n    </tr>\n    <tr>\n      <th>...</th>\n      <td>...</td>\n      <td>...</td>\n      <td>...</td>\n      <td>...</td>\n      <td>...</td>\n      <td>...</td>\n      <td>...</td>\n      <td>...</td>\n      <td>...</td>\n      <td>...</td>\n      <td>...</td>\n    </tr>\n    <tr>\n      <th>57</th>\n      <td>688041</td>\n      <td>2018-12-31</td>\n      <td>按产品分类</td>\n      <td>7000系列</td>\n      <td>4.205100e+07</td>\n      <td>0.871498</td>\n      <td>6.661200e+06</td>\n      <td>0.854274</td>\n      <td>3.538980e+07</td>\n      <td>0.890480</td>\n      <td>0.841592</td>\n    </tr>\n    <tr>\n      <th>58</th>\n      <td>688041</td>\n      <td>2018-12-31</td>\n      <td>按产品分类</td>\n      <td>5000系列</td>\n      <td>5.488900e+06</td>\n      <td>0.113756</td>\n      <td>1.136300e+06</td>\n      <td>0.145726</td>\n      <td>4.352600e+06</td>\n      <td>0.109520</td>\n      <td>0.792982</td>\n    </tr>\n    <tr>\n      <th>59</th>\n      <td>688041</td>\n      <td>2018-12-31</td>\n      <td>按产品分类</td>\n      <td>其他(补充)</td>\n      <td>7.115000e+05</td>\n      <td>0.014746</td>\n      <td>NaN</td>\n      <td>NaN</td>\n      <td>NaN</td>\n      <td>NaN</td>\n      <td>NaN</td>\n    </tr>\n    <tr>\n      <th>60</th>\n      <td>688041</td>\n      <td>2018-12-31</td>\n      <td>按地区分类</td>\n      <td>华北</td>\n      <td>4.753990e+07</td>\n      <td>0.985254</td>\n      <td>NaN</td>\n      <td>NaN</td>\n      <td>NaN</td>\n      <td>NaN</td>\n      <td>NaN</td>\n    </tr>\n    <tr>\n      <th>61</th>\n      <td>688041</td>\n      <td>2018-12-31</td>\n      <td>按地区分类</td>\n      <td>其他(补充)</td>\n      <td>7.115000e+05</td>\n      <td>0.014746</td>\n      <td>NaN</td>\n      <td>NaN</td>\n      <td>NaN</td>\n      <td>NaN</td>\n      <td>NaN</td>\n    </tr>\n  </tbody>\n</table>\n<p>62 rows × 11 columns</p>\n</div>"
     },
     "execution_count": 16,
     "metadata": {},
     "output_type": "execute_result"
    }
   ],
   "source": [
    "stock_zygc_em_df = ak.stock_zygc_em(symbol=\"SH688041\")\n",
    "stock_zygc_em_df"
   ],
   "metadata": {
    "collapsed": false
   }
  },
  {
   "cell_type": "markdown",
   "source": [
    "### [主营构成-益盟](https://akshare.akfamily.xyz/data/stock/stock.html#id72)\n",
    "\n",
    "接口: stock_zygc_ym\n",
    "\n",
    "目标地址: http://f10.emoney.cn/f10/zbyz/1000001\n",
    "\n",
    "描述: 益盟-F10-主营构成\n",
    "\n",
    "限量: 单次返回所有历史数据"
   ],
   "metadata": {
    "collapsed": false
   }
  },
  {
   "cell_type": "code",
   "execution_count": 17,
   "outputs": [
    {
     "data": {
      "text/plain": "       报告期  分类方向      分类      营业收入 营业收入-同比增长 营业收入-占主营收入比     营业成本 营业成本-同比增长  \\\n0   2023年度  按行业分  零售金融业务   961.61亿    -6.65%      58.39%  301.14亿    -6.67%   \n1   2023年度  按行业分  批发金融业务   535.81亿   -15.38%      32.53%  168.85亿   -10.41%   \n2   2023年度  按行业分    其他业务   149.57亿    10.25%       9.08%    6.78亿   -99.05%   \n3   2023年度  按行业分      合计  1646.99亿    -8.45%     100.00%  476.77亿   -61.05%   \n4   2023年度  按地区分      东区   251.11亿    -9.89%      15.25%   79.88亿    -1.29%   \n..     ...   ...     ...       ...       ...         ...      ...       ...   \n84  2021中期  按地区分      北区    95.85亿    18.03%      11.32%   26.64亿    14.48%   \n85  2021中期  按地区分      总部   419.61亿        --      49.55%  139.72亿        --   \n86  2021中期  按地区分      境外     2.29亿   458.54%       0.27%    0.86亿    82.98%   \n87  2021中期  按地区分  其他(补充)      0.00        --       0.00%  382.85亿        --   \n88  2021中期  按地区分      合计   846.80亿     8.11%     100.00%  622.65亿   180.75%   \n\n   营业成本-占主营成本比     毛利率 毛利率-同比增长  \n0       63.16%  68.68%    0.01%  \n1       35.42%  68.49%   -2.49%  \n2        1.42%  95.47%  -77.57%  \n3      100.00%  71.05%  122.39%  \n4       16.75%  68.19%   -3.91%  \n..         ...     ...      ...  \n84       4.28%  72.21%    1.21%  \n85      22.44%  66.70%       --  \n86       0.14%  62.45%  326.71%  \n87      61.49%      --       --  \n88     100.00%  26.47%  -63.07%  \n\n[89 rows x 11 columns]",
      "text/html": "<div>\n<style scoped>\n    .dataframe tbody tr th:only-of-type {\n        vertical-align: middle;\n    }\n\n    .dataframe tbody tr th {\n        vertical-align: top;\n    }\n\n    .dataframe thead th {\n        text-align: right;\n    }\n</style>\n<table border=\"1\" class=\"dataframe\">\n  <thead>\n    <tr style=\"text-align: right;\">\n      <th></th>\n      <th>报告期</th>\n      <th>分类方向</th>\n      <th>分类</th>\n      <th>营业收入</th>\n      <th>营业收入-同比增长</th>\n      <th>营业收入-占主营收入比</th>\n      <th>营业成本</th>\n      <th>营业成本-同比增长</th>\n      <th>营业成本-占主营成本比</th>\n      <th>毛利率</th>\n      <th>毛利率-同比增长</th>\n    </tr>\n  </thead>\n  <tbody>\n    <tr>\n      <th>0</th>\n      <td>2023年度</td>\n      <td>按行业分</td>\n      <td>零售金融业务</td>\n      <td>961.61亿</td>\n      <td>-6.65%</td>\n      <td>58.39%</td>\n      <td>301.14亿</td>\n      <td>-6.67%</td>\n      <td>63.16%</td>\n      <td>68.68%</td>\n      <td>0.01%</td>\n    </tr>\n    <tr>\n      <th>1</th>\n      <td>2023年度</td>\n      <td>按行业分</td>\n      <td>批发金融业务</td>\n      <td>535.81亿</td>\n      <td>-15.38%</td>\n      <td>32.53%</td>\n      <td>168.85亿</td>\n      <td>-10.41%</td>\n      <td>35.42%</td>\n      <td>68.49%</td>\n      <td>-2.49%</td>\n    </tr>\n    <tr>\n      <th>2</th>\n      <td>2023年度</td>\n      <td>按行业分</td>\n      <td>其他业务</td>\n      <td>149.57亿</td>\n      <td>10.25%</td>\n      <td>9.08%</td>\n      <td>6.78亿</td>\n      <td>-99.05%</td>\n      <td>1.42%</td>\n      <td>95.47%</td>\n      <td>-77.57%</td>\n    </tr>\n    <tr>\n      <th>3</th>\n      <td>2023年度</td>\n      <td>按行业分</td>\n      <td>合计</td>\n      <td>1646.99亿</td>\n      <td>-8.45%</td>\n      <td>100.00%</td>\n      <td>476.77亿</td>\n      <td>-61.05%</td>\n      <td>100.00%</td>\n      <td>71.05%</td>\n      <td>122.39%</td>\n    </tr>\n    <tr>\n      <th>4</th>\n      <td>2023年度</td>\n      <td>按地区分</td>\n      <td>东区</td>\n      <td>251.11亿</td>\n      <td>-9.89%</td>\n      <td>15.25%</td>\n      <td>79.88亿</td>\n      <td>-1.29%</td>\n      <td>16.75%</td>\n      <td>68.19%</td>\n      <td>-3.91%</td>\n    </tr>\n    <tr>\n      <th>...</th>\n      <td>...</td>\n      <td>...</td>\n      <td>...</td>\n      <td>...</td>\n      <td>...</td>\n      <td>...</td>\n      <td>...</td>\n      <td>...</td>\n      <td>...</td>\n      <td>...</td>\n      <td>...</td>\n    </tr>\n    <tr>\n      <th>84</th>\n      <td>2021中期</td>\n      <td>按地区分</td>\n      <td>北区</td>\n      <td>95.85亿</td>\n      <td>18.03%</td>\n      <td>11.32%</td>\n      <td>26.64亿</td>\n      <td>14.48%</td>\n      <td>4.28%</td>\n      <td>72.21%</td>\n      <td>1.21%</td>\n    </tr>\n    <tr>\n      <th>85</th>\n      <td>2021中期</td>\n      <td>按地区分</td>\n      <td>总部</td>\n      <td>419.61亿</td>\n      <td>--</td>\n      <td>49.55%</td>\n      <td>139.72亿</td>\n      <td>--</td>\n      <td>22.44%</td>\n      <td>66.70%</td>\n      <td>--</td>\n    </tr>\n    <tr>\n      <th>86</th>\n      <td>2021中期</td>\n      <td>按地区分</td>\n      <td>境外</td>\n      <td>2.29亿</td>\n      <td>458.54%</td>\n      <td>0.27%</td>\n      <td>0.86亿</td>\n      <td>82.98%</td>\n      <td>0.14%</td>\n      <td>62.45%</td>\n      <td>326.71%</td>\n    </tr>\n    <tr>\n      <th>87</th>\n      <td>2021中期</td>\n      <td>按地区分</td>\n      <td>其他(补充)</td>\n      <td>0.00</td>\n      <td>--</td>\n      <td>0.00%</td>\n      <td>382.85亿</td>\n      <td>--</td>\n      <td>61.49%</td>\n      <td>--</td>\n      <td>--</td>\n    </tr>\n    <tr>\n      <th>88</th>\n      <td>2021中期</td>\n      <td>按地区分</td>\n      <td>合计</td>\n      <td>846.80亿</td>\n      <td>8.11%</td>\n      <td>100.00%</td>\n      <td>622.65亿</td>\n      <td>180.75%</td>\n      <td>100.00%</td>\n      <td>26.47%</td>\n      <td>-63.07%</td>\n    </tr>\n  </tbody>\n</table>\n<p>89 rows × 11 columns</p>\n</div>"
     },
     "execution_count": 17,
     "metadata": {},
     "output_type": "execute_result"
    }
   ],
   "source": [
    "stock_zygc_ym_df = ak.stock_zygc_ym(symbol=\"000001\")\n",
    "stock_zygc_ym_df"
   ],
   "metadata": {
    "collapsed": false
   }
  },
  {
   "cell_type": "markdown",
   "source": [
    "### [管理层讨论与分析](https://akshare.akfamily.xyz/data/stock/stock.html#id73)\n",
    "\n",
    "接口: stock_mda_ym\n",
    "\n",
    "目标地址: https://f10.emoney.cn/f10/zbyz/1000001\n",
    "\n",
    "描述: 益盟-F10-管理层讨论与分析\n",
    "\n",
    "限量: 单次返回所有历史数据"
   ],
   "metadata": {
    "collapsed": false
   }
  },
  {
   "cell_type": "code",
   "execution_count": 19,
   "outputs": [
    {
     "data": {
      "text/plain": "      报告期                                                 内容\n0  2023年度  一、经营情况讨论与分析    报告期内，全国商品房市场持续调整。根据中国指数研究院（以下简称...\n1  2023中期  一、经营情况讨论与分析    2023年上半年，市场景气度短暂回升后再度下滑，行业形势依然严...\n2  2022年度  一、经营情况讨论与分析    2022年，房地产行业经历深度调整，全国商品房销售金额同比大幅...\n3  2022中期  经营情况讨论与分析    2022年上半年，全国商品房销售规模大幅下滑，各地陆续出台措施稳定...\n4  2021年度  一、经营情况讨论与分析    2021 年，房地产市场出现较大波动。上半年，全国市场成交仍保...\n5  2021中期  经营情况讨论与分析    近年来，围绕“房子是用来住的，不是用来炒的”的定位，中央在金融、土...",
      "text/html": "<div>\n<style scoped>\n    .dataframe tbody tr th:only-of-type {\n        vertical-align: middle;\n    }\n\n    .dataframe tbody tr th {\n        vertical-align: top;\n    }\n\n    .dataframe thead th {\n        text-align: right;\n    }\n</style>\n<table border=\"1\" class=\"dataframe\">\n  <thead>\n    <tr style=\"text-align: right;\">\n      <th></th>\n      <th>报告期</th>\n      <th>内容</th>\n    </tr>\n  </thead>\n  <tbody>\n    <tr>\n      <th>0</th>\n      <td>2023年度</td>\n      <td>一、经营情况讨论与分析    报告期内，全国商品房市场持续调整。根据中国指数研究院（以下简称...</td>\n    </tr>\n    <tr>\n      <th>1</th>\n      <td>2023中期</td>\n      <td>一、经营情况讨论与分析    2023年上半年，市场景气度短暂回升后再度下滑，行业形势依然严...</td>\n    </tr>\n    <tr>\n      <th>2</th>\n      <td>2022年度</td>\n      <td>一、经营情况讨论与分析    2022年，房地产行业经历深度调整，全国商品房销售金额同比大幅...</td>\n    </tr>\n    <tr>\n      <th>3</th>\n      <td>2022中期</td>\n      <td>经营情况讨论与分析    2022年上半年，全国商品房销售规模大幅下滑，各地陆续出台措施稳定...</td>\n    </tr>\n    <tr>\n      <th>4</th>\n      <td>2021年度</td>\n      <td>一、经营情况讨论与分析    2021 年，房地产市场出现较大波动。上半年，全国市场成交仍保...</td>\n    </tr>\n    <tr>\n      <th>5</th>\n      <td>2021中期</td>\n      <td>经营情况讨论与分析    近年来，围绕“房子是用来住的，不是用来炒的”的定位，中央在金融、土...</td>\n    </tr>\n  </tbody>\n</table>\n</div>"
     },
     "execution_count": 19,
     "metadata": {},
     "output_type": "execute_result"
    }
   ],
   "source": [
    "stock_mda_ym_df = ak.stock_mda_ym(symbol=\"000002\")\n",
    "stock_mda_ym_df"
   ],
   "metadata": {
    "collapsed": false
   }
  }
 ],
 "metadata": {
  "kernelspec": {
   "display_name": "Python 3",
   "language": "python",
   "name": "python3"
  },
  "language_info": {
   "codemirror_mode": {
    "name": "ipython",
    "version": 2
   },
   "file_extension": ".py",
   "mimetype": "text/x-python",
   "name": "python",
   "nbconvert_exporter": "python",
   "pygments_lexer": "ipython2",
   "version": "2.7.6"
  }
 },
 "nbformat": 4,
 "nbformat_minor": 0
}
