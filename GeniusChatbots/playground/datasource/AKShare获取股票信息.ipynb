{
 "cells": [
  {
   "cell_type": "markdown",
   "source": [
    "# AKShare获取股票信息"
   ],
   "metadata": {
    "collapsed": false
   }
  },
  {
   "cell_type": "markdown",
   "source": [
    "## 股市日历"
   ],
   "metadata": {
    "collapsed": false
   }
  },
  {
   "cell_type": "markdown",
   "source": [
    "### 公司动态"
   ],
   "metadata": {
    "collapsed": false
   }
  },
  {
   "cell_type": "code",
   "execution_count": 3,
   "outputs": [
    {
     "data": {
      "text/plain": "    序号      代码    简称  事件类型                                               具体事项  \\\n0    1  000034  神州数码  对外担保  公司近期就香港上海汇丰银行有限公司与子公司神州数码澳门离岸商业服务有限公司、神州数码(香港)...   \n1    2  000151  中成股份  资产重组  国投集团于6月14日与通用技术集团签署《关于中国成套设备进出口集团有限公司之股权无偿划转协议...   \n2    3  000564  供销大集  资产重组  供销大集集团股份有限公司(以下简称“供销大集”或“公司”)根据公司主业发展需要,进一步提高资...   \n3    4  000605  渤海股份  对外担保  渤海水业股份有限公司(以下简称“公司”)全资子公司天津市滨海水业集团有限公司(以下简称“滨海...   \n4    5  000679  大连友谊  资产重组  大连友谊(集团)股份有限公司(以下简称“公司”)为拓宽公司零售业务发展渠道,培育公司新的业绩...   \n..  ..     ...   ...   ...                                                ...   \n70  71  603880  ST南卫  股份质押  公司股东李平将持有的本公司股份2300万股质押给诸暨春阳鸿来企业管理合伙企业(有限合伙),质...   \n71  72  603885  吉祥航空  股份质押  公司股东上海均瑶(集团)有限公司将持有的本公司股份3300万股质押给兴业银行股份有限公司上海...   \n72  73  605007  五洲特纸  对外担保  2024年6月13日,公司与广发银行股份有限公司南昌分行(以下简称“广发银行”)签署《最高额...   \n73  74  688560  明冠新材  资产重组  明冠新材料股份有限公司(以下简称“公司”)以自有资金通过明冠国际向越南明冠增资3,605.8...   \n74  75  688628   优利德  资产重组  拓利亚一期企业管理(东莞)中心(有限合伙)、拓利亚二期企业管理(东莞)中心(有限合伙)、拓利...   \n\n           交易日  \n0   2024-06-15  \n1   2024-06-15  \n2   2024-06-15  \n3   2024-06-15  \n4   2024-06-15  \n..         ...  \n70  2024-06-15  \n71  2024-06-15  \n72  2024-06-15  \n73  2024-06-15  \n74  2024-06-15  \n\n[75 rows x 6 columns]",
      "text/html": "<div>\n<style scoped>\n    .dataframe tbody tr th:only-of-type {\n        vertical-align: middle;\n    }\n\n    .dataframe tbody tr th {\n        vertical-align: top;\n    }\n\n    .dataframe thead th {\n        text-align: right;\n    }\n</style>\n<table border=\"1\" class=\"dataframe\">\n  <thead>\n    <tr style=\"text-align: right;\">\n      <th></th>\n      <th>序号</th>\n      <th>代码</th>\n      <th>简称</th>\n      <th>事件类型</th>\n      <th>具体事项</th>\n      <th>交易日</th>\n    </tr>\n  </thead>\n  <tbody>\n    <tr>\n      <th>0</th>\n      <td>1</td>\n      <td>000034</td>\n      <td>神州数码</td>\n      <td>对外担保</td>\n      <td>公司近期就香港上海汇丰银行有限公司与子公司神州数码澳门离岸商业服务有限公司、神州数码(香港)...</td>\n      <td>2024-06-15</td>\n    </tr>\n    <tr>\n      <th>1</th>\n      <td>2</td>\n      <td>000151</td>\n      <td>中成股份</td>\n      <td>资产重组</td>\n      <td>国投集团于6月14日与通用技术集团签署《关于中国成套设备进出口集团有限公司之股权无偿划转协议...</td>\n      <td>2024-06-15</td>\n    </tr>\n    <tr>\n      <th>2</th>\n      <td>3</td>\n      <td>000564</td>\n      <td>供销大集</td>\n      <td>资产重组</td>\n      <td>供销大集集团股份有限公司(以下简称“供销大集”或“公司”)根据公司主业发展需要,进一步提高资...</td>\n      <td>2024-06-15</td>\n    </tr>\n    <tr>\n      <th>3</th>\n      <td>4</td>\n      <td>000605</td>\n      <td>渤海股份</td>\n      <td>对外担保</td>\n      <td>渤海水业股份有限公司(以下简称“公司”)全资子公司天津市滨海水业集团有限公司(以下简称“滨海...</td>\n      <td>2024-06-15</td>\n    </tr>\n    <tr>\n      <th>4</th>\n      <td>5</td>\n      <td>000679</td>\n      <td>大连友谊</td>\n      <td>资产重组</td>\n      <td>大连友谊(集团)股份有限公司(以下简称“公司”)为拓宽公司零售业务发展渠道,培育公司新的业绩...</td>\n      <td>2024-06-15</td>\n    </tr>\n    <tr>\n      <th>...</th>\n      <td>...</td>\n      <td>...</td>\n      <td>...</td>\n      <td>...</td>\n      <td>...</td>\n      <td>...</td>\n    </tr>\n    <tr>\n      <th>70</th>\n      <td>71</td>\n      <td>603880</td>\n      <td>ST南卫</td>\n      <td>股份质押</td>\n      <td>公司股东李平将持有的本公司股份2300万股质押给诸暨春阳鸿来企业管理合伙企业(有限合伙),质...</td>\n      <td>2024-06-15</td>\n    </tr>\n    <tr>\n      <th>71</th>\n      <td>72</td>\n      <td>603885</td>\n      <td>吉祥航空</td>\n      <td>股份质押</td>\n      <td>公司股东上海均瑶(集团)有限公司将持有的本公司股份3300万股质押给兴业银行股份有限公司上海...</td>\n      <td>2024-06-15</td>\n    </tr>\n    <tr>\n      <th>72</th>\n      <td>73</td>\n      <td>605007</td>\n      <td>五洲特纸</td>\n      <td>对外担保</td>\n      <td>2024年6月13日,公司与广发银行股份有限公司南昌分行(以下简称“广发银行”)签署《最高额...</td>\n      <td>2024-06-15</td>\n    </tr>\n    <tr>\n      <th>73</th>\n      <td>74</td>\n      <td>688560</td>\n      <td>明冠新材</td>\n      <td>资产重组</td>\n      <td>明冠新材料股份有限公司(以下简称“公司”)以自有资金通过明冠国际向越南明冠增资3,605.8...</td>\n      <td>2024-06-15</td>\n    </tr>\n    <tr>\n      <th>74</th>\n      <td>75</td>\n      <td>688628</td>\n      <td>优利德</td>\n      <td>资产重组</td>\n      <td>拓利亚一期企业管理(东莞)中心(有限合伙)、拓利亚二期企业管理(东莞)中心(有限合伙)、拓利...</td>\n      <td>2024-06-15</td>\n    </tr>\n  </tbody>\n</table>\n<p>75 rows × 6 columns</p>\n</div>"
     },
     "execution_count": 3,
     "metadata": {},
     "output_type": "execute_result"
    }
   ],
   "source": [
    "import akshare as ak\n",
    "\n",
    "stock_gsrl_gsdt_em_df = ak.stock_gsrl_gsdt_em(date=\"20240615\")\n",
    "stock_gsrl_gsdt_em_df"
   ],
   "metadata": {
    "collapsed": false
   }
  }
 ],
 "metadata": {
  "kernelspec": {
   "display_name": "Python 3",
   "language": "python",
   "name": "python3"
  },
  "language_info": {
   "codemirror_mode": {
    "name": "ipython",
    "version": 2
   },
   "file_extension": ".py",
   "mimetype": "text/x-python",
   "name": "python",
   "nbconvert_exporter": "python",
   "pygments_lexer": "ipython2",
   "version": "2.7.6"
  }
 },
 "nbformat": 4,
 "nbformat_minor": 0
}
